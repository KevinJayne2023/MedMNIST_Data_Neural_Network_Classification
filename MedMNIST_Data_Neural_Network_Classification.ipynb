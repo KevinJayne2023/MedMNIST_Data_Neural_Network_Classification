{
  "metadata": {
    "kernelspec": {
      "language": "python",
      "display_name": "Python 3",
      "name": "python3"
    },
    "language_info": {
      "name": "python",
      "version": "3.10.12",
      "mimetype": "text/x-python",
      "codemirror_mode": {
        "name": "ipython",
        "version": 3
      },
      "pygments_lexer": "ipython3",
      "nbconvert_exporter": "python",
      "file_extension": ".py"
    },
    "kaggle": {
      "accelerator": "gpu",
      "dataSources": [
        {
          "sourceId": 86864,
          "databundleVersionId": 9915460,
          "sourceType": "competition"
        }
      ],
      "dockerImageVersionId": 30839,
      "isInternetEnabled": true,
      "language": "python",
      "sourceType": "notebook",
      "isGpuEnabled": true
    },
    "colab": {
      "name": "MedMNIST_Data_Neural_Network_Classification",
      "provenance": [],
      "include_colab_link": true
    }
  },
  "nbformat_minor": 0,
  "nbformat": 4,
  "cells": [
    {
      "cell_type": "markdown",
      "metadata": {
        "id": "view-in-github",
        "colab_type": "text"
      },
      "source": [
        "<a href=\"https://colab.research.google.com/github/KevinJayne2023/MedMNIST_Data_Neural_Network_Classification/blob/main/MedMNIST_Data_Neural_Network_Classification.ipynb\" target=\"_parent\"><img src=\"https://colab.research.google.com/assets/colab-badge.svg\" alt=\"Open In Colab\"/></a>"
      ]
    },
    {
      "source": [
        "# IMPORTANT: SOME KAGGLE DATA SOURCES ARE PRIVATE\n",
        "# RUN THIS CELL IN ORDER TO IMPORT YOUR KAGGLE DATA SOURCES.\n",
        "import kagglehub\n",
        "kagglehub.login()\n"
      ],
      "metadata": {
        "id": "M2z8RRb9Lqh9"
      },
      "cell_type": "code",
      "outputs": [],
      "execution_count": null
    },
    {
      "source": [
        "# IMPORTANT: RUN THIS CELL IN ORDER TO IMPORT YOUR KAGGLE DATA SOURCES,\n",
        "# THEN FEEL FREE TO DELETE THIS CELL.\n",
        "# NOTE: THIS NOTEBOOK ENVIRONMENT DIFFERS FROM KAGGLE'S PYTHON\n",
        "# ENVIRONMENT SO THERE MAY BE MISSING LIBRARIES USED BY YOUR\n",
        "# NOTEBOOK.\n",
        "\n",
        "tensor_reloaded_multi_task_med_mnist_path = kagglehub.competition_download('tensor-reloaded-multi-task-med-mnist')\n",
        "\n",
        "print('Data source import complete.')\n"
      ],
      "metadata": {
        "id": "Lpk52K67LqiB"
      },
      "cell_type": "code",
      "outputs": [],
      "execution_count": null
    },
    {
      "cell_type": "code",
      "source": [
        "# This Python 3 environment comes with many helpful analytics libraries installed\n",
        "# It is defined by the kaggle/python Docker image: https://github.com/kaggle/docker-python\n",
        "# For example, here's several helpful packages to load\n",
        "\n",
        "import numpy as np # linear algebra\n",
        "import pandas as pd # data processing, CSV file I/O (e.g. pd.read_csv)\n",
        "import sklearn\n",
        "\n",
        "# Input data files are available in the read-only \"../input/\" directory\n",
        "# For example, running this (by clicking run or pressing Shift+Enter) will list all files under the input directory\n",
        "\n",
        "import os\n",
        "for dirname, _, filenames in os.walk('/kaggle/input'):\n",
        "    for filename in filenames:\n",
        "        print(os.path.join(dirname, filename))\n",
        "\n",
        "# You can write up to 20GB to the current directory (/kaggle/working/) that gets preserved as output when you create a version using \"Save & Run All\"\n",
        "# You can also write temporary files to /kaggle/temp/, but they won't be saved outside of the current session"
      ],
      "metadata": {
        "_uuid": "8f2839f25d086af736a60e9eeb907d3b93b6e0e5",
        "_cell_guid": "b1076dfc-b9ad-4769-8c92-a6c4dae69d19",
        "trusted": true,
        "execution": {
          "iopub.status.busy": "2025-01-30T16:00:48.535085Z",
          "iopub.execute_input": "2025-01-30T16:00:48.535394Z",
          "iopub.status.idle": "2025-01-30T16:00:49.25978Z",
          "shell.execute_reply.started": "2025-01-30T16:00:48.535351Z",
          "shell.execute_reply": "2025-01-30T16:00:49.259045Z"
        },
        "id": "5eqnNWNCLqiB",
        "outputId": "efc8848d-f708-42a8-d091-aca474a37294"
      },
      "outputs": [
        {
          "name": "stdout",
          "text": "/kaggle/input/tensor-reloaded-multi-task-med-mnist/data/tissuemnist.npz\n/kaggle/input/tensor-reloaded-multi-task-med-mnist/data/organamnist.npz\n/kaggle/input/tensor-reloaded-multi-task-med-mnist/data/octmnist.npz\n/kaggle/input/tensor-reloaded-multi-task-med-mnist/data/organsmnist.npz\n/kaggle/input/tensor-reloaded-multi-task-med-mnist/data/retinamnist.npz\n/kaggle/input/tensor-reloaded-multi-task-med-mnist/data/pneumoniamnist.npz\n/kaggle/input/tensor-reloaded-multi-task-med-mnist/data/breastmnist.npz\n/kaggle/input/tensor-reloaded-multi-task-med-mnist/data/organcmnist.npz\n/kaggle/input/tensor-reloaded-multi-task-med-mnist/data/dermamnist.npz\n/kaggle/input/tensor-reloaded-multi-task-med-mnist/data/pathmnist.npz\n/kaggle/input/tensor-reloaded-multi-task-med-mnist/data/bloodmnist.npz\n",
          "output_type": "stream"
        }
      ],
      "execution_count": null
    },
    {
      "cell_type": "markdown",
      "source": [
        "## Blood Data"
      ],
      "metadata": {
        "id": "x2jSP7YxLqiD"
      }
    },
    {
      "cell_type": "code",
      "source": [
        "data_blood = np.load('/kaggle/input/tensor-reloaded-multi-task-med-mnist/data/bloodmnist.npz')\n",
        "print(len(data_blood))\n",
        "data_blood.files"
      ],
      "metadata": {
        "trusted": true,
        "execution": {
          "iopub.status.busy": "2025-01-30T16:00:49.260698Z",
          "iopub.execute_input": "2025-01-30T16:00:49.261107Z",
          "iopub.status.idle": "2025-01-30T16:00:49.310362Z",
          "shell.execute_reply.started": "2025-01-30T16:00:49.261082Z",
          "shell.execute_reply": "2025-01-30T16:00:49.309752Z"
        },
        "id": "tYQBkf1OLqiG",
        "outputId": "681446b1-b289-47a9-b3f8-d2ee314bf037"
      },
      "outputs": [
        {
          "name": "stdout",
          "text": "6\n",
          "output_type": "stream"
        },
        {
          "execution_count": 2,
          "output_type": "execute_result",
          "data": {
            "text/plain": "['train_images',\n 'train_labels',\n 'val_images',\n 'val_labels',\n 'test_images',\n 'test_labels']"
          },
          "metadata": {}
        }
      ],
      "execution_count": null
    },
    {
      "cell_type": "code",
      "source": [
        "print(data_blood['train_images'].shape)\n",
        "print(data_blood['train_labels'].shape)\n",
        "print(data_blood['val_images'].shape)\n",
        "print(data_blood['val_labels'].shape)\n",
        "print(data_blood['test_images'].shape)\n",
        "print(data_blood['test_labels'].shape)"
      ],
      "metadata": {
        "trusted": true,
        "execution": {
          "iopub.status.busy": "2025-01-30T16:00:49.311703Z",
          "iopub.execute_input": "2025-01-30T16:00:49.311905Z",
          "iopub.status.idle": "2025-01-30T16:00:50.203272Z",
          "shell.execute_reply.started": "2025-01-30T16:00:49.311888Z",
          "shell.execute_reply": "2025-01-30T16:00:50.202606Z"
        },
        "id": "f1g--fQ7LqiG",
        "outputId": "3262ffc0-4620-447a-cb6a-af4aabf863da"
      },
      "outputs": [
        {
          "name": "stdout",
          "text": "(11959, 28, 28, 3)\n(11959, 1)\n(1712, 28, 28, 3)\n(1712, 1)\n(3421, 28, 28, 3)\n(3421, 1)\n",
          "output_type": "stream"
        }
      ],
      "execution_count": null
    },
    {
      "cell_type": "code",
      "source": [
        "unique_blood = np.unique(data_blood['train_labels'])\n",
        "print(unique_blood)"
      ],
      "metadata": {
        "trusted": true,
        "execution": {
          "iopub.status.busy": "2025-01-30T16:00:50.204391Z",
          "iopub.execute_input": "2025-01-30T16:00:50.204626Z",
          "iopub.status.idle": "2025-01-30T16:00:50.211574Z",
          "shell.execute_reply.started": "2025-01-30T16:00:50.204606Z",
          "shell.execute_reply": "2025-01-30T16:00:50.210779Z"
        },
        "id": "YZzZUtMBLqiJ",
        "outputId": "340603d1-4de4-4ba5-faba-9ec787c8f442"
      },
      "outputs": [
        {
          "name": "stdout",
          "text": "[0 1 2 3 4 5 6 7]\n",
          "output_type": "stream"
        }
      ],
      "execution_count": null
    },
    {
      "cell_type": "code",
      "source": [
        "print(data_blood['train_images'][0].shape, data_blood['train_labels'][0].shape)"
      ],
      "metadata": {
        "trusted": true,
        "execution": {
          "iopub.status.busy": "2025-01-30T16:00:50.212265Z",
          "iopub.execute_input": "2025-01-30T16:00:50.212482Z",
          "iopub.status.idle": "2025-01-30T16:00:50.431765Z",
          "shell.execute_reply.started": "2025-01-30T16:00:50.212463Z",
          "shell.execute_reply": "2025-01-30T16:00:50.431046Z"
        },
        "id": "wBnS6rlDLqiJ",
        "outputId": "04070987-ce90-4600-d79c-3b5403f08a6b"
      },
      "outputs": [
        {
          "name": "stdout",
          "text": "(28, 28, 3) (1,)\n",
          "output_type": "stream"
        }
      ],
      "execution_count": null
    },
    {
      "cell_type": "code",
      "source": [
        "X_train_blood = data_blood['train_images']\n",
        "y_train_blood = data_blood['train_labels']\n",
        "X_test_blood = data_blood['test_images']\n",
        "y_test_blood = data_blood['test_labels']\n",
        "X_val_blood = data_blood['val_images']\n",
        "y_val_blood = data_blood['val_labels']"
      ],
      "metadata": {
        "trusted": true,
        "execution": {
          "iopub.status.busy": "2025-01-30T16:00:50.432553Z",
          "iopub.execute_input": "2025-01-30T16:00:50.432824Z",
          "iopub.status.idle": "2025-01-30T16:00:50.727864Z",
          "shell.execute_reply.started": "2025-01-30T16:00:50.432802Z",
          "shell.execute_reply": "2025-01-30T16:00:50.727212Z"
        },
        "id": "nA_kJaTpLqiK"
      },
      "outputs": [],
      "execution_count": null
    },
    {
      "cell_type": "code",
      "source": [
        "import matplotlib.pyplot as plt\n",
        "sample_index = 1\n",
        "plt.imshow(X_train_blood[sample_index]);\n",
        "print(f\"Label: {y_train_blood[sample_index]}\")"
      ],
      "metadata": {
        "trusted": true,
        "execution": {
          "iopub.status.busy": "2025-01-30T16:00:50.728611Z",
          "iopub.execute_input": "2025-01-30T16:00:50.728896Z",
          "iopub.status.idle": "2025-01-30T16:00:50.945235Z",
          "shell.execute_reply.started": "2025-01-30T16:00:50.728868Z",
          "shell.execute_reply": "2025-01-30T16:00:50.944491Z"
        },
        "id": "jWKTDen_LqiL",
        "outputId": "98457085-be75-476c-aadf-fd1d349e8c06"
      },
      "outputs": [
        {
          "name": "stdout",
          "text": "Label: [3]\n",
          "output_type": "stream"
        },
        {
          "output_type": "display_data",
          "data": {
            "text/plain": "<Figure size 640x480 with 1 Axes>",
            "image/png": "[encoded data removed]"
          },
          "metadata": {}
        }
      ],
      "execution_count": null
    },
    {
      "cell_type": "code",
      "source": [
        "import random\n",
        "plt.figure(figsize=(7, 7))\n",
        "for i in range(4):\n",
        "  ax = plt.subplot(2, 2, i + 1)\n",
        "  rand_index = random.choice(range(len(X_train_blood)))\n",
        "  plt.imshow(X_train_blood[rand_index], cmap=plt.cm.binary)\n",
        "  plt.title(y_train_blood[rand_index])\n",
        "  plt.axis(False)"
      ],
      "metadata": {
        "trusted": true,
        "execution": {
          "iopub.status.busy": "2025-01-30T16:00:50.947869Z",
          "iopub.execute_input": "2025-01-30T16:00:50.948106Z",
          "iopub.status.idle": "2025-01-30T16:00:51.207976Z",
          "shell.execute_reply.started": "2025-01-30T16:00:50.948086Z",
          "shell.execute_reply": "2025-01-30T16:00:51.207196Z"
        },
        "id": "vWwzmybmLqiL",
        "outputId": "3fb3e4a3-c1fa-4891-af9f-9d5d5c39495d"
      },
      "outputs": [
        {
          "output_type": "display_data",
          "data": {
            "text/plain": "<Figure size 700x700 with 4 Axes>",
            "image/png": "[encoded data removed]"
          },
          "metadata": {}
        }
      ],
      "execution_count": null
    },
    {
      "cell_type": "code",
      "source": [
        "y_train_blood = np.array(y_train_blood).ravel()\n",
        "y_test_blood = np.array(y_test_blood).ravel()\n",
        "y_val_blood = np.array(y_val_blood).ravel()\n",
        "y_train_blood.shape, y_test_blood.shape, y_val_blood.shape"
      ],
      "metadata": {
        "trusted": true,
        "execution": {
          "iopub.status.busy": "2025-01-30T16:00:51.209458Z",
          "iopub.execute_input": "2025-01-30T16:00:51.209697Z",
          "iopub.status.idle": "2025-01-30T16:00:51.215264Z",
          "shell.execute_reply.started": "2025-01-30T16:00:51.209677Z",
          "shell.execute_reply": "2025-01-30T16:00:51.21444Z"
        },
        "id": "J2FNimojLqiM",
        "outputId": "2af96f31-3cfb-4f36-d885-13c5234045b7"
      },
      "outputs": [
        {
          "execution_count": 9,
          "output_type": "execute_result",
          "data": {
            "text/plain": "((11959,), (3421,), (1712,))"
          },
          "metadata": {}
        }
      ],
      "execution_count": null
    },
    {
      "cell_type": "code",
      "source": [
        "X_train_blood = X_train_blood / 255\n",
        "X_test_blood = X_test_blood / 255\n",
        "X_val_blood = X_val_blood / 255\n",
        "X_train_blood.min(), X_train_blood.max()"
      ],
      "metadata": {
        "trusted": true,
        "execution": {
          "iopub.status.busy": "2025-01-30T16:00:51.216098Z",
          "iopub.execute_input": "2025-01-30T16:00:51.21631Z",
          "iopub.status.idle": "2025-01-30T16:00:51.399052Z",
          "shell.execute_reply.started": "2025-01-30T16:00:51.216292Z",
          "shell.execute_reply": "2025-01-30T16:00:51.398136Z"
        },
        "id": "tQJp-VgrLqiM",
        "outputId": "0c99a0bf-4c3a-40b9-b912-ca0d301d2608"
      },
      "outputs": [
        {
          "execution_count": 10,
          "output_type": "execute_result",
          "data": {
            "text/plain": "(0.0, 1.0)"
          },
          "metadata": {}
        }
      ],
      "execution_count": null
    },
    {
      "cell_type": "code",
      "source": [
        "from tensorflow.keras.models import Sequential\n",
        "from tensorflow.keras.layers import Dense, Input, Flatten, Activation, Dropout, Conv2D, MaxPooling2D, Flatten\n",
        "from tensorflow.keras.optimizers import Adam, SGD, RMSprop\n",
        "from tensorflow.keras.callbacks import EarlyStopping\n",
        "# from tpot import TPOTClassifier\n",
        "# from scikeras.wrappers import KerasClassifier\n",
        "import keras_tuner as kt\n",
        "# from sklearn.model_selection import GridSearchCV\n",
        "from tensorflow.keras import regularizers"
      ],
      "metadata": {
        "trusted": true,
        "execution": {
          "iopub.status.busy": "2025-01-30T16:00:51.399966Z",
          "iopub.execute_input": "2025-01-30T16:00:51.400202Z",
          "iopub.status.idle": "2025-01-30T16:01:02.664787Z",
          "shell.execute_reply.started": "2025-01-30T16:00:51.400181Z",
          "shell.execute_reply": "2025-01-30T16:01:02.664109Z"
        },
        "id": "a7BouIzELqiM"
      },
      "outputs": [],
      "execution_count": null
    },
    {
      "cell_type": "markdown",
      "source": [
        "## Tune Hyperparameters for Model"
      ],
      "metadata": {
        "id": "Hjs-gFMGLqiM"
      }
    },
    {
      "cell_type": "code",
      "source": [
        "# Define Model\n",
        "def create_model(hp):\n",
        "\n",
        "    model = Sequential()\n",
        "\n",
        "    model.add(Conv2D(\n",
        "        filters=hp.Int('neurons1', min_value=8, max_value=64, step=8),\n",
        "        kernel_size=(3, 3),\n",
        "        activation='leaky_relu',\n",
        "        input_shape=(28, 28, 3)))\n",
        "    model.add(MaxPooling2D(pool_size=(2, 2)))\n",
        "\n",
        "    model.add(Conv2D(\n",
        "        filters=hp.Int('neurons2', min_value=8, max_value=64, step=8),\n",
        "        kernel_size=(3, 3),\n",
        "        activation='leaky_relu'))\n",
        "    model.add(MaxPooling2D(pool_size=(2, 2)))\n",
        "\n",
        "    model.add(Flatten(input_shape=(28, 28, 3)))\n",
        "    model.add(Dense(units=hp.Int('neurons3', min_value=8, max_value=128, step=16), activation='leaky_relu'))\n",
        "    model.add(Dropout(0.25))\n",
        "    model.add(Dense(units=hp.Int('neurons4', min_value=8, max_value=128, step=16), activation='leaky_relu'))\n",
        "    model.add(Dense(units=hp.Int('neurons5', min_value=8, max_value=128, step=16), activation='leaky_relu'))\n",
        "    model.add(Dense(8, activation='softmax'))\n",
        "\n",
        "    optimizer = hp.Choice('optimizer', values=['adam', 'sgd', 'rmsprop'])\n",
        "\n",
        "    model.compile(optimizer=optimizer, loss='sparse_categorical_crossentropy', metrics=['accuracy'])\n",
        "    return model\n",
        "\n",
        "# Set up KerasTuner\n",
        "tuner = kt.Hyperband(\n",
        "    create_model,\n",
        "    objective='val_accuracy',\n",
        "    max_epochs=5,\n",
        "    hyperband_iterations=3,\n",
        "    directory='/kaggle/working/tuning_results7',\n",
        "    project_name='tuning_example7'\n",
        ")\n",
        "\n",
        "# Perform the search\n",
        "tuner.search(X_train_blood, y_train_blood, epochs=5, validation_data=(X_val_blood, y_val_blood))\n",
        "\n",
        "# Get the best model and hyperparameters\n",
        "best_model = tuner.get_best_models(num_models=1)[0]\n",
        "best_hyperparameters = tuner.get_best_hyperparameters(num_trials=1)[0]\n",
        "\n",
        "print(f\"Best Model: {best_model}\")\n",
        "print(f\"Best Hyperparameters: {best_hyperparameters.values}\")\n",
        "\n",
        "# Best val_accuracy So Far: 0.8995327353477478\n",
        "# Total elapsed time: 00h 04m 46s\n",
        "# Best Model: <Sequential name=sequential, built=True>\n",
        "# Best Hyperparameters: {'neurons1': 40, 'neurons2': 48, 'neurons3': 72,\n",
        "#                        'neurons4': 24, 'neurons5': 40, 'optimizer': 'rmsprop',\n",
        "#                        'tuner/epochs': 5, 'tuner/initial_epoch': 2, 'tuner/bracket': 1,\n",
        "#                        'tuner/round': 1, 'tuner/trial_id': '0020'}"
      ],
      "metadata": {
        "trusted": true,
        "execution": {
          "iopub.status.busy": "2025-01-30T16:01:02.6656Z",
          "iopub.execute_input": "2025-01-30T16:01:02.66614Z",
          "iopub.status.idle": "2025-01-30T16:05:22.634621Z",
          "shell.execute_reply.started": "2025-01-30T16:01:02.666115Z",
          "shell.execute_reply": "2025-01-30T16:05:22.633869Z"
        },
        "id": "RA5hmpg9LqiM",
        "outputId": "5d415e20-38de-41d8-99cb-872d5c11d8de"
      },
      "outputs": [
        {
          "name": "stdout",
          "text": "Trial 30 Complete [00h 00m 09s]\nval_accuracy: 0.827102780342102\n\nBest val_accuracy So Far: 0.8901869058609009\nTotal elapsed time: 00h 04m 17s\nBest Model: <Sequential name=sequential, built=True>\nBest Hyperparameters: {'neurons1': 56, 'neurons2': 16, 'neurons3': 120, 'neurons4': 120, 'neurons5': 56, 'optimizer': 'adam', 'tuner/epochs': 5, 'tuner/initial_epoch': 2, 'tuner/bracket': 1, 'tuner/round': 1, 'tuner/trial_id': '0011'}\n",
          "output_type": "stream"
        }
      ],
      "execution_count": null
    },
    {
      "cell_type": "code",
      "source": [
        "from tensorflow.keras.models import Sequential\n",
        "from tensorflow.keras.layers import Conv2D, MaxPooling2D, Flatten, Dense, Dropout\n",
        "from tensorflow.keras.optimizers import Adam\n",
        "\n",
        "model_0 = Sequential()\n",
        "\n",
        "model_0.add(Conv2D(40, (3, 3), activation='relu', input_shape=(28, 28, 3)))\n",
        "model_0.add(MaxPooling2D(pool_size=(2, 2)))\n",
        "\n",
        "model_0.add(Conv2D(48, (3, 3), activation='relu'))\n",
        "model_0.add(MaxPooling2D(pool_size=(2, 2)))\n",
        "model_0 = Sequential()\n",
        "\n",
        "model_0.add(Flatten())\n",
        "model_0.add(Dense(88, activation='leaky_relu'))\n",
        "model_0.add(Dropout(0.25))\n",
        "model_0.add(Dense(88, activation='leaky_relu'))\n",
        "model_0.add(Dense(64, activation='leaky_relu'))\n",
        "model_0.add(Dense(9, activation='softmax'))\n",
        "\n",
        "model_0.compile(optimizer='adam', loss='sparse_categorical_crossentropy', metrics=['accuracy'])\n",
        "model_0.summary()\n",
        "\n",
        "early_stopping = EarlyStopping(\n",
        "    monitor='val_loss',\n",
        "    patience=10,\n",
        "    restore_best_weights=True\n",
        ")\n",
        "\n",
        "history_0 = model_0.fit(X_train_blood,\n",
        "                        y_train_blood,\n",
        "                        epochs=150,\n",
        "                        verbose=True,\n",
        "                        validation_data=(X_val_blood, y_val_blood),\n",
        "                        callbacks=[early_stopping])\n"
      ],
      "metadata": {
        "trusted": true,
        "execution": {
          "iopub.status.busy": "2025-01-30T16:05:22.635347Z",
          "iopub.execute_input": "2025-01-30T16:05:22.635625Z",
          "iopub.status.idle": "2025-01-30T16:05:44.039776Z",
          "shell.execute_reply.started": "2025-01-30T16:05:22.635602Z",
          "shell.execute_reply": "2025-01-30T16:05:44.038886Z"
        },
        "id": "o5ftPnr4LqiN",
        "outputId": "5bd415c3-8dd1-4641-a848-8c2de96c3c78"
      },
      "outputs": [
        {
          "output_type": "display_data",
          "data": {
            "text/plain": "\u001b[1mModel: \"sequential_2\"\u001b[0m\n",
            "text/html": "<pre style=\"white-space:pre;overflow-x:auto;line-height:normal;font-family:Menlo,'DejaVu Sans Mono',consolas,'Courier New',monospace\"><span style=\"font-weight: bold\">Model: \"sequential_2\"</span>\n</pre>\n"
          },
          "metadata": {}
        },
        {
          "output_type": "display_data",
          "data": {
            "text/plain": "┏━━━━━━━━━━━━━━━━━━━━━━━━━━━━━━━━━━━━━━┳━━━━━━━━━━━━━━━━━━━━━━━━━━━━━┳━━━━━━━━━━━━━━━━━┓\n┃\u001b[1m \u001b[0m\u001b[1mLayer (type)                        \u001b[0m\u001b[1m \u001b[0m┃\u001b[1m \u001b[0m\u001b[1mOutput Shape               \u001b[0m\u001b[1m \u001b[0m┃\u001b[1m \u001b[0m\u001b[1m        Param #\u001b[0m\u001b[1m \u001b[0m┃\n┡━━━━━━━━━━━━━━━━━━━━━━━━━━━━━━━━━━━━━━╇━━━━━━━━━━━━━━━━━━━━━━━━━━━━━╇━━━━━━━━━━━━━━━━━┩\n│ flatten_1 (\u001b[38;5;33mFlatten\u001b[0m)                  │ ?                           │     \u001b[38;5;34m0\u001b[0m (unbuilt) │\n├──────────────────────────────────────┼─────────────────────────────┼─────────────────┤\n│ dense_4 (\u001b[38;5;33mDense\u001b[0m)                      │ ?                           │     \u001b[38;5;34m0\u001b[0m (unbuilt) │\n├──────────────────────────────────────┼─────────────────────────────┼─────────────────┤\n│ dropout_1 (\u001b[38;5;33mDropout\u001b[0m)                  │ ?                           │     \u001b[38;5;34m0\u001b[0m (unbuilt) │\n├──────────────────────────────────────┼─────────────────────────────┼─────────────────┤\n│ dense_5 (\u001b[38;5;33mDense\u001b[0m)                      │ ?                           │     \u001b[38;5;34m0\u001b[0m (unbuilt) │\n├──────────────────────────────────────┼─────────────────────────────┼─────────────────┤\n│ dense_6 (\u001b[38;5;33mDense\u001b[0m)                      │ ?                           │     \u001b[38;5;34m0\u001b[0m (unbuilt) │\n├──────────────────────────────────────┼─────────────────────────────┼─────────────────┤\n│ dense_7 (\u001b[38;5;33mDense\u001b[0m)                      │ ?                           │     \u001b[38;5;34m0\u001b[0m (unbuilt) │\n└──────────────────────────────────────┴─────────────────────────────┴─────────────────┘\n",
            "text/html": "<pre style=\"white-space:pre;overflow-x:auto;line-height:normal;font-family:Menlo,'DejaVu Sans Mono',consolas,'Courier New',monospace\">┏━━━━━━━━━━━━━━━━━━━━━━━━━━━━━━━━━━━━━━┳━━━━━━━━━━━━━━━━━━━━━━━━━━━━━┳━━━━━━━━━━━━━━━━━┓\n┃<span style=\"font-weight: bold\"> Layer (type)                         </span>┃<span style=\"font-weight: bold\"> Output Shape                </span>┃<span style=\"font-weight: bold\">         Param # </span>┃\n┡━━━━━━━━━━━━━━━━━━━━━━━━━━━━━━━━━━━━━━╇━━━━━━━━━━━━━━━━━━━━━━━━━━━━━╇━━━━━━━━━━━━━━━━━┩\n│ flatten_1 (<span style=\"color: #0087ff; text-decoration-color: #0087ff\">Flatten</span>)                  │ ?                           │     <span style=\"color: #00af00; text-decoration-color: #00af00\">0</span> (unbuilt) │\n├──────────────────────────────────────┼─────────────────────────────┼─────────────────┤\n│ dense_4 (<span style=\"color: #0087ff; text-decoration-color: #0087ff\">Dense</span>)                      │ ?                           │     <span style=\"color: #00af00; text-decoration-color: #00af00\">0</span> (unbuilt) │\n├──────────────────────────────────────┼─────────────────────────────┼─────────────────┤\n│ dropout_1 (<span style=\"color: #0087ff; text-decoration-color: #0087ff\">Dropout</span>)                  │ ?                           │     <span style=\"color: #00af00; text-decoration-color: #00af00\">0</span> (unbuilt) │\n├──────────────────────────────────────┼─────────────────────────────┼─────────────────┤\n│ dense_5 (<span style=\"color: #0087ff; text-decoration-color: #0087ff\">Dense</span>)                      │ ?                           │     <span style=\"color: #00af00; text-decoration-color: #00af00\">0</span> (unbuilt) │\n├──────────────────────────────────────┼─────────────────────────────┼─────────────────┤\n│ dense_6 (<span style=\"color: #0087ff; text-decoration-color: #0087ff\">Dense</span>)                      │ ?                           │     <span style=\"color: #00af00; text-decoration-color: #00af00\">0</span> (unbuilt) │\n├──────────────────────────────────────┼─────────────────────────────┼─────────────────┤\n│ dense_7 (<span style=\"color: #0087ff; text-decoration-color: #0087ff\">Dense</span>)                      │ ?                           │     <span style=\"color: #00af00; text-decoration-color: #00af00\">0</span> (unbuilt) │\n└──────────────────────────────────────┴─────────────────────────────┴─────────────────┘\n</pre>\n"
          },
          "metadata": {}
        },
        {
          "output_type": "display_data",
          "data": {
            "text/plain": "\u001b[1m Total params: \u001b[0m\u001b[38;5;34m0\u001b[0m (0.00 B)\n",
            "text/html": "<pre style=\"white-space:pre;overflow-x:auto;line-height:normal;font-family:Menlo,'DejaVu Sans Mono',consolas,'Courier New',monospace\"><span style=\"font-weight: bold\"> Total params: </span><span style=\"color: #00af00; text-decoration-color: #00af00\">0</span> (0.00 B)\n</pre>\n"
          },
          "metadata": {}
        },
        {
          "output_type": "display_data",
          "data": {
            "text/plain": "\u001b[1m Trainable params: \u001b[0m\u001b[38;5;34m0\u001b[0m (0.00 B)\n",
            "text/html": "<pre style=\"white-space:pre;overflow-x:auto;line-height:normal;font-family:Menlo,'DejaVu Sans Mono',consolas,'Courier New',monospace\"><span style=\"font-weight: bold\"> Trainable params: </span><span style=\"color: #00af00; text-decoration-color: #00af00\">0</span> (0.00 B)\n</pre>\n"
          },
          "metadata": {}
        },
        {
          "output_type": "display_data",
          "data": {
            "text/plain": "\u001b[1m Non-trainable params: \u001b[0m\u001b[38;5;34m0\u001b[0m (0.00 B)\n",
            "text/html": "<pre style=\"white-space:pre;overflow-x:auto;line-height:normal;font-family:Menlo,'DejaVu Sans Mono',consolas,'Courier New',monospace\"><span style=\"font-weight: bold\"> Non-trainable params: </span><span style=\"color: #00af00; text-decoration-color: #00af00\">0</span> (0.00 B)\n</pre>\n"
          },
          "metadata": {}
        },
        {
          "name": "stdout",
          "text": "Epoch 1/150\n\u001b[1m374/374\u001b[0m \u001b[32m━━━━━━━━━━━━━━━━━━━━\u001b[0m\u001b[37m\u001b[0m \u001b[1m5s\u001b[0m 7ms/step - accuracy: 0.3898 - loss: 1.5913 - val_accuracy: 0.6326 - val_loss: 1.0082\nEpoch 2/150\n\u001b[1m374/374\u001b[0m \u001b[32m━━━━━━━━━━━━━━━━━━━━\u001b[0m\u001b[37m\u001b[0m \u001b[1m1s\u001b[0m 2ms/step - accuracy: 0.6123 - loss: 1.0197 - val_accuracy: 0.6454 - val_loss: 0.8760\nEpoch 3/150\n\u001b[1m374/374\u001b[0m \u001b[32m━━━━━━━━━━━━━━━━━━━━\u001b[0m\u001b[37m\u001b[0m \u001b[1m1s\u001b[0m 2ms/step - accuracy: 0.6703 - loss: 0.9010 - val_accuracy: 0.6273 - val_loss: 0.9952\nEpoch 4/150\n\u001b[1m374/374\u001b[0m \u001b[32m━━━━━━━━━━━━━━━━━━━━\u001b[0m\u001b[37m\u001b[0m \u001b[1m1s\u001b[0m 2ms/step - accuracy: 0.6805 - loss: 0.8807 - val_accuracy: 0.7237 - val_loss: 0.7388\nEpoch 5/150\n\u001b[1m374/374\u001b[0m \u001b[32m━━━━━━━━━━━━━━━━━━━━\u001b[0m\u001b[37m\u001b[0m \u001b[1m1s\u001b[0m 2ms/step - accuracy: 0.7038 - loss: 0.7949 - val_accuracy: 0.7535 - val_loss: 0.6771\nEpoch 6/150\n\u001b[1m374/374\u001b[0m \u001b[32m━━━━━━━━━━━━━━━━━━━━\u001b[0m\u001b[37m\u001b[0m \u001b[1m1s\u001b[0m 2ms/step - accuracy: 0.7131 - loss: 0.7730 - val_accuracy: 0.7599 - val_loss: 0.6607\nEpoch 7/150\n\u001b[1m374/374\u001b[0m \u001b[32m━━━━━━━━━━━━━━━━━━━━\u001b[0m\u001b[37m\u001b[0m \u001b[1m1s\u001b[0m 2ms/step - accuracy: 0.7250 - loss: 0.7416 - val_accuracy: 0.7634 - val_loss: 0.6794\nEpoch 8/150\n\u001b[1m374/374\u001b[0m \u001b[32m━━━━━━━━━━━━━━━━━━━━\u001b[0m\u001b[37m\u001b[0m \u001b[1m1s\u001b[0m 2ms/step - accuracy: 0.7311 - loss: 0.7153 - val_accuracy: 0.7704 - val_loss: 0.6156\nEpoch 9/150\n\u001b[1m374/374\u001b[0m \u001b[32m━━━━━━━━━━━━━━━━━━━━\u001b[0m\u001b[37m\u001b[0m \u001b[1m1s\u001b[0m 2ms/step - accuracy: 0.7440 - loss: 0.6866 - val_accuracy: 0.7459 - val_loss: 0.6512\nEpoch 10/150\n\u001b[1m374/374\u001b[0m \u001b[32m━━━━━━━━━━━━━━━━━━━━\u001b[0m\u001b[37m\u001b[0m \u001b[1m1s\u001b[0m 2ms/step - accuracy: 0.7443 - loss: 0.7034 - val_accuracy: 0.7821 - val_loss: 0.5941\nEpoch 11/150\n\u001b[1m374/374\u001b[0m \u001b[32m━━━━━━━━━━━━━━━━━━━━\u001b[0m\u001b[37m\u001b[0m \u001b[1m1s\u001b[0m 2ms/step - accuracy: 0.7524 - loss: 0.6658 - val_accuracy: 0.7891 - val_loss: 0.5804\nEpoch 12/150\n\u001b[1m374/374\u001b[0m \u001b[32m━━━━━━━━━━━━━━━━━━━━\u001b[0m\u001b[37m\u001b[0m \u001b[1m1s\u001b[0m 2ms/step - accuracy: 0.7558 - loss: 0.6519 - val_accuracy: 0.7605 - val_loss: 0.6366\nEpoch 13/150\n\u001b[1m374/374\u001b[0m \u001b[32m━━━━━━━━━━━━━━━━━━━━\u001b[0m\u001b[37m\u001b[0m \u001b[1m1s\u001b[0m 2ms/step - accuracy: 0.7649 - loss: 0.6319 - val_accuracy: 0.7623 - val_loss: 0.6373\nEpoch 14/150\n\u001b[1m374/374\u001b[0m \u001b[32m━━━━━━━━━━━━━━━━━━━━\u001b[0m\u001b[37m\u001b[0m \u001b[1m1s\u001b[0m 2ms/step - accuracy: 0.7635 - loss: 0.6263 - val_accuracy: 0.7938 - val_loss: 0.5576\nEpoch 15/150\n\u001b[1m374/374\u001b[0m \u001b[32m━━━━━━━━━━━━━━━━━━━━\u001b[0m\u001b[37m\u001b[0m \u001b[1m1s\u001b[0m 2ms/step - accuracy: 0.7695 - loss: 0.6209 - val_accuracy: 0.8148 - val_loss: 0.5195\nEpoch 16/150\n\u001b[1m374/374\u001b[0m \u001b[32m━━━━━━━━━━━━━━━━━━━━\u001b[0m\u001b[37m\u001b[0m \u001b[1m1s\u001b[0m 2ms/step - accuracy: 0.7728 - loss: 0.6082 - val_accuracy: 0.8271 - val_loss: 0.4848\nEpoch 17/150\n\u001b[1m374/374\u001b[0m \u001b[32m━━━━━━━━━━━━━━━━━━━━\u001b[0m\u001b[37m\u001b[0m \u001b[1m1s\u001b[0m 2ms/step - accuracy: 0.7830 - loss: 0.5728 - val_accuracy: 0.7833 - val_loss: 0.5363\nEpoch 18/150\n\u001b[1m374/374\u001b[0m \u001b[32m━━━━━━━━━━━━━━━━━━━━\u001b[0m\u001b[37m\u001b[0m \u001b[1m1s\u001b[0m 2ms/step - accuracy: 0.7879 - loss: 0.5700 - val_accuracy: 0.8084 - val_loss: 0.5209\nEpoch 19/150\n\u001b[1m374/374\u001b[0m \u001b[32m━━━━━━━━━━━━━━━━━━━━\u001b[0m\u001b[37m\u001b[0m \u001b[1m1s\u001b[0m 2ms/step - accuracy: 0.7863 - loss: 0.5744 - val_accuracy: 0.7961 - val_loss: 0.5745\nEpoch 20/150\n\u001b[1m374/374\u001b[0m \u001b[32m━━━━━━━━━━━━━━━━━━━━\u001b[0m\u001b[37m\u001b[0m \u001b[1m1s\u001b[0m 2ms/step - accuracy: 0.7951 - loss: 0.5644 - val_accuracy: 0.7745 - val_loss: 0.5925\nEpoch 21/150\n\u001b[1m374/374\u001b[0m \u001b[32m━━━━━━━━━━━━━━━━━━━━\u001b[0m\u001b[37m\u001b[0m \u001b[1m1s\u001b[0m 2ms/step - accuracy: 0.7958 - loss: 0.5576 - val_accuracy: 0.8283 - val_loss: 0.4934\nEpoch 22/150\n\u001b[1m374/374\u001b[0m \u001b[32m━━━━━━━━━━━━━━━━━━━━\u001b[0m\u001b[37m\u001b[0m \u001b[1m1s\u001b[0m 2ms/step - accuracy: 0.7916 - loss: 0.5611 - val_accuracy: 0.8154 - val_loss: 0.5072\nEpoch 23/150\n\u001b[1m374/374\u001b[0m \u001b[32m━━━━━━━━━━━━━━━━━━━━\u001b[0m\u001b[37m\u001b[0m \u001b[1m1s\u001b[0m 2ms/step - accuracy: 0.8019 - loss: 0.5347 - val_accuracy: 0.8072 - val_loss: 0.5565\nEpoch 24/150\n\u001b[1m374/374\u001b[0m \u001b[32m━━━━━━━━━━━━━━━━━━━━\u001b[0m\u001b[37m\u001b[0m \u001b[1m1s\u001b[0m 2ms/step - accuracy: 0.8003 - loss: 0.5469 - val_accuracy: 0.8020 - val_loss: 0.5303\nEpoch 25/150\n\u001b[1m374/374\u001b[0m \u001b[32m━━━━━━━━━━━━━━━━━━━━\u001b[0m\u001b[37m\u001b[0m \u001b[1m1s\u001b[0m 2ms/step - accuracy: 0.7993 - loss: 0.5403 - val_accuracy: 0.8195 - val_loss: 0.4904\nEpoch 26/150\n\u001b[1m374/374\u001b[0m \u001b[32m━━━━━━━━━━━━━━━━━━━━\u001b[0m\u001b[37m\u001b[0m \u001b[1m1s\u001b[0m 2ms/step - accuracy: 0.7930 - loss: 0.5510 - val_accuracy: 0.8067 - val_loss: 0.5332\n",
          "output_type": "stream"
        }
      ],
      "execution_count": null
    },
    {
      "cell_type": "code",
      "source": [
        "# Model evaluation\n",
        "from sklearn.metrics import classification_report\n",
        "y_preds_blood = model_0.predict(X_test_blood)\n",
        "y_preds_blood = y_preds_blood.argmax(axis=1)\n",
        "\n",
        "loss, accuracy = model_0.evaluate(X_test_blood, y_test_blood)\n",
        "print(f\"Model loss on test set: {loss}\")\n",
        "print(f\"Model accuracy on test set: {(accuracy*100):.2f}%\")\n",
        "print(\"---\")\n",
        "\n",
        "print(classification_report(y_test_blood, y_preds_blood, labels=[0,1,2,3,4,5,6,7,8]))"
      ],
      "metadata": {
        "trusted": true,
        "execution": {
          "iopub.status.busy": "2025-01-30T16:05:44.040916Z",
          "iopub.execute_input": "2025-01-30T16:05:44.04114Z",
          "iopub.status.idle": "2025-01-30T16:05:45.203742Z",
          "shell.execute_reply.started": "2025-01-30T16:05:44.041121Z",
          "shell.execute_reply": "2025-01-30T16:05:45.202807Z"
        },
        "id": "n451kVZELqiN",
        "outputId": "6f6c9085-5d17-41d2-9472-ded9d92d0229"
      },
      "outputs": [
        {
          "name": "stdout",
          "text": "\u001b[1m107/107\u001b[0m \u001b[32m━━━━━━━━━━━━━━━━━━━━\u001b[0m\u001b[37m\u001b[0m \u001b[1m0s\u001b[0m 3ms/step\n\u001b[1m107/107\u001b[0m \u001b[32m━━━━━━━━━━━━━━━━━━━━\u001b[0m\u001b[37m\u001b[0m \u001b[1m0s\u001b[0m 3ms/step - accuracy: 0.8125 - loss: 0.5340\nModel loss on test set: 0.5354057550430298\nModel accuracy on test set: 80.39%\n---\n              precision    recall  f1-score   support\n\n           0       0.60      0.68      0.64       244\n           1       0.93      0.92      0.93       624\n           2       0.84      0.74      0.79       311\n           3       0.62      0.64      0.63       579\n           4       0.85      0.67      0.75       243\n           5       0.64      0.58      0.61       284\n           6       0.86      0.92      0.89       666\n           7       0.93      1.00      0.96       470\n           8       0.00      0.00      0.00         0\n\n   micro avg       0.80      0.80      0.80      3421\n   macro avg       0.70      0.68      0.69      3421\nweighted avg       0.80      0.80      0.80      3421\n\n",
          "output_type": "stream"
        },
        {
          "name": "stderr",
          "text": "/usr/local/lib/python3.10/dist-packages/sklearn/metrics/_classification.py:1344: UndefinedMetricWarning: Precision and F-score are ill-defined and being set to 0.0 in labels with no predicted samples. Use `zero_division` parameter to control this behavior.\n  _warn_prf(average, modifier, msg_start, len(result))\n/usr/local/lib/python3.10/dist-packages/sklearn/metrics/_classification.py:1344: UndefinedMetricWarning: Recall and F-score are ill-defined and being set to 0.0 in labels with no true samples. Use `zero_division` parameter to control this behavior.\n  _warn_prf(average, modifier, msg_start, len(result))\n/usr/local/lib/python3.10/dist-packages/sklearn/metrics/_classification.py:1344: UndefinedMetricWarning: Precision and F-score are ill-defined and being set to 0.0 in labels with no predicted samples. Use `zero_division` parameter to control this behavior.\n  _warn_prf(average, modifier, msg_start, len(result))\n/usr/local/lib/python3.10/dist-packages/sklearn/metrics/_classification.py:1344: UndefinedMetricWarning: Recall and F-score are ill-defined and being set to 0.0 in labels with no true samples. Use `zero_division` parameter to control this behavior.\n  _warn_prf(average, modifier, msg_start, len(result))\n/usr/local/lib/python3.10/dist-packages/sklearn/metrics/_classification.py:1344: UndefinedMetricWarning: Precision and F-score are ill-defined and being set to 0.0 in labels with no predicted samples. Use `zero_division` parameter to control this behavior.\n  _warn_prf(average, modifier, msg_start, len(result))\n/usr/local/lib/python3.10/dist-packages/sklearn/metrics/_classification.py:1344: UndefinedMetricWarning: Recall and F-score are ill-defined and being set to 0.0 in labels with no true samples. Use `zero_division` parameter to control this behavior.\n  _warn_prf(average, modifier, msg_start, len(result))\n",
          "output_type": "stream"
        }
      ],
      "execution_count": null
    },
    {
      "cell_type": "code",
      "source": [
        "y_preds_blood[:5]"
      ],
      "metadata": {
        "trusted": true,
        "execution": {
          "iopub.status.busy": "2025-01-30T16:05:45.204685Z",
          "iopub.execute_input": "2025-01-30T16:05:45.204973Z",
          "iopub.status.idle": "2025-01-30T16:05:45.209991Z",
          "shell.execute_reply.started": "2025-01-30T16:05:45.20494Z",
          "shell.execute_reply": "2025-01-30T16:05:45.209275Z"
        },
        "id": "lo0492tSLqiN",
        "outputId": "3ff429bd-ddef-4bdc-cc0e-030c1a39a270"
      },
      "outputs": [
        {
          "execution_count": 15,
          "output_type": "execute_result",
          "data": {
            "text/plain": "array([3, 0, 1, 3, 5])"
          },
          "metadata": {}
        }
      ],
      "execution_count": null
    },
    {
      "cell_type": "code",
      "source": [
        "np.save('/kaggle/working/y_preds_blood1.npy', y_preds_blood)"
      ],
      "metadata": {
        "trusted": true,
        "execution": {
          "iopub.status.busy": "2025-01-30T16:05:45.210986Z",
          "iopub.execute_input": "2025-01-30T16:05:45.21127Z",
          "iopub.status.idle": "2025-01-30T16:05:45.226726Z",
          "shell.execute_reply.started": "2025-01-30T16:05:45.211241Z",
          "shell.execute_reply": "2025-01-30T16:05:45.226071Z"
        },
        "id": "ntAfZ-EjLqiO"
      },
      "outputs": [],
      "execution_count": null
    },
    {
      "cell_type": "markdown",
      "source": [
        "## Breast Data"
      ],
      "metadata": {
        "id": "GCQ9yk3PLqiO"
      }
    },
    {
      "cell_type": "code",
      "source": [
        "breast_data = np.load('/kaggle/input/tensor-reloaded-multi-task-med-mnist/data/breastmnist.npz')\n",
        "print(len(breast_data))\n",
        "breast_data.files"
      ],
      "metadata": {
        "trusted": true,
        "execution": {
          "iopub.status.busy": "2025-01-30T16:05:45.227463Z",
          "iopub.execute_input": "2025-01-30T16:05:45.227742Z",
          "iopub.status.idle": "2025-01-30T16:05:45.287892Z",
          "shell.execute_reply.started": "2025-01-30T16:05:45.227715Z",
          "shell.execute_reply": "2025-01-30T16:05:45.287245Z"
        },
        "id": "OOhoOe90LqiO",
        "outputId": "5a6fb383-134d-481a-f65a-75b381e8d2d2"
      },
      "outputs": [
        {
          "name": "stdout",
          "text": "6\n",
          "output_type": "stream"
        },
        {
          "execution_count": 17,
          "output_type": "execute_result",
          "data": {
            "text/plain": "['train_images',\n 'val_images',\n 'test_images',\n 'train_labels',\n 'val_labels',\n 'test_labels']"
          },
          "metadata": {}
        }
      ],
      "execution_count": null
    },
    {
      "cell_type": "code",
      "source": [
        "print(breast_data['train_images'].shape)\n",
        "print(breast_data['val_images'].shape)\n",
        "print(breast_data['test_images'].shape)\n",
        "print(breast_data['train_labels'].shape)\n",
        "print(breast_data['val_labels'].shape)\n",
        "print(breast_data['test_labels'].shape)"
      ],
      "metadata": {
        "trusted": true,
        "execution": {
          "iopub.status.busy": "2025-01-30T16:05:45.288587Z",
          "iopub.execute_input": "2025-01-30T16:05:45.288773Z",
          "iopub.status.idle": "2025-01-30T16:05:45.300335Z",
          "shell.execute_reply.started": "2025-01-30T16:05:45.288756Z",
          "shell.execute_reply": "2025-01-30T16:05:45.299538Z"
        },
        "id": "ziJ10VceLqiP",
        "outputId": "4537af17-4a19-4f65-f132-92b6f3159390"
      },
      "outputs": [
        {
          "name": "stdout",
          "text": "(546, 28, 28)\n(78, 28, 28)\n(156, 28, 28)\n(546, 1)\n(78, 1)\n(156, 1)\n",
          "output_type": "stream"
        }
      ],
      "execution_count": null
    },
    {
      "cell_type": "code",
      "source": [
        "unique_labels = np.unique(breast_data['train_labels'])\n",
        "\n",
        "print(unique_labels)"
      ],
      "metadata": {
        "trusted": true,
        "execution": {
          "iopub.status.busy": "2025-01-30T16:05:45.301178Z",
          "iopub.execute_input": "2025-01-30T16:05:45.301441Z",
          "iopub.status.idle": "2025-01-30T16:05:45.310586Z",
          "shell.execute_reply.started": "2025-01-30T16:05:45.301414Z",
          "shell.execute_reply": "2025-01-30T16:05:45.309899Z"
        },
        "id": "UcEMlH8jLqiP",
        "outputId": "ededf34f-8586-4fb7-84d5-e5d12852ed54"
      },
      "outputs": [
        {
          "name": "stdout",
          "text": "[0 1]\n",
          "output_type": "stream"
        }
      ],
      "execution_count": null
    },
    {
      "cell_type": "code",
      "source": [
        "breast_data['train_images'][0].shape, breast_data['train_labels'][0].shape"
      ],
      "metadata": {
        "trusted": true,
        "execution": {
          "iopub.status.busy": "2025-01-30T16:05:45.311325Z",
          "iopub.execute_input": "2025-01-30T16:05:45.311628Z",
          "iopub.status.idle": "2025-01-30T16:05:45.33097Z",
          "shell.execute_reply.started": "2025-01-30T16:05:45.3116Z",
          "shell.execute_reply": "2025-01-30T16:05:45.330173Z"
        },
        "id": "-vy3ZaK-LqiP",
        "outputId": "cff3eec3-6870-405b-fcf3-e579dcaa107a"
      },
      "outputs": [
        {
          "execution_count": 20,
          "output_type": "execute_result",
          "data": {
            "text/plain": "((28, 28), (1,))"
          },
          "metadata": {}
        }
      ],
      "execution_count": null
    },
    {
      "cell_type": "code",
      "source": [
        "X_train_breast = breast_data['train_images']\n",
        "X_val_breast = breast_data['val_images']\n",
        "X_test_breast = breast_data['test_images']\n",
        "y_train_breast = breast_data['train_labels']\n",
        "y_val_breast = breast_data['val_labels']\n",
        "y_test_breast = breast_data['test_labels']"
      ],
      "metadata": {
        "trusted": true,
        "execution": {
          "iopub.status.busy": "2025-01-30T16:05:45.331687Z",
          "iopub.execute_input": "2025-01-30T16:05:45.331892Z",
          "iopub.status.idle": "2025-01-30T16:05:45.347687Z",
          "shell.execute_reply.started": "2025-01-30T16:05:45.331873Z",
          "shell.execute_reply": "2025-01-30T16:05:45.347083Z"
        },
        "id": "SkavDO9_LqiP"
      },
      "outputs": [],
      "execution_count": null
    },
    {
      "cell_type": "code",
      "source": [
        "import matplotlib.pyplot as plt\n",
        "sample_index = 1\n",
        "plt.imshow(X_train_breast[sample_index]);\n",
        "print(f\"Label: {y_train_breast[sample_index]}\")"
      ],
      "metadata": {
        "trusted": true,
        "execution": {
          "iopub.status.busy": "2025-01-30T16:05:45.348631Z",
          "iopub.execute_input": "2025-01-30T16:05:45.348993Z",
          "iopub.status.idle": "2025-01-30T16:05:45.508854Z",
          "shell.execute_reply.started": "2025-01-30T16:05:45.348965Z",
          "shell.execute_reply": "2025-01-30T16:05:45.507792Z"
        },
        "id": "wUlmpOE3LqiP",
        "outputId": "514eddf7-3e95-43ac-eb8f-d551d26ed833"
      },
      "outputs": [
        {
          "name": "stdout",
          "text": "Label: [1]\n",
          "output_type": "stream"
        },
        {
          "output_type": "display_data",
          "data": {
            "text/plain": "<Figure size 640x480 with 1 Axes>",
            "image/png": "[encoded data removed]"
          },
          "metadata": {}
        }
      ],
      "execution_count": null
    },
    {
      "cell_type": "code",
      "source": [
        "plt.figure(figsize=(7, 7))\n",
        "for i in range(4):\n",
        "  ax = plt.subplot(2, 2, i + 1)\n",
        "  rand_index = random.choice(range(len(X_train_breast)))\n",
        "  plt.imshow(X_train_breast[rand_index])\n",
        "  plt.title(y_train_breast[rand_index])\n",
        "  plt.axis(False)"
      ],
      "metadata": {
        "trusted": true,
        "execution": {
          "iopub.status.busy": "2025-01-30T16:05:45.51296Z",
          "iopub.execute_input": "2025-01-30T16:05:45.513175Z",
          "iopub.status.idle": "2025-01-30T16:05:45.799675Z",
          "shell.execute_reply.started": "2025-01-30T16:05:45.513156Z",
          "shell.execute_reply": "2025-01-30T16:05:45.798778Z"
        },
        "id": "csbYvfUWLqiQ",
        "outputId": "f052f2d0-2487-4dd5-bf19-616efbc56a97"
      },
      "outputs": [
        {
          "output_type": "display_data",
          "data": {
            "text/plain": "<Figure size 700x700 with 4 Axes>",
            "image/png": "[encoded data removed]"
          },
          "metadata": {}
        }
      ],
      "execution_count": null
    },
    {
      "cell_type": "code",
      "source": [
        "y_train_breast = np.array(y_train_breast).ravel()\n",
        "y_val_breast = np.array(y_val_breast).ravel()\n",
        "y_test_breast = np.array(y_test_breast).ravel()\n",
        "y_train_breast.shape, y_val_breast.shape, y_test_breast.shape"
      ],
      "metadata": {
        "trusted": true,
        "execution": {
          "iopub.status.busy": "2025-01-30T16:05:45.801782Z",
          "iopub.execute_input": "2025-01-30T16:05:45.802019Z",
          "iopub.status.idle": "2025-01-30T16:05:45.807755Z",
          "shell.execute_reply.started": "2025-01-30T16:05:45.801998Z",
          "shell.execute_reply": "2025-01-30T16:05:45.806951Z"
        },
        "id": "tc_dfOmDLqiQ",
        "outputId": "11b1eb7d-2d02-4187-d730-21ff2333a69b"
      },
      "outputs": [
        {
          "execution_count": 24,
          "output_type": "execute_result",
          "data": {
            "text/plain": "((546,), (78,), (156,))"
          },
          "metadata": {}
        }
      ],
      "execution_count": null
    },
    {
      "cell_type": "code",
      "source": [
        "X_train_breast = X_train_breast / 255\n",
        "X_test_breast = X_test_breast / 255\n",
        "X_val_breast = X_val_breast / 255\n",
        "X_train_breast.min(), X_train_breast.max()"
      ],
      "metadata": {
        "trusted": true,
        "execution": {
          "iopub.status.busy": "2025-01-30T16:05:45.808551Z",
          "iopub.execute_input": "2025-01-30T16:05:45.808741Z",
          "iopub.status.idle": "2025-01-30T16:05:45.8396Z",
          "shell.execute_reply.started": "2025-01-30T16:05:45.808724Z",
          "shell.execute_reply": "2025-01-30T16:05:45.838919Z"
        },
        "id": "av0iEqyoLqiR",
        "outputId": "7ef09a09-fa46-4cf5-9d6f-f7e827453bd1"
      },
      "outputs": [
        {
          "execution_count": 25,
          "output_type": "execute_result",
          "data": {
            "text/plain": "(0.0, 1.0)"
          },
          "metadata": {}
        }
      ],
      "execution_count": null
    },
    {
      "cell_type": "code",
      "source": [
        "# Adding dimension for grayscale\n",
        "import tensorflow as tf\n",
        "X_train_breast = tf.expand_dims(X_train_breast, axis=-1)\n",
        "X_test_breast = tf.expand_dims(X_test_breast, axis=-1)\n",
        "X_val_breast = tf.expand_dims(X_val_breast, axis=-1)"
      ],
      "metadata": {
        "trusted": true,
        "execution": {
          "iopub.status.busy": "2025-01-30T16:05:45.840464Z",
          "iopub.execute_input": "2025-01-30T16:05:45.84069Z",
          "iopub.status.idle": "2025-01-30T16:05:45.84969Z",
          "shell.execute_reply.started": "2025-01-30T16:05:45.84067Z",
          "shell.execute_reply": "2025-01-30T16:05:45.848971Z"
        },
        "id": "giZ3Xw3tLqiR"
      },
      "outputs": [],
      "execution_count": null
    },
    {
      "cell_type": "code",
      "source": [
        "X_train_breast.shape, X_test_breast.shape, X_val_breast.shape"
      ],
      "metadata": {
        "trusted": true,
        "execution": {
          "iopub.status.busy": "2025-01-30T16:05:45.850389Z",
          "iopub.execute_input": "2025-01-30T16:05:45.850589Z",
          "iopub.status.idle": "2025-01-30T16:05:45.86321Z",
          "shell.execute_reply.started": "2025-01-30T16:05:45.850571Z",
          "shell.execute_reply": "2025-01-30T16:05:45.862365Z"
        },
        "id": "mkSt2ip-LqiR",
        "outputId": "f9557d58-36b0-4781-8ead-ed1ef8dc5bf4"
      },
      "outputs": [
        {
          "execution_count": 27,
          "output_type": "execute_result",
          "data": {
            "text/plain": "(TensorShape([546, 28, 28, 1]),\n TensorShape([156, 28, 28, 1]),\n TensorShape([78, 28, 28, 1]))"
          },
          "metadata": {}
        }
      ],
      "execution_count": null
    },
    {
      "cell_type": "code",
      "source": [
        "model_1 = Sequential()\n",
        "\n",
        "model_1.add(Conv2D(40, (3, 3), activation='relu', input_shape=(28, 28, 1)))\n",
        "model_1.add(MaxPooling2D(pool_size=(2, 2)))\n",
        "\n",
        "model_1.add(Conv2D(48, (3, 3), activation='relu'))\n",
        "model_1.add(MaxPooling2D(pool_size=(2, 2)))\n",
        "model_1 = Sequential()\n",
        "\n",
        "model_1.add(Flatten())\n",
        "model_1.add(Dense(88, activation='leaky_relu'))\n",
        "model_1.add(Dropout(0.25))\n",
        "model_1.add(Dense(88, activation='leaky_relu'))\n",
        "model_1.add(Dense(64, activation='leaky_relu'))\n",
        "model_1.add(Dense(1, activation='sigmoid'))\n",
        "\n",
        "model_1.compile(optimizer='adam', loss='binary_crossentropy', metrics=['accuracy'])\n",
        "model_1.summary()\n",
        "\n",
        "early_stopping = EarlyStopping(\n",
        "    monitor='val_loss',\n",
        "    patience=10,\n",
        "    restore_best_weights=True\n",
        ")\n",
        "\n",
        "history_1 = model_1.fit(X_train_breast,\n",
        "                        y_train_breast,\n",
        "                        epochs=150,\n",
        "                        verbose=True,\n",
        "                        validation_data=(X_val_breast, y_val_breast),\n",
        "                        callbacks=[early_stopping])"
      ],
      "metadata": {
        "trusted": true,
        "execution": {
          "iopub.status.busy": "2025-01-30T16:05:45.863982Z",
          "iopub.execute_input": "2025-01-30T16:05:45.864221Z",
          "iopub.status.idle": "2025-01-30T16:05:52.226836Z",
          "shell.execute_reply.started": "2025-01-30T16:05:45.864192Z",
          "shell.execute_reply": "2025-01-30T16:05:52.226161Z"
        },
        "id": "GR_TbgCwLqiR",
        "outputId": "b0836836-a7cd-46f7-860d-23e7371ab948"
      },
      "outputs": [
        {
          "name": "stderr",
          "text": "/usr/local/lib/python3.10/dist-packages/keras/src/layers/convolutional/base_conv.py:107: UserWarning: Do not pass an `input_shape`/`input_dim` argument to a layer. When using Sequential models, prefer using an `Input(shape)` object as the first layer in the model instead.\n  super().__init__(activity_regularizer=activity_regularizer, **kwargs)\n",
          "output_type": "stream"
        },
        {
          "output_type": "display_data",
          "data": {
            "text/plain": "\u001b[1mModel: \"sequential_4\"\u001b[0m\n",
            "text/html": "<pre style=\"white-space:pre;overflow-x:auto;line-height:normal;font-family:Menlo,'DejaVu Sans Mono',consolas,'Courier New',monospace\"><span style=\"font-weight: bold\">Model: \"sequential_4\"</span>\n</pre>\n"
          },
          "metadata": {}
        },
        {
          "output_type": "display_data",
          "data": {
            "text/plain": "┏━━━━━━━━━━━━━━━━━━━━━━━━━━━━━━━━━━━━━━┳━━━━━━━━━━━━━━━━━━━━━━━━━━━━━┳━━━━━━━━━━━━━━━━━┓\n┃\u001b[1m \u001b[0m\u001b[1mLayer (type)                        \u001b[0m\u001b[1m \u001b[0m┃\u001b[1m \u001b[0m\u001b[1mOutput Shape               \u001b[0m\u001b[1m \u001b[0m┃\u001b[1m \u001b[0m\u001b[1m        Param #\u001b[0m\u001b[1m \u001b[0m┃\n┡━━━━━━━━━━━━━━━━━━━━━━━━━━━━━━━━━━━━━━╇━━━━━━━━━━━━━━━━━━━━━━━━━━━━━╇━━━━━━━━━━━━━━━━━┩\n│ flatten_2 (\u001b[38;5;33mFlatten\u001b[0m)                  │ ?                           │     \u001b[38;5;34m0\u001b[0m (unbuilt) │\n├──────────────────────────────────────┼─────────────────────────────┼─────────────────┤\n│ dense_8 (\u001b[38;5;33mDense\u001b[0m)                      │ ?                           │     \u001b[38;5;34m0\u001b[0m (unbuilt) │\n├──────────────────────────────────────┼─────────────────────────────┼─────────────────┤\n│ dropout_2 (\u001b[38;5;33mDropout\u001b[0m)                  │ ?                           │     \u001b[38;5;34m0\u001b[0m (unbuilt) │\n├──────────────────────────────────────┼─────────────────────────────┼─────────────────┤\n│ dense_9 (\u001b[38;5;33mDense\u001b[0m)                      │ ?                           │     \u001b[38;5;34m0\u001b[0m (unbuilt) │\n├──────────────────────────────────────┼─────────────────────────────┼─────────────────┤\n│ dense_10 (\u001b[38;5;33mDense\u001b[0m)                     │ ?                           │     \u001b[38;5;34m0\u001b[0m (unbuilt) │\n├──────────────────────────────────────┼─────────────────────────────┼─────────────────┤\n│ dense_11 (\u001b[38;5;33mDense\u001b[0m)                     │ ?                           │     \u001b[38;5;34m0\u001b[0m (unbuilt) │\n└──────────────────────────────────────┴─────────────────────────────┴─────────────────┘\n",
            "text/html": "<pre style=\"white-space:pre;overflow-x:auto;line-height:normal;font-family:Menlo,'DejaVu Sans Mono',consolas,'Courier New',monospace\">┏━━━━━━━━━━━━━━━━━━━━━━━━━━━━━━━━━━━━━━┳━━━━━━━━━━━━━━━━━━━━━━━━━━━━━┳━━━━━━━━━━━━━━━━━┓\n┃<span style=\"font-weight: bold\"> Layer (type)                         </span>┃<span style=\"font-weight: bold\"> Output Shape                </span>┃<span style=\"font-weight: bold\">         Param # </span>┃\n┡━━━━━━━━━━━━━━━━━━━━━━━━━━━━━━━━━━━━━━╇━━━━━━━━━━━━━━━━━━━━━━━━━━━━━╇━━━━━━━━━━━━━━━━━┩\n│ flatten_2 (<span style=\"color: #0087ff; text-decoration-color: #0087ff\">Flatten</span>)                  │ ?                           │     <span style=\"color: #00af00; text-decoration-color: #00af00\">0</span> (unbuilt) │\n├──────────────────────────────────────┼─────────────────────────────┼─────────────────┤\n│ dense_8 (<span style=\"color: #0087ff; text-decoration-color: #0087ff\">Dense</span>)                      │ ?                           │     <span style=\"color: #00af00; text-decoration-color: #00af00\">0</span> (unbuilt) │\n├──────────────────────────────────────┼─────────────────────────────┼─────────────────┤\n│ dropout_2 (<span style=\"color: #0087ff; text-decoration-color: #0087ff\">Dropout</span>)                  │ ?                           │     <span style=\"color: #00af00; text-decoration-color: #00af00\">0</span> (unbuilt) │\n├──────────────────────────────────────┼─────────────────────────────┼─────────────────┤\n│ dense_9 (<span style=\"color: #0087ff; text-decoration-color: #0087ff\">Dense</span>)                      │ ?                           │     <span style=\"color: #00af00; text-decoration-color: #00af00\">0</span> (unbuilt) │\n├──────────────────────────────────────┼─────────────────────────────┼─────────────────┤\n│ dense_10 (<span style=\"color: #0087ff; text-decoration-color: #0087ff\">Dense</span>)                     │ ?                           │     <span style=\"color: #00af00; text-decoration-color: #00af00\">0</span> (unbuilt) │\n├──────────────────────────────────────┼─────────────────────────────┼─────────────────┤\n│ dense_11 (<span style=\"color: #0087ff; text-decoration-color: #0087ff\">Dense</span>)                     │ ?                           │     <span style=\"color: #00af00; text-decoration-color: #00af00\">0</span> (unbuilt) │\n└──────────────────────────────────────┴─────────────────────────────┴─────────────────┘\n</pre>\n"
          },
          "metadata": {}
        },
        {
          "output_type": "display_data",
          "data": {
            "text/plain": "\u001b[1m Total params: \u001b[0m\u001b[38;5;34m0\u001b[0m (0.00 B)\n",
            "text/html": "<pre style=\"white-space:pre;overflow-x:auto;line-height:normal;font-family:Menlo,'DejaVu Sans Mono',consolas,'Courier New',monospace\"><span style=\"font-weight: bold\"> Total params: </span><span style=\"color: #00af00; text-decoration-color: #00af00\">0</span> (0.00 B)\n</pre>\n"
          },
          "metadata": {}
        },
        {
          "output_type": "display_data",
          "data": {
            "text/plain": "\u001b[1m Trainable params: \u001b[0m\u001b[38;5;34m0\u001b[0m (0.00 B)\n",
            "text/html": "<pre style=\"white-space:pre;overflow-x:auto;line-height:normal;font-family:Menlo,'DejaVu Sans Mono',consolas,'Courier New',monospace\"><span style=\"font-weight: bold\"> Trainable params: </span><span style=\"color: #00af00; text-decoration-color: #00af00\">0</span> (0.00 B)\n</pre>\n"
          },
          "metadata": {}
        },
        {
          "output_type": "display_data",
          "data": {
            "text/plain": "\u001b[1m Non-trainable params: \u001b[0m\u001b[38;5;34m0\u001b[0m (0.00 B)\n",
            "text/html": "<pre style=\"white-space:pre;overflow-x:auto;line-height:normal;font-family:Menlo,'DejaVu Sans Mono',consolas,'Courier New',monospace\"><span style=\"font-weight: bold\"> Non-trainable params: </span><span style=\"color: #00af00; text-decoration-color: #00af00\">0</span> (0.00 B)\n</pre>\n"
          },
          "metadata": {}
        },
        {
          "name": "stdout",
          "text": "Epoch 1/150\n\u001b[1m18/18\u001b[0m \u001b[32m━━━━━━━━━━━━━━━━━━━━\u001b[0m\u001b[37m\u001b[0m \u001b[1m4s\u001b[0m 102ms/step - accuracy: 0.7119 - loss: 0.5875 - val_accuracy: 0.7436 - val_loss: 0.5632\nEpoch 2/150\n\u001b[1m18/18\u001b[0m \u001b[32m━━━━━━━━━━━━━━━━━━━━\u001b[0m\u001b[37m\u001b[0m \u001b[1m0s\u001b[0m 3ms/step - accuracy: 0.7450 - loss: 0.5362 - val_accuracy: 0.7692 - val_loss: 0.4944\nEpoch 3/150\n\u001b[1m18/18\u001b[0m \u001b[32m━━━━━━━━━━━━━━━━━━━━\u001b[0m\u001b[37m\u001b[0m \u001b[1m0s\u001b[0m 3ms/step - accuracy: 0.7615 - loss: 0.5094 - val_accuracy: 0.7949 - val_loss: 0.4789\nEpoch 4/150\n\u001b[1m18/18\u001b[0m \u001b[32m━━━━━━━━━━━━━━━━━━━━\u001b[0m\u001b[37m\u001b[0m \u001b[1m0s\u001b[0m 3ms/step - accuracy: 0.7819 - loss: 0.4858 - val_accuracy: 0.7821 - val_loss: 0.4784\nEpoch 5/150\n\u001b[1m18/18\u001b[0m \u001b[32m━━━━━━━━━━━━━━━━━━━━\u001b[0m\u001b[37m\u001b[0m \u001b[1m0s\u001b[0m 3ms/step - accuracy: 0.7720 - loss: 0.4823 - val_accuracy: 0.8333 - val_loss: 0.4741\nEpoch 6/150\n\u001b[1m18/18\u001b[0m \u001b[32m━━━━━━━━━━━━━━━━━━━━\u001b[0m\u001b[37m\u001b[0m \u001b[1m0s\u001b[0m 3ms/step - accuracy: 0.8020 - loss: 0.4848 - val_accuracy: 0.8077 - val_loss: 0.4622\nEpoch 7/150\n\u001b[1m18/18\u001b[0m \u001b[32m━━━━━━━━━━━━━━━━━━━━\u001b[0m\u001b[37m\u001b[0m \u001b[1m0s\u001b[0m 3ms/step - accuracy: 0.7786 - loss: 0.4929 - val_accuracy: 0.8077 - val_loss: 0.4866\nEpoch 8/150\n\u001b[1m18/18\u001b[0m \u001b[32m━━━━━━━━━━━━━━━━━━━━\u001b[0m\u001b[37m\u001b[0m \u001b[1m0s\u001b[0m 3ms/step - accuracy: 0.7793 - loss: 0.4890 - val_accuracy: 0.7564 - val_loss: 0.4998\nEpoch 9/150\n\u001b[1m18/18\u001b[0m \u001b[32m━━━━━━━━━━━━━━━━━━━━\u001b[0m\u001b[37m\u001b[0m \u001b[1m0s\u001b[0m 3ms/step - accuracy: 0.7670 - loss: 0.5042 - val_accuracy: 0.8333 - val_loss: 0.4373\nEpoch 10/150\n\u001b[1m18/18\u001b[0m \u001b[32m━━━━━━━━━━━━━━━━━━━━\u001b[0m\u001b[37m\u001b[0m \u001b[1m0s\u001b[0m 3ms/step - accuracy: 0.7912 - loss: 0.4544 - val_accuracy: 0.8205 - val_loss: 0.4762\nEpoch 11/150\n\u001b[1m18/18\u001b[0m \u001b[32m━━━━━━━━━━━━━━━━━━━━\u001b[0m\u001b[37m\u001b[0m \u001b[1m0s\u001b[0m 3ms/step - accuracy: 0.7911 - loss: 0.4567 - val_accuracy: 0.8077 - val_loss: 0.4538\nEpoch 12/150\n\u001b[1m18/18\u001b[0m \u001b[32m━━━━━━━━━━━━━━━━━━━━\u001b[0m\u001b[37m\u001b[0m \u001b[1m0s\u001b[0m 3ms/step - accuracy: 0.7627 - loss: 0.4893 - val_accuracy: 0.8462 - val_loss: 0.4564\nEpoch 13/150\n\u001b[1m18/18\u001b[0m \u001b[32m━━━━━━━━━━━━━━━━━━━━\u001b[0m\u001b[37m\u001b[0m \u001b[1m0s\u001b[0m 3ms/step - accuracy: 0.8130 - loss: 0.4802 - val_accuracy: 0.8462 - val_loss: 0.4210\nEpoch 14/150\n\u001b[1m18/18\u001b[0m \u001b[32m━━━━━━━━━━━━━━━━━━━━\u001b[0m\u001b[37m\u001b[0m \u001b[1m0s\u001b[0m 3ms/step - accuracy: 0.7570 - loss: 0.4978 - val_accuracy: 0.8590 - val_loss: 0.4224\nEpoch 15/150\n\u001b[1m18/18\u001b[0m \u001b[32m━━━━━━━━━━━━━━━━━━━━\u001b[0m\u001b[37m\u001b[0m \u001b[1m0s\u001b[0m 3ms/step - accuracy: 0.7543 - loss: 0.4731 - val_accuracy: 0.8077 - val_loss: 0.4564\nEpoch 16/150\n\u001b[1m18/18\u001b[0m \u001b[32m━━━━━━━━━━━━━━━━━━━━\u001b[0m\u001b[37m\u001b[0m \u001b[1m0s\u001b[0m 3ms/step - accuracy: 0.7763 - loss: 0.4833 - val_accuracy: 0.8846 - val_loss: 0.3948\nEpoch 17/150\n\u001b[1m18/18\u001b[0m \u001b[32m━━━━━━━━━━━━━━━━━━━━\u001b[0m\u001b[37m\u001b[0m \u001b[1m0s\u001b[0m 3ms/step - accuracy: 0.7793 - loss: 0.4827 - val_accuracy: 0.8846 - val_loss: 0.4043\nEpoch 18/150\n\u001b[1m18/18\u001b[0m \u001b[32m━━━━━━━━━━━━━━━━━━━━\u001b[0m\u001b[37m\u001b[0m \u001b[1m0s\u001b[0m 3ms/step - accuracy: 0.8120 - loss: 0.4453 - val_accuracy: 0.8333 - val_loss: 0.4313\nEpoch 19/150\n\u001b[1m18/18\u001b[0m \u001b[32m━━━━━━━━━━━━━━━━━━━━\u001b[0m\u001b[37m\u001b[0m \u001b[1m0s\u001b[0m 3ms/step - accuracy: 0.8054 - loss: 0.4226 - val_accuracy: 0.8077 - val_loss: 0.4886\nEpoch 20/150\n\u001b[1m18/18\u001b[0m \u001b[32m━━━━━━━━━━━━━━━━━━━━\u001b[0m\u001b[37m\u001b[0m \u001b[1m0s\u001b[0m 3ms/step - accuracy: 0.7869 - loss: 0.5062 - val_accuracy: 0.8333 - val_loss: 0.4570\nEpoch 21/150\n\u001b[1m18/18\u001b[0m \u001b[32m━━━━━━━━━━━━━━━━━━━━\u001b[0m\u001b[37m\u001b[0m \u001b[1m0s\u001b[0m 3ms/step - accuracy: 0.7929 - loss: 0.4646 - val_accuracy: 0.8718 - val_loss: 0.4012\nEpoch 22/150\n\u001b[1m18/18\u001b[0m \u001b[32m━━━━━━━━━━━━━━━━━━━━\u001b[0m\u001b[37m\u001b[0m \u001b[1m0s\u001b[0m 3ms/step - accuracy: 0.8459 - loss: 0.3786 - val_accuracy: 0.8846 - val_loss: 0.4267\nEpoch 23/150\n\u001b[1m18/18\u001b[0m \u001b[32m━━━━━━━━━━━━━━━━━━━━\u001b[0m\u001b[37m\u001b[0m \u001b[1m0s\u001b[0m 3ms/step - accuracy: 0.7922 - loss: 0.4421 - val_accuracy: 0.8846 - val_loss: 0.4112\nEpoch 24/150\n\u001b[1m18/18\u001b[0m \u001b[32m━━━━━━━━━━━━━━━━━━━━\u001b[0m\u001b[37m\u001b[0m \u001b[1m0s\u001b[0m 3ms/step - accuracy: 0.8100 - loss: 0.4239 - val_accuracy: 0.8718 - val_loss: 0.3920\nEpoch 25/150\n\u001b[1m18/18\u001b[0m \u001b[32m━━━━━━━━━━━━━━━━━━━━\u001b[0m\u001b[37m\u001b[0m \u001b[1m0s\u001b[0m 3ms/step - accuracy: 0.8223 - loss: 0.4217 - val_accuracy: 0.8846 - val_loss: 0.3823\nEpoch 26/150\n\u001b[1m18/18\u001b[0m \u001b[32m━━━━━━━━━━━━━━━━━━━━\u001b[0m\u001b[37m\u001b[0m \u001b[1m0s\u001b[0m 3ms/step - accuracy: 0.8349 - loss: 0.3877 - val_accuracy: 0.8077 - val_loss: 0.4140\nEpoch 27/150\n\u001b[1m18/18\u001b[0m \u001b[32m━━━━━━━━━━━━━━━━━━━━\u001b[0m\u001b[37m\u001b[0m \u001b[1m0s\u001b[0m 3ms/step - accuracy: 0.8151 - loss: 0.4465 - val_accuracy: 0.8333 - val_loss: 0.4215\nEpoch 28/150\n\u001b[1m18/18\u001b[0m \u001b[32m━━━━━━━━━━━━━━━━━━━━\u001b[0m\u001b[37m\u001b[0m \u001b[1m0s\u001b[0m 3ms/step - accuracy: 0.8302 - loss: 0.4180 - val_accuracy: 0.8974 - val_loss: 0.3958\nEpoch 29/150\n\u001b[1m18/18\u001b[0m \u001b[32m━━━━━━━━━━━━━━━━━━━━\u001b[0m\u001b[37m\u001b[0m \u001b[1m0s\u001b[0m 3ms/step - accuracy: 0.7927 - loss: 0.4152 - val_accuracy: 0.6538 - val_loss: 0.5338\nEpoch 30/150\n\u001b[1m18/18\u001b[0m \u001b[32m━━━━━━━━━━━━━━━━━━━━\u001b[0m\u001b[37m\u001b[0m \u001b[1m0s\u001b[0m 3ms/step - accuracy: 0.7082 - loss: 0.5495 - val_accuracy: 0.8590 - val_loss: 0.4197\nEpoch 31/150\n\u001b[1m18/18\u001b[0m \u001b[32m━━━━━━━━━━━━━━━━━━━━\u001b[0m\u001b[37m\u001b[0m \u001b[1m0s\u001b[0m 3ms/step - accuracy: 0.8214 - loss: 0.4050 - val_accuracy: 0.8590 - val_loss: 0.3919\nEpoch 32/150\n\u001b[1m18/18\u001b[0m \u001b[32m━━━━━━━━━━━━━━━━━━━━\u001b[0m\u001b[37m\u001b[0m \u001b[1m0s\u001b[0m 3ms/step - accuracy: 0.8017 - loss: 0.4313 - val_accuracy: 0.8718 - val_loss: 0.4081\nEpoch 33/150\n\u001b[1m18/18\u001b[0m \u001b[32m━━━━━━━━━━━━━━━━━━━━\u001b[0m\u001b[37m\u001b[0m \u001b[1m0s\u001b[0m 3ms/step - accuracy: 0.7947 - loss: 0.4204 - val_accuracy: 0.8205 - val_loss: 0.4412\nEpoch 34/150\n\u001b[1m18/18\u001b[0m \u001b[32m━━━━━━━━━━━━━━━━━━━━\u001b[0m\u001b[37m\u001b[0m \u001b[1m0s\u001b[0m 3ms/step - accuracy: 0.8286 - loss: 0.4045 - val_accuracy: 0.8333 - val_loss: 0.4407\nEpoch 35/150\n\u001b[1m18/18\u001b[0m \u001b[32m━━━━━━━━━━━━━━━━━━━━\u001b[0m\u001b[37m\u001b[0m \u001b[1m0s\u001b[0m 3ms/step - accuracy: 0.8546 - loss: 0.3891 - val_accuracy: 0.8462 - val_loss: 0.4222\n",
          "output_type": "stream"
        }
      ],
      "execution_count": null
    },
    {
      "cell_type": "code",
      "source": [
        "loss, accuracy = model_1.evaluate(X_test_breast, y_test_breast)\n",
        "y_preds_breast = model_1.predict(X_test_breast)\n",
        "y_preds_breast = (y_preds_breast > .5).astype(int)\n",
        "print(f\"Model loss on test set: {loss}\")\n",
        "print(f\"Model accuracy on test set: {(accuracy*100):.2f}%\")\n",
        "print(\"-------------------------------------------------------\")\n",
        "print(classification_report(y_test_breast, y_preds_breast))"
      ],
      "metadata": {
        "trusted": true,
        "execution": {
          "iopub.status.busy": "2025-01-30T16:05:52.22775Z",
          "iopub.execute_input": "2025-01-30T16:05:52.227969Z",
          "iopub.status.idle": "2025-01-30T16:05:52.934318Z",
          "shell.execute_reply.started": "2025-01-30T16:05:52.22795Z",
          "shell.execute_reply": "2025-01-30T16:05:52.933596Z"
        },
        "id": "XWJRf3HxLqiS",
        "outputId": "2d5c4064-ab83-4d8c-ceec-0443f03ae9bd"
      },
      "outputs": [
        {
          "name": "stdout",
          "text": "\u001b[1m5/5\u001b[0m \u001b[32m━━━━━━━━━━━━━━━━━━━━\u001b[0m\u001b[37m\u001b[0m \u001b[1m0s\u001b[0m 55ms/step - accuracy: 0.7819 - loss: 0.4413\n\u001b[1m5/5\u001b[0m \u001b[32m━━━━━━━━━━━━━━━━━━━━\u001b[0m\u001b[37m\u001b[0m \u001b[1m0s\u001b[0m 45ms/step\nModel loss on test set: 0.4453999102115631\nModel accuracy on test set: 80.13%\n-------------------------------------------------------\n              precision    recall  f1-score   support\n\n           0       0.68      0.50      0.58        42\n           1       0.83      0.91      0.87       114\n\n    accuracy                           0.80       156\n   macro avg       0.75      0.71      0.72       156\nweighted avg       0.79      0.80      0.79       156\n\n",
          "output_type": "stream"
        }
      ],
      "execution_count": null
    },
    {
      "cell_type": "code",
      "source": [
        "np.save('/kaggle/working/y_preds_breast.npy', y_preds_breast)"
      ],
      "metadata": {
        "trusted": true,
        "execution": {
          "iopub.status.busy": "2025-01-30T16:05:52.935211Z",
          "iopub.execute_input": "2025-01-30T16:05:52.935522Z",
          "iopub.status.idle": "2025-01-30T16:05:52.939225Z",
          "shell.execute_reply.started": "2025-01-30T16:05:52.935493Z",
          "shell.execute_reply": "2025-01-30T16:05:52.938536Z"
        },
        "id": "mznAh4u6LqiS"
      },
      "outputs": [],
      "execution_count": null
    },
    {
      "cell_type": "markdown",
      "source": [
        "## Derma Data"
      ],
      "metadata": {
        "id": "NbrRBfc2LqiS"
      }
    },
    {
      "cell_type": "code",
      "source": [
        "derma_data = np.load('/kaggle/input/tensor-reloaded-multi-task-med-mnist/data/dermamnist.npz')\n",
        "print(len(derma_data))\n",
        "derma_data.files"
      ],
      "metadata": {
        "trusted": true,
        "execution": {
          "iopub.status.busy": "2025-01-30T16:05:52.940006Z",
          "iopub.execute_input": "2025-01-30T16:05:52.940271Z",
          "iopub.status.idle": "2025-01-30T16:05:53.013051Z",
          "shell.execute_reply.started": "2025-01-30T16:05:52.940233Z",
          "shell.execute_reply": "2025-01-30T16:05:53.012253Z"
        },
        "id": "HoOMSJryLqiS",
        "outputId": "a756f211-1d30-4eff-9d87-666cffa46b10"
      },
      "outputs": [
        {
          "name": "stdout",
          "text": "6\n",
          "output_type": "stream"
        },
        {
          "execution_count": 31,
          "output_type": "execute_result",
          "data": {
            "text/plain": "['train_images',\n 'val_images',\n 'test_images',\n 'train_labels',\n 'val_labels',\n 'test_labels']"
          },
          "metadata": {}
        }
      ],
      "execution_count": null
    },
    {
      "cell_type": "code",
      "source": [
        "print(derma_data['train_images'].shape)\n",
        "print(derma_data['val_images'].shape)\n",
        "print(derma_data['test_images'].shape)\n",
        "print(derma_data['train_labels'].shape)\n",
        "print(derma_data['val_labels'].shape)\n",
        "print(derma_data['test_labels'].shape)"
      ],
      "metadata": {
        "trusted": true,
        "execution": {
          "iopub.status.busy": "2025-01-30T16:05:53.013905Z",
          "iopub.execute_input": "2025-01-30T16:05:53.014139Z",
          "iopub.status.idle": "2025-01-30T16:05:53.533624Z",
          "shell.execute_reply.started": "2025-01-30T16:05:53.014111Z",
          "shell.execute_reply": "2025-01-30T16:05:53.532734Z"
        },
        "id": "A19MwMD4LqiS",
        "outputId": "8317645f-227d-4542-98e9-53d0d7996b9f"
      },
      "outputs": [
        {
          "name": "stdout",
          "text": "(7007, 28, 28, 3)\n(1003, 28, 28, 3)\n(2005, 28, 28, 3)\n(7007, 1)\n(1003, 1)\n(2005, 1)\n",
          "output_type": "stream"
        }
      ],
      "execution_count": null
    },
    {
      "cell_type": "code",
      "source": [
        "X_train_derma = derma_data['train_images']\n",
        "X_val_derma = derma_data['val_images']\n",
        "X_test_derma = derma_data['test_images']\n",
        "y_train_derma = derma_data['train_labels']\n",
        "y_val_derma = derma_data['val_labels']\n",
        "y_test_derma = derma_data['test_labels']\n",
        "X_train_derma.shape, y_train_derma.shape"
      ],
      "metadata": {
        "trusted": true,
        "execution": {
          "iopub.status.busy": "2025-01-30T16:05:53.534622Z",
          "iopub.execute_input": "2025-01-30T16:05:53.534951Z",
          "iopub.status.idle": "2025-01-30T16:05:53.711478Z",
          "shell.execute_reply.started": "2025-01-30T16:05:53.534918Z",
          "shell.execute_reply": "2025-01-30T16:05:53.710767Z"
        },
        "id": "Jyc4mcsTLqiS",
        "outputId": "9a518c5f-b5e8-4908-911b-4296ebb60793"
      },
      "outputs": [
        {
          "execution_count": 33,
          "output_type": "execute_result",
          "data": {
            "text/plain": "((7007, 28, 28, 3), (7007, 1))"
          },
          "metadata": {}
        }
      ],
      "execution_count": null
    },
    {
      "cell_type": "code",
      "source": [
        "# Unique Labels\n",
        "unique_derma = np.unique(derma_data['train_labels'])\n",
        "print(unique_derma)"
      ],
      "metadata": {
        "trusted": true,
        "execution": {
          "iopub.status.busy": "2025-01-30T16:05:53.712219Z",
          "iopub.execute_input": "2025-01-30T16:05:53.712515Z",
          "iopub.status.idle": "2025-01-30T16:05:53.717407Z",
          "shell.execute_reply.started": "2025-01-30T16:05:53.71248Z",
          "shell.execute_reply": "2025-01-30T16:05:53.716694Z"
        },
        "id": "rPNgLechLqiY",
        "outputId": "28a485a8-441c-4a41-a0c4-e66b22da72b2"
      },
      "outputs": [
        {
          "name": "stdout",
          "text": "[0 1 2 3 4 5 6]\n",
          "output_type": "stream"
        }
      ],
      "execution_count": null
    },
    {
      "cell_type": "code",
      "source": [
        "import matplotlib.pyplot as plt\n",
        "sample_index = 1\n",
        "plt.imshow(X_train_derma[sample_index]);\n",
        "print(f\"Label: {y_train_derma[sample_index]}\")"
      ],
      "metadata": {
        "trusted": true,
        "execution": {
          "iopub.status.busy": "2025-01-30T16:05:53.71815Z",
          "iopub.execute_input": "2025-01-30T16:05:53.718339Z",
          "iopub.status.idle": "2025-01-30T16:05:53.872848Z",
          "shell.execute_reply.started": "2025-01-30T16:05:53.718322Z",
          "shell.execute_reply": "2025-01-30T16:05:53.872146Z"
        },
        "id": "kkGa9qHtLqiY",
        "outputId": "c11342f2-0dfa-49d8-e518-2f87c5cc5014"
      },
      "outputs": [
        {
          "name": "stdout",
          "text": "Label: [5]\n",
          "output_type": "stream"
        },
        {
          "output_type": "display_data",
          "data": {
            "text/plain": "<Figure size 640x480 with 1 Axes>",
            "image/png": "[encoded data removed]"
          },
          "metadata": {}
        }
      ],
      "execution_count": null
    },
    {
      "cell_type": "code",
      "source": [
        "import random\n",
        "plt.figure(figsize=(7, 7))\n",
        "for i in range(4):\n",
        "  ax = plt.subplot(2, 2, i + 1)\n",
        "  rand_index = random.choice(range(len(X_train_derma)))\n",
        "  plt.imshow(X_train_derma[rand_index])\n",
        "  plt.title(y_train_derma[rand_index])\n",
        "  plt.axis(False)"
      ],
      "metadata": {
        "trusted": true,
        "execution": {
          "iopub.status.busy": "2025-01-30T16:05:53.873685Z",
          "iopub.execute_input": "2025-01-30T16:05:53.873927Z",
          "iopub.status.idle": "2025-01-30T16:05:54.151695Z",
          "shell.execute_reply.started": "2025-01-30T16:05:53.873892Z",
          "shell.execute_reply": "2025-01-30T16:05:54.150744Z"
        },
        "id": "XmxNYG0aLqiY",
        "outputId": "addd173d-ad88-43e1-ad75-bda7b0096094"
      },
      "outputs": [
        {
          "output_type": "display_data",
          "data": {
            "text/plain": "<Figure size 700x700 with 4 Axes>",
            "image/png": "[encoded data removed]"
          },
          "metadata": {}
        }
      ],
      "execution_count": null
    },
    {
      "cell_type": "code",
      "source": [
        "y_train_derma = np.array(y_train_derma).ravel()\n",
        "y_val_derma = np.array(y_val_derma).ravel()\n",
        "y_test_derma = np.array(y_test_derma).ravel()\n",
        "y_train_derma, y_val_derma, y_test_derma"
      ],
      "metadata": {
        "trusted": true,
        "execution": {
          "iopub.status.busy": "2025-01-30T16:05:54.152575Z",
          "iopub.execute_input": "2025-01-30T16:05:54.152857Z",
          "iopub.status.idle": "2025-01-30T16:05:54.158992Z",
          "shell.execute_reply.started": "2025-01-30T16:05:54.152834Z",
          "shell.execute_reply": "2025-01-30T16:05:54.158265Z"
        },
        "id": "OjUDATOjLqiZ",
        "outputId": "cf628ab4-bb51-4e19-d12d-6a1c92ffca12"
      },
      "outputs": [
        {
          "execution_count": 37,
          "output_type": "execute_result",
          "data": {
            "text/plain": "(array([0, 5, 5, ..., 2, 5, 5], dtype=uint8),\n array([5, 5, 5, ..., 2, 5, 5], dtype=uint8),\n array([5, 3, 4, ..., 5, 5, 5], dtype=uint8))"
          },
          "metadata": {}
        }
      ],
      "execution_count": null
    },
    {
      "cell_type": "code",
      "source": [
        "X_train_derma = X_train_derma / 255\n",
        "X_test_derma = X_test_derma / 255\n",
        "X_val_derma = X_val_derma / 255\n",
        "X_train_derma.min(), X_train_derma.max()"
      ],
      "metadata": {
        "trusted": true,
        "execution": {
          "iopub.status.busy": "2025-01-30T16:05:54.159889Z",
          "iopub.execute_input": "2025-01-30T16:05:54.16017Z",
          "iopub.status.idle": "2025-01-30T16:05:54.268677Z",
          "shell.execute_reply.started": "2025-01-30T16:05:54.160135Z",
          "shell.execute_reply": "2025-01-30T16:05:54.267813Z"
        },
        "id": "oPpLIg5DLqiZ",
        "outputId": "a5729ff2-9724-42ea-ce63-6090239e1e4f"
      },
      "outputs": [
        {
          "execution_count": 38,
          "output_type": "execute_result",
          "data": {
            "text/plain": "(0.0, 1.0)"
          },
          "metadata": {}
        }
      ],
      "execution_count": null
    },
    {
      "cell_type": "code",
      "source": [
        "X_train_derma.shape, X_test_derma.shape, X_val_derma.shape"
      ],
      "metadata": {
        "trusted": true,
        "execution": {
          "iopub.status.busy": "2025-01-30T16:05:54.269585Z",
          "iopub.execute_input": "2025-01-30T16:05:54.26986Z",
          "iopub.status.idle": "2025-01-30T16:05:54.274748Z",
          "shell.execute_reply.started": "2025-01-30T16:05:54.269838Z",
          "shell.execute_reply": "2025-01-30T16:05:54.274033Z"
        },
        "id": "aSLq_ct0LqiZ",
        "outputId": "3fe65a78-4232-47e4-8091-5654ed0c5bef"
      },
      "outputs": [
        {
          "execution_count": 39,
          "output_type": "execute_result",
          "data": {
            "text/plain": "((7007, 28, 28, 3), (2005, 28, 28, 3), (1003, 28, 28, 3))"
          },
          "metadata": {}
        }
      ],
      "execution_count": null
    },
    {
      "cell_type": "code",
      "source": [
        "from tensorflow.keras.models import Sequential\n",
        "from tensorflow.keras.layers import Conv2D, MaxPooling2D, Flatten, Dense, Dropout\n",
        "from tensorflow.keras.optimizers import Adam\n",
        "\n",
        "model_3 = Sequential()\n",
        "\n",
        "model_3.add(Conv2D(40, (3, 3), activation='relu', input_shape=(28, 28, 3)))\n",
        "model_3.add(MaxPooling2D(pool_size=(2, 2)))\n",
        "\n",
        "model_3.add(Conv2D(64, (3, 3), activation='relu'))\n",
        "model_3.add(MaxPooling2D(pool_size=(2, 2)))\n",
        "\n",
        "# Flatten the output from the convolutional layers\n",
        "model_3.add(Flatten())\n",
        "\n",
        "# Fully connected layers\n",
        "model_3.add(Dense(128, activation='leaky_relu'))\n",
        "model_3.add(Dropout(0.25))\n",
        "model_3.add(Dense(88, activation='leaky_relu'))\n",
        "model_3.add(Dense(64, activation='leaky_relu'))\n",
        "model_3.add(Dense(7, activation='softmax'))  # Output layer for multi-class classification\n",
        "\n",
        "# Compile the model\n",
        "model_3.compile(optimizer='adam', loss='sparse_categorical_crossentropy', metrics=['accuracy'])\n",
        "\n",
        "# Model summary\n",
        "model_3.summary()\n",
        "\n",
        "early_stopping = EarlyStopping(\n",
        "    monitor='val_loss',\n",
        "    patience=10,\n",
        "    restore_best_weights=True\n",
        ")\n",
        "\n",
        "history_3 = model_3.fit(X_train_derma,\n",
        "                        y_train_derma,\n",
        "                        epochs=150,\n",
        "                        verbose=True,\n",
        "                        validation_data=(X_val_derma, y_val_derma),\n",
        "                        callbacks=[early_stopping])"
      ],
      "metadata": {
        "trusted": true,
        "execution": {
          "iopub.status.busy": "2025-01-30T16:05:54.275674Z",
          "iopub.execute_input": "2025-01-30T16:05:54.275874Z",
          "iopub.status.idle": "2025-01-30T16:06:15.459919Z",
          "shell.execute_reply.started": "2025-01-30T16:05:54.275856Z",
          "shell.execute_reply": "2025-01-30T16:06:15.459234Z"
        },
        "id": "jQtHEYOtLqiZ",
        "outputId": "193942ec-a1e1-4d7e-d94a-4cbc231e12bb"
      },
      "outputs": [
        {
          "name": "stderr",
          "text": "/usr/local/lib/python3.10/dist-packages/keras/src/layers/convolutional/base_conv.py:107: UserWarning: Do not pass an `input_shape`/`input_dim` argument to a layer. When using Sequential models, prefer using an `Input(shape)` object as the first layer in the model instead.\n  super().__init__(activity_regularizer=activity_regularizer, **kwargs)\n",
          "output_type": "stream"
        },
        {
          "output_type": "display_data",
          "data": {
            "text/plain": "\u001b[1mModel: \"sequential_5\"\u001b[0m\n",
            "text/html": "<pre style=\"white-space:pre;overflow-x:auto;line-height:normal;font-family:Menlo,'DejaVu Sans Mono',consolas,'Courier New',monospace\"><span style=\"font-weight: bold\">Model: \"sequential_5\"</span>\n</pre>\n"
          },
          "metadata": {}
        },
        {
          "output_type": "display_data",
          "data": {
            "text/plain": "┏━━━━━━━━━━━━━━━━━━━━━━━━━━━━━━━━━━━━━━┳━━━━━━━━━━━━━━━━━━━━━━━━━━━━━┳━━━━━━━━━━━━━━━━━┓\n┃\u001b[1m \u001b[0m\u001b[1mLayer (type)                        \u001b[0m\u001b[1m \u001b[0m┃\u001b[1m \u001b[0m\u001b[1mOutput Shape               \u001b[0m\u001b[1m \u001b[0m┃\u001b[1m \u001b[0m\u001b[1m        Param #\u001b[0m\u001b[1m \u001b[0m┃\n┡━━━━━━━━━━━━━━━━━━━━━━━━━━━━━━━━━━━━━━╇━━━━━━━━━━━━━━━━━━━━━━━━━━━━━╇━━━━━━━━━━━━━━━━━┩\n│ conv2d_6 (\u001b[38;5;33mConv2D\u001b[0m)                    │ (\u001b[38;5;45mNone\u001b[0m, \u001b[38;5;34m26\u001b[0m, \u001b[38;5;34m26\u001b[0m, \u001b[38;5;34m40\u001b[0m)          │           \u001b[38;5;34m1,120\u001b[0m │\n├──────────────────────────────────────┼─────────────────────────────┼─────────────────┤\n│ max_pooling2d_6 (\u001b[38;5;33mMaxPooling2D\u001b[0m)       │ (\u001b[38;5;45mNone\u001b[0m, \u001b[38;5;34m13\u001b[0m, \u001b[38;5;34m13\u001b[0m, \u001b[38;5;34m40\u001b[0m)          │               \u001b[38;5;34m0\u001b[0m │\n├──────────────────────────────────────┼─────────────────────────────┼─────────────────┤\n│ conv2d_7 (\u001b[38;5;33mConv2D\u001b[0m)                    │ (\u001b[38;5;45mNone\u001b[0m, \u001b[38;5;34m11\u001b[0m, \u001b[38;5;34m11\u001b[0m, \u001b[38;5;34m64\u001b[0m)          │          \u001b[38;5;34m23,104\u001b[0m │\n├──────────────────────────────────────┼─────────────────────────────┼─────────────────┤\n│ max_pooling2d_7 (\u001b[38;5;33mMaxPooling2D\u001b[0m)       │ (\u001b[38;5;45mNone\u001b[0m, \u001b[38;5;34m5\u001b[0m, \u001b[38;5;34m5\u001b[0m, \u001b[38;5;34m64\u001b[0m)            │               \u001b[38;5;34m0\u001b[0m │\n├──────────────────────────────────────┼─────────────────────────────┼─────────────────┤\n│ flatten_3 (\u001b[38;5;33mFlatten\u001b[0m)                  │ (\u001b[38;5;45mNone\u001b[0m, \u001b[38;5;34m1600\u001b[0m)                │               \u001b[38;5;34m0\u001b[0m │\n├──────────────────────────────────────┼─────────────────────────────┼─────────────────┤\n│ dense_12 (\u001b[38;5;33mDense\u001b[0m)                     │ (\u001b[38;5;45mNone\u001b[0m, \u001b[38;5;34m128\u001b[0m)                 │         \u001b[38;5;34m204,928\u001b[0m │\n├──────────────────────────────────────┼─────────────────────────────┼─────────────────┤\n│ dropout_3 (\u001b[38;5;33mDropout\u001b[0m)                  │ (\u001b[38;5;45mNone\u001b[0m, \u001b[38;5;34m128\u001b[0m)                 │               \u001b[38;5;34m0\u001b[0m │\n├──────────────────────────────────────┼─────────────────────────────┼─────────────────┤\n│ dense_13 (\u001b[38;5;33mDense\u001b[0m)                     │ (\u001b[38;5;45mNone\u001b[0m, \u001b[38;5;34m88\u001b[0m)                  │          \u001b[38;5;34m11,352\u001b[0m │\n├──────────────────────────────────────┼─────────────────────────────┼─────────────────┤\n│ dense_14 (\u001b[38;5;33mDense\u001b[0m)                     │ (\u001b[38;5;45mNone\u001b[0m, \u001b[38;5;34m64\u001b[0m)                  │           \u001b[38;5;34m5,696\u001b[0m │\n├──────────────────────────────────────┼─────────────────────────────┼─────────────────┤\n│ dense_15 (\u001b[38;5;33mDense\u001b[0m)                     │ (\u001b[38;5;45mNone\u001b[0m, \u001b[38;5;34m7\u001b[0m)                   │             \u001b[38;5;34m455\u001b[0m │\n└──────────────────────────────────────┴─────────────────────────────┴─────────────────┘\n",
            "text/html": "<pre style=\"white-space:pre;overflow-x:auto;line-height:normal;font-family:Menlo,'DejaVu Sans Mono',consolas,'Courier New',monospace\">┏━━━━━━━━━━━━━━━━━━━━━━━━━━━━━━━━━━━━━━┳━━━━━━━━━━━━━━━━━━━━━━━━━━━━━┳━━━━━━━━━━━━━━━━━┓\n┃<span style=\"font-weight: bold\"> Layer (type)                         </span>┃<span style=\"font-weight: bold\"> Output Shape                </span>┃<span style=\"font-weight: bold\">         Param # </span>┃\n┡━━━━━━━━━━━━━━━━━━━━━━━━━━━━━━━━━━━━━━╇━━━━━━━━━━━━━━━━━━━━━━━━━━━━━╇━━━━━━━━━━━━━━━━━┩\n│ conv2d_6 (<span style=\"color: #0087ff; text-decoration-color: #0087ff\">Conv2D</span>)                    │ (<span style=\"color: #00d7ff; text-decoration-color: #00d7ff\">None</span>, <span style=\"color: #00af00; text-decoration-color: #00af00\">26</span>, <span style=\"color: #00af00; text-decoration-color: #00af00\">26</span>, <span style=\"color: #00af00; text-decoration-color: #00af00\">40</span>)          │           <span style=\"color: #00af00; text-decoration-color: #00af00\">1,120</span> │\n├──────────────────────────────────────┼─────────────────────────────┼─────────────────┤\n│ max_pooling2d_6 (<span style=\"color: #0087ff; text-decoration-color: #0087ff\">MaxPooling2D</span>)       │ (<span style=\"color: #00d7ff; text-decoration-color: #00d7ff\">None</span>, <span style=\"color: #00af00; text-decoration-color: #00af00\">13</span>, <span style=\"color: #00af00; text-decoration-color: #00af00\">13</span>, <span style=\"color: #00af00; text-decoration-color: #00af00\">40</span>)          │               <span style=\"color: #00af00; text-decoration-color: #00af00\">0</span> │\n├──────────────────────────────────────┼─────────────────────────────┼─────────────────┤\n│ conv2d_7 (<span style=\"color: #0087ff; text-decoration-color: #0087ff\">Conv2D</span>)                    │ (<span style=\"color: #00d7ff; text-decoration-color: #00d7ff\">None</span>, <span style=\"color: #00af00; text-decoration-color: #00af00\">11</span>, <span style=\"color: #00af00; text-decoration-color: #00af00\">11</span>, <span style=\"color: #00af00; text-decoration-color: #00af00\">64</span>)          │          <span style=\"color: #00af00; text-decoration-color: #00af00\">23,104</span> │\n├──────────────────────────────────────┼─────────────────────────────┼─────────────────┤\n│ max_pooling2d_7 (<span style=\"color: #0087ff; text-decoration-color: #0087ff\">MaxPooling2D</span>)       │ (<span style=\"color: #00d7ff; text-decoration-color: #00d7ff\">None</span>, <span style=\"color: #00af00; text-decoration-color: #00af00\">5</span>, <span style=\"color: #00af00; text-decoration-color: #00af00\">5</span>, <span style=\"color: #00af00; text-decoration-color: #00af00\">64</span>)            │               <span style=\"color: #00af00; text-decoration-color: #00af00\">0</span> │\n├──────────────────────────────────────┼─────────────────────────────┼─────────────────┤\n│ flatten_3 (<span style=\"color: #0087ff; text-decoration-color: #0087ff\">Flatten</span>)                  │ (<span style=\"color: #00d7ff; text-decoration-color: #00d7ff\">None</span>, <span style=\"color: #00af00; text-decoration-color: #00af00\">1600</span>)                │               <span style=\"color: #00af00; text-decoration-color: #00af00\">0</span> │\n├──────────────────────────────────────┼─────────────────────────────┼─────────────────┤\n│ dense_12 (<span style=\"color: #0087ff; text-decoration-color: #0087ff\">Dense</span>)                     │ (<span style=\"color: #00d7ff; text-decoration-color: #00d7ff\">None</span>, <span style=\"color: #00af00; text-decoration-color: #00af00\">128</span>)                 │         <span style=\"color: #00af00; text-decoration-color: #00af00\">204,928</span> │\n├──────────────────────────────────────┼─────────────────────────────┼─────────────────┤\n│ dropout_3 (<span style=\"color: #0087ff; text-decoration-color: #0087ff\">Dropout</span>)                  │ (<span style=\"color: #00d7ff; text-decoration-color: #00d7ff\">None</span>, <span style=\"color: #00af00; text-decoration-color: #00af00\">128</span>)                 │               <span style=\"color: #00af00; text-decoration-color: #00af00\">0</span> │\n├──────────────────────────────────────┼─────────────────────────────┼─────────────────┤\n│ dense_13 (<span style=\"color: #0087ff; text-decoration-color: #0087ff\">Dense</span>)                     │ (<span style=\"color: #00d7ff; text-decoration-color: #00d7ff\">None</span>, <span style=\"color: #00af00; text-decoration-color: #00af00\">88</span>)                  │          <span style=\"color: #00af00; text-decoration-color: #00af00\">11,352</span> │\n├──────────────────────────────────────┼─────────────────────────────┼─────────────────┤\n│ dense_14 (<span style=\"color: #0087ff; text-decoration-color: #0087ff\">Dense</span>)                     │ (<span style=\"color: #00d7ff; text-decoration-color: #00d7ff\">None</span>, <span style=\"color: #00af00; text-decoration-color: #00af00\">64</span>)                  │           <span style=\"color: #00af00; text-decoration-color: #00af00\">5,696</span> │\n├──────────────────────────────────────┼─────────────────────────────┼─────────────────┤\n│ dense_15 (<span style=\"color: #0087ff; text-decoration-color: #0087ff\">Dense</span>)                     │ (<span style=\"color: #00d7ff; text-decoration-color: #00d7ff\">None</span>, <span style=\"color: #00af00; text-decoration-color: #00af00\">7</span>)                   │             <span style=\"color: #00af00; text-decoration-color: #00af00\">455</span> │\n└──────────────────────────────────────┴─────────────────────────────┴─────────────────┘\n</pre>\n"
          },
          "metadata": {}
        },
        {
          "output_type": "display_data",
          "data": {
            "text/plain": "\u001b[1m Total params: \u001b[0m\u001b[38;5;34m246,655\u001b[0m (963.50 KB)\n",
            "text/html": "<pre style=\"white-space:pre;overflow-x:auto;line-height:normal;font-family:Menlo,'DejaVu Sans Mono',consolas,'Courier New',monospace\"><span style=\"font-weight: bold\"> Total params: </span><span style=\"color: #00af00; text-decoration-color: #00af00\">246,655</span> (963.50 KB)\n</pre>\n"
          },
          "metadata": {}
        },
        {
          "output_type": "display_data",
          "data": {
            "text/plain": "\u001b[1m Trainable params: \u001b[0m\u001b[38;5;34m246,655\u001b[0m (963.50 KB)\n",
            "text/html": "<pre style=\"white-space:pre;overflow-x:auto;line-height:normal;font-family:Menlo,'DejaVu Sans Mono',consolas,'Courier New',monospace\"><span style=\"font-weight: bold\"> Trainable params: </span><span style=\"color: #00af00; text-decoration-color: #00af00\">246,655</span> (963.50 KB)\n</pre>\n"
          },
          "metadata": {}
        },
        {
          "output_type": "display_data",
          "data": {
            "text/plain": "\u001b[1m Non-trainable params: \u001b[0m\u001b[38;5;34m0\u001b[0m (0.00 B)\n",
            "text/html": "<pre style=\"white-space:pre;overflow-x:auto;line-height:normal;font-family:Menlo,'DejaVu Sans Mono',consolas,'Courier New',monospace\"><span style=\"font-weight: bold\"> Non-trainable params: </span><span style=\"color: #00af00; text-decoration-color: #00af00\">0</span> (0.00 B)\n</pre>\n"
          },
          "metadata": {}
        },
        {
          "name": "stdout",
          "text": "Epoch 1/150\n\u001b[1m219/219\u001b[0m \u001b[32m━━━━━━━━━━━━━━━━━━━━\u001b[0m\u001b[37m\u001b[0m \u001b[1m7s\u001b[0m 18ms/step - accuracy: 0.6467 - loss: 1.1406 - val_accuracy: 0.6680 - val_loss: 0.9101\nEpoch 2/150\n\u001b[1m219/219\u001b[0m \u001b[32m━━━━━━━━━━━━━━━━━━━━\u001b[0m\u001b[37m\u001b[0m \u001b[1m1s\u001b[0m 3ms/step - accuracy: 0.6858 - loss: 0.9140 - val_accuracy: 0.6800 - val_loss: 0.8556\nEpoch 3/150\n\u001b[1m219/219\u001b[0m \u001b[32m━━━━━━━━━━━━━━━━━━━━\u001b[0m\u001b[37m\u001b[0m \u001b[1m1s\u001b[0m 3ms/step - accuracy: 0.6933 - loss: 0.8739 - val_accuracy: 0.6770 - val_loss: 0.8877\nEpoch 4/150\n\u001b[1m219/219\u001b[0m \u001b[32m━━━━━━━━━━━━━━━━━━━━\u001b[0m\u001b[37m\u001b[0m \u001b[1m1s\u001b[0m 2ms/step - accuracy: 0.6975 - loss: 0.8387 - val_accuracy: 0.6939 - val_loss: 0.8091\nEpoch 5/150\n\u001b[1m219/219\u001b[0m \u001b[32m━━━━━━━━━━━━━━━━━━━━\u001b[0m\u001b[37m\u001b[0m \u001b[1m1s\u001b[0m 2ms/step - accuracy: 0.7120 - loss: 0.7982 - val_accuracy: 0.7039 - val_loss: 0.7991\nEpoch 6/150\n\u001b[1m219/219\u001b[0m \u001b[32m━━━━━━━━━━━━━━━━━━━━\u001b[0m\u001b[37m\u001b[0m \u001b[1m1s\u001b[0m 2ms/step - accuracy: 0.7157 - loss: 0.7846 - val_accuracy: 0.7019 - val_loss: 0.7783\nEpoch 7/150\n\u001b[1m219/219\u001b[0m \u001b[32m━━━━━━━━━━━━━━━━━━━━\u001b[0m\u001b[37m\u001b[0m \u001b[1m1s\u001b[0m 2ms/step - accuracy: 0.7274 - loss: 0.7634 - val_accuracy: 0.6949 - val_loss: 0.7731\nEpoch 8/150\n\u001b[1m219/219\u001b[0m \u001b[32m━━━━━━━━━━━━━━━━━━━━\u001b[0m\u001b[37m\u001b[0m \u001b[1m1s\u001b[0m 2ms/step - accuracy: 0.7256 - loss: 0.7367 - val_accuracy: 0.7159 - val_loss: 0.7455\nEpoch 9/150\n\u001b[1m219/219\u001b[0m \u001b[32m━━━━━━━━━━━━━━━━━━━━\u001b[0m\u001b[37m\u001b[0m \u001b[1m1s\u001b[0m 2ms/step - accuracy: 0.7192 - loss: 0.7500 - val_accuracy: 0.7238 - val_loss: 0.7278\nEpoch 10/150\n\u001b[1m219/219\u001b[0m \u001b[32m━━━━━━━━━━━━━━━━━━━━\u001b[0m\u001b[37m\u001b[0m \u001b[1m1s\u001b[0m 2ms/step - accuracy: 0.7339 - loss: 0.7344 - val_accuracy: 0.7298 - val_loss: 0.7289\nEpoch 11/150\n\u001b[1m219/219\u001b[0m \u001b[32m━━━━━━━━━━━━━━━━━━━━\u001b[0m\u001b[37m\u001b[0m \u001b[1m1s\u001b[0m 2ms/step - accuracy: 0.7410 - loss: 0.7075 - val_accuracy: 0.7328 - val_loss: 0.7355\nEpoch 12/150\n\u001b[1m219/219\u001b[0m \u001b[32m━━━━━━━━━━━━━━━━━━━━\u001b[0m\u001b[37m\u001b[0m \u001b[1m1s\u001b[0m 2ms/step - accuracy: 0.7316 - loss: 0.7124 - val_accuracy: 0.7298 - val_loss: 0.7079\nEpoch 13/150\n\u001b[1m219/219\u001b[0m \u001b[32m━━━━━━━━━━━━━━━━━━━━\u001b[0m\u001b[37m\u001b[0m \u001b[1m1s\u001b[0m 2ms/step - accuracy: 0.7548 - loss: 0.6728 - val_accuracy: 0.7527 - val_loss: 0.7074\nEpoch 14/150\n\u001b[1m219/219\u001b[0m \u001b[32m━━━━━━━━━━━━━━━━━━━━\u001b[0m\u001b[37m\u001b[0m \u001b[1m1s\u001b[0m 2ms/step - accuracy: 0.7591 - loss: 0.6467 - val_accuracy: 0.7428 - val_loss: 0.7081\nEpoch 15/150\n\u001b[1m219/219\u001b[0m \u001b[32m━━━━━━━━━━━━━━━━━━━━\u001b[0m\u001b[37m\u001b[0m \u001b[1m1s\u001b[0m 2ms/step - accuracy: 0.7597 - loss: 0.6578 - val_accuracy: 0.7358 - val_loss: 0.7192\nEpoch 16/150\n\u001b[1m219/219\u001b[0m \u001b[32m━━━━━━━━━━━━━━━━━━━━\u001b[0m\u001b[37m\u001b[0m \u001b[1m1s\u001b[0m 2ms/step - accuracy: 0.7530 - loss: 0.6572 - val_accuracy: 0.7358 - val_loss: 0.7062\nEpoch 17/150\n\u001b[1m219/219\u001b[0m \u001b[32m━━━━━━━━━━━━━━━━━━━━\u001b[0m\u001b[37m\u001b[0m \u001b[1m1s\u001b[0m 2ms/step - accuracy: 0.7677 - loss: 0.6322 - val_accuracy: 0.7248 - val_loss: 0.8023\nEpoch 18/150\n\u001b[1m219/219\u001b[0m \u001b[32m━━━━━━━━━━━━━━━━━━━━\u001b[0m\u001b[37m\u001b[0m \u001b[1m1s\u001b[0m 2ms/step - accuracy: 0.7639 - loss: 0.6362 - val_accuracy: 0.7268 - val_loss: 0.7446\nEpoch 19/150\n\u001b[1m219/219\u001b[0m \u001b[32m━━━━━━━━━━━━━━━━━━━━\u001b[0m\u001b[37m\u001b[0m \u001b[1m1s\u001b[0m 2ms/step - accuracy: 0.7804 - loss: 0.6020 - val_accuracy: 0.7498 - val_loss: 0.7107\nEpoch 20/150\n\u001b[1m219/219\u001b[0m \u001b[32m━━━━━━━━━━━━━━━━━━━━\u001b[0m\u001b[37m\u001b[0m \u001b[1m1s\u001b[0m 2ms/step - accuracy: 0.7861 - loss: 0.5611 - val_accuracy: 0.7248 - val_loss: 0.7405\nEpoch 21/150\n\u001b[1m219/219\u001b[0m \u001b[32m━━━━━━━━━━━━━━━━━━━━\u001b[0m\u001b[37m\u001b[0m \u001b[1m1s\u001b[0m 2ms/step - accuracy: 0.7804 - loss: 0.5708 - val_accuracy: 0.7517 - val_loss: 0.7085\nEpoch 22/150\n\u001b[1m219/219\u001b[0m \u001b[32m━━━━━━━━━━━━━━━━━━━━\u001b[0m\u001b[37m\u001b[0m \u001b[1m1s\u001b[0m 2ms/step - accuracy: 0.7926 - loss: 0.5438 - val_accuracy: 0.7268 - val_loss: 0.7533\nEpoch 23/150\n\u001b[1m219/219\u001b[0m \u001b[32m━━━━━━━━━━━━━━━━━━━━\u001b[0m\u001b[37m\u001b[0m \u001b[1m1s\u001b[0m 2ms/step - accuracy: 0.8040 - loss: 0.5208 - val_accuracy: 0.7398 - val_loss: 0.7490\nEpoch 24/150\n\u001b[1m219/219\u001b[0m \u001b[32m━━━━━━━━━━━━━━━━━━━━\u001b[0m\u001b[37m\u001b[0m \u001b[1m1s\u001b[0m 2ms/step - accuracy: 0.7959 - loss: 0.5206 - val_accuracy: 0.7398 - val_loss: 0.7322\nEpoch 25/150\n\u001b[1m219/219\u001b[0m \u001b[32m━━━━━━━━━━━━━━━━━━━━\u001b[0m\u001b[37m\u001b[0m \u001b[1m1s\u001b[0m 2ms/step - accuracy: 0.8077 - loss: 0.5011 - val_accuracy: 0.7408 - val_loss: 0.7702\nEpoch 26/150\n\u001b[1m219/219\u001b[0m \u001b[32m━━━━━━━━━━━━━━━━━━━━\u001b[0m\u001b[37m\u001b[0m \u001b[1m1s\u001b[0m 2ms/step - accuracy: 0.7985 - loss: 0.5217 - val_accuracy: 0.7438 - val_loss: 0.7660\n",
          "output_type": "stream"
        }
      ],
      "execution_count": null
    },
    {
      "cell_type": "code",
      "source": [
        "from sklearn.metrics import classification_report\n",
        "loss, accuracy = model_3.evaluate(X_test_derma, y_test_derma)\n",
        "y_preds_derma = model_3.predict(X_test_derma)\n",
        "y_preds_derma = y_preds_derma.argmax(axis=1)\n",
        "print(f\"Model loss on test set: {loss}\")\n",
        "print(f\"Model accuracy on test set: {(accuracy*100):.2f}%\")\n",
        "print(\"-------------------------------------------------------\")\n",
        "print(classification_report(y_test_derma, y_preds_derma))"
      ],
      "metadata": {
        "trusted": true,
        "execution": {
          "iopub.status.busy": "2025-01-30T16:06:15.460723Z",
          "iopub.execute_input": "2025-01-30T16:06:15.460984Z",
          "iopub.status.idle": "2025-01-30T16:06:16.741847Z",
          "shell.execute_reply.started": "2025-01-30T16:06:15.460961Z",
          "shell.execute_reply": "2025-01-30T16:06:16.741017Z"
        },
        "id": "KNWK2aV0LqiZ",
        "outputId": "14072a76-72b9-491f-d0b2-314f6ec39add"
      },
      "outputs": [
        {
          "name": "stdout",
          "text": "\u001b[1m63/63\u001b[0m \u001b[32m━━━━━━━━━━━━━━━━━━━━\u001b[0m\u001b[37m\u001b[0m \u001b[1m1s\u001b[0m 9ms/step - accuracy: 0.7356 - loss: 0.6979\n\u001b[1m63/63\u001b[0m \u001b[32m━━━━━━━━━━━━━━━━━━━━\u001b[0m\u001b[37m\u001b[0m \u001b[1m1s\u001b[0m 5ms/step\nModel loss on test set: 0.7009824514389038\nModel accuracy on test set: 73.82%\n-------------------------------------------------------\n              precision    recall  f1-score   support\n\n           0       0.38      0.38      0.38        66\n           1       0.43      0.29      0.35       103\n           2       0.54      0.46      0.50       220\n           3       0.00      0.00      0.00        23\n           4       0.45      0.26      0.33       223\n           5       0.82      0.94      0.87      1341\n           6       0.73      0.38      0.50        29\n\n    accuracy                           0.74      2005\n   macro avg       0.48      0.39      0.42      2005\nweighted avg       0.70      0.74      0.71      2005\n\n",
          "output_type": "stream"
        },
        {
          "name": "stderr",
          "text": "/usr/local/lib/python3.10/dist-packages/sklearn/metrics/_classification.py:1344: UndefinedMetricWarning: Precision and F-score are ill-defined and being set to 0.0 in labels with no predicted samples. Use `zero_division` parameter to control this behavior.\n  _warn_prf(average, modifier, msg_start, len(result))\n/usr/local/lib/python3.10/dist-packages/sklearn/metrics/_classification.py:1344: UndefinedMetricWarning: Precision and F-score are ill-defined and being set to 0.0 in labels with no predicted samples. Use `zero_division` parameter to control this behavior.\n  _warn_prf(average, modifier, msg_start, len(result))\n/usr/local/lib/python3.10/dist-packages/sklearn/metrics/_classification.py:1344: UndefinedMetricWarning: Precision and F-score are ill-defined and being set to 0.0 in labels with no predicted samples. Use `zero_division` parameter to control this behavior.\n  _warn_prf(average, modifier, msg_start, len(result))\n",
          "output_type": "stream"
        }
      ],
      "execution_count": null
    },
    {
      "cell_type": "code",
      "source": [
        "np.save('/kaggle/working/y_preds_derma.npy', y_preds_derma)"
      ],
      "metadata": {
        "trusted": true,
        "execution": {
          "iopub.status.busy": "2025-01-30T16:06:16.742492Z",
          "iopub.execute_input": "2025-01-30T16:06:16.742705Z",
          "iopub.status.idle": "2025-01-30T16:06:16.746777Z",
          "shell.execute_reply.started": "2025-01-30T16:06:16.742687Z",
          "shell.execute_reply": "2025-01-30T16:06:16.74593Z"
        },
        "id": "Pkpruj43Lqia"
      },
      "outputs": [],
      "execution_count": null
    },
    {
      "cell_type": "markdown",
      "source": [
        "## Oct Data"
      ],
      "metadata": {
        "id": "9EfSCEOjLqia"
      }
    },
    {
      "cell_type": "code",
      "source": [
        "oct_data = np.load('/kaggle/input/tensor-reloaded-multi-task-med-mnist/data/octmnist.npz')\n",
        "print(len(oct_data))\n",
        "oct_data.files"
      ],
      "metadata": {
        "trusted": true,
        "execution": {
          "iopub.status.busy": "2025-01-30T16:06:16.74769Z",
          "iopub.execute_input": "2025-01-30T16:06:16.747937Z",
          "iopub.status.idle": "2025-01-30T16:06:16.838909Z",
          "shell.execute_reply.started": "2025-01-30T16:06:16.747914Z",
          "shell.execute_reply": "2025-01-30T16:06:16.838271Z"
        },
        "id": "7_Hsc1s2Lqia",
        "outputId": "4c5aa5f0-753a-4bb5-f9ea-8e7bc1106593"
      },
      "outputs": [
        {
          "name": "stdout",
          "text": "6\n",
          "output_type": "stream"
        },
        {
          "execution_count": 43,
          "output_type": "execute_result",
          "data": {
            "text/plain": "['train_images',\n 'val_images',\n 'test_images',\n 'train_labels',\n 'val_labels',\n 'test_labels']"
          },
          "metadata": {}
        }
      ],
      "execution_count": null
    },
    {
      "cell_type": "code",
      "source": [
        "print(oct_data['train_images'].shape)\n",
        "print(oct_data['val_images'].shape)\n",
        "print(oct_data['test_images'].shape)\n",
        "print(oct_data['train_labels'].shape)\n",
        "print(oct_data['val_labels'].shape)\n",
        "print(oct_data['test_labels'].shape)"
      ],
      "metadata": {
        "trusted": true,
        "execution": {
          "iopub.status.busy": "2025-01-30T16:06:16.839638Z",
          "iopub.execute_input": "2025-01-30T16:06:16.839912Z",
          "iopub.status.idle": "2025-01-30T16:06:18.493581Z",
          "shell.execute_reply.started": "2025-01-30T16:06:16.839883Z",
          "shell.execute_reply": "2025-01-30T16:06:18.49269Z"
        },
        "id": "d1TaDWBcLqia",
        "outputId": "1b44c73e-c883-4e5c-ce46-9045f8a02df4"
      },
      "outputs": [
        {
          "name": "stdout",
          "text": "(97477, 28, 28)\n(10832, 28, 28)\n(1000, 28, 28)\n(97477, 1)\n(10832, 1)\n(1000, 1)\n",
          "output_type": "stream"
        }
      ],
      "execution_count": null
    },
    {
      "cell_type": "code",
      "source": [
        "X_train_oct = oct_data['train_images']\n",
        "X_val_oct = oct_data['val_images']\n",
        "X_test_oct = oct_data['test_images']\n",
        "y_train_oct = oct_data['train_labels']\n",
        "y_val_oct = oct_data['val_labels']\n",
        "y_test_oct = oct_data['test_labels']\n",
        "X_train_oct.shape, y_train_oct.shape"
      ],
      "metadata": {
        "trusted": true,
        "execution": {
          "iopub.status.busy": "2025-01-30T16:06:18.494357Z",
          "iopub.execute_input": "2025-01-30T16:06:18.494616Z",
          "iopub.status.idle": "2025-01-30T16:06:19.093006Z",
          "shell.execute_reply.started": "2025-01-30T16:06:18.494594Z",
          "shell.execute_reply": "2025-01-30T16:06:19.09229Z"
        },
        "id": "UghFA1RwLqia",
        "outputId": "db4d2e00-c8c2-42ee-f2bd-44376cfd48b9"
      },
      "outputs": [
        {
          "execution_count": 45,
          "output_type": "execute_result",
          "data": {
            "text/plain": "((97477, 28, 28), (97477, 1))"
          },
          "metadata": {}
        }
      ],
      "execution_count": null
    },
    {
      "cell_type": "code",
      "source": [
        "unique_oct = np.unique(y_train_oct)\n",
        "print(unique_oct)"
      ],
      "metadata": {
        "trusted": true,
        "execution": {
          "iopub.status.busy": "2025-01-30T16:06:19.09366Z",
          "iopub.execute_input": "2025-01-30T16:06:19.093861Z",
          "iopub.status.idle": "2025-01-30T16:06:19.099547Z",
          "shell.execute_reply.started": "2025-01-30T16:06:19.093844Z",
          "shell.execute_reply": "2025-01-30T16:06:19.098784Z"
        },
        "id": "5EJ_7azvLqia",
        "outputId": "132f2908-9cef-4e83-bed7-4ef85bbfcb71"
      },
      "outputs": [
        {
          "name": "stdout",
          "text": "[0 1 2 3]\n",
          "output_type": "stream"
        }
      ],
      "execution_count": null
    },
    {
      "cell_type": "code",
      "source": [
        "import matplotlib.pyplot as plt\n",
        "sample_index = 1\n",
        "plt.imshow(X_train_oct[sample_index]);\n",
        "print(f\"Label: {y_train_oct[sample_index]}\")"
      ],
      "metadata": {
        "trusted": true,
        "execution": {
          "iopub.status.busy": "2025-01-30T16:06:19.10032Z",
          "iopub.execute_input": "2025-01-30T16:06:19.10062Z",
          "iopub.status.idle": "2025-01-30T16:06:19.259282Z",
          "shell.execute_reply.started": "2025-01-30T16:06:19.100592Z",
          "shell.execute_reply": "2025-01-30T16:06:19.258581Z"
        },
        "id": "Km-TfpG8Lqib",
        "outputId": "e01ec348-c4b4-4c52-d685-e0afbd7db847"
      },
      "outputs": [
        {
          "name": "stdout",
          "text": "Label: [3]\n",
          "output_type": "stream"
        },
        {
          "output_type": "display_data",
          "data": {
            "text/plain": "<Figure size 640x480 with 1 Axes>",
            "image/png": "[encoded data removed]"
          },
          "metadata": {}
        }
      ],
      "execution_count": null
    },
    {
      "cell_type": "code",
      "source": [
        "import random\n",
        "plt.figure(figsize=(7, 7))\n",
        "for i in range(4):\n",
        "  ax = plt.subplot(2, 2, i + 1)\n",
        "  rand_index = random.choice(range(len(X_train_oct)))\n",
        "  plt.imshow(X_train_oct[rand_index], cmap=plt.cm.binary)\n",
        "  plt.title(y_train_oct[rand_index])\n",
        "  plt.axis(False)"
      ],
      "metadata": {
        "trusted": true,
        "execution": {
          "iopub.status.busy": "2025-01-30T16:06:19.260112Z",
          "iopub.execute_input": "2025-01-30T16:06:19.260441Z",
          "iopub.status.idle": "2025-01-30T16:06:19.544762Z",
          "shell.execute_reply.started": "2025-01-30T16:06:19.260409Z",
          "shell.execute_reply": "2025-01-30T16:06:19.543803Z"
        },
        "id": "OaVdetuJLqib",
        "outputId": "8ac3dda7-b4b2-49e9-e434-2de3129e6888"
      },
      "outputs": [
        {
          "output_type": "display_data",
          "data": {
            "text/plain": "<Figure size 700x700 with 4 Axes>",
            "image/png": "[encoded data removed]"
          },
          "metadata": {}
        }
      ],
      "execution_count": null
    },
    {
      "cell_type": "code",
      "source": [
        "y_train_oct = np.array(y_train_oct).ravel()\n",
        "y_val_oct = np.array(y_val_oct).ravel()\n",
        "y_test_oct = np.array(y_test_oct).ravel()\n",
        "y_train_oct.shape, y_val_oct.shape, y_test_oct.shape"
      ],
      "metadata": {
        "trusted": true,
        "execution": {
          "iopub.status.busy": "2025-01-30T16:06:19.545689Z",
          "iopub.execute_input": "2025-01-30T16:06:19.545979Z",
          "iopub.status.idle": "2025-01-30T16:06:19.551225Z",
          "shell.execute_reply.started": "2025-01-30T16:06:19.545945Z",
          "shell.execute_reply": "2025-01-30T16:06:19.5506Z"
        },
        "id": "iyum8aNsLqib",
        "outputId": "47d0dcd9-52a1-4bac-c9bf-2836dcb6033d"
      },
      "outputs": [
        {
          "execution_count": 49,
          "output_type": "execute_result",
          "data": {
            "text/plain": "((97477,), (10832,), (1000,))"
          },
          "metadata": {}
        }
      ],
      "execution_count": null
    },
    {
      "cell_type": "code",
      "source": [
        "X_train_oct = X_train_oct / 255\n",
        "X_test_oct = X_test_oct / 255\n",
        "X_val_oct = X_val_oct / 255\n",
        "X_train_oct.min(), X_train_oct.max()"
      ],
      "metadata": {
        "trusted": true,
        "execution": {
          "iopub.status.busy": "2025-01-30T16:06:19.552041Z",
          "iopub.execute_input": "2025-01-30T16:06:19.552301Z",
          "iopub.status.idle": "2025-01-30T16:06:19.913579Z",
          "shell.execute_reply.started": "2025-01-30T16:06:19.552281Z",
          "shell.execute_reply": "2025-01-30T16:06:19.912766Z"
        },
        "id": "LmEx7r9dLqib",
        "outputId": "a5a46168-83fd-442d-d345-7e1253b27725"
      },
      "outputs": [
        {
          "execution_count": 50,
          "output_type": "execute_result",
          "data": {
            "text/plain": "(0.0, 1.0)"
          },
          "metadata": {}
        }
      ],
      "execution_count": null
    },
    {
      "cell_type": "code",
      "source": [
        "import tensorflow as tf\n",
        "X_train_oct = tf.expand_dims(X_train_oct, axis=-1)\n",
        "X_val_oct = tf.expand_dims(X_val_oct, axis=-1)\n",
        "X_test_oct = tf.expand_dims(X_test_oct, axis=-1)\n",
        "X_train_oct.shape, X_val_oct.shape, X_test_oct.shape"
      ],
      "metadata": {
        "trusted": true,
        "execution": {
          "iopub.status.busy": "2025-01-30T16:06:19.914318Z",
          "iopub.execute_input": "2025-01-30T16:06:19.914615Z",
          "iopub.status.idle": "2025-01-30T16:06:20.730205Z",
          "shell.execute_reply.started": "2025-01-30T16:06:19.914593Z",
          "shell.execute_reply": "2025-01-30T16:06:20.729497Z"
        },
        "id": "Ill6RxYyLqib",
        "outputId": "c63db3d4-4cbb-46a3-c2f3-97a7388d4f54"
      },
      "outputs": [
        {
          "execution_count": 51,
          "output_type": "execute_result",
          "data": {
            "text/plain": "(TensorShape([97477, 28, 28, 1]),\n TensorShape([10832, 28, 28, 1]),\n TensorShape([1000, 28, 28, 1]))"
          },
          "metadata": {}
        }
      ],
      "execution_count": null
    },
    {
      "cell_type": "code",
      "source": [
        "from tensorflow.keras.models import Sequential\n",
        "from tensorflow.keras.layers import Conv2D, MaxPooling2D, Flatten, Dense, Dropout\n",
        "from tensorflow.keras.optimizers import Adam\n",
        "\n",
        "model_4 = Sequential()\n",
        "\n",
        "model_4.add(Conv2D(32, (3, 3), activation='leaky_relu', input_shape=(28, 28, 1)))\n",
        "model_4.add(MaxPooling2D(pool_size=(2, 2)))\n",
        "\n",
        "model_4.add(Conv2D(64, (3, 3), activation='leaky_relu'))\n",
        "model_4.add(MaxPooling2D(pool_size=(2, 2)))\n",
        "\n",
        "# Flatten the output from the convolutional layers\n",
        "model_4.add(Flatten())\n",
        "\n",
        "# Fully connected layers\n",
        "model_4.add(Dense(88, activation='leaky_relu'))\n",
        "model_4.add(Dropout(0.25))\n",
        "model_4.add(Dense(88, activation='leaky_relu'))\n",
        "model_4.add(Dense(64, activation='leaky_relu'))\n",
        "model_4.add(Dense(4, activation='softmax'))  # Output layer for multi-class classification\n",
        "\n",
        "# Compile the model\n",
        "model_4.compile(optimizer='adam', loss='sparse_categorical_crossentropy', metrics=['accuracy'])\n",
        "\n",
        "# Model summary\n",
        "model_4.summary()\n",
        "\n",
        "early_stopping = EarlyStopping(\n",
        "    monitor='val_loss',\n",
        "    patience=10,\n",
        "    restore_best_weights=True\n",
        ")\n",
        "\n",
        "history_4 = model_4.fit(X_train_oct,\n",
        "                        y_train_oct,\n",
        "                        epochs=150,\n",
        "                        verbose=True,\n",
        "                        validation_data=(X_val_oct, y_val_oct),\n",
        "                        callbacks=[early_stopping])"
      ],
      "metadata": {
        "trusted": true,
        "execution": {
          "iopub.status.busy": "2025-01-30T16:06:20.731162Z",
          "iopub.execute_input": "2025-01-30T16:06:20.731426Z",
          "iopub.status.idle": "2025-01-30T16:09:07.155277Z",
          "shell.execute_reply.started": "2025-01-30T16:06:20.731391Z",
          "shell.execute_reply": "2025-01-30T16:09:07.154701Z"
        },
        "id": "tQhkX8xNLqic",
        "outputId": "6474fb68-b62b-405d-d159-d1bc47c46be2"
      },
      "outputs": [
        {
          "name": "stderr",
          "text": "/usr/local/lib/python3.10/dist-packages/keras/src/layers/convolutional/base_conv.py:107: UserWarning: Do not pass an `input_shape`/`input_dim` argument to a layer. When using Sequential models, prefer using an `Input(shape)` object as the first layer in the model instead.\n  super().__init__(activity_regularizer=activity_regularizer, **kwargs)\n",
          "output_type": "stream"
        },
        {
          "output_type": "display_data",
          "data": {
            "text/plain": "\u001b[1mModel: \"sequential_6\"\u001b[0m\n",
            "text/html": "<pre style=\"white-space:pre;overflow-x:auto;line-height:normal;font-family:Menlo,'DejaVu Sans Mono',consolas,'Courier New',monospace\"><span style=\"font-weight: bold\">Model: \"sequential_6\"</span>\n</pre>\n"
          },
          "metadata": {}
        },
        {
          "output_type": "display_data",
          "data": {
            "text/plain": "┏━━━━━━━━━━━━━━━━━━━━━━━━━━━━━━━━━━━━━━┳━━━━━━━━━━━━━━━━━━━━━━━━━━━━━┳━━━━━━━━━━━━━━━━━┓\n┃\u001b[1m \u001b[0m\u001b[1mLayer (type)                        \u001b[0m\u001b[1m \u001b[0m┃\u001b[1m \u001b[0m\u001b[1mOutput Shape               \u001b[0m\u001b[1m \u001b[0m┃\u001b[1m \u001b[0m\u001b[1m        Param #\u001b[0m\u001b[1m \u001b[0m┃\n┡━━━━━━━━━━━━━━━━━━━━━━━━━━━━━━━━━━━━━━╇━━━━━━━━━━━━━━━━━━━━━━━━━━━━━╇━━━━━━━━━━━━━━━━━┩\n│ conv2d_8 (\u001b[38;5;33mConv2D\u001b[0m)                    │ (\u001b[38;5;45mNone\u001b[0m, \u001b[38;5;34m26\u001b[0m, \u001b[38;5;34m26\u001b[0m, \u001b[38;5;34m32\u001b[0m)          │             \u001b[38;5;34m320\u001b[0m │\n├──────────────────────────────────────┼─────────────────────────────┼─────────────────┤\n│ max_pooling2d_8 (\u001b[38;5;33mMaxPooling2D\u001b[0m)       │ (\u001b[38;5;45mNone\u001b[0m, \u001b[38;5;34m13\u001b[0m, \u001b[38;5;34m13\u001b[0m, \u001b[38;5;34m32\u001b[0m)          │               \u001b[38;5;34m0\u001b[0m │\n├──────────────────────────────────────┼─────────────────────────────┼─────────────────┤\n│ conv2d_9 (\u001b[38;5;33mConv2D\u001b[0m)                    │ (\u001b[38;5;45mNone\u001b[0m, \u001b[38;5;34m11\u001b[0m, \u001b[38;5;34m11\u001b[0m, \u001b[38;5;34m64\u001b[0m)          │          \u001b[38;5;34m18,496\u001b[0m │\n├──────────────────────────────────────┼─────────────────────────────┼─────────────────┤\n│ max_pooling2d_9 (\u001b[38;5;33mMaxPooling2D\u001b[0m)       │ (\u001b[38;5;45mNone\u001b[0m, \u001b[38;5;34m5\u001b[0m, \u001b[38;5;34m5\u001b[0m, \u001b[38;5;34m64\u001b[0m)            │               \u001b[38;5;34m0\u001b[0m │\n├──────────────────────────────────────┼─────────────────────────────┼─────────────────┤\n│ flatten_4 (\u001b[38;5;33mFlatten\u001b[0m)                  │ (\u001b[38;5;45mNone\u001b[0m, \u001b[38;5;34m1600\u001b[0m)                │               \u001b[38;5;34m0\u001b[0m │\n├──────────────────────────────────────┼─────────────────────────────┼─────────────────┤\n│ dense_16 (\u001b[38;5;33mDense\u001b[0m)                     │ (\u001b[38;5;45mNone\u001b[0m, \u001b[38;5;34m88\u001b[0m)                  │         \u001b[38;5;34m140,888\u001b[0m │\n├──────────────────────────────────────┼─────────────────────────────┼─────────────────┤\n│ dropout_4 (\u001b[38;5;33mDropout\u001b[0m)                  │ (\u001b[38;5;45mNone\u001b[0m, \u001b[38;5;34m88\u001b[0m)                  │               \u001b[38;5;34m0\u001b[0m │\n├──────────────────────────────────────┼─────────────────────────────┼─────────────────┤\n│ dense_17 (\u001b[38;5;33mDense\u001b[0m)                     │ (\u001b[38;5;45mNone\u001b[0m, \u001b[38;5;34m88\u001b[0m)                  │           \u001b[38;5;34m7,832\u001b[0m │\n├──────────────────────────────────────┼─────────────────────────────┼─────────────────┤\n│ dense_18 (\u001b[38;5;33mDense\u001b[0m)                     │ (\u001b[38;5;45mNone\u001b[0m, \u001b[38;5;34m64\u001b[0m)                  │           \u001b[38;5;34m5,696\u001b[0m │\n├──────────────────────────────────────┼─────────────────────────────┼─────────────────┤\n│ dense_19 (\u001b[38;5;33mDense\u001b[0m)                     │ (\u001b[38;5;45mNone\u001b[0m, \u001b[38;5;34m4\u001b[0m)                   │             \u001b[38;5;34m260\u001b[0m │\n└──────────────────────────────────────┴─────────────────────────────┴─────────────────┘\n",
            "text/html": "<pre style=\"white-space:pre;overflow-x:auto;line-height:normal;font-family:Menlo,'DejaVu Sans Mono',consolas,'Courier New',monospace\">┏━━━━━━━━━━━━━━━━━━━━━━━━━━━━━━━━━━━━━━┳━━━━━━━━━━━━━━━━━━━━━━━━━━━━━┳━━━━━━━━━━━━━━━━━┓\n┃<span style=\"font-weight: bold\"> Layer (type)                         </span>┃<span style=\"font-weight: bold\"> Output Shape                </span>┃<span style=\"font-weight: bold\">         Param # </span>┃\n┡━━━━━━━━━━━━━━━━━━━━━━━━━━━━━━━━━━━━━━╇━━━━━━━━━━━━━━━━━━━━━━━━━━━━━╇━━━━━━━━━━━━━━━━━┩\n│ conv2d_8 (<span style=\"color: #0087ff; text-decoration-color: #0087ff\">Conv2D</span>)                    │ (<span style=\"color: #00d7ff; text-decoration-color: #00d7ff\">None</span>, <span style=\"color: #00af00; text-decoration-color: #00af00\">26</span>, <span style=\"color: #00af00; text-decoration-color: #00af00\">26</span>, <span style=\"color: #00af00; text-decoration-color: #00af00\">32</span>)          │             <span style=\"color: #00af00; text-decoration-color: #00af00\">320</span> │\n├──────────────────────────────────────┼─────────────────────────────┼─────────────────┤\n│ max_pooling2d_8 (<span style=\"color: #0087ff; text-decoration-color: #0087ff\">MaxPooling2D</span>)       │ (<span style=\"color: #00d7ff; text-decoration-color: #00d7ff\">None</span>, <span style=\"color: #00af00; text-decoration-color: #00af00\">13</span>, <span style=\"color: #00af00; text-decoration-color: #00af00\">13</span>, <span style=\"color: #00af00; text-decoration-color: #00af00\">32</span>)          │               <span style=\"color: #00af00; text-decoration-color: #00af00\">0</span> │\n├──────────────────────────────────────┼─────────────────────────────┼─────────────────┤\n│ conv2d_9 (<span style=\"color: #0087ff; text-decoration-color: #0087ff\">Conv2D</span>)                    │ (<span style=\"color: #00d7ff; text-decoration-color: #00d7ff\">None</span>, <span style=\"color: #00af00; text-decoration-color: #00af00\">11</span>, <span style=\"color: #00af00; text-decoration-color: #00af00\">11</span>, <span style=\"color: #00af00; text-decoration-color: #00af00\">64</span>)          │          <span style=\"color: #00af00; text-decoration-color: #00af00\">18,496</span> │\n├──────────────────────────────────────┼─────────────────────────────┼─────────────────┤\n│ max_pooling2d_9 (<span style=\"color: #0087ff; text-decoration-color: #0087ff\">MaxPooling2D</span>)       │ (<span style=\"color: #00d7ff; text-decoration-color: #00d7ff\">None</span>, <span style=\"color: #00af00; text-decoration-color: #00af00\">5</span>, <span style=\"color: #00af00; text-decoration-color: #00af00\">5</span>, <span style=\"color: #00af00; text-decoration-color: #00af00\">64</span>)            │               <span style=\"color: #00af00; text-decoration-color: #00af00\">0</span> │\n├──────────────────────────────────────┼─────────────────────────────┼─────────────────┤\n│ flatten_4 (<span style=\"color: #0087ff; text-decoration-color: #0087ff\">Flatten</span>)                  │ (<span style=\"color: #00d7ff; text-decoration-color: #00d7ff\">None</span>, <span style=\"color: #00af00; text-decoration-color: #00af00\">1600</span>)                │               <span style=\"color: #00af00; text-decoration-color: #00af00\">0</span> │\n├──────────────────────────────────────┼─────────────────────────────┼─────────────────┤\n│ dense_16 (<span style=\"color: #0087ff; text-decoration-color: #0087ff\">Dense</span>)                     │ (<span style=\"color: #00d7ff; text-decoration-color: #00d7ff\">None</span>, <span style=\"color: #00af00; text-decoration-color: #00af00\">88</span>)                  │         <span style=\"color: #00af00; text-decoration-color: #00af00\">140,888</span> │\n├──────────────────────────────────────┼─────────────────────────────┼─────────────────┤\n│ dropout_4 (<span style=\"color: #0087ff; text-decoration-color: #0087ff\">Dropout</span>)                  │ (<span style=\"color: #00d7ff; text-decoration-color: #00d7ff\">None</span>, <span style=\"color: #00af00; text-decoration-color: #00af00\">88</span>)                  │               <span style=\"color: #00af00; text-decoration-color: #00af00\">0</span> │\n├──────────────────────────────────────┼─────────────────────────────┼─────────────────┤\n│ dense_17 (<span style=\"color: #0087ff; text-decoration-color: #0087ff\">Dense</span>)                     │ (<span style=\"color: #00d7ff; text-decoration-color: #00d7ff\">None</span>, <span style=\"color: #00af00; text-decoration-color: #00af00\">88</span>)                  │           <span style=\"color: #00af00; text-decoration-color: #00af00\">7,832</span> │\n├──────────────────────────────────────┼─────────────────────────────┼─────────────────┤\n│ dense_18 (<span style=\"color: #0087ff; text-decoration-color: #0087ff\">Dense</span>)                     │ (<span style=\"color: #00d7ff; text-decoration-color: #00d7ff\">None</span>, <span style=\"color: #00af00; text-decoration-color: #00af00\">64</span>)                  │           <span style=\"color: #00af00; text-decoration-color: #00af00\">5,696</span> │\n├──────────────────────────────────────┼─────────────────────────────┼─────────────────┤\n│ dense_19 (<span style=\"color: #0087ff; text-decoration-color: #0087ff\">Dense</span>)                     │ (<span style=\"color: #00d7ff; text-decoration-color: #00d7ff\">None</span>, <span style=\"color: #00af00; text-decoration-color: #00af00\">4</span>)                   │             <span style=\"color: #00af00; text-decoration-color: #00af00\">260</span> │\n└──────────────────────────────────────┴─────────────────────────────┴─────────────────┘\n</pre>\n"
          },
          "metadata": {}
        },
        {
          "output_type": "display_data",
          "data": {
            "text/plain": "\u001b[1m Total params: \u001b[0m\u001b[38;5;34m173,492\u001b[0m (677.70 KB)\n",
            "text/html": "<pre style=\"white-space:pre;overflow-x:auto;line-height:normal;font-family:Menlo,'DejaVu Sans Mono',consolas,'Courier New',monospace\"><span style=\"font-weight: bold\"> Total params: </span><span style=\"color: #00af00; text-decoration-color: #00af00\">173,492</span> (677.70 KB)\n</pre>\n"
          },
          "metadata": {}
        },
        {
          "output_type": "display_data",
          "data": {
            "text/plain": "\u001b[1m Trainable params: \u001b[0m\u001b[38;5;34m173,492\u001b[0m (677.70 KB)\n",
            "text/html": "<pre style=\"white-space:pre;overflow-x:auto;line-height:normal;font-family:Menlo,'DejaVu Sans Mono',consolas,'Courier New',monospace\"><span style=\"font-weight: bold\"> Trainable params: </span><span style=\"color: #00af00; text-decoration-color: #00af00\">173,492</span> (677.70 KB)\n</pre>\n"
          },
          "metadata": {}
        },
        {
          "output_type": "display_data",
          "data": {
            "text/plain": "\u001b[1m Non-trainable params: \u001b[0m\u001b[38;5;34m0\u001b[0m (0.00 B)\n",
            "text/html": "<pre style=\"white-space:pre;overflow-x:auto;line-height:normal;font-family:Menlo,'DejaVu Sans Mono',consolas,'Courier New',monospace\"><span style=\"font-weight: bold\"> Non-trainable params: </span><span style=\"color: #00af00; text-decoration-color: #00af00\">0</span> (0.00 B)\n</pre>\n"
          },
          "metadata": {}
        },
        {
          "name": "stdout",
          "text": "Epoch 1/150\n\u001b[1m3047/3047\u001b[0m \u001b[32m━━━━━━━━━━━━━━━━━━━━\u001b[0m\u001b[37m\u001b[0m \u001b[1m12s\u001b[0m 3ms/step - accuracy: 0.7246 - loss: 0.7337 - val_accuracy: 0.8233 - val_loss: 0.5030\nEpoch 2/150\n\u001b[1m3047/3047\u001b[0m \u001b[32m━━━━━━━━━━━━━━━━━━━━\u001b[0m\u001b[37m\u001b[0m \u001b[1m6s\u001b[0m 2ms/step - accuracy: 0.8483 - loss: 0.4365 - val_accuracy: 0.8551 - val_loss: 0.4163\nEpoch 3/150\n\u001b[1m3047/3047\u001b[0m \u001b[32m━━━━━━━━━━━━━━━━━━━━\u001b[0m\u001b[37m\u001b[0m \u001b[1m6s\u001b[0m 2ms/step - accuracy: 0.8661 - loss: 0.3814 - val_accuracy: 0.8741 - val_loss: 0.3556\nEpoch 4/150\n\u001b[1m3047/3047\u001b[0m \u001b[32m━━━━━━━━━━━━━━━━━━━━\u001b[0m\u001b[37m\u001b[0m \u001b[1m6s\u001b[0m 2ms/step - accuracy: 0.8796 - loss: 0.3417 - val_accuracy: 0.8870 - val_loss: 0.3252\nEpoch 5/150\n\u001b[1m3047/3047\u001b[0m \u001b[32m━━━━━━━━━━━━━━━━━━━━\u001b[0m\u001b[37m\u001b[0m \u001b[1m6s\u001b[0m 2ms/step - accuracy: 0.8903 - loss: 0.3171 - val_accuracy: 0.8887 - val_loss: 0.3202\nEpoch 6/150\n\u001b[1m3047/3047\u001b[0m \u001b[32m━━━━━━━━━━━━━━━━━━━━\u001b[0m\u001b[37m\u001b[0m \u001b[1m6s\u001b[0m 2ms/step - accuracy: 0.8972 - loss: 0.2982 - val_accuracy: 0.8915 - val_loss: 0.3165\nEpoch 7/150\n\u001b[1m3047/3047\u001b[0m \u001b[32m━━━━━━━━━━━━━━━━━━━━\u001b[0m\u001b[37m\u001b[0m \u001b[1m6s\u001b[0m 2ms/step - accuracy: 0.9009 - loss: 0.2851 - val_accuracy: 0.8789 - val_loss: 0.3500\nEpoch 8/150\n\u001b[1m3047/3047\u001b[0m \u001b[32m━━━━━━━━━━━━━━━━━━━━\u001b[0m\u001b[37m\u001b[0m \u001b[1m6s\u001b[0m 2ms/step - accuracy: 0.9067 - loss: 0.2671 - val_accuracy: 0.9026 - val_loss: 0.2960\nEpoch 9/150\n\u001b[1m3047/3047\u001b[0m \u001b[32m━━━━━━━━━━━━━━━━━━━━\u001b[0m\u001b[37m\u001b[0m \u001b[1m6s\u001b[0m 2ms/step - accuracy: 0.9119 - loss: 0.2533 - val_accuracy: 0.8987 - val_loss: 0.2942\nEpoch 10/150\n\u001b[1m3047/3047\u001b[0m \u001b[32m━━━━━━━━━━━━━━━━━━━━\u001b[0m\u001b[37m\u001b[0m \u001b[1m6s\u001b[0m 2ms/step - accuracy: 0.9159 - loss: 0.2429 - val_accuracy: 0.9002 - val_loss: 0.2957\nEpoch 11/150\n\u001b[1m3047/3047\u001b[0m \u001b[32m━━━━━━━━━━━━━━━━━━━━\u001b[0m\u001b[37m\u001b[0m \u001b[1m6s\u001b[0m 2ms/step - accuracy: 0.9199 - loss: 0.2297 - val_accuracy: 0.9060 - val_loss: 0.2937\nEpoch 12/150\n\u001b[1m3047/3047\u001b[0m \u001b[32m━━━━━━━━━━━━━━━━━━━━\u001b[0m\u001b[37m\u001b[0m \u001b[1m6s\u001b[0m 2ms/step - accuracy: 0.9230 - loss: 0.2194 - val_accuracy: 0.9066 - val_loss: 0.2839\nEpoch 13/150\n\u001b[1m3047/3047\u001b[0m \u001b[32m━━━━━━━━━━━━━━━━━━━━\u001b[0m\u001b[37m\u001b[0m \u001b[1m6s\u001b[0m 2ms/step - accuracy: 0.9267 - loss: 0.2127 - val_accuracy: 0.9056 - val_loss: 0.2966\nEpoch 14/150\n\u001b[1m3047/3047\u001b[0m \u001b[32m━━━━━━━━━━━━━━━━━━━━\u001b[0m\u001b[37m\u001b[0m \u001b[1m6s\u001b[0m 2ms/step - accuracy: 0.9262 - loss: 0.2102 - val_accuracy: 0.9107 - val_loss: 0.2831\nEpoch 15/150\n\u001b[1m3047/3047\u001b[0m \u001b[32m━━━━━━━━━━━━━━━━━━━━\u001b[0m\u001b[37m\u001b[0m \u001b[1m6s\u001b[0m 2ms/step - accuracy: 0.9295 - loss: 0.2012 - val_accuracy: 0.9086 - val_loss: 0.2861\nEpoch 16/150\n\u001b[1m3047/3047\u001b[0m \u001b[32m━━━━━━━━━━━━━━━━━━━━\u001b[0m\u001b[37m\u001b[0m \u001b[1m6s\u001b[0m 2ms/step - accuracy: 0.9338 - loss: 0.1917 - val_accuracy: 0.9112 - val_loss: 0.2710\nEpoch 17/150\n\u001b[1m3047/3047\u001b[0m \u001b[32m━━━━━━━━━━━━━━━━━━━━\u001b[0m\u001b[37m\u001b[0m \u001b[1m6s\u001b[0m 2ms/step - accuracy: 0.9353 - loss: 0.1850 - val_accuracy: 0.9068 - val_loss: 0.2950\nEpoch 18/150\n\u001b[1m3047/3047\u001b[0m \u001b[32m━━━━━━━━━━━━━━━━━━━━\u001b[0m\u001b[37m\u001b[0m \u001b[1m6s\u001b[0m 2ms/step - accuracy: 0.9353 - loss: 0.1845 - val_accuracy: 0.9132 - val_loss: 0.2776\nEpoch 19/150\n\u001b[1m3047/3047\u001b[0m \u001b[32m━━━━━━━━━━━━━━━━━━━━\u001b[0m\u001b[37m\u001b[0m \u001b[1m6s\u001b[0m 2ms/step - accuracy: 0.9382 - loss: 0.1745 - val_accuracy: 0.9040 - val_loss: 0.3051\nEpoch 20/150\n\u001b[1m3047/3047\u001b[0m \u001b[32m━━━━━━━━━━━━━━━━━━━━\u001b[0m\u001b[37m\u001b[0m \u001b[1m6s\u001b[0m 2ms/step - accuracy: 0.9399 - loss: 0.1719 - val_accuracy: 0.9125 - val_loss: 0.2990\nEpoch 21/150\n\u001b[1m3047/3047\u001b[0m \u001b[32m━━━━━━━━━━━━━━━━━━━━\u001b[0m\u001b[37m\u001b[0m \u001b[1m6s\u001b[0m 2ms/step - accuracy: 0.9413 - loss: 0.1672 - val_accuracy: 0.9072 - val_loss: 0.3009\nEpoch 22/150\n\u001b[1m3047/3047\u001b[0m \u001b[32m━━━━━━━━━━━━━━━━━━━━\u001b[0m\u001b[37m\u001b[0m \u001b[1m6s\u001b[0m 2ms/step - accuracy: 0.9438 - loss: 0.1584 - val_accuracy: 0.9109 - val_loss: 0.2922\nEpoch 23/150\n\u001b[1m3047/3047\u001b[0m \u001b[32m━━━━━━━━━━━━━━━━━━━━\u001b[0m\u001b[37m\u001b[0m \u001b[1m6s\u001b[0m 2ms/step - accuracy: 0.9446 - loss: 0.1590 - val_accuracy: 0.9097 - val_loss: 0.2991\nEpoch 24/150\n\u001b[1m3047/3047\u001b[0m \u001b[32m━━━━━━━━━━━━━━━━━━━━\u001b[0m\u001b[37m\u001b[0m \u001b[1m6s\u001b[0m 2ms/step - accuracy: 0.9467 - loss: 0.1542 - val_accuracy: 0.9156 - val_loss: 0.2916\nEpoch 25/150\n\u001b[1m3047/3047\u001b[0m \u001b[32m━━━━━━━━━━━━━━━━━━━━\u001b[0m\u001b[37m\u001b[0m \u001b[1m6s\u001b[0m 2ms/step - accuracy: 0.9485 - loss: 0.1484 - val_accuracy: 0.9127 - val_loss: 0.2957\nEpoch 26/150\n\u001b[1m3047/3047\u001b[0m \u001b[32m━━━━━━━━━━━━━━━━━━━━\u001b[0m\u001b[37m\u001b[0m \u001b[1m6s\u001b[0m 2ms/step - accuracy: 0.9491 - loss: 0.1439 - val_accuracy: 0.9114 - val_loss: 0.2912\n",
          "output_type": "stream"
        }
      ],
      "execution_count": null
    },
    {
      "cell_type": "code",
      "source": [
        "from sklearn.metrics import classification_report\n",
        "loss, accuracy = model_4.evaluate(X_test_oct, y_test_oct)\n",
        "y_preds_oct = model_4.predict(X_test_oct)\n",
        "y_preds_oct = y_preds_oct.argmax(axis=1)\n",
        "print(f\"Model loss on test set: {loss}\")\n",
        "print(f\"Model accuracy on test set: {(accuracy*100):.2f}%\")\n",
        "print(\"-------------------------------------------------------\")\n",
        "print(classification_report(y_test_oct, y_preds_oct))"
      ],
      "metadata": {
        "trusted": true,
        "execution": {
          "iopub.status.busy": "2025-01-30T16:09:07.156094Z",
          "iopub.execute_input": "2025-01-30T16:09:07.156427Z",
          "iopub.status.idle": "2025-01-30T16:09:08.4577Z",
          "shell.execute_reply.started": "2025-01-30T16:09:07.156368Z",
          "shell.execute_reply": "2025-01-30T16:09:08.457Z"
        },
        "id": "8aaW5jl1Lqic",
        "outputId": "abced2b9-211b-4291-c476-bc705f4be131"
      },
      "outputs": [
        {
          "name": "stdout",
          "text": "\u001b[1m32/32\u001b[0m \u001b[32m━━━━━━━━━━━━━━━━━━━━\u001b[0m\u001b[37m\u001b[0m \u001b[1m1s\u001b[0m 22ms/step - accuracy: 0.7013 - loss: 0.9758\n\u001b[1m32/32\u001b[0m \u001b[32m━━━━━━━━━━━━━━━━━━━━\u001b[0m\u001b[37m\u001b[0m \u001b[1m1s\u001b[0m 9ms/step\nModel loss on test set: 0.9207260608673096\nModel accuracy on test set: 71.50%\n-------------------------------------------------------\n              precision    recall  f1-score   support\n\n           0       0.59      0.96      0.73       250\n           1       0.95      0.69      0.80       250\n           2       0.89      0.26      0.40       250\n           3       0.70      0.95      0.80       250\n\n    accuracy                           0.71      1000\n   macro avg       0.78      0.71      0.68      1000\nweighted avg       0.78      0.71      0.68      1000\n\n",
          "output_type": "stream"
        }
      ],
      "execution_count": null
    },
    {
      "cell_type": "code",
      "source": [
        "np.save('/kaggle/working/y_preds_oct.npy', y_preds_oct)"
      ],
      "metadata": {
        "trusted": true,
        "execution": {
          "iopub.status.busy": "2025-01-30T16:09:08.458506Z",
          "iopub.execute_input": "2025-01-30T16:09:08.458764Z",
          "iopub.status.idle": "2025-01-30T16:09:08.462745Z",
          "shell.execute_reply.started": "2025-01-30T16:09:08.458731Z",
          "shell.execute_reply": "2025-01-30T16:09:08.46207Z"
        },
        "id": "72YqQ5vyLqic"
      },
      "outputs": [],
      "execution_count": null
    },
    {
      "cell_type": "markdown",
      "source": [
        "## Organ Data"
      ],
      "metadata": {
        "id": "ur5_4SjuLqic"
      }
    },
    {
      "cell_type": "code",
      "source": [
        "organa_data = np.load('/kaggle/input/tensor-reloaded-multi-task-med-mnist/data/organamnist.npz')\n",
        "print(len(organa_data))\n",
        "organa_data.files"
      ],
      "metadata": {
        "trusted": true,
        "execution": {
          "iopub.status.busy": "2025-01-30T16:09:08.463415Z",
          "iopub.execute_input": "2025-01-30T16:09:08.463649Z",
          "iopub.status.idle": "2025-01-30T16:09:08.558306Z",
          "shell.execute_reply.started": "2025-01-30T16:09:08.46363Z",
          "shell.execute_reply": "2025-01-30T16:09:08.557628Z"
        },
        "id": "Je_JR_ZNLqic",
        "outputId": "8c890b76-9533-4474-8972-308f6aa1c4d4"
      },
      "outputs": [
        {
          "name": "stdout",
          "text": "6\n",
          "output_type": "stream"
        },
        {
          "execution_count": 55,
          "output_type": "execute_result",
          "data": {
            "text/plain": "['train_images',\n 'val_images',\n 'test_images',\n 'train_labels',\n 'val_labels',\n 'test_labels']"
          },
          "metadata": {}
        }
      ],
      "execution_count": null
    },
    {
      "cell_type": "code",
      "source": [
        "unique_organa = np.unique(organa_data['train_labels'])\n",
        "print(unique_organa)"
      ],
      "metadata": {
        "trusted": true,
        "execution": {
          "iopub.status.busy": "2025-01-30T16:09:08.559134Z",
          "iopub.execute_input": "2025-01-30T16:09:08.559446Z",
          "iopub.status.idle": "2025-01-30T16:09:08.568488Z",
          "shell.execute_reply.started": "2025-01-30T16:09:08.559414Z",
          "shell.execute_reply": "2025-01-30T16:09:08.567693Z"
        },
        "id": "2ZJiixZbLqic",
        "outputId": "4eb4711f-2fcd-4d69-8ab2-5a1d242930a4"
      },
      "outputs": [
        {
          "name": "stdout",
          "text": "[ 0  1  2  3  4  5  6  7  8  9 10]\n",
          "output_type": "stream"
        }
      ],
      "execution_count": null
    },
    {
      "cell_type": "code",
      "source": [
        "print(organa_data['train_images'].shape)\n",
        "print(organa_data['val_images'].shape)\n",
        "print(organa_data['test_images'].shape)\n",
        "print(organa_data['train_labels'].shape)\n",
        "print(organa_data['val_labels'].shape)\n",
        "print(organa_data['test_labels'].shape)"
      ],
      "metadata": {
        "trusted": true,
        "execution": {
          "iopub.status.busy": "2025-01-30T16:09:08.569225Z",
          "iopub.execute_input": "2025-01-30T16:09:08.569516Z",
          "iopub.status.idle": "2025-01-30T16:09:09.604712Z",
          "shell.execute_reply.started": "2025-01-30T16:09:08.569488Z",
          "shell.execute_reply": "2025-01-30T16:09:09.603898Z"
        },
        "id": "6mP2UOF4Lqid",
        "outputId": "015ca848-1c8e-4e2e-a226-b7da9e25dbd7"
      },
      "outputs": [
        {
          "name": "stdout",
          "text": "(34581, 28, 28)\n(6491, 28, 28)\n(17778, 28, 28)\n(34581, 1)\n(6491, 1)\n(17778, 1)\n",
          "output_type": "stream"
        }
      ],
      "execution_count": null
    },
    {
      "cell_type": "code",
      "source": [
        "X_train_organa = organa_data['train_images']\n",
        "X_val_organa = organa_data['val_images']\n",
        "X_test_organa = organa_data['test_images']\n",
        "y_train_organa = organa_data['train_labels']\n",
        "y_val_organa = organa_data['val_labels']\n",
        "y_test_organa = organa_data['test_labels']\n",
        "X_train_organa.shape, y_train_organa.shape"
      ],
      "metadata": {
        "trusted": true,
        "execution": {
          "iopub.status.busy": "2025-01-30T16:09:09.605522Z",
          "iopub.execute_input": "2025-01-30T16:09:09.605824Z",
          "iopub.status.idle": "2025-01-30T16:09:09.913065Z",
          "shell.execute_reply.started": "2025-01-30T16:09:09.605794Z",
          "shell.execute_reply": "2025-01-30T16:09:09.912331Z"
        },
        "id": "3-HTXoTELqid",
        "outputId": "a57c4c70-9c57-4c81-81ac-e92d77fae569"
      },
      "outputs": [
        {
          "execution_count": 58,
          "output_type": "execute_result",
          "data": {
            "text/plain": "((34581, 28, 28), (34581, 1))"
          },
          "metadata": {}
        }
      ],
      "execution_count": null
    },
    {
      "cell_type": "code",
      "source": [
        "import matplotlib.pyplot as plt\n",
        "sample_index = 1\n",
        "plt.imshow(X_train_organa[sample_index]);\n",
        "print(f\"Label: {y_train_organa[sample_index]}\")"
      ],
      "metadata": {
        "trusted": true,
        "execution": {
          "iopub.status.busy": "2025-01-30T16:09:09.913858Z",
          "iopub.execute_input": "2025-01-30T16:09:09.91418Z",
          "iopub.status.idle": "2025-01-30T16:09:10.064683Z",
          "shell.execute_reply.started": "2025-01-30T16:09:09.914148Z",
          "shell.execute_reply": "2025-01-30T16:09:10.064028Z"
        },
        "id": "EZQiHhXVLqid",
        "outputId": "03d2a4f6-2488-487e-fc8f-ea4b2a34f36a"
      },
      "outputs": [
        {
          "name": "stdout",
          "text": "Label: [8]\n",
          "output_type": "stream"
        },
        {
          "output_type": "display_data",
          "data": {
            "text/plain": "<Figure size 640x480 with 1 Axes>",
            "image/png": "[encoded data removed]"
          },
          "metadata": {}
        }
      ],
      "execution_count": null
    },
    {
      "cell_type": "code",
      "source": [
        "import random\n",
        "plt.figure(figsize=(7, 7))\n",
        "for i in range(4):\n",
        "  ax = plt.subplot(2, 2, i + 1)\n",
        "  rand_index = random.choice(range(len(X_train_organa)))\n",
        "  plt.imshow(X_train_organa[rand_index], cmap=plt.cm.binary)\n",
        "  plt.title(y_train_organa[rand_index])\n",
        "  plt.axis(False)"
      ],
      "metadata": {
        "trusted": true,
        "execution": {
          "iopub.status.busy": "2025-01-30T16:09:10.065483Z",
          "iopub.execute_input": "2025-01-30T16:09:10.065688Z",
          "iopub.status.idle": "2025-01-30T16:09:10.331543Z",
          "shell.execute_reply.started": "2025-01-30T16:09:10.065669Z",
          "shell.execute_reply": "2025-01-30T16:09:10.330721Z"
        },
        "id": "HhQrTVdALqid",
        "outputId": "909ce0c8-03c5-4118-c712-8f53d145092f"
      },
      "outputs": [
        {
          "output_type": "display_data",
          "data": {
            "text/plain": "<Figure size 700x700 with 4 Axes>",
            "image/png": "[encoded data removed]"
          },
          "metadata": {}
        }
      ],
      "execution_count": null
    },
    {
      "cell_type": "code",
      "source": [
        "y_train_organa = np.array(y_train_organa).ravel()\n",
        "y_val_organa = np.array(y_val_organa).ravel()\n",
        "y_test_organa = np.array(y_test_organa).ravel()\n",
        "y_train_organa.shape, y_val_organa.shape, y_test_organa.shape"
      ],
      "metadata": {
        "trusted": true,
        "execution": {
          "iopub.status.busy": "2025-01-30T16:09:10.332232Z",
          "iopub.execute_input": "2025-01-30T16:09:10.33247Z",
          "iopub.status.idle": "2025-01-30T16:09:10.338097Z",
          "shell.execute_reply.started": "2025-01-30T16:09:10.332449Z",
          "shell.execute_reply": "2025-01-30T16:09:10.337335Z"
        },
        "id": "OUt9Mt7hLqid",
        "outputId": "ce859c6b-0e19-4759-e893-6ac89a08e3f1"
      },
      "outputs": [
        {
          "execution_count": 61,
          "output_type": "execute_result",
          "data": {
            "text/plain": "((34581,), (6491,), (17778,))"
          },
          "metadata": {}
        }
      ],
      "execution_count": null
    },
    {
      "cell_type": "code",
      "source": [
        "X_train_organa = X_train_organa / 255\n",
        "X_test_organa = X_test_organa / 255\n",
        "X_val_organa = X_val_organa / 255\n",
        "X_train_organa.min(), X_train_organa.max()"
      ],
      "metadata": {
        "trusted": true,
        "execution": {
          "iopub.status.busy": "2025-01-30T16:09:10.338827Z",
          "iopub.execute_input": "2025-01-30T16:09:10.339066Z",
          "iopub.status.idle": "2025-01-30T16:09:10.527275Z",
          "shell.execute_reply.started": "2025-01-30T16:09:10.339045Z",
          "shell.execute_reply": "2025-01-30T16:09:10.526353Z"
        },
        "id": "aIoZ1WErLqid",
        "outputId": "79be5a06-03f6-45f9-df92-2378516614c1"
      },
      "outputs": [
        {
          "execution_count": 62,
          "output_type": "execute_result",
          "data": {
            "text/plain": "(0.0, 1.0)"
          },
          "metadata": {}
        }
      ],
      "execution_count": null
    },
    {
      "cell_type": "code",
      "source": [
        "import tensorflow as tf\n",
        "X_train_organa = tf.expand_dims(X_train_organa, axis=-1)\n",
        "X_val_organa = tf.expand_dims(X_val_organa, axis=-1)\n",
        "X_test_organa = tf.expand_dims(X_test_organa, axis=-1)\n",
        "X_train_organa.shape, X_val_organa.shape, X_test_organa.shape"
      ],
      "metadata": {
        "trusted": true,
        "execution": {
          "iopub.status.busy": "2025-01-30T16:09:10.528045Z",
          "iopub.execute_input": "2025-01-30T16:09:10.528278Z",
          "iopub.status.idle": "2025-01-30T16:09:10.930115Z",
          "shell.execute_reply.started": "2025-01-30T16:09:10.528252Z",
          "shell.execute_reply": "2025-01-30T16:09:10.929461Z"
        },
        "id": "piElFl3YLqie",
        "outputId": "bbd10039-0e94-4c3e-eb26-7b75370d7cfe"
      },
      "outputs": [
        {
          "execution_count": 63,
          "output_type": "execute_result",
          "data": {
            "text/plain": "(TensorShape([34581, 28, 28, 1]),\n TensorShape([6491, 28, 28, 1]),\n TensorShape([17778, 28, 28, 1]))"
          },
          "metadata": {}
        }
      ],
      "execution_count": null
    },
    {
      "cell_type": "code",
      "source": [
        "from tensorflow.keras.models import Sequential\n",
        "from tensorflow.keras.layers import Conv2D, MaxPooling2D, Flatten, Dense, Dropout\n",
        "from tensorflow.keras.optimizers import Adam\n",
        "\n",
        "model_5 = Sequential()\n",
        "\n",
        "model_5.add(Conv2D(40, (3, 3), activation='leaky_relu', input_shape=(28, 28, 1)))\n",
        "model_5.add(MaxPooling2D(pool_size=(2, 2)))\n",
        "\n",
        "model_5.add(Conv2D(48, (3, 3), activation='leaky_relu'))\n",
        "model_5.add(MaxPooling2D(pool_size=(2, 2)))\n",
        "\n",
        "# Flatten the output from the convolutional layers\n",
        "model_5.add(Flatten())\n",
        "\n",
        "# Fully connected layers\n",
        "model_5.add(Dense(88, activation='leaky_relu'))\n",
        "model_5.add(Dropout(0.25))\n",
        "model_5.add(Dense(128, activation='leaky_relu'))\n",
        "model_5.add(Dense(64, activation='leaky_relu'))\n",
        "model_5.add(Dense(11, activation='softmax'))  # Output layer for multi-class classification\n",
        "\n",
        "# Compile the model\n",
        "model_5.compile(optimizer='adam', loss='sparse_categorical_crossentropy', metrics=['accuracy'])\n",
        "\n",
        "# Model summary\n",
        "model_5.summary()\n",
        "\n",
        "early_stopping = EarlyStopping(\n",
        "    monitor='val_loss',\n",
        "    patience=10,\n",
        "    restore_best_weights=True\n",
        ")\n",
        "\n",
        "history_5 = model_5.fit(X_train_organa,\n",
        "                        y_train_organa,\n",
        "                        epochs=150,\n",
        "                        verbose=True,\n",
        "                        validation_data=(X_val_organa, y_val_organa),\n",
        "                        callbacks=[early_stopping])"
      ],
      "metadata": {
        "trusted": true,
        "execution": {
          "iopub.status.busy": "2025-01-30T16:09:10.930847Z",
          "iopub.execute_input": "2025-01-30T16:09:10.931121Z",
          "iopub.status.idle": "2025-01-30T16:10:12.604994Z",
          "shell.execute_reply.started": "2025-01-30T16:09:10.931097Z",
          "shell.execute_reply": "2025-01-30T16:10:12.604067Z"
        },
        "id": "Nm8n6nG_Lqie",
        "outputId": "2c09275b-c565-43fd-d888-3dc039bed6dd"
      },
      "outputs": [
        {
          "name": "stderr",
          "text": "/usr/local/lib/python3.10/dist-packages/keras/src/layers/convolutional/base_conv.py:107: UserWarning: Do not pass an `input_shape`/`input_dim` argument to a layer. When using Sequential models, prefer using an `Input(shape)` object as the first layer in the model instead.\n  super().__init__(activity_regularizer=activity_regularizer, **kwargs)\n",
          "output_type": "stream"
        },
        {
          "output_type": "display_data",
          "data": {
            "text/plain": "\u001b[1mModel: \"sequential_7\"\u001b[0m\n",
            "text/html": "<pre style=\"white-space:pre;overflow-x:auto;line-height:normal;font-family:Menlo,'DejaVu Sans Mono',consolas,'Courier New',monospace\"><span style=\"font-weight: bold\">Model: \"sequential_7\"</span>\n</pre>\n"
          },
          "metadata": {}
        },
        {
          "output_type": "display_data",
          "data": {
            "text/plain": "┏━━━━━━━━━━━━━━━━━━━━━━━━━━━━━━━━━━━━━━┳━━━━━━━━━━━━━━━━━━━━━━━━━━━━━┳━━━━━━━━━━━━━━━━━┓\n┃\u001b[1m \u001b[0m\u001b[1mLayer (type)                        \u001b[0m\u001b[1m \u001b[0m┃\u001b[1m \u001b[0m\u001b[1mOutput Shape               \u001b[0m\u001b[1m \u001b[0m┃\u001b[1m \u001b[0m\u001b[1m        Param #\u001b[0m\u001b[1m \u001b[0m┃\n┡━━━━━━━━━━━━━━━━━━━━━━━━━━━━━━━━━━━━━━╇━━━━━━━━━━━━━━━━━━━━━━━━━━━━━╇━━━━━━━━━━━━━━━━━┩\n│ conv2d_10 (\u001b[38;5;33mConv2D\u001b[0m)                   │ (\u001b[38;5;45mNone\u001b[0m, \u001b[38;5;34m26\u001b[0m, \u001b[38;5;34m26\u001b[0m, \u001b[38;5;34m40\u001b[0m)          │             \u001b[38;5;34m400\u001b[0m │\n├──────────────────────────────────────┼─────────────────────────────┼─────────────────┤\n│ max_pooling2d_10 (\u001b[38;5;33mMaxPooling2D\u001b[0m)      │ (\u001b[38;5;45mNone\u001b[0m, \u001b[38;5;34m13\u001b[0m, \u001b[38;5;34m13\u001b[0m, \u001b[38;5;34m40\u001b[0m)          │               \u001b[38;5;34m0\u001b[0m │\n├──────────────────────────────────────┼─────────────────────────────┼─────────────────┤\n│ conv2d_11 (\u001b[38;5;33mConv2D\u001b[0m)                   │ (\u001b[38;5;45mNone\u001b[0m, \u001b[38;5;34m11\u001b[0m, \u001b[38;5;34m11\u001b[0m, \u001b[38;5;34m48\u001b[0m)          │          \u001b[38;5;34m17,328\u001b[0m │\n├──────────────────────────────────────┼─────────────────────────────┼─────────────────┤\n│ max_pooling2d_11 (\u001b[38;5;33mMaxPooling2D\u001b[0m)      │ (\u001b[38;5;45mNone\u001b[0m, \u001b[38;5;34m5\u001b[0m, \u001b[38;5;34m5\u001b[0m, \u001b[38;5;34m48\u001b[0m)            │               \u001b[38;5;34m0\u001b[0m │\n├──────────────────────────────────────┼─────────────────────────────┼─────────────────┤\n│ flatten_5 (\u001b[38;5;33mFlatten\u001b[0m)                  │ (\u001b[38;5;45mNone\u001b[0m, \u001b[38;5;34m1200\u001b[0m)                │               \u001b[38;5;34m0\u001b[0m │\n├──────────────────────────────────────┼─────────────────────────────┼─────────────────┤\n│ dense_20 (\u001b[38;5;33mDense\u001b[0m)                     │ (\u001b[38;5;45mNone\u001b[0m, \u001b[38;5;34m88\u001b[0m)                  │         \u001b[38;5;34m105,688\u001b[0m │\n├──────────────────────────────────────┼─────────────────────────────┼─────────────────┤\n│ dropout_5 (\u001b[38;5;33mDropout\u001b[0m)                  │ (\u001b[38;5;45mNone\u001b[0m, \u001b[38;5;34m88\u001b[0m)                  │               \u001b[38;5;34m0\u001b[0m │\n├──────────────────────────────────────┼─────────────────────────────┼─────────────────┤\n│ dense_21 (\u001b[38;5;33mDense\u001b[0m)                     │ (\u001b[38;5;45mNone\u001b[0m, \u001b[38;5;34m128\u001b[0m)                 │          \u001b[38;5;34m11,392\u001b[0m │\n├──────────────────────────────────────┼─────────────────────────────┼─────────────────┤\n│ dense_22 (\u001b[38;5;33mDense\u001b[0m)                     │ (\u001b[38;5;45mNone\u001b[0m, \u001b[38;5;34m64\u001b[0m)                  │           \u001b[38;5;34m8,256\u001b[0m │\n├──────────────────────────────────────┼─────────────────────────────┼─────────────────┤\n│ dense_23 (\u001b[38;5;33mDense\u001b[0m)                     │ (\u001b[38;5;45mNone\u001b[0m, \u001b[38;5;34m11\u001b[0m)                  │             \u001b[38;5;34m715\u001b[0m │\n└──────────────────────────────────────┴─────────────────────────────┴─────────────────┘\n",
            "text/html": "<pre style=\"white-space:pre;overflow-x:auto;line-height:normal;font-family:Menlo,'DejaVu Sans Mono',consolas,'Courier New',monospace\">┏━━━━━━━━━━━━━━━━━━━━━━━━━━━━━━━━━━━━━━┳━━━━━━━━━━━━━━━━━━━━━━━━━━━━━┳━━━━━━━━━━━━━━━━━┓\n┃<span style=\"font-weight: bold\"> Layer (type)                         </span>┃<span style=\"font-weight: bold\"> Output Shape                </span>┃<span style=\"font-weight: bold\">         Param # </span>┃\n┡━━━━━━━━━━━━━━━━━━━━━━━━━━━━━━━━━━━━━━╇━━━━━━━━━━━━━━━━━━━━━━━━━━━━━╇━━━━━━━━━━━━━━━━━┩\n│ conv2d_10 (<span style=\"color: #0087ff; text-decoration-color: #0087ff\">Conv2D</span>)                   │ (<span style=\"color: #00d7ff; text-decoration-color: #00d7ff\">None</span>, <span style=\"color: #00af00; text-decoration-color: #00af00\">26</span>, <span style=\"color: #00af00; text-decoration-color: #00af00\">26</span>, <span style=\"color: #00af00; text-decoration-color: #00af00\">40</span>)          │             <span style=\"color: #00af00; text-decoration-color: #00af00\">400</span> │\n├──────────────────────────────────────┼─────────────────────────────┼─────────────────┤\n│ max_pooling2d_10 (<span style=\"color: #0087ff; text-decoration-color: #0087ff\">MaxPooling2D</span>)      │ (<span style=\"color: #00d7ff; text-decoration-color: #00d7ff\">None</span>, <span style=\"color: #00af00; text-decoration-color: #00af00\">13</span>, <span style=\"color: #00af00; text-decoration-color: #00af00\">13</span>, <span style=\"color: #00af00; text-decoration-color: #00af00\">40</span>)          │               <span style=\"color: #00af00; text-decoration-color: #00af00\">0</span> │\n├──────────────────────────────────────┼─────────────────────────────┼─────────────────┤\n│ conv2d_11 (<span style=\"color: #0087ff; text-decoration-color: #0087ff\">Conv2D</span>)                   │ (<span style=\"color: #00d7ff; text-decoration-color: #00d7ff\">None</span>, <span style=\"color: #00af00; text-decoration-color: #00af00\">11</span>, <span style=\"color: #00af00; text-decoration-color: #00af00\">11</span>, <span style=\"color: #00af00; text-decoration-color: #00af00\">48</span>)          │          <span style=\"color: #00af00; text-decoration-color: #00af00\">17,328</span> │\n├──────────────────────────────────────┼─────────────────────────────┼─────────────────┤\n│ max_pooling2d_11 (<span style=\"color: #0087ff; text-decoration-color: #0087ff\">MaxPooling2D</span>)      │ (<span style=\"color: #00d7ff; text-decoration-color: #00d7ff\">None</span>, <span style=\"color: #00af00; text-decoration-color: #00af00\">5</span>, <span style=\"color: #00af00; text-decoration-color: #00af00\">5</span>, <span style=\"color: #00af00; text-decoration-color: #00af00\">48</span>)            │               <span style=\"color: #00af00; text-decoration-color: #00af00\">0</span> │\n├──────────────────────────────────────┼─────────────────────────────┼─────────────────┤\n│ flatten_5 (<span style=\"color: #0087ff; text-decoration-color: #0087ff\">Flatten</span>)                  │ (<span style=\"color: #00d7ff; text-decoration-color: #00d7ff\">None</span>, <span style=\"color: #00af00; text-decoration-color: #00af00\">1200</span>)                │               <span style=\"color: #00af00; text-decoration-color: #00af00\">0</span> │\n├──────────────────────────────────────┼─────────────────────────────┼─────────────────┤\n│ dense_20 (<span style=\"color: #0087ff; text-decoration-color: #0087ff\">Dense</span>)                     │ (<span style=\"color: #00d7ff; text-decoration-color: #00d7ff\">None</span>, <span style=\"color: #00af00; text-decoration-color: #00af00\">88</span>)                  │         <span style=\"color: #00af00; text-decoration-color: #00af00\">105,688</span> │\n├──────────────────────────────────────┼─────────────────────────────┼─────────────────┤\n│ dropout_5 (<span style=\"color: #0087ff; text-decoration-color: #0087ff\">Dropout</span>)                  │ (<span style=\"color: #00d7ff; text-decoration-color: #00d7ff\">None</span>, <span style=\"color: #00af00; text-decoration-color: #00af00\">88</span>)                  │               <span style=\"color: #00af00; text-decoration-color: #00af00\">0</span> │\n├──────────────────────────────────────┼─────────────────────────────┼─────────────────┤\n│ dense_21 (<span style=\"color: #0087ff; text-decoration-color: #0087ff\">Dense</span>)                     │ (<span style=\"color: #00d7ff; text-decoration-color: #00d7ff\">None</span>, <span style=\"color: #00af00; text-decoration-color: #00af00\">128</span>)                 │          <span style=\"color: #00af00; text-decoration-color: #00af00\">11,392</span> │\n├──────────────────────────────────────┼─────────────────────────────┼─────────────────┤\n│ dense_22 (<span style=\"color: #0087ff; text-decoration-color: #0087ff\">Dense</span>)                     │ (<span style=\"color: #00d7ff; text-decoration-color: #00d7ff\">None</span>, <span style=\"color: #00af00; text-decoration-color: #00af00\">64</span>)                  │           <span style=\"color: #00af00; text-decoration-color: #00af00\">8,256</span> │\n├──────────────────────────────────────┼─────────────────────────────┼─────────────────┤\n│ dense_23 (<span style=\"color: #0087ff; text-decoration-color: #0087ff\">Dense</span>)                     │ (<span style=\"color: #00d7ff; text-decoration-color: #00d7ff\">None</span>, <span style=\"color: #00af00; text-decoration-color: #00af00\">11</span>)                  │             <span style=\"color: #00af00; text-decoration-color: #00af00\">715</span> │\n└──────────────────────────────────────┴─────────────────────────────┴─────────────────┘\n</pre>\n"
          },
          "metadata": {}
        },
        {
          "output_type": "display_data",
          "data": {
            "text/plain": "\u001b[1m Total params: \u001b[0m\u001b[38;5;34m143,779\u001b[0m (561.64 KB)\n",
            "text/html": "<pre style=\"white-space:pre;overflow-x:auto;line-height:normal;font-family:Menlo,'DejaVu Sans Mono',consolas,'Courier New',monospace\"><span style=\"font-weight: bold\"> Total params: </span><span style=\"color: #00af00; text-decoration-color: #00af00\">143,779</span> (561.64 KB)\n</pre>\n"
          },
          "metadata": {}
        },
        {
          "output_type": "display_data",
          "data": {
            "text/plain": "\u001b[1m Trainable params: \u001b[0m\u001b[38;5;34m143,779\u001b[0m (561.64 KB)\n",
            "text/html": "<pre style=\"white-space:pre;overflow-x:auto;line-height:normal;font-family:Menlo,'DejaVu Sans Mono',consolas,'Courier New',monospace\"><span style=\"font-weight: bold\"> Trainable params: </span><span style=\"color: #00af00; text-decoration-color: #00af00\">143,779</span> (561.64 KB)\n</pre>\n"
          },
          "metadata": {}
        },
        {
          "output_type": "display_data",
          "data": {
            "text/plain": "\u001b[1m Non-trainable params: \u001b[0m\u001b[38;5;34m0\u001b[0m (0.00 B)\n",
            "text/html": "<pre style=\"white-space:pre;overflow-x:auto;line-height:normal;font-family:Menlo,'DejaVu Sans Mono',consolas,'Courier New',monospace\"><span style=\"font-weight: bold\"> Non-trainable params: </span><span style=\"color: #00af00; text-decoration-color: #00af00\">0</span> (0.00 B)\n</pre>\n"
          },
          "metadata": {}
        },
        {
          "name": "stdout",
          "text": "Epoch 1/150\n\u001b[1m1081/1081\u001b[0m \u001b[32m━━━━━━━━━━━━━━━━━━━━\u001b[0m\u001b[37m\u001b[0m \u001b[1m17s\u001b[0m 12ms/step - accuracy: 0.6157 - loss: 1.0876 - val_accuracy: 0.9364 - val_loss: 0.2230\nEpoch 2/150\n\u001b[1m1081/1081\u001b[0m \u001b[32m━━━━━━━━━━━━━━━━━━━━\u001b[0m\u001b[37m\u001b[0m \u001b[1m2s\u001b[0m 2ms/step - accuracy: 0.8963 - loss: 0.2960 - val_accuracy: 0.9472 - val_loss: 0.1654\nEpoch 3/150\n\u001b[1m1081/1081\u001b[0m \u001b[32m━━━━━━━━━━━━━━━━━━━━\u001b[0m\u001b[37m\u001b[0m \u001b[1m2s\u001b[0m 2ms/step - accuracy: 0.9384 - loss: 0.1734 - val_accuracy: 0.9419 - val_loss: 0.2739\nEpoch 4/150\n\u001b[1m1081/1081\u001b[0m \u001b[32m━━━━━━━━━━━━━━━━━━━━\u001b[0m\u001b[37m\u001b[0m \u001b[1m2s\u001b[0m 2ms/step - accuracy: 0.9575 - loss: 0.1264 - val_accuracy: 0.9509 - val_loss: 0.2154\nEpoch 5/150\n\u001b[1m1081/1081\u001b[0m \u001b[32m━━━━━━━━━━━━━━━━━━━━\u001b[0m\u001b[37m\u001b[0m \u001b[1m2s\u001b[0m 2ms/step - accuracy: 0.9647 - loss: 0.1000 - val_accuracy: 0.9527 - val_loss: 0.2041\nEpoch 6/150\n\u001b[1m1081/1081\u001b[0m \u001b[32m━━━━━━━━━━━━━━━━━━━━\u001b[0m\u001b[37m\u001b[0m \u001b[1m2s\u001b[0m 2ms/step - accuracy: 0.9706 - loss: 0.0838 - val_accuracy: 0.9632 - val_loss: 0.1460\nEpoch 7/150\n\u001b[1m1081/1081\u001b[0m \u001b[32m━━━━━━━━━━━━━━━━━━━━\u001b[0m\u001b[37m\u001b[0m \u001b[1m3s\u001b[0m 2ms/step - accuracy: 0.9741 - loss: 0.0779 - val_accuracy: 0.9653 - val_loss: 0.1725\nEpoch 8/150\n\u001b[1m1081/1081\u001b[0m \u001b[32m━━━━━━━━━━━━━━━━━━━━\u001b[0m\u001b[37m\u001b[0m \u001b[1m3s\u001b[0m 2ms/step - accuracy: 0.9807 - loss: 0.0588 - val_accuracy: 0.9467 - val_loss: 0.2848\nEpoch 9/150\n\u001b[1m1081/1081\u001b[0m \u001b[32m━━━━━━━━━━━━━━━━━━━━\u001b[0m\u001b[37m\u001b[0m \u001b[1m2s\u001b[0m 2ms/step - accuracy: 0.9787 - loss: 0.0588 - val_accuracy: 0.9627 - val_loss: 0.1451\nEpoch 10/150\n\u001b[1m1081/1081\u001b[0m \u001b[32m━━━━━━━━━━━━━━━━━━━━\u001b[0m\u001b[37m\u001b[0m \u001b[1m2s\u001b[0m 2ms/step - accuracy: 0.9829 - loss: 0.0489 - val_accuracy: 0.9578 - val_loss: 0.2322\nEpoch 11/150\n\u001b[1m1081/1081\u001b[0m \u001b[32m━━━━━━━━━━━━━━━━━━━━\u001b[0m\u001b[37m\u001b[0m \u001b[1m2s\u001b[0m 2ms/step - accuracy: 0.9831 - loss: 0.0499 - val_accuracy: 0.9493 - val_loss: 0.2500\nEpoch 12/150\n\u001b[1m1081/1081\u001b[0m \u001b[32m━━━━━━━━━━━━━━━━━━━━\u001b[0m\u001b[37m\u001b[0m \u001b[1m2s\u001b[0m 2ms/step - accuracy: 0.9853 - loss: 0.0437 - val_accuracy: 0.9418 - val_loss: 0.2861\nEpoch 13/150\n\u001b[1m1081/1081\u001b[0m \u001b[32m━━━━━━━━━━━━━━━━━━━━\u001b[0m\u001b[37m\u001b[0m \u001b[1m2s\u001b[0m 2ms/step - accuracy: 0.9844 - loss: 0.0468 - val_accuracy: 0.9629 - val_loss: 0.1979\nEpoch 14/150\n\u001b[1m1081/1081\u001b[0m \u001b[32m━━━━━━━━━━━━━━━━━━━━\u001b[0m\u001b[37m\u001b[0m \u001b[1m2s\u001b[0m 2ms/step - accuracy: 0.9865 - loss: 0.0413 - val_accuracy: 0.9573 - val_loss: 0.2359\nEpoch 15/150\n\u001b[1m1081/1081\u001b[0m \u001b[32m━━━━━━━━━━━━━━━━━━━━\u001b[0m\u001b[37m\u001b[0m \u001b[1m2s\u001b[0m 2ms/step - accuracy: 0.9877 - loss: 0.0358 - val_accuracy: 0.9595 - val_loss: 0.2170\nEpoch 16/150\n\u001b[1m1081/1081\u001b[0m \u001b[32m━━━━━━━━━━━━━━━━━━━━\u001b[0m\u001b[37m\u001b[0m \u001b[1m2s\u001b[0m 2ms/step - accuracy: 0.9882 - loss: 0.0355 - val_accuracy: 0.9564 - val_loss: 0.2851\nEpoch 17/150\n\u001b[1m1081/1081\u001b[0m \u001b[32m━━━━━━━━━━━━━━━━━━━━\u001b[0m\u001b[37m\u001b[0m \u001b[1m2s\u001b[0m 2ms/step - accuracy: 0.9879 - loss: 0.0362 - val_accuracy: 0.9644 - val_loss: 0.2017\nEpoch 18/150\n\u001b[1m1081/1081\u001b[0m \u001b[32m━━━━━━━━━━━━━━━━━━━━\u001b[0m\u001b[37m\u001b[0m \u001b[1m2s\u001b[0m 2ms/step - accuracy: 0.9900 - loss: 0.0292 - val_accuracy: 0.9658 - val_loss: 0.1702\nEpoch 19/150\n\u001b[1m1081/1081\u001b[0m \u001b[32m━━━━━━━━━━━━━━━━━━━━\u001b[0m\u001b[37m\u001b[0m \u001b[1m2s\u001b[0m 2ms/step - accuracy: 0.9903 - loss: 0.0295 - val_accuracy: 0.9586 - val_loss: 0.2588\n",
          "output_type": "stream"
        }
      ],
      "execution_count": null
    },
    {
      "cell_type": "code",
      "source": [
        "from sklearn.metrics import classification_report\n",
        "loss, accuracy = model_5.evaluate(X_test_organa, y_test_organa)\n",
        "y_preds_organa = model_5.predict(X_test_organa)\n",
        "y_preds_organa = y_preds_organa.argmax(axis=1)\n",
        "print(f\"Model loss on test set: {loss}\")\n",
        "print(f\"Model accuracy on test set: {(accuracy*100):.2f}%\")\n",
        "print(\"-------------------------------------------------------\")\n",
        "print(classification_report(y_test_organa, y_preds_organa))"
      ],
      "metadata": {
        "trusted": true,
        "execution": {
          "iopub.status.busy": "2025-01-30T16:10:12.606082Z",
          "iopub.execute_input": "2025-01-30T16:10:12.606419Z",
          "iopub.status.idle": "2025-01-30T16:10:15.383479Z",
          "shell.execute_reply.started": "2025-01-30T16:10:12.606369Z",
          "shell.execute_reply": "2025-01-30T16:10:15.382468Z"
        },
        "id": "umsfKMX1Lqif",
        "outputId": "c3196289-9b46-4df6-9302-49937f9f8e10"
      },
      "outputs": [
        {
          "name": "stdout",
          "text": "\u001b[1m556/556\u001b[0m \u001b[32m━━━━━━━━━━━━━━━━━━━━\u001b[0m\u001b[37m\u001b[0m \u001b[1m1s\u001b[0m 2ms/step - accuracy: 0.8719 - loss: 0.5873\n\u001b[1m556/556\u001b[0m \u001b[32m━━━━━━━━━━━━━━━━━━━━\u001b[0m\u001b[37m\u001b[0m \u001b[1m1s\u001b[0m 2ms/step\nModel loss on test set: 0.6118286848068237\nModel accuracy on test set: 86.95%\n-------------------------------------------------------\n              precision    recall  f1-score   support\n\n           0       0.78      0.83      0.81      1036\n           1       0.91      0.88      0.90       784\n           2       0.95      0.83      0.89       793\n           3       0.96      0.82      0.88       785\n           4       0.70      0.69      0.70      2064\n           5       0.77      0.79      0.78      1965\n           6       0.97      0.98      0.97      3285\n           7       0.97      0.98      0.97      1747\n           8       0.99      0.99      0.99      1813\n           9       0.90      0.83      0.86      1622\n          10       0.74      0.84      0.79      1884\n\n    accuracy                           0.87     17778\n   macro avg       0.88      0.86      0.87     17778\nweighted avg       0.87      0.87      0.87     17778\n\n",
          "output_type": "stream"
        }
      ],
      "execution_count": null
    },
    {
      "cell_type": "code",
      "source": [
        "np.save('/kaggle/working/y_preds_organa.npy', y_preds_organa)"
      ],
      "metadata": {
        "trusted": true,
        "execution": {
          "iopub.status.busy": "2025-01-30T16:10:15.384367Z",
          "iopub.execute_input": "2025-01-30T16:10:15.384729Z",
          "iopub.status.idle": "2025-01-30T16:10:15.389471Z",
          "shell.execute_reply.started": "2025-01-30T16:10:15.384693Z",
          "shell.execute_reply": "2025-01-30T16:10:15.388552Z"
        },
        "id": "-CcoFzkPLqif"
      },
      "outputs": [],
      "execution_count": null
    },
    {
      "cell_type": "markdown",
      "source": [
        "## Organc Data"
      ],
      "metadata": {
        "id": "RowyqGc6Lqig"
      }
    },
    {
      "cell_type": "code",
      "source": [
        "organc_data = np.load('/kaggle/input/tensor-reloaded-multi-task-med-mnist/data/organcmnist.npz')\n",
        "print(len(organc_data))\n",
        "organc_data.files"
      ],
      "metadata": {
        "trusted": true,
        "execution": {
          "iopub.status.busy": "2025-01-30T16:10:15.390345Z",
          "iopub.execute_input": "2025-01-30T16:10:15.390613Z",
          "iopub.status.idle": "2025-01-30T16:10:15.489767Z",
          "shell.execute_reply.started": "2025-01-30T16:10:15.390592Z",
          "shell.execute_reply": "2025-01-30T16:10:15.488981Z"
        },
        "id": "TKCnKP7ZLqih",
        "outputId": "31a998d7-ba66-4040-8d2a-d25bc0d0d386"
      },
      "outputs": [
        {
          "name": "stdout",
          "text": "6\n",
          "output_type": "stream"
        },
        {
          "execution_count": 67,
          "output_type": "execute_result",
          "data": {
            "text/plain": "['train_images',\n 'val_images',\n 'test_images',\n 'train_labels',\n 'val_labels',\n 'test_labels']"
          },
          "metadata": {}
        }
      ],
      "execution_count": null
    },
    {
      "cell_type": "code",
      "source": [
        "print(organc_data['train_images'].shape)\n",
        "print(organc_data['val_images'].shape)\n",
        "print(organc_data['test_images'].shape)\n",
        "print(organc_data['train_labels'].shape)\n",
        "print(organc_data['val_labels'].shape)\n",
        "print(organc_data['test_labels'].shape)"
      ],
      "metadata": {
        "trusted": true,
        "execution": {
          "iopub.status.busy": "2025-01-30T16:10:15.497059Z",
          "iopub.execute_input": "2025-01-30T16:10:15.497262Z",
          "iopub.status.idle": "2025-01-30T16:10:15.965707Z",
          "shell.execute_reply.started": "2025-01-30T16:10:15.497244Z",
          "shell.execute_reply": "2025-01-30T16:10:15.964973Z"
        },
        "id": "aosbYH9iLqih",
        "outputId": "fe0dfa70-9369-4fdd-a3e2-2867063695d8"
      },
      "outputs": [
        {
          "name": "stdout",
          "text": "(13000, 28, 28)\n(2392, 28, 28)\n(8268, 28, 28)\n(13000, 1)\n(2392, 1)\n(8268, 1)\n",
          "output_type": "stream"
        }
      ],
      "execution_count": null
    },
    {
      "cell_type": "code",
      "source": [
        "unique_organc = np.unique(organc_data['train_labels'])\n",
        "print(unique_organc)"
      ],
      "metadata": {
        "trusted": true,
        "execution": {
          "iopub.status.busy": "2025-01-30T16:10:15.967697Z",
          "iopub.execute_input": "2025-01-30T16:10:15.967905Z",
          "iopub.status.idle": "2025-01-30T16:10:15.973074Z",
          "shell.execute_reply.started": "2025-01-30T16:10:15.967887Z",
          "shell.execute_reply": "2025-01-30T16:10:15.972141Z"
        },
        "id": "cghMmA6RLqih",
        "outputId": "adde2e91-7d6c-4a9e-9f3e-ac8e74bec40b"
      },
      "outputs": [
        {
          "name": "stdout",
          "text": "[ 0  1  2  3  4  5  6  7  8  9 10]\n",
          "output_type": "stream"
        }
      ],
      "execution_count": null
    },
    {
      "cell_type": "code",
      "source": [
        "X_train_organc = organc_data['train_images']\n",
        "X_val_organc = organc_data['val_images']\n",
        "X_test_organc = organc_data['test_images']\n",
        "y_train_organc = organc_data['train_labels']\n",
        "y_val_organc = organc_data['val_labels']\n",
        "y_test_organc = organc_data['test_labels']\n",
        "X_train_organc.shape, y_train_organc.shape"
      ],
      "metadata": {
        "trusted": true,
        "execution": {
          "iopub.status.busy": "2025-01-30T16:10:15.974029Z",
          "iopub.execute_input": "2025-01-30T16:10:15.97426Z",
          "iopub.status.idle": "2025-01-30T16:10:16.114508Z",
          "shell.execute_reply.started": "2025-01-30T16:10:15.974241Z",
          "shell.execute_reply": "2025-01-30T16:10:16.113768Z"
        },
        "id": "gGn5aDTDLqii",
        "outputId": "ef9e299e-7134-4a30-c0b0-e0e6c94cca9b"
      },
      "outputs": [
        {
          "execution_count": 70,
          "output_type": "execute_result",
          "data": {
            "text/plain": "((13000, 28, 28), (13000, 1))"
          },
          "metadata": {}
        }
      ],
      "execution_count": null
    },
    {
      "cell_type": "code",
      "source": [
        "import matplotlib.pyplot as plt\n",
        "sample_index = 1\n",
        "plt.imshow(X_train_organc[sample_index]);\n",
        "print(f\"Label: {y_train_organc[sample_index]}\")"
      ],
      "metadata": {
        "trusted": true,
        "execution": {
          "iopub.status.busy": "2025-01-30T16:10:16.11531Z",
          "iopub.execute_input": "2025-01-30T16:10:16.11554Z",
          "iopub.status.idle": "2025-01-30T16:10:16.270797Z",
          "shell.execute_reply.started": "2025-01-30T16:10:16.115512Z",
          "shell.execute_reply": "2025-01-30T16:10:16.270031Z"
        },
        "id": "krWmPY4iLqii",
        "outputId": "ab090522-e5b6-4000-af5d-7db2c94bfb84"
      },
      "outputs": [
        {
          "name": "stdout",
          "text": "Label: [8]\n",
          "output_type": "stream"
        },
        {
          "output_type": "display_data",
          "data": {
            "text/plain": "<Figure size 640x480 with 1 Axes>",
            "image/png": "[encoded data removed]"
          },
          "metadata": {}
        }
      ],
      "execution_count": null
    },
    {
      "cell_type": "code",
      "source": [
        "import random\n",
        "plt.figure(figsize=(7, 7))\n",
        "for i in range(4):\n",
        "  ax = plt.subplot(2, 2, i + 1)\n",
        "  rand_index = random.choice(range(len(X_train_organc)))\n",
        "  plt.imshow(X_train_organc[rand_index])\n",
        "  plt.title(y_train_organc[rand_index])\n",
        "  plt.axis(False)"
      ],
      "metadata": {
        "trusted": true,
        "execution": {
          "iopub.status.busy": "2025-01-30T16:10:16.271687Z",
          "iopub.execute_input": "2025-01-30T16:10:16.272019Z",
          "iopub.status.idle": "2025-01-30T16:10:16.991313Z",
          "shell.execute_reply.started": "2025-01-30T16:10:16.271992Z",
          "shell.execute_reply": "2025-01-30T16:10:16.990295Z"
        },
        "id": "J-Xl3Yi5Lqii",
        "outputId": "d16f81c1-1439-4dde-87cb-d4159cc0fb44"
      },
      "outputs": [
        {
          "output_type": "display_data",
          "data": {
            "text/plain": "<Figure size 700x700 with 4 Axes>",
            "image/png": "[encoded data removed]"
          },
          "metadata": {}
        }
      ],
      "execution_count": null
    },
    {
      "cell_type": "code",
      "source": [
        "y_train_organc = np.array(y_train_organc).ravel()\n",
        "y_val_organc = np.array(y_val_organc).ravel()\n",
        "y_test_organc = np.array(y_test_organc).ravel()\n",
        "y_train_organc.shape, y_val_organc.shape, y_test_organc.shape"
      ],
      "metadata": {
        "trusted": true,
        "execution": {
          "iopub.status.busy": "2025-01-30T16:10:16.99231Z",
          "iopub.execute_input": "2025-01-30T16:10:16.99264Z",
          "iopub.status.idle": "2025-01-30T16:10:16.998282Z",
          "shell.execute_reply.started": "2025-01-30T16:10:16.992615Z",
          "shell.execute_reply": "2025-01-30T16:10:16.997463Z"
        },
        "id": "MmjFCT0SLqii",
        "outputId": "4e5fae68-9ca5-4cc5-9c42-55cc09e0a8b7"
      },
      "outputs": [
        {
          "execution_count": 73,
          "output_type": "execute_result",
          "data": {
            "text/plain": "((13000,), (2392,), (8268,))"
          },
          "metadata": {}
        }
      ],
      "execution_count": null
    },
    {
      "cell_type": "code",
      "source": [
        "X_train_organc = X_train_organc / 255\n",
        "X_val_organc = X_val_organc / 255\n",
        "X_test_organc = X_test_organc / 255\n",
        "X_train_organc.min() , X_train_organc.max()"
      ],
      "metadata": {
        "trusted": true,
        "execution": {
          "iopub.status.busy": "2025-01-30T16:10:16.99904Z",
          "iopub.execute_input": "2025-01-30T16:10:16.999348Z",
          "iopub.status.idle": "2025-01-30T16:10:17.090542Z",
          "shell.execute_reply.started": "2025-01-30T16:10:16.99932Z",
          "shell.execute_reply": "2025-01-30T16:10:17.089795Z"
        },
        "id": "NaTQX-KSLqij",
        "outputId": "3f94c0ae-fe3b-42d7-b3f7-fee5f4587b06"
      },
      "outputs": [
        {
          "execution_count": 74,
          "output_type": "execute_result",
          "data": {
            "text/plain": "(0.0, 1.0)"
          },
          "metadata": {}
        }
      ],
      "execution_count": null
    },
    {
      "cell_type": "code",
      "source": [
        "import tensorflow as tf\n",
        "X_train_organc = tf.expand_dims(X_train_organc, axis=-1)\n",
        "X_val_organc = tf.expand_dims(X_val_organc, axis=-1)\n",
        "X_test_organc = tf.expand_dims(X_test_organc, axis=-1)\n",
        "X_train_organc.shape, X_val_organc.shape, X_test_organc.shape"
      ],
      "metadata": {
        "trusted": true,
        "execution": {
          "iopub.status.busy": "2025-01-30T16:10:17.091363Z",
          "iopub.execute_input": "2025-01-30T16:10:17.091698Z",
          "iopub.status.idle": "2025-01-30T16:10:17.258534Z",
          "shell.execute_reply.started": "2025-01-30T16:10:17.091665Z",
          "shell.execute_reply": "2025-01-30T16:10:17.257667Z"
        },
        "id": "iY3cZLANLqik",
        "outputId": "6f1f1c29-8d96-4c41-bce4-9d687c20e39a"
      },
      "outputs": [
        {
          "execution_count": 75,
          "output_type": "execute_result",
          "data": {
            "text/plain": "(TensorShape([13000, 28, 28, 1]),\n TensorShape([2392, 28, 28, 1]),\n TensorShape([8268, 28, 28, 1]))"
          },
          "metadata": {}
        }
      ],
      "execution_count": null
    },
    {
      "cell_type": "code",
      "source": [
        "from tensorflow.keras.models import Sequential\n",
        "from tensorflow.keras.layers import Conv2D, MaxPooling2D, Flatten, Dense, Dropout\n",
        "from tensorflow.keras.optimizers import Adam\n",
        "\n",
        "model_6 = Sequential()\n",
        "\n",
        "model_6.add(Conv2D(32, (3, 3), activation='leaky_relu', input_shape=(28, 28, 1)))\n",
        "model_6.add(MaxPooling2D(pool_size=(2, 2)))\n",
        "\n",
        "model_6.add(Conv2D(48, (3, 3), activation='leaky_relu'))\n",
        "model_6.add(MaxPooling2D(pool_size=(2, 2)))\n",
        "\n",
        "# Flatten the output from the convolutional layers\n",
        "model_6.add(Flatten())\n",
        "\n",
        "# Fully connected layers\n",
        "model_6.add(Dense(128, activation='leaky_relu'))\n",
        "model_6.add(Dropout(0.25))\n",
        "model_6.add(Dense(88, activation='leaky_relu'))\n",
        "model_6.add(Dense(64, activation='leaky_relu'))\n",
        "model_6.add(Dense(11, activation='softmax'))  # Output layer for multi-class classification\n",
        "\n",
        "# Compile the model\n",
        "model_6.compile(optimizer='adam', loss='sparse_categorical_crossentropy', metrics=['accuracy'])\n",
        "\n",
        "# Model summary\n",
        "model_6.summary()\n",
        "\n",
        "early_stopping = EarlyStopping(\n",
        "    monitor='val_loss',\n",
        "    patience=10,\n",
        "    restore_best_weights=True\n",
        ")\n",
        "\n",
        "history_6 = model_6.fit(X_train_organc,\n",
        "                        y_train_organc,\n",
        "                        epochs=150,\n",
        "                        verbose=True,\n",
        "                        validation_data=(X_val_organc, y_val_organc),\n",
        "                        callbacks=[early_stopping])"
      ],
      "metadata": {
        "trusted": true,
        "execution": {
          "iopub.status.busy": "2025-01-30T16:10:17.25947Z",
          "iopub.execute_input": "2025-01-30T16:10:17.259803Z",
          "iopub.status.idle": "2025-01-30T16:10:42.303172Z",
          "shell.execute_reply.started": "2025-01-30T16:10:17.25977Z",
          "shell.execute_reply": "2025-01-30T16:10:42.302516Z"
        },
        "id": "-5tS1w6xLqik",
        "outputId": "2463600e-f97f-47fa-8c06-555eaec7a501"
      },
      "outputs": [
        {
          "name": "stderr",
          "text": "/usr/local/lib/python3.10/dist-packages/keras/src/layers/convolutional/base_conv.py:107: UserWarning: Do not pass an `input_shape`/`input_dim` argument to a layer. When using Sequential models, prefer using an `Input(shape)` object as the first layer in the model instead.\n  super().__init__(activity_regularizer=activity_regularizer, **kwargs)\n",
          "output_type": "stream"
        },
        {
          "output_type": "display_data",
          "data": {
            "text/plain": "\u001b[1mModel: \"sequential_8\"\u001b[0m\n",
            "text/html": "<pre style=\"white-space:pre;overflow-x:auto;line-height:normal;font-family:Menlo,'DejaVu Sans Mono',consolas,'Courier New',monospace\"><span style=\"font-weight: bold\">Model: \"sequential_8\"</span>\n</pre>\n"
          },
          "metadata": {}
        },
        {
          "output_type": "display_data",
          "data": {
            "text/plain": "┏━━━━━━━━━━━━━━━━━━━━━━━━━━━━━━━━━━━━━━┳━━━━━━━━━━━━━━━━━━━━━━━━━━━━━┳━━━━━━━━━━━━━━━━━┓\n┃\u001b[1m \u001b[0m\u001b[1mLayer (type)                        \u001b[0m\u001b[1m \u001b[0m┃\u001b[1m \u001b[0m\u001b[1mOutput Shape               \u001b[0m\u001b[1m \u001b[0m┃\u001b[1m \u001b[0m\u001b[1m        Param #\u001b[0m\u001b[1m \u001b[0m┃\n┡━━━━━━━━━━━━━━━━━━━━━━━━━━━━━━━━━━━━━━╇━━━━━━━━━━━━━━━━━━━━━━━━━━━━━╇━━━━━━━━━━━━━━━━━┩\n│ conv2d_12 (\u001b[38;5;33mConv2D\u001b[0m)                   │ (\u001b[38;5;45mNone\u001b[0m, \u001b[38;5;34m26\u001b[0m, \u001b[38;5;34m26\u001b[0m, \u001b[38;5;34m32\u001b[0m)          │             \u001b[38;5;34m320\u001b[0m │\n├──────────────────────────────────────┼─────────────────────────────┼─────────────────┤\n│ max_pooling2d_12 (\u001b[38;5;33mMaxPooling2D\u001b[0m)      │ (\u001b[38;5;45mNone\u001b[0m, \u001b[38;5;34m13\u001b[0m, \u001b[38;5;34m13\u001b[0m, \u001b[38;5;34m32\u001b[0m)          │               \u001b[38;5;34m0\u001b[0m │\n├──────────────────────────────────────┼─────────────────────────────┼─────────────────┤\n│ conv2d_13 (\u001b[38;5;33mConv2D\u001b[0m)                   │ (\u001b[38;5;45mNone\u001b[0m, \u001b[38;5;34m11\u001b[0m, \u001b[38;5;34m11\u001b[0m, \u001b[38;5;34m48\u001b[0m)          │          \u001b[38;5;34m13,872\u001b[0m │\n├──────────────────────────────────────┼─────────────────────────────┼─────────────────┤\n│ max_pooling2d_13 (\u001b[38;5;33mMaxPooling2D\u001b[0m)      │ (\u001b[38;5;45mNone\u001b[0m, \u001b[38;5;34m5\u001b[0m, \u001b[38;5;34m5\u001b[0m, \u001b[38;5;34m48\u001b[0m)            │               \u001b[38;5;34m0\u001b[0m │\n├──────────────────────────────────────┼─────────────────────────────┼─────────────────┤\n│ flatten_6 (\u001b[38;5;33mFlatten\u001b[0m)                  │ (\u001b[38;5;45mNone\u001b[0m, \u001b[38;5;34m1200\u001b[0m)                │               \u001b[38;5;34m0\u001b[0m │\n├──────────────────────────────────────┼─────────────────────────────┼─────────────────┤\n│ dense_24 (\u001b[38;5;33mDense\u001b[0m)                     │ (\u001b[38;5;45mNone\u001b[0m, \u001b[38;5;34m128\u001b[0m)                 │         \u001b[38;5;34m153,728\u001b[0m │\n├──────────────────────────────────────┼─────────────────────────────┼─────────────────┤\n│ dropout_6 (\u001b[38;5;33mDropout\u001b[0m)                  │ (\u001b[38;5;45mNone\u001b[0m, \u001b[38;5;34m128\u001b[0m)                 │               \u001b[38;5;34m0\u001b[0m │\n├──────────────────────────────────────┼─────────────────────────────┼─────────────────┤\n│ dense_25 (\u001b[38;5;33mDense\u001b[0m)                     │ (\u001b[38;5;45mNone\u001b[0m, \u001b[38;5;34m88\u001b[0m)                  │          \u001b[38;5;34m11,352\u001b[0m │\n├──────────────────────────────────────┼─────────────────────────────┼─────────────────┤\n│ dense_26 (\u001b[38;5;33mDense\u001b[0m)                     │ (\u001b[38;5;45mNone\u001b[0m, \u001b[38;5;34m64\u001b[0m)                  │           \u001b[38;5;34m5,696\u001b[0m │\n├──────────────────────────────────────┼─────────────────────────────┼─────────────────┤\n│ dense_27 (\u001b[38;5;33mDense\u001b[0m)                     │ (\u001b[38;5;45mNone\u001b[0m, \u001b[38;5;34m11\u001b[0m)                  │             \u001b[38;5;34m715\u001b[0m │\n└──────────────────────────────────────┴─────────────────────────────┴─────────────────┘\n",
            "text/html": "<pre style=\"white-space:pre;overflow-x:auto;line-height:normal;font-family:Menlo,'DejaVu Sans Mono',consolas,'Courier New',monospace\">┏━━━━━━━━━━━━━━━━━━━━━━━━━━━━━━━━━━━━━━┳━━━━━━━━━━━━━━━━━━━━━━━━━━━━━┳━━━━━━━━━━━━━━━━━┓\n┃<span style=\"font-weight: bold\"> Layer (type)                         </span>┃<span style=\"font-weight: bold\"> Output Shape                </span>┃<span style=\"font-weight: bold\">         Param # </span>┃\n┡━━━━━━━━━━━━━━━━━━━━━━━━━━━━━━━━━━━━━━╇━━━━━━━━━━━━━━━━━━━━━━━━━━━━━╇━━━━━━━━━━━━━━━━━┩\n│ conv2d_12 (<span style=\"color: #0087ff; text-decoration-color: #0087ff\">Conv2D</span>)                   │ (<span style=\"color: #00d7ff; text-decoration-color: #00d7ff\">None</span>, <span style=\"color: #00af00; text-decoration-color: #00af00\">26</span>, <span style=\"color: #00af00; text-decoration-color: #00af00\">26</span>, <span style=\"color: #00af00; text-decoration-color: #00af00\">32</span>)          │             <span style=\"color: #00af00; text-decoration-color: #00af00\">320</span> │\n├──────────────────────────────────────┼─────────────────────────────┼─────────────────┤\n│ max_pooling2d_12 (<span style=\"color: #0087ff; text-decoration-color: #0087ff\">MaxPooling2D</span>)      │ (<span style=\"color: #00d7ff; text-decoration-color: #00d7ff\">None</span>, <span style=\"color: #00af00; text-decoration-color: #00af00\">13</span>, <span style=\"color: #00af00; text-decoration-color: #00af00\">13</span>, <span style=\"color: #00af00; text-decoration-color: #00af00\">32</span>)          │               <span style=\"color: #00af00; text-decoration-color: #00af00\">0</span> │\n├──────────────────────────────────────┼─────────────────────────────┼─────────────────┤\n│ conv2d_13 (<span style=\"color: #0087ff; text-decoration-color: #0087ff\">Conv2D</span>)                   │ (<span style=\"color: #00d7ff; text-decoration-color: #00d7ff\">None</span>, <span style=\"color: #00af00; text-decoration-color: #00af00\">11</span>, <span style=\"color: #00af00; text-decoration-color: #00af00\">11</span>, <span style=\"color: #00af00; text-decoration-color: #00af00\">48</span>)          │          <span style=\"color: #00af00; text-decoration-color: #00af00\">13,872</span> │\n├──────────────────────────────────────┼─────────────────────────────┼─────────────────┤\n│ max_pooling2d_13 (<span style=\"color: #0087ff; text-decoration-color: #0087ff\">MaxPooling2D</span>)      │ (<span style=\"color: #00d7ff; text-decoration-color: #00d7ff\">None</span>, <span style=\"color: #00af00; text-decoration-color: #00af00\">5</span>, <span style=\"color: #00af00; text-decoration-color: #00af00\">5</span>, <span style=\"color: #00af00; text-decoration-color: #00af00\">48</span>)            │               <span style=\"color: #00af00; text-decoration-color: #00af00\">0</span> │\n├──────────────────────────────────────┼─────────────────────────────┼─────────────────┤\n│ flatten_6 (<span style=\"color: #0087ff; text-decoration-color: #0087ff\">Flatten</span>)                  │ (<span style=\"color: #00d7ff; text-decoration-color: #00d7ff\">None</span>, <span style=\"color: #00af00; text-decoration-color: #00af00\">1200</span>)                │               <span style=\"color: #00af00; text-decoration-color: #00af00\">0</span> │\n├──────────────────────────────────────┼─────────────────────────────┼─────────────────┤\n│ dense_24 (<span style=\"color: #0087ff; text-decoration-color: #0087ff\">Dense</span>)                     │ (<span style=\"color: #00d7ff; text-decoration-color: #00d7ff\">None</span>, <span style=\"color: #00af00; text-decoration-color: #00af00\">128</span>)                 │         <span style=\"color: #00af00; text-decoration-color: #00af00\">153,728</span> │\n├──────────────────────────────────────┼─────────────────────────────┼─────────────────┤\n│ dropout_6 (<span style=\"color: #0087ff; text-decoration-color: #0087ff\">Dropout</span>)                  │ (<span style=\"color: #00d7ff; text-decoration-color: #00d7ff\">None</span>, <span style=\"color: #00af00; text-decoration-color: #00af00\">128</span>)                 │               <span style=\"color: #00af00; text-decoration-color: #00af00\">0</span> │\n├──────────────────────────────────────┼─────────────────────────────┼─────────────────┤\n│ dense_25 (<span style=\"color: #0087ff; text-decoration-color: #0087ff\">Dense</span>)                     │ (<span style=\"color: #00d7ff; text-decoration-color: #00d7ff\">None</span>, <span style=\"color: #00af00; text-decoration-color: #00af00\">88</span>)                  │          <span style=\"color: #00af00; text-decoration-color: #00af00\">11,352</span> │\n├──────────────────────────────────────┼─────────────────────────────┼─────────────────┤\n│ dense_26 (<span style=\"color: #0087ff; text-decoration-color: #0087ff\">Dense</span>)                     │ (<span style=\"color: #00d7ff; text-decoration-color: #00d7ff\">None</span>, <span style=\"color: #00af00; text-decoration-color: #00af00\">64</span>)                  │           <span style=\"color: #00af00; text-decoration-color: #00af00\">5,696</span> │\n├──────────────────────────────────────┼─────────────────────────────┼─────────────────┤\n│ dense_27 (<span style=\"color: #0087ff; text-decoration-color: #0087ff\">Dense</span>)                     │ (<span style=\"color: #00d7ff; text-decoration-color: #00d7ff\">None</span>, <span style=\"color: #00af00; text-decoration-color: #00af00\">11</span>)                  │             <span style=\"color: #00af00; text-decoration-color: #00af00\">715</span> │\n└──────────────────────────────────────┴─────────────────────────────┴─────────────────┘\n</pre>\n"
          },
          "metadata": {}
        },
        {
          "output_type": "display_data",
          "data": {
            "text/plain": "\u001b[1m Total params: \u001b[0m\u001b[38;5;34m185,683\u001b[0m (725.32 KB)\n",
            "text/html": "<pre style=\"white-space:pre;overflow-x:auto;line-height:normal;font-family:Menlo,'DejaVu Sans Mono',consolas,'Courier New',monospace\"><span style=\"font-weight: bold\"> Total params: </span><span style=\"color: #00af00; text-decoration-color: #00af00\">185,683</span> (725.32 KB)\n</pre>\n"
          },
          "metadata": {}
        },
        {
          "output_type": "display_data",
          "data": {
            "text/plain": "\u001b[1m Trainable params: \u001b[0m\u001b[38;5;34m185,683\u001b[0m (725.32 KB)\n",
            "text/html": "<pre style=\"white-space:pre;overflow-x:auto;line-height:normal;font-family:Menlo,'DejaVu Sans Mono',consolas,'Courier New',monospace\"><span style=\"font-weight: bold\"> Trainable params: </span><span style=\"color: #00af00; text-decoration-color: #00af00\">185,683</span> (725.32 KB)\n</pre>\n"
          },
          "metadata": {}
        },
        {
          "output_type": "display_data",
          "data": {
            "text/plain": "\u001b[1m Non-trainable params: \u001b[0m\u001b[38;5;34m0\u001b[0m (0.00 B)\n",
            "text/html": "<pre style=\"white-space:pre;overflow-x:auto;line-height:normal;font-family:Menlo,'DejaVu Sans Mono',consolas,'Courier New',monospace\"><span style=\"font-weight: bold\"> Non-trainable params: </span><span style=\"color: #00af00; text-decoration-color: #00af00\">0</span> (0.00 B)\n</pre>\n"
          },
          "metadata": {}
        },
        {
          "name": "stdout",
          "text": "Epoch 1/150\n\u001b[1m407/407\u001b[0m \u001b[32m━━━━━━━━━━━━━━━━━━━━\u001b[0m\u001b[37m\u001b[0m \u001b[1m7s\u001b[0m 9ms/step - accuracy: 0.4815 - loss: 1.4711 - val_accuracy: 0.8855 - val_loss: 0.4338\nEpoch 2/150\n\u001b[1m407/407\u001b[0m \u001b[32m━━━━━━━━━━━━━━━━━━━━\u001b[0m\u001b[37m\u001b[0m \u001b[1m1s\u001b[0m 2ms/step - accuracy: 0.8201 - loss: 0.5361 - val_accuracy: 0.9344 - val_loss: 0.2427\nEpoch 3/150\n\u001b[1m407/407\u001b[0m \u001b[32m━━━━━━━━━━━━━━━━━━━━\u001b[0m\u001b[37m\u001b[0m \u001b[1m1s\u001b[0m 2ms/step - accuracy: 0.8870 - loss: 0.3387 - val_accuracy: 0.9436 - val_loss: 0.2336\nEpoch 4/150\n\u001b[1m407/407\u001b[0m \u001b[32m━━━━━━━━━━━━━━━━━━━━\u001b[0m\u001b[37m\u001b[0m \u001b[1m1s\u001b[0m 2ms/step - accuracy: 0.9060 - loss: 0.2637 - val_accuracy: 0.9415 - val_loss: 0.2580\nEpoch 5/150\n\u001b[1m407/407\u001b[0m \u001b[32m━━━━━━━━━━━━━━━━━━━━\u001b[0m\u001b[37m\u001b[0m \u001b[1m1s\u001b[0m 2ms/step - accuracy: 0.9214 - loss: 0.2222 - val_accuracy: 0.9335 - val_loss: 0.2759\nEpoch 6/150\n\u001b[1m407/407\u001b[0m \u001b[32m━━━━━━━━━━━━━━━━━━━━\u001b[0m\u001b[37m\u001b[0m \u001b[1m1s\u001b[0m 2ms/step - accuracy: 0.9327 - loss: 0.1818 - val_accuracy: 0.9419 - val_loss: 0.2802\nEpoch 7/150\n\u001b[1m407/407\u001b[0m \u001b[32m━━━━━━━━━━━━━━━━━━━━\u001b[0m\u001b[37m\u001b[0m \u001b[1m1s\u001b[0m 2ms/step - accuracy: 0.9455 - loss: 0.1550 - val_accuracy: 0.9461 - val_loss: 0.2237\nEpoch 8/150\n\u001b[1m407/407\u001b[0m \u001b[32m━━━━━━━━━━━━━━━━━━━━\u001b[0m\u001b[37m\u001b[0m \u001b[1m1s\u001b[0m 2ms/step - accuracy: 0.9510 - loss: 0.1325 - val_accuracy: 0.9411 - val_loss: 0.2526\nEpoch 9/150\n\u001b[1m407/407\u001b[0m \u001b[32m━━━━━━━━━━━━━━━━━━━━\u001b[0m\u001b[37m\u001b[0m \u001b[1m1s\u001b[0m 2ms/step - accuracy: 0.9566 - loss: 0.1181 - val_accuracy: 0.9348 - val_loss: 0.2890\nEpoch 10/150\n\u001b[1m407/407\u001b[0m \u001b[32m━━━━━━━━━━━━━━━━━━━━\u001b[0m\u001b[37m\u001b[0m \u001b[1m1s\u001b[0m 2ms/step - accuracy: 0.9628 - loss: 0.1001 - val_accuracy: 0.9578 - val_loss: 0.2123\nEpoch 11/150\n\u001b[1m407/407\u001b[0m \u001b[32m━━━━━━━━━━━━━━━━━━━━\u001b[0m\u001b[37m\u001b[0m \u001b[1m1s\u001b[0m 2ms/step - accuracy: 0.9647 - loss: 0.0956 - val_accuracy: 0.9528 - val_loss: 0.2173\nEpoch 12/150\n\u001b[1m407/407\u001b[0m \u001b[32m━━━━━━━━━━━━━━━━━━━━\u001b[0m\u001b[37m\u001b[0m \u001b[1m1s\u001b[0m 2ms/step - accuracy: 0.9700 - loss: 0.0824 - val_accuracy: 0.9490 - val_loss: 0.2350\nEpoch 13/150\n\u001b[1m407/407\u001b[0m \u001b[32m━━━━━━━━━━━━━━━━━━━━\u001b[0m\u001b[37m\u001b[0m \u001b[1m1s\u001b[0m 2ms/step - accuracy: 0.9734 - loss: 0.0747 - val_accuracy: 0.9348 - val_loss: 0.3307\nEpoch 14/150\n\u001b[1m407/407\u001b[0m \u001b[32m━━━━━━━━━━━━━━━━━━━━\u001b[0m\u001b[37m\u001b[0m \u001b[1m1s\u001b[0m 2ms/step - accuracy: 0.9781 - loss: 0.0687 - val_accuracy: 0.9377 - val_loss: 0.3474\nEpoch 15/150\n\u001b[1m407/407\u001b[0m \u001b[32m━━━━━━━━━━━━━━━━━━━━\u001b[0m\u001b[37m\u001b[0m \u001b[1m1s\u001b[0m 2ms/step - accuracy: 0.9766 - loss: 0.0612 - val_accuracy: 0.9544 - val_loss: 0.2942\nEpoch 16/150\n\u001b[1m407/407\u001b[0m \u001b[32m━━━━━━━━━━━━━━━━━━━━\u001b[0m\u001b[37m\u001b[0m \u001b[1m1s\u001b[0m 2ms/step - accuracy: 0.9771 - loss: 0.0671 - val_accuracy: 0.9574 - val_loss: 0.2472\nEpoch 17/150\n\u001b[1m407/407\u001b[0m \u001b[32m━━━━━━━━━━━━━━━━━━━━\u001b[0m\u001b[37m\u001b[0m \u001b[1m1s\u001b[0m 2ms/step - accuracy: 0.9789 - loss: 0.0592 - val_accuracy: 0.9457 - val_loss: 0.2799\nEpoch 18/150\n\u001b[1m407/407\u001b[0m \u001b[32m━━━━━━━━━━━━━━━━━━━━\u001b[0m\u001b[37m\u001b[0m \u001b[1m1s\u001b[0m 2ms/step - accuracy: 0.9816 - loss: 0.0470 - val_accuracy: 0.9561 - val_loss: 0.2554\nEpoch 19/150\n\u001b[1m407/407\u001b[0m \u001b[32m━━━━━━━━━━━━━━━━━━━━\u001b[0m\u001b[37m\u001b[0m \u001b[1m1s\u001b[0m 2ms/step - accuracy: 0.9759 - loss: 0.0689 - val_accuracy: 0.9457 - val_loss: 0.2796\nEpoch 20/150\n\u001b[1m407/407\u001b[0m \u001b[32m━━━━━━━━━━━━━━━━━━━━\u001b[0m\u001b[37m\u001b[0m \u001b[1m1s\u001b[0m 2ms/step - accuracy: 0.9808 - loss: 0.0523 - val_accuracy: 0.9461 - val_loss: 0.3360\n",
          "output_type": "stream"
        }
      ],
      "execution_count": null
    },
    {
      "cell_type": "code",
      "source": [
        "from sklearn.metrics import classification_report\n",
        "loss, accuracy = model_6.evaluate(X_test_organc, y_test_organc)\n",
        "y_preds_organc = model_6.predict(X_test_organc)\n",
        "y_preds_organc = y_preds_organc.argmax(axis=1)\n",
        "print(f\"Model loss on test set: {loss}\")\n",
        "print(f\"Model accuracy on test set: {(accuracy*100):.2f}%\")\n",
        "print(\"-------------------------------------------------------\")\n",
        "print(classification_report(y_test_organc, y_preds_organc))"
      ],
      "metadata": {
        "trusted": true,
        "execution": {
          "iopub.status.busy": "2025-01-30T16:10:42.304281Z",
          "iopub.execute_input": "2025-01-30T16:10:42.304548Z",
          "iopub.status.idle": "2025-01-30T16:10:44.130091Z",
          "shell.execute_reply.started": "2025-01-30T16:10:42.304525Z",
          "shell.execute_reply": "2025-01-30T16:10:44.129432Z"
        },
        "id": "YLDCWTHSLqik",
        "outputId": "501f9eba-3b67-476b-8a35-7e7be333b14c"
      },
      "outputs": [
        {
          "name": "stdout",
          "text": "\u001b[1m259/259\u001b[0m \u001b[32m━━━━━━━━━━━━━━━━━━━━\u001b[0m\u001b[37m\u001b[0m \u001b[1m1s\u001b[0m 3ms/step - accuracy: 0.8487 - loss: 0.6469\n\u001b[1m259/259\u001b[0m \u001b[32m━━━━━━━━━━━━━━━━━━━━\u001b[0m\u001b[37m\u001b[0m \u001b[1m1s\u001b[0m 2ms/step\nModel loss on test set: 0.6159436702728271\nModel accuracy on test set: 85.17%\n-------------------------------------------------------\n              precision    recall  f1-score   support\n\n           0       0.88      0.84      0.86       833\n           1       0.71      0.77      0.74       442\n           2       0.73      0.84      0.78       441\n           3       0.97      0.78      0.87       421\n           4       0.72      0.67      0.69       732\n           5       0.77      0.71      0.74       737\n           6       0.98      0.93      0.95      1836\n           7       0.85      0.98      0.91       550\n           8       0.97      0.96      0.97       558\n           9       0.85      0.90      0.87       750\n          10       0.79      0.86      0.82       968\n\n    accuracy                           0.85      8268\n   macro avg       0.84      0.84      0.84      8268\nweighted avg       0.86      0.85      0.85      8268\n\n",
          "output_type": "stream"
        }
      ],
      "execution_count": null
    },
    {
      "cell_type": "code",
      "source": [
        "np.save('/kaggle/working/y_preds_organc.npy', y_preds_organc)"
      ],
      "metadata": {
        "trusted": true,
        "execution": {
          "iopub.status.busy": "2025-01-30T16:10:44.130897Z",
          "iopub.execute_input": "2025-01-30T16:10:44.131179Z",
          "iopub.status.idle": "2025-01-30T16:10:44.135083Z",
          "shell.execute_reply.started": "2025-01-30T16:10:44.131144Z",
          "shell.execute_reply": "2025-01-30T16:10:44.134224Z"
        },
        "id": "m6S_rP-WLqil"
      },
      "outputs": [],
      "execution_count": null
    },
    {
      "cell_type": "markdown",
      "source": [
        "## Organs Data"
      ],
      "metadata": {
        "id": "rLjWvMs5Lqil"
      }
    },
    {
      "cell_type": "code",
      "source": [
        "organs_data = np.load('/kaggle/input/tensor-reloaded-multi-task-med-mnist/data/organsmnist.npz')\n",
        "print(len(organs_data))\n",
        "organs_data.files"
      ],
      "metadata": {
        "trusted": true,
        "execution": {
          "iopub.status.busy": "2025-01-30T16:10:44.135847Z",
          "iopub.execute_input": "2025-01-30T16:10:44.13604Z",
          "iopub.status.idle": "2025-01-30T16:10:44.201221Z",
          "shell.execute_reply.started": "2025-01-30T16:10:44.136022Z",
          "shell.execute_reply": "2025-01-30T16:10:44.200626Z"
        },
        "id": "D4c9gTqoLqil",
        "outputId": "6a6d4e1c-cd95-4830-d8e8-17857492168c"
      },
      "outputs": [
        {
          "name": "stdout",
          "text": "6\n",
          "output_type": "stream"
        },
        {
          "execution_count": 79,
          "output_type": "execute_result",
          "data": {
            "text/plain": "['train_images',\n 'val_images',\n 'test_images',\n 'train_labels',\n 'val_labels',\n 'test_labels']"
          },
          "metadata": {}
        }
      ],
      "execution_count": null
    },
    {
      "cell_type": "code",
      "source": [
        "unique_organs = np.unique(organs_data['train_labels'])\n",
        "print(unique_organs)"
      ],
      "metadata": {
        "trusted": true,
        "execution": {
          "iopub.status.busy": "2025-01-30T16:10:44.201878Z",
          "iopub.execute_input": "2025-01-30T16:10:44.202057Z",
          "iopub.status.idle": "2025-01-30T16:10:44.208589Z",
          "shell.execute_reply.started": "2025-01-30T16:10:44.202041Z",
          "shell.execute_reply": "2025-01-30T16:10:44.207923Z"
        },
        "id": "YW0-kkL9Lqil",
        "outputId": "a4f87d08-8a45-49f3-e7db-4640829fe626"
      },
      "outputs": [
        {
          "name": "stdout",
          "text": "[ 0  1  2  3  4  5  6  7  8  9 10]\n",
          "output_type": "stream"
        }
      ],
      "execution_count": null
    },
    {
      "cell_type": "code",
      "source": [
        "print(organs_data['train_images'].shape)\n",
        "print(organs_data['val_images'].shape)\n",
        "print(organs_data['test_images'].shape)\n",
        "print(organs_data['train_labels'].shape)\n",
        "print(organs_data['val_labels'].shape)\n",
        "print(organs_data['test_labels'].shape)"
      ],
      "metadata": {
        "trusted": true,
        "execution": {
          "iopub.status.busy": "2025-01-30T16:10:44.209337Z",
          "iopub.execute_input": "2025-01-30T16:10:44.209631Z",
          "iopub.status.idle": "2025-01-30T16:10:44.661491Z",
          "shell.execute_reply.started": "2025-01-30T16:10:44.209603Z",
          "shell.execute_reply": "2025-01-30T16:10:44.6608Z"
        },
        "id": "RFhlntmyLqil",
        "outputId": "a40d8e8e-335a-49a9-aa30-fbab4596dfba"
      },
      "outputs": [
        {
          "name": "stdout",
          "text": "(13940, 28, 28)\n(2452, 28, 28)\n(8829, 28, 28)\n(13940, 1)\n(2452, 1)\n(8829, 1)\n",
          "output_type": "stream"
        }
      ],
      "execution_count": null
    },
    {
      "cell_type": "code",
      "source": [
        "X_train_organs = organs_data['train_images']\n",
        "X_val_organs = organs_data['val_images']\n",
        "X_test_organs = organs_data['test_images']\n",
        "y_train_organs = organs_data['train_labels']\n",
        "y_val_organs = organs_data['val_labels']\n",
        "y_test_organs = organs_data['test_labels']\n",
        "X_train_organs.shape, y_train_organs.shape"
      ],
      "metadata": {
        "trusted": true,
        "execution": {
          "iopub.status.busy": "2025-01-30T16:10:44.662388Z",
          "iopub.execute_input": "2025-01-30T16:10:44.662696Z",
          "iopub.status.idle": "2025-01-30T16:10:44.796639Z",
          "shell.execute_reply.started": "2025-01-30T16:10:44.662663Z",
          "shell.execute_reply": "2025-01-30T16:10:44.795914Z"
        },
        "id": "CKLdcTr8Lqil",
        "outputId": "b4e3fd80-a2b0-407b-accc-699b8453b2ae"
      },
      "outputs": [
        {
          "execution_count": 82,
          "output_type": "execute_result",
          "data": {
            "text/plain": "((13940, 28, 28), (13940, 1))"
          },
          "metadata": {}
        }
      ],
      "execution_count": null
    },
    {
      "cell_type": "code",
      "source": [
        "import matplotlib.pyplot as plt\n",
        "sample_index = 1\n",
        "plt.imshow(X_train_organs[sample_index]);\n",
        "print(f\"Label: {y_train_organs[sample_index]}\")"
      ],
      "metadata": {
        "trusted": true,
        "execution": {
          "iopub.status.busy": "2025-01-30T16:10:44.797357Z",
          "iopub.execute_input": "2025-01-30T16:10:44.79761Z",
          "iopub.status.idle": "2025-01-30T16:10:44.945203Z",
          "shell.execute_reply.started": "2025-01-30T16:10:44.797578Z",
          "shell.execute_reply": "2025-01-30T16:10:44.944554Z"
        },
        "id": "dV6a2mZeLqim",
        "outputId": "c18af9cc-214c-48e2-d37f-d464228f58eb"
      },
      "outputs": [
        {
          "name": "stdout",
          "text": "Label: [0]\n",
          "output_type": "stream"
        },
        {
          "output_type": "display_data",
          "data": {
            "text/plain": "<Figure size 640x480 with 1 Axes>",
            "image/png": "[encoded data removed]"
          },
          "metadata": {}
        }
      ],
      "execution_count": null
    },
    {
      "cell_type": "code",
      "source": [
        "import random\n",
        "plt.figure(figsize=(7, 7))\n",
        "for i in range(4):\n",
        "  ax = plt.subplot(2, 2, i + 1)\n",
        "  rand_index = random.choice(range(len(X_train_organs)))\n",
        "  plt.imshow(X_train_organs[rand_index])\n",
        "  plt.title(y_train_organs[rand_index])\n",
        "  plt.axis(False)"
      ],
      "metadata": {
        "trusted": true,
        "execution": {
          "iopub.status.busy": "2025-01-30T16:10:44.946044Z",
          "iopub.execute_input": "2025-01-30T16:10:44.946362Z",
          "iopub.status.idle": "2025-01-30T16:10:45.205443Z",
          "shell.execute_reply.started": "2025-01-30T16:10:44.946335Z",
          "shell.execute_reply": "2025-01-30T16:10:45.204719Z"
        },
        "id": "GPVSewIwLqim",
        "outputId": "00166587-4886-4d9f-e197-545133821072"
      },
      "outputs": [
        {
          "output_type": "display_data",
          "data": {
            "text/plain": "<Figure size 700x700 with 4 Axes>",
            "image/png": "[encoded data removed]"
          },
          "metadata": {}
        }
      ],
      "execution_count": null
    },
    {
      "cell_type": "code",
      "source": [
        "y_train_organs = np.array(y_train_organs).ravel()\n",
        "y_val_organs = np.array(y_val_organs).ravel()\n",
        "y_test_organs = np.array(y_test_organs).ravel()\n",
        "y_train_organs.shape, y_val_organs.shape, y_test_organs.shape"
      ],
      "metadata": {
        "trusted": true,
        "execution": {
          "iopub.status.busy": "2025-01-30T16:10:45.206249Z",
          "iopub.execute_input": "2025-01-30T16:10:45.206532Z",
          "iopub.status.idle": "2025-01-30T16:10:45.211777Z",
          "shell.execute_reply.started": "2025-01-30T16:10:45.206503Z",
          "shell.execute_reply": "2025-01-30T16:10:45.211017Z"
        },
        "id": "l_7jgOviLqim",
        "outputId": "5a8da885-141a-4539-cfc2-fe32f4772220"
      },
      "outputs": [
        {
          "execution_count": 85,
          "output_type": "execute_result",
          "data": {
            "text/plain": "((13940,), (2452,), (8829,))"
          },
          "metadata": {}
        }
      ],
      "execution_count": null
    },
    {
      "cell_type": "code",
      "source": [
        "X_train_organs = X_train_organs / 255\n",
        "X_val_organs = X_val_organs / 255\n",
        "X_test_organs = X_test_organs / 255\n",
        "X_train_organs.min() , X_train_organs.max()"
      ],
      "metadata": {
        "trusted": true,
        "execution": {
          "iopub.status.busy": "2025-01-30T16:10:45.21267Z",
          "iopub.execute_input": "2025-01-30T16:10:45.212878Z",
          "iopub.status.idle": "2025-01-30T16:10:45.301054Z",
          "shell.execute_reply.started": "2025-01-30T16:10:45.21286Z",
          "shell.execute_reply": "2025-01-30T16:10:45.300302Z"
        },
        "id": "EM6v8u0kLqim",
        "outputId": "bf944a30-8edd-4952-d1db-5c343f406d53"
      },
      "outputs": [
        {
          "execution_count": 86,
          "output_type": "execute_result",
          "data": {
            "text/plain": "(0.0, 1.0)"
          },
          "metadata": {}
        }
      ],
      "execution_count": null
    },
    {
      "cell_type": "code",
      "source": [
        "import tensorflow as tf\n",
        "X_train_organs = tf.expand_dims(X_train_organs, axis=-1)\n",
        "X_val_organs = tf.expand_dims(X_val_organs, axis=-1)\n",
        "X_test_organs = tf.expand_dims(X_test_organs, axis=-1)\n",
        "X_train_organs.shape, X_val_organs.shape, X_test_organs.shape"
      ],
      "metadata": {
        "trusted": true,
        "execution": {
          "iopub.status.busy": "2025-01-30T16:10:45.301803Z",
          "iopub.execute_input": "2025-01-30T16:10:45.302056Z",
          "iopub.status.idle": "2025-01-30T16:10:45.481231Z",
          "shell.execute_reply.started": "2025-01-30T16:10:45.302033Z",
          "shell.execute_reply": "2025-01-30T16:10:45.480582Z"
        },
        "id": "ahScNHUSLqim",
        "outputId": "688bd561-7195-45a9-f69d-e8543a2cb29c"
      },
      "outputs": [
        {
          "execution_count": 87,
          "output_type": "execute_result",
          "data": {
            "text/plain": "(TensorShape([13940, 28, 28, 1]),\n TensorShape([2452, 28, 28, 1]),\n TensorShape([8829, 28, 28, 1]))"
          },
          "metadata": {}
        }
      ],
      "execution_count": null
    },
    {
      "cell_type": "code",
      "source": [
        "from tensorflow.keras.models import Sequential\n",
        "from tensorflow.keras.layers import Conv2D, MaxPooling2D, Flatten, Dense, Dropout\n",
        "from tensorflow.keras.optimizers import Adam\n",
        "\n",
        "model_7 = Sequential()\n",
        "\n",
        "model_7.add(Conv2D(40, (3, 3), activation='leaky_relu', input_shape=(28, 28, 1)))\n",
        "model_7.add(MaxPooling2D(pool_size=(2, 2)))\n",
        "\n",
        "model_7.add(Conv2D(64, (3, 3), activation='leaky_relu'))\n",
        "model_7.add(MaxPooling2D(pool_size=(2, 2)))\n",
        "\n",
        "# Flatten the output from the convolutional layers\n",
        "model_7.add(Flatten())\n",
        "\n",
        "# Fully connected layers\n",
        "model_7.add(Dense(128, activation='leaky_relu'))\n",
        "model_7.add(Dropout(0.25))\n",
        "model_7.add(Dense(88, activation='leaky_relu'))\n",
        "model_7.add(Dense(88, activation='leaky_relu'))\n",
        "model_7.add(Dense(11, activation='softmax'))  # Output layer for multi-class classification\n",
        "\n",
        "# Compile the model\n",
        "model_7.compile(optimizer='adam', loss='sparse_categorical_crossentropy', metrics=['accuracy'])\n",
        "\n",
        "# Model summary\n",
        "model_7.summary()\n",
        "\n",
        "early_stopping = EarlyStopping(\n",
        "    monitor='val_loss',\n",
        "    patience=10,\n",
        "    restore_best_weights=True\n",
        ")\n",
        "\n",
        "history_7 = model_7.fit(X_train_organs,\n",
        "                        y_train_organs,\n",
        "                        epochs=150,\n",
        "                        verbose=True,\n",
        "                        validation_data=(X_val_organs, y_val_organs),\n",
        "                        callbacks=[early_stopping])"
      ],
      "metadata": {
        "trusted": true,
        "execution": {
          "iopub.status.busy": "2025-01-30T16:10:45.482267Z",
          "iopub.execute_input": "2025-01-30T16:10:45.482625Z",
          "iopub.status.idle": "2025-01-30T16:11:13.26078Z",
          "shell.execute_reply.started": "2025-01-30T16:10:45.482592Z",
          "shell.execute_reply": "2025-01-30T16:11:13.26009Z"
        },
        "id": "QhI1N1jhLqim",
        "outputId": "0789749a-0167-4f35-8d28-afd18b3eb483"
      },
      "outputs": [
        {
          "name": "stderr",
          "text": "/usr/local/lib/python3.10/dist-packages/keras/src/layers/convolutional/base_conv.py:107: UserWarning: Do not pass an `input_shape`/`input_dim` argument to a layer. When using Sequential models, prefer using an `Input(shape)` object as the first layer in the model instead.\n  super().__init__(activity_regularizer=activity_regularizer, **kwargs)\n",
          "output_type": "stream"
        },
        {
          "output_type": "display_data",
          "data": {
            "text/plain": "\u001b[1mModel: \"sequential_9\"\u001b[0m\n",
            "text/html": "<pre style=\"white-space:pre;overflow-x:auto;line-height:normal;font-family:Menlo,'DejaVu Sans Mono',consolas,'Courier New',monospace\"><span style=\"font-weight: bold\">Model: \"sequential_9\"</span>\n</pre>\n"
          },
          "metadata": {}
        },
        {
          "output_type": "display_data",
          "data": {
            "text/plain": "┏━━━━━━━━━━━━━━━━━━━━━━━━━━━━━━━━━━━━━━┳━━━━━━━━━━━━━━━━━━━━━━━━━━━━━┳━━━━━━━━━━━━━━━━━┓\n┃\u001b[1m \u001b[0m\u001b[1mLayer (type)                        \u001b[0m\u001b[1m \u001b[0m┃\u001b[1m \u001b[0m\u001b[1mOutput Shape               \u001b[0m\u001b[1m \u001b[0m┃\u001b[1m \u001b[0m\u001b[1m        Param #\u001b[0m\u001b[1m \u001b[0m┃\n┡━━━━━━━━━━━━━━━━━━━━━━━━━━━━━━━━━━━━━━╇━━━━━━━━━━━━━━━━━━━━━━━━━━━━━╇━━━━━━━━━━━━━━━━━┩\n│ conv2d_14 (\u001b[38;5;33mConv2D\u001b[0m)                   │ (\u001b[38;5;45mNone\u001b[0m, \u001b[38;5;34m26\u001b[0m, \u001b[38;5;34m26\u001b[0m, \u001b[38;5;34m40\u001b[0m)          │             \u001b[38;5;34m400\u001b[0m │\n├──────────────────────────────────────┼─────────────────────────────┼─────────────────┤\n│ max_pooling2d_14 (\u001b[38;5;33mMaxPooling2D\u001b[0m)      │ (\u001b[38;5;45mNone\u001b[0m, \u001b[38;5;34m13\u001b[0m, \u001b[38;5;34m13\u001b[0m, \u001b[38;5;34m40\u001b[0m)          │               \u001b[38;5;34m0\u001b[0m │\n├──────────────────────────────────────┼─────────────────────────────┼─────────────────┤\n│ conv2d_15 (\u001b[38;5;33mConv2D\u001b[0m)                   │ (\u001b[38;5;45mNone\u001b[0m, \u001b[38;5;34m11\u001b[0m, \u001b[38;5;34m11\u001b[0m, \u001b[38;5;34m64\u001b[0m)          │          \u001b[38;5;34m23,104\u001b[0m │\n├──────────────────────────────────────┼─────────────────────────────┼─────────────────┤\n│ max_pooling2d_15 (\u001b[38;5;33mMaxPooling2D\u001b[0m)      │ (\u001b[38;5;45mNone\u001b[0m, \u001b[38;5;34m5\u001b[0m, \u001b[38;5;34m5\u001b[0m, \u001b[38;5;34m64\u001b[0m)            │               \u001b[38;5;34m0\u001b[0m │\n├──────────────────────────────────────┼─────────────────────────────┼─────────────────┤\n│ flatten_7 (\u001b[38;5;33mFlatten\u001b[0m)                  │ (\u001b[38;5;45mNone\u001b[0m, \u001b[38;5;34m1600\u001b[0m)                │               \u001b[38;5;34m0\u001b[0m │\n├──────────────────────────────────────┼─────────────────────────────┼─────────────────┤\n│ dense_28 (\u001b[38;5;33mDense\u001b[0m)                     │ (\u001b[38;5;45mNone\u001b[0m, \u001b[38;5;34m128\u001b[0m)                 │         \u001b[38;5;34m204,928\u001b[0m │\n├──────────────────────────────────────┼─────────────────────────────┼─────────────────┤\n│ dropout_7 (\u001b[38;5;33mDropout\u001b[0m)                  │ (\u001b[38;5;45mNone\u001b[0m, \u001b[38;5;34m128\u001b[0m)                 │               \u001b[38;5;34m0\u001b[0m │\n├──────────────────────────────────────┼─────────────────────────────┼─────────────────┤\n│ dense_29 (\u001b[38;5;33mDense\u001b[0m)                     │ (\u001b[38;5;45mNone\u001b[0m, \u001b[38;5;34m88\u001b[0m)                  │          \u001b[38;5;34m11,352\u001b[0m │\n├──────────────────────────────────────┼─────────────────────────────┼─────────────────┤\n│ dense_30 (\u001b[38;5;33mDense\u001b[0m)                     │ (\u001b[38;5;45mNone\u001b[0m, \u001b[38;5;34m88\u001b[0m)                  │           \u001b[38;5;34m7,832\u001b[0m │\n├──────────────────────────────────────┼─────────────────────────────┼─────────────────┤\n│ dense_31 (\u001b[38;5;33mDense\u001b[0m)                     │ (\u001b[38;5;45mNone\u001b[0m, \u001b[38;5;34m11\u001b[0m)                  │             \u001b[38;5;34m979\u001b[0m │\n└──────────────────────────────────────┴─────────────────────────────┴─────────────────┘\n",
            "text/html": "<pre style=\"white-space:pre;overflow-x:auto;line-height:normal;font-family:Menlo,'DejaVu Sans Mono',consolas,'Courier New',monospace\">┏━━━━━━━━━━━━━━━━━━━━━━━━━━━━━━━━━━━━━━┳━━━━━━━━━━━━━━━━━━━━━━━━━━━━━┳━━━━━━━━━━━━━━━━━┓\n┃<span style=\"font-weight: bold\"> Layer (type)                         </span>┃<span style=\"font-weight: bold\"> Output Shape                </span>┃<span style=\"font-weight: bold\">         Param # </span>┃\n┡━━━━━━━━━━━━━━━━━━━━━━━━━━━━━━━━━━━━━━╇━━━━━━━━━━━━━━━━━━━━━━━━━━━━━╇━━━━━━━━━━━━━━━━━┩\n│ conv2d_14 (<span style=\"color: #0087ff; text-decoration-color: #0087ff\">Conv2D</span>)                   │ (<span style=\"color: #00d7ff; text-decoration-color: #00d7ff\">None</span>, <span style=\"color: #00af00; text-decoration-color: #00af00\">26</span>, <span style=\"color: #00af00; text-decoration-color: #00af00\">26</span>, <span style=\"color: #00af00; text-decoration-color: #00af00\">40</span>)          │             <span style=\"color: #00af00; text-decoration-color: #00af00\">400</span> │\n├──────────────────────────────────────┼─────────────────────────────┼─────────────────┤\n│ max_pooling2d_14 (<span style=\"color: #0087ff; text-decoration-color: #0087ff\">MaxPooling2D</span>)      │ (<span style=\"color: #00d7ff; text-decoration-color: #00d7ff\">None</span>, <span style=\"color: #00af00; text-decoration-color: #00af00\">13</span>, <span style=\"color: #00af00; text-decoration-color: #00af00\">13</span>, <span style=\"color: #00af00; text-decoration-color: #00af00\">40</span>)          │               <span style=\"color: #00af00; text-decoration-color: #00af00\">0</span> │\n├──────────────────────────────────────┼─────────────────────────────┼─────────────────┤\n│ conv2d_15 (<span style=\"color: #0087ff; text-decoration-color: #0087ff\">Conv2D</span>)                   │ (<span style=\"color: #00d7ff; text-decoration-color: #00d7ff\">None</span>, <span style=\"color: #00af00; text-decoration-color: #00af00\">11</span>, <span style=\"color: #00af00; text-decoration-color: #00af00\">11</span>, <span style=\"color: #00af00; text-decoration-color: #00af00\">64</span>)          │          <span style=\"color: #00af00; text-decoration-color: #00af00\">23,104</span> │\n├──────────────────────────────────────┼─────────────────────────────┼─────────────────┤\n│ max_pooling2d_15 (<span style=\"color: #0087ff; text-decoration-color: #0087ff\">MaxPooling2D</span>)      │ (<span style=\"color: #00d7ff; text-decoration-color: #00d7ff\">None</span>, <span style=\"color: #00af00; text-decoration-color: #00af00\">5</span>, <span style=\"color: #00af00; text-decoration-color: #00af00\">5</span>, <span style=\"color: #00af00; text-decoration-color: #00af00\">64</span>)            │               <span style=\"color: #00af00; text-decoration-color: #00af00\">0</span> │\n├──────────────────────────────────────┼─────────────────────────────┼─────────────────┤\n│ flatten_7 (<span style=\"color: #0087ff; text-decoration-color: #0087ff\">Flatten</span>)                  │ (<span style=\"color: #00d7ff; text-decoration-color: #00d7ff\">None</span>, <span style=\"color: #00af00; text-decoration-color: #00af00\">1600</span>)                │               <span style=\"color: #00af00; text-decoration-color: #00af00\">0</span> │\n├──────────────────────────────────────┼─────────────────────────────┼─────────────────┤\n│ dense_28 (<span style=\"color: #0087ff; text-decoration-color: #0087ff\">Dense</span>)                     │ (<span style=\"color: #00d7ff; text-decoration-color: #00d7ff\">None</span>, <span style=\"color: #00af00; text-decoration-color: #00af00\">128</span>)                 │         <span style=\"color: #00af00; text-decoration-color: #00af00\">204,928</span> │\n├──────────────────────────────────────┼─────────────────────────────┼─────────────────┤\n│ dropout_7 (<span style=\"color: #0087ff; text-decoration-color: #0087ff\">Dropout</span>)                  │ (<span style=\"color: #00d7ff; text-decoration-color: #00d7ff\">None</span>, <span style=\"color: #00af00; text-decoration-color: #00af00\">128</span>)                 │               <span style=\"color: #00af00; text-decoration-color: #00af00\">0</span> │\n├──────────────────────────────────────┼─────────────────────────────┼─────────────────┤\n│ dense_29 (<span style=\"color: #0087ff; text-decoration-color: #0087ff\">Dense</span>)                     │ (<span style=\"color: #00d7ff; text-decoration-color: #00d7ff\">None</span>, <span style=\"color: #00af00; text-decoration-color: #00af00\">88</span>)                  │          <span style=\"color: #00af00; text-decoration-color: #00af00\">11,352</span> │\n├──────────────────────────────────────┼─────────────────────────────┼─────────────────┤\n│ dense_30 (<span style=\"color: #0087ff; text-decoration-color: #0087ff\">Dense</span>)                     │ (<span style=\"color: #00d7ff; text-decoration-color: #00d7ff\">None</span>, <span style=\"color: #00af00; text-decoration-color: #00af00\">88</span>)                  │           <span style=\"color: #00af00; text-decoration-color: #00af00\">7,832</span> │\n├──────────────────────────────────────┼─────────────────────────────┼─────────────────┤\n│ dense_31 (<span style=\"color: #0087ff; text-decoration-color: #0087ff\">Dense</span>)                     │ (<span style=\"color: #00d7ff; text-decoration-color: #00d7ff\">None</span>, <span style=\"color: #00af00; text-decoration-color: #00af00\">11</span>)                  │             <span style=\"color: #00af00; text-decoration-color: #00af00\">979</span> │\n└──────────────────────────────────────┴─────────────────────────────┴─────────────────┘\n</pre>\n"
          },
          "metadata": {}
        },
        {
          "output_type": "display_data",
          "data": {
            "text/plain": "\u001b[1m Total params: \u001b[0m\u001b[38;5;34m248,595\u001b[0m (971.07 KB)\n",
            "text/html": "<pre style=\"white-space:pre;overflow-x:auto;line-height:normal;font-family:Menlo,'DejaVu Sans Mono',consolas,'Courier New',monospace\"><span style=\"font-weight: bold\"> Total params: </span><span style=\"color: #00af00; text-decoration-color: #00af00\">248,595</span> (971.07 KB)\n</pre>\n"
          },
          "metadata": {}
        },
        {
          "output_type": "display_data",
          "data": {
            "text/plain": "\u001b[1m Trainable params: \u001b[0m\u001b[38;5;34m248,595\u001b[0m (971.07 KB)\n",
            "text/html": "<pre style=\"white-space:pre;overflow-x:auto;line-height:normal;font-family:Menlo,'DejaVu Sans Mono',consolas,'Courier New',monospace\"><span style=\"font-weight: bold\"> Trainable params: </span><span style=\"color: #00af00; text-decoration-color: #00af00\">248,595</span> (971.07 KB)\n</pre>\n"
          },
          "metadata": {}
        },
        {
          "output_type": "display_data",
          "data": {
            "text/plain": "\u001b[1m Non-trainable params: \u001b[0m\u001b[38;5;34m0\u001b[0m (0.00 B)\n",
            "text/html": "<pre style=\"white-space:pre;overflow-x:auto;line-height:normal;font-family:Menlo,'DejaVu Sans Mono',consolas,'Courier New',monospace\"><span style=\"font-weight: bold\"> Non-trainable params: </span><span style=\"color: #00af00; text-decoration-color: #00af00\">0</span> (0.00 B)\n</pre>\n"
          },
          "metadata": {}
        },
        {
          "name": "stdout",
          "text": "Epoch 1/150\n\u001b[1m436/436\u001b[0m \u001b[32m━━━━━━━━━━━━━━━━━━━━\u001b[0m\u001b[37m\u001b[0m \u001b[1m8s\u001b[0m 12ms/step - accuracy: 0.3987 - loss: 1.6475 - val_accuracy: 0.7826 - val_loss: 0.6111\nEpoch 2/150\n\u001b[1m436/436\u001b[0m \u001b[32m━━━━━━━━━━━━━━━━━━━━\u001b[0m\u001b[37m\u001b[0m \u001b[1m1s\u001b[0m 2ms/step - accuracy: 0.7120 - loss: 0.7632 - val_accuracy: 0.8361 - val_loss: 0.4302\nEpoch 3/150\n\u001b[1m436/436\u001b[0m \u001b[32m━━━━━━━━━━━━━━━━━━━━\u001b[0m\u001b[37m\u001b[0m \u001b[1m1s\u001b[0m 2ms/step - accuracy: 0.7798 - loss: 0.5587 - val_accuracy: 0.8014 - val_loss: 0.5004\nEpoch 4/150\n\u001b[1m436/436\u001b[0m \u001b[32m━━━━━━━━━━━━━━━━━━━━\u001b[0m\u001b[37m\u001b[0m \u001b[1m1s\u001b[0m 2ms/step - accuracy: 0.8200 - loss: 0.4411 - val_accuracy: 0.8299 - val_loss: 0.4405\nEpoch 5/150\n\u001b[1m436/436\u001b[0m \u001b[32m━━━━━━━━━━━━━━━━━━━━\u001b[0m\u001b[37m\u001b[0m \u001b[1m1s\u001b[0m 2ms/step - accuracy: 0.8554 - loss: 0.3611 - val_accuracy: 0.8467 - val_loss: 0.4581\nEpoch 6/150\n\u001b[1m436/436\u001b[0m \u001b[32m━━━━━━━━━━━━━━━━━━━━\u001b[0m\u001b[37m\u001b[0m \u001b[1m1s\u001b[0m 2ms/step - accuracy: 0.8682 - loss: 0.3139 - val_accuracy: 0.8532 - val_loss: 0.4485\nEpoch 7/150\n\u001b[1m436/436\u001b[0m \u001b[32m━━━━━━━━━━━━━━━━━━━━\u001b[0m\u001b[37m\u001b[0m \u001b[1m1s\u001b[0m 2ms/step - accuracy: 0.8858 - loss: 0.2594 - val_accuracy: 0.8507 - val_loss: 0.4495\nEpoch 8/150\n\u001b[1m436/436\u001b[0m \u001b[32m━━━━━━━━━━━━━━━━━━━━\u001b[0m\u001b[37m\u001b[0m \u001b[1m1s\u001b[0m 2ms/step - accuracy: 0.9022 - loss: 0.2265 - val_accuracy: 0.8348 - val_loss: 0.5116\nEpoch 9/150\n\u001b[1m436/436\u001b[0m \u001b[32m━━━━━━━━━━━━━━━━━━━━\u001b[0m\u001b[37m\u001b[0m \u001b[1m1s\u001b[0m 2ms/step - accuracy: 0.9114 - loss: 0.2022 - val_accuracy: 0.8462 - val_loss: 0.4703\nEpoch 10/150\n\u001b[1m436/436\u001b[0m \u001b[32m━━━━━━━━━━━━━━━━━━━━\u001b[0m\u001b[37m\u001b[0m \u001b[1m1s\u001b[0m 2ms/step - accuracy: 0.9134 - loss: 0.1974 - val_accuracy: 0.8642 - val_loss: 0.4122\nEpoch 11/150\n\u001b[1m436/436\u001b[0m \u001b[32m━━━━━━━━━━━━━━━━━━━━\u001b[0m\u001b[37m\u001b[0m \u001b[1m1s\u001b[0m 2ms/step - accuracy: 0.9268 - loss: 0.1641 - val_accuracy: 0.8389 - val_loss: 0.4895\nEpoch 12/150\n\u001b[1m436/436\u001b[0m \u001b[32m━━━━━━━━━━━━━━━━━━━━\u001b[0m\u001b[37m\u001b[0m \u001b[1m1s\u001b[0m 2ms/step - accuracy: 0.9337 - loss: 0.1456 - val_accuracy: 0.8495 - val_loss: 0.5299\nEpoch 13/150\n\u001b[1m436/436\u001b[0m \u001b[32m━━━━━━━━━━━━━━━━━━━━\u001b[0m\u001b[37m\u001b[0m \u001b[1m1s\u001b[0m 2ms/step - accuracy: 0.9300 - loss: 0.1575 - val_accuracy: 0.8597 - val_loss: 0.4857\nEpoch 14/150\n\u001b[1m436/436\u001b[0m \u001b[32m━━━━━━━━━━━━━━━━━━━━\u001b[0m\u001b[37m\u001b[0m \u001b[1m1s\u001b[0m 2ms/step - accuracy: 0.9332 - loss: 0.1459 - val_accuracy: 0.8316 - val_loss: 0.6153\nEpoch 15/150\n\u001b[1m436/436\u001b[0m \u001b[32m━━━━━━━━━━━━━━━━━━━━\u001b[0m\u001b[37m\u001b[0m \u001b[1m1s\u001b[0m 2ms/step - accuracy: 0.9376 - loss: 0.1279 - val_accuracy: 0.8499 - val_loss: 0.5466\nEpoch 16/150\n\u001b[1m436/436\u001b[0m \u001b[32m━━━━━━━━━━━━━━━━━━━━\u001b[0m\u001b[37m\u001b[0m \u001b[1m1s\u001b[0m 2ms/step - accuracy: 0.9403 - loss: 0.1320 - val_accuracy: 0.8601 - val_loss: 0.5171\nEpoch 17/150\n\u001b[1m436/436\u001b[0m \u001b[32m━━━━━━━━━━━━━━━━━━━━\u001b[0m\u001b[37m\u001b[0m \u001b[1m1s\u001b[0m 2ms/step - accuracy: 0.9432 - loss: 0.1234 - val_accuracy: 0.8438 - val_loss: 0.5848\nEpoch 18/150\n\u001b[1m436/436\u001b[0m \u001b[32m━━━━━━━━━━━━━━━━━━━━\u001b[0m\u001b[37m\u001b[0m \u001b[1m1s\u001b[0m 2ms/step - accuracy: 0.9492 - loss: 0.1117 - val_accuracy: 0.8487 - val_loss: 0.5534\nEpoch 19/150\n\u001b[1m436/436\u001b[0m \u001b[32m━━━━━━━━━━━━━━━━━━━━\u001b[0m\u001b[37m\u001b[0m \u001b[1m1s\u001b[0m 2ms/step - accuracy: 0.9433 - loss: 0.1187 - val_accuracy: 0.8454 - val_loss: 0.6530\nEpoch 20/150\n\u001b[1m436/436\u001b[0m \u001b[32m━━━━━━━━━━━━━━━━━━━━\u001b[0m\u001b[37m\u001b[0m \u001b[1m1s\u001b[0m 2ms/step - accuracy: 0.9427 - loss: 0.1181 - val_accuracy: 0.8581 - val_loss: 0.5460\n",
          "output_type": "stream"
        }
      ],
      "execution_count": null
    },
    {
      "cell_type": "code",
      "source": [
        "from sklearn.metrics import classification_report\n",
        "loss, accuracy = model_7.evaluate(X_test_organs, y_test_organs)\n",
        "y_preds_organs = model_7.predict(X_test_organs)\n",
        "y_preds_organs = y_preds_organs.argmax(axis=1)\n",
        "print(f\"Model loss on test set: {loss}\")\n",
        "print(f\"Model accuracy on test set: {(accuracy*100):.2f}%\")\n",
        "print(\"-------------------------------------------------------\")\n",
        "print(classification_report(y_test_organs, y_preds_organs))"
      ],
      "metadata": {
        "trusted": true,
        "execution": {
          "iopub.status.busy": "2025-01-30T16:11:13.26182Z",
          "iopub.execute_input": "2025-01-30T16:11:13.262128Z",
          "iopub.status.idle": "2025-01-30T16:11:15.011903Z",
          "shell.execute_reply.started": "2025-01-30T16:11:13.262096Z",
          "shell.execute_reply": "2025-01-30T16:11:15.011218Z"
        },
        "id": "JonVoAexLqin",
        "outputId": "9d00b9bb-9bfb-49ea-c388-28fdb8193ff9"
      },
      "outputs": [
        {
          "name": "stdout",
          "text": "\u001b[1m276/276\u001b[0m \u001b[32m━━━━━━━━━━━━━━━━━━━━\u001b[0m\u001b[37m\u001b[0m \u001b[1m1s\u001b[0m 3ms/step - accuracy: 0.7071 - loss: 1.1844\n\u001b[1m276/276\u001b[0m \u001b[32m━━━━━━━━━━━━━━━━━━━━\u001b[0m\u001b[37m\u001b[0m \u001b[1m1s\u001b[0m 2ms/step\nModel loss on test set: 1.169140100479126\nModel accuracy on test set: 71.06%\n-------------------------------------------------------\n              precision    recall  f1-score   support\n\n           0       0.74      0.83      0.78       811\n           1       0.41      0.31      0.35       439\n           2       0.51      0.63      0.57       447\n           3       0.87      0.71      0.78       510\n           4       0.49      0.39      0.43       704\n           5       0.48      0.42      0.45       693\n           6       0.86      0.95      0.90      2078\n           7       0.77      0.87      0.81       397\n           8       0.85      0.83      0.84       439\n           9       0.71      0.70      0.70      1343\n          10       0.67      0.65      0.66       968\n\n    accuracy                           0.71      8829\n   macro avg       0.67      0.66      0.66      8829\nweighted avg       0.70      0.71      0.70      8829\n\n",
          "output_type": "stream"
        }
      ],
      "execution_count": null
    },
    {
      "cell_type": "code",
      "source": [
        "np.save('/kaggle/working/y_preds_organc.npy', y_preds_organc)"
      ],
      "metadata": {
        "trusted": true,
        "execution": {
          "iopub.status.busy": "2025-01-30T16:11:15.012779Z",
          "iopub.execute_input": "2025-01-30T16:11:15.013018Z",
          "iopub.status.idle": "2025-01-30T16:11:15.01724Z",
          "shell.execute_reply.started": "2025-01-30T16:11:15.012997Z",
          "shell.execute_reply": "2025-01-30T16:11:15.016445Z"
        },
        "id": "i2_cQJ9jLqin"
      },
      "outputs": [],
      "execution_count": null
    },
    {
      "cell_type": "markdown",
      "source": [
        "## Path Data"
      ],
      "metadata": {
        "id": "sDBz62l7Lqin"
      }
    },
    {
      "cell_type": "code",
      "source": [
        "path_data = np.load('/kaggle/input/tensor-reloaded-multi-task-med-mnist/data/pathmnist.npz')\n",
        "print(len(path_data))\n",
        "path_data.files"
      ],
      "metadata": {
        "trusted": true,
        "execution": {
          "iopub.status.busy": "2025-01-30T16:11:15.018051Z",
          "iopub.execute_input": "2025-01-30T16:11:15.018311Z",
          "iopub.status.idle": "2025-01-30T16:11:15.079411Z",
          "shell.execute_reply.started": "2025-01-30T16:11:15.018291Z",
          "shell.execute_reply": "2025-01-30T16:11:15.0788Z"
        },
        "id": "xQKQfql5Lqin",
        "outputId": "a292896e-de6e-4415-ebf3-6236b2ae83b2"
      },
      "outputs": [
        {
          "name": "stdout",
          "text": "6\n",
          "output_type": "stream"
        },
        {
          "execution_count": 91,
          "output_type": "execute_result",
          "data": {
            "text/plain": "['train_images',\n 'val_images',\n 'test_images',\n 'train_labels',\n 'val_labels',\n 'test_labels']"
          },
          "metadata": {}
        }
      ],
      "execution_count": null
    },
    {
      "cell_type": "code",
      "source": [
        "unique_path = np.unique(path_data['train_labels'])\n",
        "print(unique_path)"
      ],
      "metadata": {
        "trusted": true,
        "execution": {
          "iopub.status.busy": "2025-01-30T16:11:15.080162Z",
          "iopub.execute_input": "2025-01-30T16:11:15.08043Z",
          "iopub.status.idle": "2025-01-30T16:11:15.089395Z",
          "shell.execute_reply.started": "2025-01-30T16:11:15.080404Z",
          "shell.execute_reply": "2025-01-30T16:11:15.088585Z"
        },
        "id": "kE_-aOqwLqin",
        "outputId": "dbe8571a-f675-437c-e174-417b760572e1"
      },
      "outputs": [
        {
          "name": "stdout",
          "text": "[0 1 2 3 4 5 6 7 8]\n",
          "output_type": "stream"
        }
      ],
      "execution_count": null
    },
    {
      "cell_type": "code",
      "source": [
        "print(path_data['train_images'].shape)\n",
        "print(path_data['val_images'].shape)\n",
        "print(path_data['test_images'].shape)\n",
        "print(path_data['train_labels'].shape)\n",
        "print(path_data['val_labels'].shape)\n",
        "print(path_data['test_labels'].shape)"
      ],
      "metadata": {
        "trusted": true,
        "execution": {
          "iopub.status.busy": "2025-01-30T16:11:15.090329Z",
          "iopub.execute_input": "2025-01-30T16:11:15.090637Z",
          "iopub.status.idle": "2025-01-30T16:11:19.828277Z",
          "shell.execute_reply.started": "2025-01-30T16:11:15.090608Z",
          "shell.execute_reply": "2025-01-30T16:11:19.827551Z"
        },
        "id": "0pMSzb-ALqin",
        "outputId": "cbe2af5e-45b2-404f-b0c4-805d76cb613b"
      },
      "outputs": [
        {
          "name": "stdout",
          "text": "(89996, 28, 28, 3)\n(10004, 28, 28, 3)\n(7180, 28, 28, 3)\n(89996, 1)\n(10004, 1)\n(7180, 1)\n",
          "output_type": "stream"
        }
      ],
      "execution_count": null
    },
    {
      "cell_type": "code",
      "source": [
        "X_train_path = path_data['train_images']\n",
        "X_val_path = path_data['val_images']\n",
        "X_test_path = path_data['test_images']\n",
        "y_train_path = path_data['train_labels']\n",
        "y_val_path = path_data['val_labels']\n",
        "y_test_path = path_data['test_labels']\n",
        "X_train_path.shape, y_train_path.shape"
      ],
      "metadata": {
        "trusted": true,
        "execution": {
          "iopub.status.busy": "2025-01-30T16:11:19.829135Z",
          "iopub.execute_input": "2025-01-30T16:11:19.829451Z",
          "iopub.status.idle": "2025-01-30T16:11:21.558762Z",
          "shell.execute_reply.started": "2025-01-30T16:11:19.829424Z",
          "shell.execute_reply": "2025-01-30T16:11:21.557887Z"
        },
        "id": "NK7Pfc5sLqio",
        "outputId": "53e07495-f462-4cf3-c132-a27ab1e78115"
      },
      "outputs": [
        {
          "execution_count": 94,
          "output_type": "execute_result",
          "data": {
            "text/plain": "((89996, 28, 28, 3), (89996, 1))"
          },
          "metadata": {}
        }
      ],
      "execution_count": null
    },
    {
      "cell_type": "code",
      "source": [
        "import matplotlib.pyplot as plt\n",
        "sample_index = 1\n",
        "plt.imshow(X_train_path[sample_index]);\n",
        "print(f\"Label: {y_train_path[sample_index]}\")"
      ],
      "metadata": {
        "trusted": true,
        "execution": {
          "iopub.status.busy": "2025-01-30T16:11:21.559559Z",
          "iopub.execute_input": "2025-01-30T16:11:21.559789Z",
          "iopub.status.idle": "2025-01-30T16:11:21.709084Z",
          "shell.execute_reply.started": "2025-01-30T16:11:21.559768Z",
          "shell.execute_reply": "2025-01-30T16:11:21.708306Z"
        },
        "id": "_ErJAWo_Lqio",
        "outputId": "e7e7f362-9685-4ba0-b752-4e1e8dabcd07"
      },
      "outputs": [
        {
          "name": "stdout",
          "text": "Label: [4]\n",
          "output_type": "stream"
        },
        {
          "output_type": "display_data",
          "data": {
            "text/plain": "<Figure size 640x480 with 1 Axes>",
            "image/png": "[encoded data removed]"
          },
          "metadata": {}
        }
      ],
      "execution_count": null
    },
    {
      "cell_type": "code",
      "source": [
        "import random\n",
        "plt.figure(figsize=(7, 7))\n",
        "for i in range(4):\n",
        "  ax = plt.subplot(2, 2, i + 1)\n",
        "  rand_index = random.choice(range(len(X_train_path)))\n",
        "  plt.imshow(X_train_path[rand_index])\n",
        "  plt.title(y_train_path[rand_index])\n",
        "  plt.axis(False)"
      ],
      "metadata": {
        "trusted": true,
        "execution": {
          "iopub.status.busy": "2025-01-30T16:11:21.709974Z",
          "iopub.execute_input": "2025-01-30T16:11:21.710286Z",
          "iopub.status.idle": "2025-01-30T16:11:21.968403Z",
          "shell.execute_reply.started": "2025-01-30T16:11:21.710259Z",
          "shell.execute_reply": "2025-01-30T16:11:21.967622Z"
        },
        "id": "lOZfqA_jLqio",
        "outputId": "9015d6e6-c291-46ff-c5c8-fe2d29d0ec26"
      },
      "outputs": [
        {
          "output_type": "display_data",
          "data": {
            "text/plain": "<Figure size 700x700 with 4 Axes>",
            "image/png": "[encoded data removed]"
          },
          "metadata": {}
        }
      ],
      "execution_count": null
    },
    {
      "cell_type": "code",
      "source": [
        "y_train_path = np.array(y_train_path).ravel()\n",
        "y_val_path = np.array(y_val_path).ravel()\n",
        "y_test_path = np.array(y_test_path).ravel()\n",
        "y_train_path.shape, y_val_path.shape, y_test_path.shape"
      ],
      "metadata": {
        "trusted": true,
        "execution": {
          "iopub.status.busy": "2025-01-30T16:11:21.969145Z",
          "iopub.execute_input": "2025-01-30T16:11:21.969439Z",
          "iopub.status.idle": "2025-01-30T16:11:21.974669Z",
          "shell.execute_reply.started": "2025-01-30T16:11:21.969412Z",
          "shell.execute_reply": "2025-01-30T16:11:21.973956Z"
        },
        "id": "RXBEQRBvLqio",
        "outputId": "6a9fe31c-efd6-4ed8-9d3e-36a657f05424"
      },
      "outputs": [
        {
          "execution_count": 97,
          "output_type": "execute_result",
          "data": {
            "text/plain": "((89996,), (10004,), (7180,))"
          },
          "metadata": {}
        }
      ],
      "execution_count": null
    },
    {
      "cell_type": "code",
      "source": [
        "X_train_path = X_train_path / 255\n",
        "X_val_path = X_val_path / 255\n",
        "X_test_path = X_test_path / 255\n",
        "X_train_path.min() , X_train_path.max()"
      ],
      "metadata": {
        "trusted": true,
        "execution": {
          "iopub.status.busy": "2025-01-30T16:11:21.975362Z",
          "iopub.execute_input": "2025-01-30T16:11:21.975591Z",
          "iopub.status.idle": "2025-01-30T16:11:22.996155Z",
          "shell.execute_reply.started": "2025-01-30T16:11:21.975571Z",
          "shell.execute_reply": "2025-01-30T16:11:22.995462Z"
        },
        "id": "o9GeDU8ULqio",
        "outputId": "f0a76d64-70ee-47b0-9149-a4bef441f025"
      },
      "outputs": [
        {
          "execution_count": 98,
          "output_type": "execute_result",
          "data": {
            "text/plain": "(0.0, 1.0)"
          },
          "metadata": {}
        }
      ],
      "execution_count": null
    },
    {
      "cell_type": "code",
      "source": [
        "from tensorflow.keras.models import Sequential\n",
        "from tensorflow.keras.layers import Conv2D, MaxPooling2D, Flatten, Dense, Dropout\n",
        "from tensorflow.keras.optimizers import Adam\n",
        "\n",
        "model_8 = Sequential()\n",
        "\n",
        "model_8.add(Conv2D(32, (3, 3), activation='leaky_relu', input_shape=(28, 28, 3)))\n",
        "model_8.add(MaxPooling2D(pool_size=(2, 2)))\n",
        "\n",
        "model_8.add(Conv2D(64, (3, 3), activation='leaky_relu'))\n",
        "model_8.add(MaxPooling2D(pool_size=(2, 2)))\n",
        "\n",
        "# Flatten the output from the convolutional layers\n",
        "model_8.add(Flatten())\n",
        "\n",
        "# Fully connected layers\n",
        "model_8.add(Dense(88, activation='leaky_relu'))\n",
        "model_8.add(Dropout(0.25))\n",
        "model_8.add(Dense(88, activation='leaky_relu'))\n",
        "model_8.add(Dense(64, activation='leaky_relu'))\n",
        "model_8.add(Dense(9, activation='softmax'))  # Output layer for multi-class classification\n",
        "\n",
        "# Compile the model\n",
        "model_8.compile(optimizer='adam', loss='sparse_categorical_crossentropy', metrics=['accuracy'])\n",
        "\n",
        "# Model summary\n",
        "model_8.summary()\n",
        "\n",
        "early_stopping = EarlyStopping(\n",
        "    monitor='val_loss',\n",
        "    patience=10,\n",
        "    restore_best_weights=True\n",
        ")\n",
        "\n",
        "history_8 = model_8.fit(X_train_path,\n",
        "                        y_train_path,\n",
        "                        epochs=150,\n",
        "                        verbose=True,\n",
        "                        validation_data=(X_val_path, y_val_path),\n",
        "                        callbacks=[early_stopping])"
      ],
      "metadata": {
        "trusted": true,
        "execution": {
          "iopub.status.busy": "2025-01-30T16:11:22.996918Z",
          "iopub.execute_input": "2025-01-30T16:11:22.997134Z",
          "iopub.status.idle": "2025-01-30T16:14:08.051182Z",
          "shell.execute_reply.started": "2025-01-30T16:11:22.99711Z",
          "shell.execute_reply": "2025-01-30T16:14:08.050468Z"
        },
        "id": "-IPICgzgLqio",
        "outputId": "4ebda6b8-fab4-4b0d-c596-8398ac4558ae"
      },
      "outputs": [
        {
          "name": "stderr",
          "text": "/usr/local/lib/python3.10/dist-packages/keras/src/layers/convolutional/base_conv.py:107: UserWarning: Do not pass an `input_shape`/`input_dim` argument to a layer. When using Sequential models, prefer using an `Input(shape)` object as the first layer in the model instead.\n  super().__init__(activity_regularizer=activity_regularizer, **kwargs)\n",
          "output_type": "stream"
        },
        {
          "output_type": "display_data",
          "data": {
            "text/plain": "\u001b[1mModel: \"sequential_10\"\u001b[0m\n",
            "text/html": "<pre style=\"white-space:pre;overflow-x:auto;line-height:normal;font-family:Menlo,'DejaVu Sans Mono',consolas,'Courier New',monospace\"><span style=\"font-weight: bold\">Model: \"sequential_10\"</span>\n</pre>\n"
          },
          "metadata": {}
        },
        {
          "output_type": "display_data",
          "data": {
            "text/plain": "┏━━━━━━━━━━━━━━━━━━━━━━━━━━━━━━━━━━━━━━┳━━━━━━━━━━━━━━━━━━━━━━━━━━━━━┳━━━━━━━━━━━━━━━━━┓\n┃\u001b[1m \u001b[0m\u001b[1mLayer (type)                        \u001b[0m\u001b[1m \u001b[0m┃\u001b[1m \u001b[0m\u001b[1mOutput Shape               \u001b[0m\u001b[1m \u001b[0m┃\u001b[1m \u001b[0m\u001b[1m        Param #\u001b[0m\u001b[1m \u001b[0m┃\n┡━━━━━━━━━━━━━━━━━━━━━━━━━━━━━━━━━━━━━━╇━━━━━━━━━━━━━━━━━━━━━━━━━━━━━╇━━━━━━━━━━━━━━━━━┩\n│ conv2d_16 (\u001b[38;5;33mConv2D\u001b[0m)                   │ (\u001b[38;5;45mNone\u001b[0m, \u001b[38;5;34m26\u001b[0m, \u001b[38;5;34m26\u001b[0m, \u001b[38;5;34m32\u001b[0m)          │             \u001b[38;5;34m896\u001b[0m │\n├──────────────────────────────────────┼─────────────────────────────┼─────────────────┤\n│ max_pooling2d_16 (\u001b[38;5;33mMaxPooling2D\u001b[0m)      │ (\u001b[38;5;45mNone\u001b[0m, \u001b[38;5;34m13\u001b[0m, \u001b[38;5;34m13\u001b[0m, \u001b[38;5;34m32\u001b[0m)          │               \u001b[38;5;34m0\u001b[0m │\n├──────────────────────────────────────┼─────────────────────────────┼─────────────────┤\n│ conv2d_17 (\u001b[38;5;33mConv2D\u001b[0m)                   │ (\u001b[38;5;45mNone\u001b[0m, \u001b[38;5;34m11\u001b[0m, \u001b[38;5;34m11\u001b[0m, \u001b[38;5;34m64\u001b[0m)          │          \u001b[38;5;34m18,496\u001b[0m │\n├──────────────────────────────────────┼─────────────────────────────┼─────────────────┤\n│ max_pooling2d_17 (\u001b[38;5;33mMaxPooling2D\u001b[0m)      │ (\u001b[38;5;45mNone\u001b[0m, \u001b[38;5;34m5\u001b[0m, \u001b[38;5;34m5\u001b[0m, \u001b[38;5;34m64\u001b[0m)            │               \u001b[38;5;34m0\u001b[0m │\n├──────────────────────────────────────┼─────────────────────────────┼─────────────────┤\n│ flatten_8 (\u001b[38;5;33mFlatten\u001b[0m)                  │ (\u001b[38;5;45mNone\u001b[0m, \u001b[38;5;34m1600\u001b[0m)                │               \u001b[38;5;34m0\u001b[0m │\n├──────────────────────────────────────┼─────────────────────────────┼─────────────────┤\n│ dense_32 (\u001b[38;5;33mDense\u001b[0m)                     │ (\u001b[38;5;45mNone\u001b[0m, \u001b[38;5;34m88\u001b[0m)                  │         \u001b[38;5;34m140,888\u001b[0m │\n├──────────────────────────────────────┼─────────────────────────────┼─────────────────┤\n│ dropout_8 (\u001b[38;5;33mDropout\u001b[0m)                  │ (\u001b[38;5;45mNone\u001b[0m, \u001b[38;5;34m88\u001b[0m)                  │               \u001b[38;5;34m0\u001b[0m │\n├──────────────────────────────────────┼─────────────────────────────┼─────────────────┤\n│ dense_33 (\u001b[38;5;33mDense\u001b[0m)                     │ (\u001b[38;5;45mNone\u001b[0m, \u001b[38;5;34m88\u001b[0m)                  │           \u001b[38;5;34m7,832\u001b[0m │\n├──────────────────────────────────────┼─────────────────────────────┼─────────────────┤\n│ dense_34 (\u001b[38;5;33mDense\u001b[0m)                     │ (\u001b[38;5;45mNone\u001b[0m, \u001b[38;5;34m64\u001b[0m)                  │           \u001b[38;5;34m5,696\u001b[0m │\n├──────────────────────────────────────┼─────────────────────────────┼─────────────────┤\n│ dense_35 (\u001b[38;5;33mDense\u001b[0m)                     │ (\u001b[38;5;45mNone\u001b[0m, \u001b[38;5;34m9\u001b[0m)                   │             \u001b[38;5;34m585\u001b[0m │\n└──────────────────────────────────────┴─────────────────────────────┴─────────────────┘\n",
            "text/html": "<pre style=\"white-space:pre;overflow-x:auto;line-height:normal;font-family:Menlo,'DejaVu Sans Mono',consolas,'Courier New',monospace\">┏━━━━━━━━━━━━━━━━━━━━━━━━━━━━━━━━━━━━━━┳━━━━━━━━━━━━━━━━━━━━━━━━━━━━━┳━━━━━━━━━━━━━━━━━┓\n┃<span style=\"font-weight: bold\"> Layer (type)                         </span>┃<span style=\"font-weight: bold\"> Output Shape                </span>┃<span style=\"font-weight: bold\">         Param # </span>┃\n┡━━━━━━━━━━━━━━━━━━━━━━━━━━━━━━━━━━━━━━╇━━━━━━━━━━━━━━━━━━━━━━━━━━━━━╇━━━━━━━━━━━━━━━━━┩\n│ conv2d_16 (<span style=\"color: #0087ff; text-decoration-color: #0087ff\">Conv2D</span>)                   │ (<span style=\"color: #00d7ff; text-decoration-color: #00d7ff\">None</span>, <span style=\"color: #00af00; text-decoration-color: #00af00\">26</span>, <span style=\"color: #00af00; text-decoration-color: #00af00\">26</span>, <span style=\"color: #00af00; text-decoration-color: #00af00\">32</span>)          │             <span style=\"color: #00af00; text-decoration-color: #00af00\">896</span> │\n├──────────────────────────────────────┼─────────────────────────────┼─────────────────┤\n│ max_pooling2d_16 (<span style=\"color: #0087ff; text-decoration-color: #0087ff\">MaxPooling2D</span>)      │ (<span style=\"color: #00d7ff; text-decoration-color: #00d7ff\">None</span>, <span style=\"color: #00af00; text-decoration-color: #00af00\">13</span>, <span style=\"color: #00af00; text-decoration-color: #00af00\">13</span>, <span style=\"color: #00af00; text-decoration-color: #00af00\">32</span>)          │               <span style=\"color: #00af00; text-decoration-color: #00af00\">0</span> │\n├──────────────────────────────────────┼─────────────────────────────┼─────────────────┤\n│ conv2d_17 (<span style=\"color: #0087ff; text-decoration-color: #0087ff\">Conv2D</span>)                   │ (<span style=\"color: #00d7ff; text-decoration-color: #00d7ff\">None</span>, <span style=\"color: #00af00; text-decoration-color: #00af00\">11</span>, <span style=\"color: #00af00; text-decoration-color: #00af00\">11</span>, <span style=\"color: #00af00; text-decoration-color: #00af00\">64</span>)          │          <span style=\"color: #00af00; text-decoration-color: #00af00\">18,496</span> │\n├──────────────────────────────────────┼─────────────────────────────┼─────────────────┤\n│ max_pooling2d_17 (<span style=\"color: #0087ff; text-decoration-color: #0087ff\">MaxPooling2D</span>)      │ (<span style=\"color: #00d7ff; text-decoration-color: #00d7ff\">None</span>, <span style=\"color: #00af00; text-decoration-color: #00af00\">5</span>, <span style=\"color: #00af00; text-decoration-color: #00af00\">5</span>, <span style=\"color: #00af00; text-decoration-color: #00af00\">64</span>)            │               <span style=\"color: #00af00; text-decoration-color: #00af00\">0</span> │\n├──────────────────────────────────────┼─────────────────────────────┼─────────────────┤\n│ flatten_8 (<span style=\"color: #0087ff; text-decoration-color: #0087ff\">Flatten</span>)                  │ (<span style=\"color: #00d7ff; text-decoration-color: #00d7ff\">None</span>, <span style=\"color: #00af00; text-decoration-color: #00af00\">1600</span>)                │               <span style=\"color: #00af00; text-decoration-color: #00af00\">0</span> │\n├──────────────────────────────────────┼─────────────────────────────┼─────────────────┤\n│ dense_32 (<span style=\"color: #0087ff; text-decoration-color: #0087ff\">Dense</span>)                     │ (<span style=\"color: #00d7ff; text-decoration-color: #00d7ff\">None</span>, <span style=\"color: #00af00; text-decoration-color: #00af00\">88</span>)                  │         <span style=\"color: #00af00; text-decoration-color: #00af00\">140,888</span> │\n├──────────────────────────────────────┼─────────────────────────────┼─────────────────┤\n│ dropout_8 (<span style=\"color: #0087ff; text-decoration-color: #0087ff\">Dropout</span>)                  │ (<span style=\"color: #00d7ff; text-decoration-color: #00d7ff\">None</span>, <span style=\"color: #00af00; text-decoration-color: #00af00\">88</span>)                  │               <span style=\"color: #00af00; text-decoration-color: #00af00\">0</span> │\n├──────────────────────────────────────┼─────────────────────────────┼─────────────────┤\n│ dense_33 (<span style=\"color: #0087ff; text-decoration-color: #0087ff\">Dense</span>)                     │ (<span style=\"color: #00d7ff; text-decoration-color: #00d7ff\">None</span>, <span style=\"color: #00af00; text-decoration-color: #00af00\">88</span>)                  │           <span style=\"color: #00af00; text-decoration-color: #00af00\">7,832</span> │\n├──────────────────────────────────────┼─────────────────────────────┼─────────────────┤\n│ dense_34 (<span style=\"color: #0087ff; text-decoration-color: #0087ff\">Dense</span>)                     │ (<span style=\"color: #00d7ff; text-decoration-color: #00d7ff\">None</span>, <span style=\"color: #00af00; text-decoration-color: #00af00\">64</span>)                  │           <span style=\"color: #00af00; text-decoration-color: #00af00\">5,696</span> │\n├──────────────────────────────────────┼─────────────────────────────┼─────────────────┤\n│ dense_35 (<span style=\"color: #0087ff; text-decoration-color: #0087ff\">Dense</span>)                     │ (<span style=\"color: #00d7ff; text-decoration-color: #00d7ff\">None</span>, <span style=\"color: #00af00; text-decoration-color: #00af00\">9</span>)                   │             <span style=\"color: #00af00; text-decoration-color: #00af00\">585</span> │\n└──────────────────────────────────────┴─────────────────────────────┴─────────────────┘\n</pre>\n"
          },
          "metadata": {}
        },
        {
          "output_type": "display_data",
          "data": {
            "text/plain": "\u001b[1m Total params: \u001b[0m\u001b[38;5;34m174,393\u001b[0m (681.22 KB)\n",
            "text/html": "<pre style=\"white-space:pre;overflow-x:auto;line-height:normal;font-family:Menlo,'DejaVu Sans Mono',consolas,'Courier New',monospace\"><span style=\"font-weight: bold\"> Total params: </span><span style=\"color: #00af00; text-decoration-color: #00af00\">174,393</span> (681.22 KB)\n</pre>\n"
          },
          "metadata": {}
        },
        {
          "output_type": "display_data",
          "data": {
            "text/plain": "\u001b[1m Trainable params: \u001b[0m\u001b[38;5;34m174,393\u001b[0m (681.22 KB)\n",
            "text/html": "<pre style=\"white-space:pre;overflow-x:auto;line-height:normal;font-family:Menlo,'DejaVu Sans Mono',consolas,'Courier New',monospace\"><span style=\"font-weight: bold\"> Trainable params: </span><span style=\"color: #00af00; text-decoration-color: #00af00\">174,393</span> (681.22 KB)\n</pre>\n"
          },
          "metadata": {}
        },
        {
          "output_type": "display_data",
          "data": {
            "text/plain": "\u001b[1m Non-trainable params: \u001b[0m\u001b[38;5;34m0\u001b[0m (0.00 B)\n",
            "text/html": "<pre style=\"white-space:pre;overflow-x:auto;line-height:normal;font-family:Menlo,'DejaVu Sans Mono',consolas,'Courier New',monospace\"><span style=\"font-weight: bold\"> Non-trainable params: </span><span style=\"color: #00af00; text-decoration-color: #00af00\">0</span> (0.00 B)\n</pre>\n"
          },
          "metadata": {}
        },
        {
          "name": "stdout",
          "text": "Epoch 1/150\n\u001b[1m2813/2813\u001b[0m \u001b[32m━━━━━━━━━━━━━━━━━━━━\u001b[0m\u001b[37m\u001b[0m \u001b[1m12s\u001b[0m 3ms/step - accuracy: 0.5158 - loss: 1.2778 - val_accuracy: 0.6876 - val_loss: 0.8327\nEpoch 2/150\n\u001b[1m2813/2813\u001b[0m \u001b[32m━━━━━━━━━━━━━━━━━━━━\u001b[0m\u001b[37m\u001b[0m \u001b[1m6s\u001b[0m 2ms/step - accuracy: 0.7438 - loss: 0.7008 - val_accuracy: 0.7877 - val_loss: 0.5702\nEpoch 3/150\n\u001b[1m2813/2813\u001b[0m \u001b[32m━━━━━━━━━━━━━━━━━━━━\u001b[0m\u001b[37m\u001b[0m \u001b[1m6s\u001b[0m 2ms/step - accuracy: 0.7857 - loss: 0.5840 - val_accuracy: 0.7548 - val_loss: 0.6887\nEpoch 4/150\n\u001b[1m2813/2813\u001b[0m \u001b[32m━━━━━━━━━━━━━━━━━━━━\u001b[0m\u001b[37m\u001b[0m \u001b[1m6s\u001b[0m 2ms/step - accuracy: 0.8076 - loss: 0.5247 - val_accuracy: 0.8259 - val_loss: 0.4867\nEpoch 5/150\n\u001b[1m2813/2813\u001b[0m \u001b[32m━━━━━━━━━━━━━━━━━━━━\u001b[0m\u001b[37m\u001b[0m \u001b[1m6s\u001b[0m 2ms/step - accuracy: 0.8298 - loss: 0.4685 - val_accuracy: 0.8514 - val_loss: 0.4244\nEpoch 6/150\n\u001b[1m2813/2813\u001b[0m \u001b[32m━━━━━━━━━━━━━━━━━━━━\u001b[0m\u001b[37m\u001b[0m \u001b[1m6s\u001b[0m 2ms/step - accuracy: 0.8406 - loss: 0.4354 - val_accuracy: 0.8466 - val_loss: 0.4223\nEpoch 7/150\n\u001b[1m2813/2813\u001b[0m \u001b[32m━━━━━━━━━━━━━━━━━━━━\u001b[0m\u001b[37m\u001b[0m \u001b[1m6s\u001b[0m 2ms/step - accuracy: 0.8492 - loss: 0.4099 - val_accuracy: 0.8646 - val_loss: 0.3745\nEpoch 8/150\n\u001b[1m2813/2813\u001b[0m \u001b[32m━━━━━━━━━━━━━━━━━━━━\u001b[0m\u001b[37m\u001b[0m \u001b[1m6s\u001b[0m 2ms/step - accuracy: 0.8635 - loss: 0.3790 - val_accuracy: 0.8651 - val_loss: 0.3921\nEpoch 9/150\n\u001b[1m2813/2813\u001b[0m \u001b[32m━━━━━━━━━━━━━━━━━━━━\u001b[0m\u001b[37m\u001b[0m \u001b[1m6s\u001b[0m 2ms/step - accuracy: 0.8711 - loss: 0.3556 - val_accuracy: 0.8740 - val_loss: 0.3633\nEpoch 10/150\n\u001b[1m2813/2813\u001b[0m \u001b[32m━━━━━━━━━━━━━━━━━━━━\u001b[0m\u001b[37m\u001b[0m \u001b[1m6s\u001b[0m 2ms/step - accuracy: 0.8788 - loss: 0.3353 - val_accuracy: 0.8812 - val_loss: 0.3343\nEpoch 11/150\n\u001b[1m2813/2813\u001b[0m \u001b[32m━━━━━━━━━━━━━━━━━━━━\u001b[0m\u001b[37m\u001b[0m \u001b[1m6s\u001b[0m 2ms/step - accuracy: 0.8860 - loss: 0.3173 - val_accuracy: 0.8733 - val_loss: 0.3606\nEpoch 12/150\n\u001b[1m2813/2813\u001b[0m \u001b[32m━━━━━━━━━━━━━━━━━━━━\u001b[0m\u001b[37m\u001b[0m \u001b[1m6s\u001b[0m 2ms/step - accuracy: 0.8905 - loss: 0.3025 - val_accuracy: 0.8760 - val_loss: 0.3498\nEpoch 13/150\n\u001b[1m2813/2813\u001b[0m \u001b[32m━━━━━━━━━━━━━━━━━━━━\u001b[0m\u001b[37m\u001b[0m \u001b[1m6s\u001b[0m 2ms/step - accuracy: 0.8930 - loss: 0.2924 - val_accuracy: 0.8852 - val_loss: 0.3349\nEpoch 14/150\n\u001b[1m2813/2813\u001b[0m \u001b[32m━━━━━━━━━━━━━━━━━━━━\u001b[0m\u001b[37m\u001b[0m \u001b[1m6s\u001b[0m 2ms/step - accuracy: 0.8985 - loss: 0.2753 - val_accuracy: 0.8823 - val_loss: 0.3344\nEpoch 15/150\n\u001b[1m2813/2813\u001b[0m \u001b[32m━━━━━━━━━━━━━━━━━━━━\u001b[0m\u001b[37m\u001b[0m \u001b[1m6s\u001b[0m 2ms/step - accuracy: 0.9033 - loss: 0.2712 - val_accuracy: 0.8891 - val_loss: 0.3128\nEpoch 16/150\n\u001b[1m2813/2813\u001b[0m \u001b[32m━━━━━━━━━━━━━━━━━━━━\u001b[0m\u001b[37m\u001b[0m \u001b[1m6s\u001b[0m 2ms/step - accuracy: 0.9058 - loss: 0.2592 - val_accuracy: 0.8927 - val_loss: 0.3059\nEpoch 17/150\n\u001b[1m2813/2813\u001b[0m \u001b[32m━━━━━━━━━━━━━━━━━━━━\u001b[0m\u001b[37m\u001b[0m \u001b[1m6s\u001b[0m 2ms/step - accuracy: 0.9087 - loss: 0.2509 - val_accuracy: 0.8806 - val_loss: 0.3520\nEpoch 18/150\n\u001b[1m2813/2813\u001b[0m \u001b[32m━━━━━━━━━━━━━━━━━━━━\u001b[0m\u001b[37m\u001b[0m \u001b[1m6s\u001b[0m 2ms/step - accuracy: 0.9132 - loss: 0.2392 - val_accuracy: 0.8731 - val_loss: 0.3761\nEpoch 19/150\n\u001b[1m2813/2813\u001b[0m \u001b[32m━━━━━━━━━━━━━━━━━━━━\u001b[0m\u001b[37m\u001b[0m \u001b[1m6s\u001b[0m 2ms/step - accuracy: 0.9144 - loss: 0.2420 - val_accuracy: 0.8586 - val_loss: 0.4289\nEpoch 20/150\n\u001b[1m2813/2813\u001b[0m \u001b[32m━━━━━━━━━━━━━━━━━━━━\u001b[0m\u001b[37m\u001b[0m \u001b[1m6s\u001b[0m 2ms/step - accuracy: 0.9192 - loss: 0.2230 - val_accuracy: 0.8925 - val_loss: 0.3242\nEpoch 21/150\n\u001b[1m2813/2813\u001b[0m \u001b[32m━━━━━━━━━━━━━━━━━━━━\u001b[0m\u001b[37m\u001b[0m \u001b[1m6s\u001b[0m 2ms/step - accuracy: 0.9193 - loss: 0.2208 - val_accuracy: 0.8875 - val_loss: 0.3417\nEpoch 22/150\n\u001b[1m2813/2813\u001b[0m \u001b[32m━━━━━━━━━━━━━━━━━━━━\u001b[0m\u001b[37m\u001b[0m \u001b[1m6s\u001b[0m 2ms/step - accuracy: 0.9226 - loss: 0.2143 - val_accuracy: 0.8857 - val_loss: 0.3602\nEpoch 23/150\n\u001b[1m2813/2813\u001b[0m \u001b[32m━━━━━━━━━━━━━━━━━━━━\u001b[0m\u001b[37m\u001b[0m \u001b[1m6s\u001b[0m 2ms/step - accuracy: 0.9259 - loss: 0.2048 - val_accuracy: 0.8772 - val_loss: 0.4056\nEpoch 24/150\n\u001b[1m2813/2813\u001b[0m \u001b[32m━━━━━━━━━━━━━━━━━━━━\u001b[0m\u001b[37m\u001b[0m \u001b[1m6s\u001b[0m 2ms/step - accuracy: 0.9256 - loss: 0.2047 - val_accuracy: 0.8900 - val_loss: 0.3414\nEpoch 25/150\n\u001b[1m2813/2813\u001b[0m \u001b[32m━━━━━━━━━━━━━━━━━━━━\u001b[0m\u001b[37m\u001b[0m \u001b[1m6s\u001b[0m 2ms/step - accuracy: 0.9288 - loss: 0.1971 - val_accuracy: 0.9034 - val_loss: 0.3161\nEpoch 26/150\n\u001b[1m2813/2813\u001b[0m \u001b[32m━━━━━━━━━━━━━━━━━━━━\u001b[0m\u001b[37m\u001b[0m \u001b[1m6s\u001b[0m 2ms/step - accuracy: 0.9308 - loss: 0.1903 - val_accuracy: 0.8969 - val_loss: 0.3209\n",
          "output_type": "stream"
        }
      ],
      "execution_count": null
    },
    {
      "cell_type": "code",
      "source": [
        "from sklearn.metrics import classification_report\n",
        "loss, accuracy = model_8.evaluate(X_test_path, y_test_path)\n",
        "y_preds_path = model_8.predict(X_test_path)\n",
        "y_preds_path = y_preds_path.argmax(axis=1)\n",
        "print(f\"Model loss on test set: {loss}\")\n",
        "print(f\"Model accuracy on test set: {(accuracy*100):.2f}%\")\n",
        "print(\"-------------------------------------------------------\")\n",
        "print(classification_report(y_test_path, y_preds_path))"
      ],
      "metadata": {
        "trusted": true,
        "execution": {
          "iopub.status.busy": "2025-01-30T16:14:08.052126Z",
          "iopub.execute_input": "2025-01-30T16:14:08.052369Z",
          "iopub.status.idle": "2025-01-30T16:14:10.049219Z",
          "shell.execute_reply.started": "2025-01-30T16:14:08.052348Z",
          "shell.execute_reply": "2025-01-30T16:14:10.048473Z"
        },
        "id": "Aq1N3btsLqio",
        "outputId": "fcc19060-189f-41df-81af-e280b8e116ca"
      },
      "outputs": [
        {
          "name": "stdout",
          "text": "\u001b[1m225/225\u001b[0m \u001b[32m━━━━━━━━━━━━━━━━━━━━\u001b[0m\u001b[37m\u001b[0m \u001b[1m1s\u001b[0m 3ms/step - accuracy: 0.8103 - loss: 0.9679\n\u001b[1m225/225\u001b[0m \u001b[32m━━━━━━━━━━━━━━━━━━━━\u001b[0m\u001b[37m\u001b[0m \u001b[1m1s\u001b[0m 2ms/step\nModel loss on test set: 0.9700393080711365\nModel accuracy on test set: 80.72%\n-------------------------------------------------------\n              precision    recall  f1-score   support\n\n           0       0.92      0.97      0.94      1338\n           1       0.88      1.00      0.94       847\n           2       0.26      0.37      0.31       339\n           3       0.80      0.91      0.85       634\n           4       0.95      0.76      0.85      1035\n           5       0.59      0.60      0.59       592\n           6       0.87      0.71      0.78       741\n           7       0.62      0.40      0.48       421\n           8       0.86      0.90      0.88      1233\n\n    accuracy                           0.81      7180\n   macro avg       0.75      0.74      0.74      7180\nweighted avg       0.82      0.81      0.81      7180\n\n",
          "output_type": "stream"
        }
      ],
      "execution_count": null
    },
    {
      "cell_type": "code",
      "source": [
        "np.save('/kaggle/working/y_preds_path.npy', y_preds_path)"
      ],
      "metadata": {
        "trusted": true,
        "execution": {
          "iopub.status.busy": "2025-01-30T16:14:10.050033Z",
          "iopub.execute_input": "2025-01-30T16:14:10.050349Z",
          "iopub.status.idle": "2025-01-30T16:14:10.054566Z",
          "shell.execute_reply.started": "2025-01-30T16:14:10.050315Z",
          "shell.execute_reply": "2025-01-30T16:14:10.05374Z"
        },
        "id": "-g3EBosrLqip"
      },
      "outputs": [],
      "execution_count": null
    },
    {
      "cell_type": "markdown",
      "source": [
        "## Pneumonia Data"
      ],
      "metadata": {
        "id": "dzXKDkv8Lqip"
      }
    },
    {
      "cell_type": "code",
      "source": [
        "pn_data = np.load('/kaggle/input/tensor-reloaded-multi-task-med-mnist/data/pneumoniamnist.npz')\n",
        "print(len(pn_data))\n",
        "pn_data.files"
      ],
      "metadata": {
        "trusted": true,
        "execution": {
          "iopub.status.busy": "2025-01-30T16:14:10.0554Z",
          "iopub.execute_input": "2025-01-30T16:14:10.055661Z",
          "iopub.status.idle": "2025-01-30T16:14:10.092097Z",
          "shell.execute_reply.started": "2025-01-30T16:14:10.055635Z",
          "shell.execute_reply": "2025-01-30T16:14:10.091458Z"
        },
        "id": "W4pRRtZVLqip",
        "outputId": "17495ef2-e959-4b4b-a175-f47dd7656de3"
      },
      "outputs": [
        {
          "name": "stdout",
          "text": "6\n",
          "output_type": "stream"
        },
        {
          "execution_count": 102,
          "output_type": "execute_result",
          "data": {
            "text/plain": "['train_images',\n 'val_images',\n 'test_images',\n 'train_labels',\n 'val_labels',\n 'test_labels']"
          },
          "metadata": {}
        }
      ],
      "execution_count": null
    },
    {
      "cell_type": "code",
      "source": [
        "pn_unique = np.unique(pn_data['train_labels'])\n",
        "print(pn_unique)"
      ],
      "metadata": {
        "trusted": true,
        "execution": {
          "iopub.status.busy": "2025-01-30T16:14:10.092766Z",
          "iopub.execute_input": "2025-01-30T16:14:10.092981Z",
          "iopub.status.idle": "2025-01-30T16:14:10.098598Z",
          "shell.execute_reply.started": "2025-01-30T16:14:10.092961Z",
          "shell.execute_reply": "2025-01-30T16:14:10.097706Z"
        },
        "id": "lIWN-879Lqip",
        "outputId": "b9d6cd86-f493-44cd-c8ac-9030486a6271"
      },
      "outputs": [
        {
          "name": "stdout",
          "text": "[0 1]\n",
          "output_type": "stream"
        }
      ],
      "execution_count": null
    },
    {
      "cell_type": "code",
      "source": [
        "print(pn_data['train_images'].shape)\n",
        "print(pn_data['val_images'].shape)\n",
        "print(pn_data['test_images'].shape)\n",
        "print(pn_data['train_labels'].shape)\n",
        "print(pn_data['val_labels'].shape)\n",
        "print(pn_data['test_labels'].shape)"
      ],
      "metadata": {
        "trusted": true,
        "execution": {
          "iopub.status.busy": "2025-01-30T16:14:10.099426Z",
          "iopub.execute_input": "2025-01-30T16:14:10.099713Z",
          "iopub.status.idle": "2025-01-30T16:14:10.227181Z",
          "shell.execute_reply.started": "2025-01-30T16:14:10.099684Z",
          "shell.execute_reply": "2025-01-30T16:14:10.226288Z"
        },
        "id": "XLcIxuH0Lqip",
        "outputId": "45c8eda6-2c94-41e6-8082-49340a80e3be"
      },
      "outputs": [
        {
          "name": "stdout",
          "text": "(4708, 28, 28)\n(524, 28, 28)\n(624, 28, 28)\n(4708, 1)\n(524, 1)\n(624, 1)\n",
          "output_type": "stream"
        }
      ],
      "execution_count": null
    },
    {
      "cell_type": "code",
      "source": [
        "X_train_pn = pn_data['train_images']\n",
        "X_val_pn = pn_data['val_images']\n",
        "X_test_pn = pn_data['test_images']\n",
        "y_train_pn = pn_data['train_labels']\n",
        "y_val_pn = pn_data['val_labels']\n",
        "y_test_pn = pn_data['test_labels']\n",
        "X_train_pn.shape, y_train_pn.shape"
      ],
      "metadata": {
        "trusted": true,
        "execution": {
          "iopub.status.busy": "2025-01-30T16:14:10.228092Z",
          "iopub.execute_input": "2025-01-30T16:14:10.228435Z",
          "iopub.status.idle": "2025-01-30T16:14:10.267554Z",
          "shell.execute_reply.started": "2025-01-30T16:14:10.2284Z",
          "shell.execute_reply": "2025-01-30T16:14:10.26692Z"
        },
        "id": "xYxunvfsLqip",
        "outputId": "3317fa4a-41f8-42c4-c719-54ace9af7ca7"
      },
      "outputs": [
        {
          "execution_count": 105,
          "output_type": "execute_result",
          "data": {
            "text/plain": "((4708, 28, 28), (4708, 1))"
          },
          "metadata": {}
        }
      ],
      "execution_count": null
    },
    {
      "cell_type": "code",
      "source": [
        "import matplotlib.pyplot as plt\n",
        "sample_index = 1\n",
        "plt.imshow(X_train_pn[sample_index]);\n",
        "print(f\"Label: {y_train_pn[sample_index]}\")"
      ],
      "metadata": {
        "trusted": true,
        "execution": {
          "iopub.status.busy": "2025-01-30T16:14:10.268395Z",
          "iopub.execute_input": "2025-01-30T16:14:10.268622Z",
          "iopub.status.idle": "2025-01-30T16:14:10.416346Z",
          "shell.execute_reply.started": "2025-01-30T16:14:10.268592Z",
          "shell.execute_reply": "2025-01-30T16:14:10.415633Z"
        },
        "id": "ZAeU4PLTLqip",
        "outputId": "f9a78245-4061-445e-b4f2-c496a5020d0f"
      },
      "outputs": [
        {
          "name": "stdout",
          "text": "Label: [1]\n",
          "output_type": "stream"
        },
        {
          "output_type": "display_data",
          "data": {
            "text/plain": "<Figure size 640x480 with 1 Axes>",
            "image/png": "[encoded data removed]"
          },
          "metadata": {}
        }
      ],
      "execution_count": null
    },
    {
      "cell_type": "code",
      "source": [
        "import random\n",
        "plt.figure(figsize=(7, 7))\n",
        "for i in range(4):\n",
        "  ax = plt.subplot(2, 2, i + 1)\n",
        "  rand_index = random.choice(range(len(X_train_pn)))\n",
        "  plt.imshow(X_train_pn[rand_index])\n",
        "  plt.title(y_train_pn[rand_index])\n",
        "  plt.axis(False)"
      ],
      "metadata": {
        "trusted": true,
        "execution": {
          "iopub.status.busy": "2025-01-30T16:14:10.417055Z",
          "iopub.execute_input": "2025-01-30T16:14:10.417259Z",
          "iopub.status.idle": "2025-01-30T16:14:10.69066Z",
          "shell.execute_reply.started": "2025-01-30T16:14:10.417241Z",
          "shell.execute_reply": "2025-01-30T16:14:10.689969Z"
        },
        "id": "BbueWEj0Lqiq",
        "outputId": "17178d1a-e4b9-45e3-b405-142d2245de15"
      },
      "outputs": [
        {
          "output_type": "display_data",
          "data": {
            "text/plain": "<Figure size 700x700 with 4 Axes>",
            "image/png": "[encoded data removed]"
          },
          "metadata": {}
        }
      ],
      "execution_count": null
    },
    {
      "cell_type": "code",
      "source": [
        "y_train_pn = np.array(y_train_pn).ravel()\n",
        "y_val_pn = np.array(y_val_pn).ravel()\n",
        "y_test_pn = np.array(y_test_pn).ravel()\n",
        "y_train_pn.shape, y_val_pn.shape, y_test_pn.shape"
      ],
      "metadata": {
        "trusted": true,
        "execution": {
          "iopub.status.busy": "2025-01-30T16:14:10.691345Z",
          "iopub.execute_input": "2025-01-30T16:14:10.691581Z",
          "iopub.status.idle": "2025-01-30T16:14:10.696913Z",
          "shell.execute_reply.started": "2025-01-30T16:14:10.691561Z",
          "shell.execute_reply": "2025-01-30T16:14:10.696286Z"
        },
        "id": "rqX6aA1wLqiq",
        "outputId": "81ca75e8-896a-4932-b295-7131b7c1c4eb"
      },
      "outputs": [
        {
          "execution_count": 108,
          "output_type": "execute_result",
          "data": {
            "text/plain": "((4708,), (524,), (624,))"
          },
          "metadata": {}
        }
      ],
      "execution_count": null
    },
    {
      "cell_type": "code",
      "source": [
        "X_train_pn = X_train_pn / 255\n",
        "X_val_pn = X_val_pn / 255\n",
        "X_test_pn = X_test_pn / 255\n",
        "X_train_pn.min() , X_train_pn.max()"
      ],
      "metadata": {
        "trusted": true,
        "execution": {
          "iopub.status.busy": "2025-01-30T16:14:10.69777Z",
          "iopub.execute_input": "2025-01-30T16:14:10.698054Z",
          "iopub.status.idle": "2025-01-30T16:14:10.735354Z",
          "shell.execute_reply.started": "2025-01-30T16:14:10.698026Z",
          "shell.execute_reply": "2025-01-30T16:14:10.734619Z"
        },
        "id": "4V7sAKj7Lqiq",
        "outputId": "ad51796c-f41e-48bb-ed86-3ac50e71ad93"
      },
      "outputs": [
        {
          "execution_count": 109,
          "output_type": "execute_result",
          "data": {
            "text/plain": "(0.0, 1.0)"
          },
          "metadata": {}
        }
      ],
      "execution_count": null
    },
    {
      "cell_type": "code",
      "source": [
        "import tensorflow as tf\n",
        "X_train_pn = tf.expand_dims(X_train_pn, axis=-1)\n",
        "X_val_pn = tf.expand_dims(X_val_pn, axis=-1)\n",
        "X_test_pn = tf.expand_dims(X_test_pn, axis=-1)\n",
        "X_train_pn.shape, X_val_pn.shape, X_test_pn.shape"
      ],
      "metadata": {
        "trusted": true,
        "execution": {
          "iopub.status.busy": "2025-01-30T16:14:10.736139Z",
          "iopub.execute_input": "2025-01-30T16:14:10.736407Z",
          "iopub.status.idle": "2025-01-30T16:14:10.775168Z",
          "shell.execute_reply.started": "2025-01-30T16:14:10.736363Z",
          "shell.execute_reply": "2025-01-30T16:14:10.774457Z"
        },
        "id": "E-rdRU3_Lqiq",
        "outputId": "c583a175-17df-4d2f-c52d-163218876842"
      },
      "outputs": [
        {
          "execution_count": 110,
          "output_type": "execute_result",
          "data": {
            "text/plain": "(TensorShape([4708, 28, 28, 1]),\n TensorShape([524, 28, 28, 1]),\n TensorShape([624, 28, 28, 1]))"
          },
          "metadata": {}
        }
      ],
      "execution_count": null
    },
    {
      "cell_type": "code",
      "source": [
        "from tensorflow.keras.models import Sequential\n",
        "from tensorflow.keras.layers import Conv2D, MaxPooling2D, Flatten, Dense, Dropout\n",
        "from tensorflow.keras.optimizers import Adam\n",
        "\n",
        "model_9 = Sequential()\n",
        "\n",
        "model_9.add(Conv2D(32, (3, 3), activation='leaky_relu', input_shape=(28, 28, 1)))\n",
        "model_9.add(MaxPooling2D(pool_size=(2, 2)))\n",
        "\n",
        "model_9.add(Conv2D(56, (3, 3), activation='leaky_relu'))\n",
        "model_9.add(MaxPooling2D(pool_size=(2, 2)))\n",
        "\n",
        "# Flatten the output from the convolutional layers\n",
        "model_9.add(Flatten())\n",
        "\n",
        "# Fully connected layers\n",
        "model_9.add(Dense(88, activation='leaky_relu'))\n",
        "model_9.add(Dropout(0.25))\n",
        "model_9.add(Dense(88, activation='leaky_relu'))\n",
        "model_9.add(Dense(64, activation='leaky_relu'))\n",
        "model_9.add(Dense(1, activation='sigmoid'))  # Output layer for multi-class classification\n",
        "\n",
        "# Compile the model\n",
        "model_9.compile(optimizer='adam', loss='binary_crossentropy', metrics=['accuracy'])\n",
        "\n",
        "# Model summary\n",
        "model_9.summary()\n",
        "\n",
        "early_stopping = EarlyStopping(\n",
        "    monitor='val_loss',\n",
        "    patience=10,\n",
        "    restore_best_weights=True\n",
        ")\n",
        "\n",
        "history_9 = model_9.fit(X_train_pn,\n",
        "                        y_train_pn,\n",
        "                        epochs=150,\n",
        "                        verbose=True,\n",
        "                        validation_data=(X_val_pn, y_val_pn),\n",
        "                        callbacks=[early_stopping])"
      ],
      "metadata": {
        "trusted": true,
        "execution": {
          "iopub.status.busy": "2025-01-30T16:14:10.776089Z",
          "iopub.execute_input": "2025-01-30T16:14:10.776433Z",
          "iopub.status.idle": "2025-01-30T16:14:21.998152Z",
          "shell.execute_reply.started": "2025-01-30T16:14:10.7764Z",
          "shell.execute_reply": "2025-01-30T16:14:21.997496Z"
        },
        "id": "vN4d0-4oLqiq",
        "outputId": "920fcd13-239b-4e1e-e37d-25becd2e65e0"
      },
      "outputs": [
        {
          "name": "stderr",
          "text": "/usr/local/lib/python3.10/dist-packages/keras/src/layers/convolutional/base_conv.py:107: UserWarning: Do not pass an `input_shape`/`input_dim` argument to a layer. When using Sequential models, prefer using an `Input(shape)` object as the first layer in the model instead.\n  super().__init__(activity_regularizer=activity_regularizer, **kwargs)\n",
          "output_type": "stream"
        },
        {
          "output_type": "display_data",
          "data": {
            "text/plain": "\u001b[1mModel: \"sequential_11\"\u001b[0m\n",
            "text/html": "<pre style=\"white-space:pre;overflow-x:auto;line-height:normal;font-family:Menlo,'DejaVu Sans Mono',consolas,'Courier New',monospace\"><span style=\"font-weight: bold\">Model: \"sequential_11\"</span>\n</pre>\n"
          },
          "metadata": {}
        },
        {
          "output_type": "display_data",
          "data": {
            "text/plain": "┏━━━━━━━━━━━━━━━━━━━━━━━━━━━━━━━━━━━━━━┳━━━━━━━━━━━━━━━━━━━━━━━━━━━━━┳━━━━━━━━━━━━━━━━━┓\n┃\u001b[1m \u001b[0m\u001b[1mLayer (type)                        \u001b[0m\u001b[1m \u001b[0m┃\u001b[1m \u001b[0m\u001b[1mOutput Shape               \u001b[0m\u001b[1m \u001b[0m┃\u001b[1m \u001b[0m\u001b[1m        Param #\u001b[0m\u001b[1m \u001b[0m┃\n┡━━━━━━━━━━━━━━━━━━━━━━━━━━━━━━━━━━━━━━╇━━━━━━━━━━━━━━━━━━━━━━━━━━━━━╇━━━━━━━━━━━━━━━━━┩\n│ conv2d_18 (\u001b[38;5;33mConv2D\u001b[0m)                   │ (\u001b[38;5;45mNone\u001b[0m, \u001b[38;5;34m26\u001b[0m, \u001b[38;5;34m26\u001b[0m, \u001b[38;5;34m32\u001b[0m)          │             \u001b[38;5;34m320\u001b[0m │\n├──────────────────────────────────────┼─────────────────────────────┼─────────────────┤\n│ max_pooling2d_18 (\u001b[38;5;33mMaxPooling2D\u001b[0m)      │ (\u001b[38;5;45mNone\u001b[0m, \u001b[38;5;34m13\u001b[0m, \u001b[38;5;34m13\u001b[0m, \u001b[38;5;34m32\u001b[0m)          │               \u001b[38;5;34m0\u001b[0m │\n├──────────────────────────────────────┼─────────────────────────────┼─────────────────┤\n│ conv2d_19 (\u001b[38;5;33mConv2D\u001b[0m)                   │ (\u001b[38;5;45mNone\u001b[0m, \u001b[38;5;34m11\u001b[0m, \u001b[38;5;34m11\u001b[0m, \u001b[38;5;34m56\u001b[0m)          │          \u001b[38;5;34m16,184\u001b[0m │\n├──────────────────────────────────────┼─────────────────────────────┼─────────────────┤\n│ max_pooling2d_19 (\u001b[38;5;33mMaxPooling2D\u001b[0m)      │ (\u001b[38;5;45mNone\u001b[0m, \u001b[38;5;34m5\u001b[0m, \u001b[38;5;34m5\u001b[0m, \u001b[38;5;34m56\u001b[0m)            │               \u001b[38;5;34m0\u001b[0m │\n├──────────────────────────────────────┼─────────────────────────────┼─────────────────┤\n│ flatten_9 (\u001b[38;5;33mFlatten\u001b[0m)                  │ (\u001b[38;5;45mNone\u001b[0m, \u001b[38;5;34m1400\u001b[0m)                │               \u001b[38;5;34m0\u001b[0m │\n├──────────────────────────────────────┼─────────────────────────────┼─────────────────┤\n│ dense_36 (\u001b[38;5;33mDense\u001b[0m)                     │ (\u001b[38;5;45mNone\u001b[0m, \u001b[38;5;34m88\u001b[0m)                  │         \u001b[38;5;34m123,288\u001b[0m │\n├──────────────────────────────────────┼─────────────────────────────┼─────────────────┤\n│ dropout_9 (\u001b[38;5;33mDropout\u001b[0m)                  │ (\u001b[38;5;45mNone\u001b[0m, \u001b[38;5;34m88\u001b[0m)                  │               \u001b[38;5;34m0\u001b[0m │\n├──────────────────────────────────────┼─────────────────────────────┼─────────────────┤\n│ dense_37 (\u001b[38;5;33mDense\u001b[0m)                     │ (\u001b[38;5;45mNone\u001b[0m, \u001b[38;5;34m88\u001b[0m)                  │           \u001b[38;5;34m7,832\u001b[0m │\n├──────────────────────────────────────┼─────────────────────────────┼─────────────────┤\n│ dense_38 (\u001b[38;5;33mDense\u001b[0m)                     │ (\u001b[38;5;45mNone\u001b[0m, \u001b[38;5;34m64\u001b[0m)                  │           \u001b[38;5;34m5,696\u001b[0m │\n├──────────────────────────────────────┼─────────────────────────────┼─────────────────┤\n│ dense_39 (\u001b[38;5;33mDense\u001b[0m)                     │ (\u001b[38;5;45mNone\u001b[0m, \u001b[38;5;34m1\u001b[0m)                   │              \u001b[38;5;34m65\u001b[0m │\n└──────────────────────────────────────┴─────────────────────────────┴─────────────────┘\n",
            "text/html": "<pre style=\"white-space:pre;overflow-x:auto;line-height:normal;font-family:Menlo,'DejaVu Sans Mono',consolas,'Courier New',monospace\">┏━━━━━━━━━━━━━━━━━━━━━━━━━━━━━━━━━━━━━━┳━━━━━━━━━━━━━━━━━━━━━━━━━━━━━┳━━━━━━━━━━━━━━━━━┓\n┃<span style=\"font-weight: bold\"> Layer (type)                         </span>┃<span style=\"font-weight: bold\"> Output Shape                </span>┃<span style=\"font-weight: bold\">         Param # </span>┃\n┡━━━━━━━━━━━━━━━━━━━━━━━━━━━━━━━━━━━━━━╇━━━━━━━━━━━━━━━━━━━━━━━━━━━━━╇━━━━━━━━━━━━━━━━━┩\n│ conv2d_18 (<span style=\"color: #0087ff; text-decoration-color: #0087ff\">Conv2D</span>)                   │ (<span style=\"color: #00d7ff; text-decoration-color: #00d7ff\">None</span>, <span style=\"color: #00af00; text-decoration-color: #00af00\">26</span>, <span style=\"color: #00af00; text-decoration-color: #00af00\">26</span>, <span style=\"color: #00af00; text-decoration-color: #00af00\">32</span>)          │             <span style=\"color: #00af00; text-decoration-color: #00af00\">320</span> │\n├──────────────────────────────────────┼─────────────────────────────┼─────────────────┤\n│ max_pooling2d_18 (<span style=\"color: #0087ff; text-decoration-color: #0087ff\">MaxPooling2D</span>)      │ (<span style=\"color: #00d7ff; text-decoration-color: #00d7ff\">None</span>, <span style=\"color: #00af00; text-decoration-color: #00af00\">13</span>, <span style=\"color: #00af00; text-decoration-color: #00af00\">13</span>, <span style=\"color: #00af00; text-decoration-color: #00af00\">32</span>)          │               <span style=\"color: #00af00; text-decoration-color: #00af00\">0</span> │\n├──────────────────────────────────────┼─────────────────────────────┼─────────────────┤\n│ conv2d_19 (<span style=\"color: #0087ff; text-decoration-color: #0087ff\">Conv2D</span>)                   │ (<span style=\"color: #00d7ff; text-decoration-color: #00d7ff\">None</span>, <span style=\"color: #00af00; text-decoration-color: #00af00\">11</span>, <span style=\"color: #00af00; text-decoration-color: #00af00\">11</span>, <span style=\"color: #00af00; text-decoration-color: #00af00\">56</span>)          │          <span style=\"color: #00af00; text-decoration-color: #00af00\">16,184</span> │\n├──────────────────────────────────────┼─────────────────────────────┼─────────────────┤\n│ max_pooling2d_19 (<span style=\"color: #0087ff; text-decoration-color: #0087ff\">MaxPooling2D</span>)      │ (<span style=\"color: #00d7ff; text-decoration-color: #00d7ff\">None</span>, <span style=\"color: #00af00; text-decoration-color: #00af00\">5</span>, <span style=\"color: #00af00; text-decoration-color: #00af00\">5</span>, <span style=\"color: #00af00; text-decoration-color: #00af00\">56</span>)            │               <span style=\"color: #00af00; text-decoration-color: #00af00\">0</span> │\n├──────────────────────────────────────┼─────────────────────────────┼─────────────────┤\n│ flatten_9 (<span style=\"color: #0087ff; text-decoration-color: #0087ff\">Flatten</span>)                  │ (<span style=\"color: #00d7ff; text-decoration-color: #00d7ff\">None</span>, <span style=\"color: #00af00; text-decoration-color: #00af00\">1400</span>)                │               <span style=\"color: #00af00; text-decoration-color: #00af00\">0</span> │\n├──────────────────────────────────────┼─────────────────────────────┼─────────────────┤\n│ dense_36 (<span style=\"color: #0087ff; text-decoration-color: #0087ff\">Dense</span>)                     │ (<span style=\"color: #00d7ff; text-decoration-color: #00d7ff\">None</span>, <span style=\"color: #00af00; text-decoration-color: #00af00\">88</span>)                  │         <span style=\"color: #00af00; text-decoration-color: #00af00\">123,288</span> │\n├──────────────────────────────────────┼─────────────────────────────┼─────────────────┤\n│ dropout_9 (<span style=\"color: #0087ff; text-decoration-color: #0087ff\">Dropout</span>)                  │ (<span style=\"color: #00d7ff; text-decoration-color: #00d7ff\">None</span>, <span style=\"color: #00af00; text-decoration-color: #00af00\">88</span>)                  │               <span style=\"color: #00af00; text-decoration-color: #00af00\">0</span> │\n├──────────────────────────────────────┼─────────────────────────────┼─────────────────┤\n│ dense_37 (<span style=\"color: #0087ff; text-decoration-color: #0087ff\">Dense</span>)                     │ (<span style=\"color: #00d7ff; text-decoration-color: #00d7ff\">None</span>, <span style=\"color: #00af00; text-decoration-color: #00af00\">88</span>)                  │           <span style=\"color: #00af00; text-decoration-color: #00af00\">7,832</span> │\n├──────────────────────────────────────┼─────────────────────────────┼─────────────────┤\n│ dense_38 (<span style=\"color: #0087ff; text-decoration-color: #0087ff\">Dense</span>)                     │ (<span style=\"color: #00d7ff; text-decoration-color: #00d7ff\">None</span>, <span style=\"color: #00af00; text-decoration-color: #00af00\">64</span>)                  │           <span style=\"color: #00af00; text-decoration-color: #00af00\">5,696</span> │\n├──────────────────────────────────────┼─────────────────────────────┼─────────────────┤\n│ dense_39 (<span style=\"color: #0087ff; text-decoration-color: #0087ff\">Dense</span>)                     │ (<span style=\"color: #00d7ff; text-decoration-color: #00d7ff\">None</span>, <span style=\"color: #00af00; text-decoration-color: #00af00\">1</span>)                   │              <span style=\"color: #00af00; text-decoration-color: #00af00\">65</span> │\n└──────────────────────────────────────┴─────────────────────────────┴─────────────────┘\n</pre>\n"
          },
          "metadata": {}
        },
        {
          "output_type": "display_data",
          "data": {
            "text/plain": "\u001b[1m Total params: \u001b[0m\u001b[38;5;34m153,385\u001b[0m (599.16 KB)\n",
            "text/html": "<pre style=\"white-space:pre;overflow-x:auto;line-height:normal;font-family:Menlo,'DejaVu Sans Mono',consolas,'Courier New',monospace\"><span style=\"font-weight: bold\"> Total params: </span><span style=\"color: #00af00; text-decoration-color: #00af00\">153,385</span> (599.16 KB)\n</pre>\n"
          },
          "metadata": {}
        },
        {
          "output_type": "display_data",
          "data": {
            "text/plain": "\u001b[1m Trainable params: \u001b[0m\u001b[38;5;34m153,385\u001b[0m (599.16 KB)\n",
            "text/html": "<pre style=\"white-space:pre;overflow-x:auto;line-height:normal;font-family:Menlo,'DejaVu Sans Mono',consolas,'Courier New',monospace\"><span style=\"font-weight: bold\"> Trainable params: </span><span style=\"color: #00af00; text-decoration-color: #00af00\">153,385</span> (599.16 KB)\n</pre>\n"
          },
          "metadata": {}
        },
        {
          "output_type": "display_data",
          "data": {
            "text/plain": "\u001b[1m Non-trainable params: \u001b[0m\u001b[38;5;34m0\u001b[0m (0.00 B)\n",
            "text/html": "<pre style=\"white-space:pre;overflow-x:auto;line-height:normal;font-family:Menlo,'DejaVu Sans Mono',consolas,'Courier New',monospace\"><span style=\"font-weight: bold\"> Non-trainable params: </span><span style=\"color: #00af00; text-decoration-color: #00af00\">0</span> (0.00 B)\n</pre>\n"
          },
          "metadata": {}
        },
        {
          "name": "stdout",
          "text": "Epoch 1/150\n\u001b[1m148/148\u001b[0m \u001b[32m━━━━━━━━━━━━━━━━━━━━\u001b[0m\u001b[37m\u001b[0m \u001b[1m6s\u001b[0m 18ms/step - accuracy: 0.7741 - loss: 0.4662 - val_accuracy: 0.9198 - val_loss: 0.1947\nEpoch 2/150\n\u001b[1m148/148\u001b[0m \u001b[32m━━━━━━━━━━━━━━━━━━━━\u001b[0m\u001b[37m\u001b[0m \u001b[1m0s\u001b[0m 2ms/step - accuracy: 0.9327 - loss: 0.1756 - val_accuracy: 0.9523 - val_loss: 0.1238\nEpoch 3/150\n\u001b[1m148/148\u001b[0m \u001b[32m━━━━━━━━━━━━━━━━━━━━\u001b[0m\u001b[37m\u001b[0m \u001b[1m0s\u001b[0m 2ms/step - accuracy: 0.9369 - loss: 0.1406 - val_accuracy: 0.9676 - val_loss: 0.1099\nEpoch 4/150\n\u001b[1m148/148\u001b[0m \u001b[32m━━━━━━━━━━━━━━━━━━━━\u001b[0m\u001b[37m\u001b[0m \u001b[1m0s\u001b[0m 2ms/step - accuracy: 0.9299 - loss: 0.1757 - val_accuracy: 0.9618 - val_loss: 0.0951\nEpoch 5/150\n\u001b[1m148/148\u001b[0m \u001b[32m━━━━━━━━━━━━━━━━━━━━\u001b[0m\u001b[37m\u001b[0m \u001b[1m0s\u001b[0m 2ms/step - accuracy: 0.9494 - loss: 0.1244 - val_accuracy: 0.9466 - val_loss: 0.1268\nEpoch 6/150\n\u001b[1m148/148\u001b[0m \u001b[32m━━━━━━━━━━━━━━━━━━━━\u001b[0m\u001b[37m\u001b[0m \u001b[1m0s\u001b[0m 2ms/step - accuracy: 0.9627 - loss: 0.0941 - val_accuracy: 0.9695 - val_loss: 0.0966\nEpoch 7/150\n\u001b[1m148/148\u001b[0m \u001b[32m━━━━━━━━━━━━━━━━━━━━\u001b[0m\u001b[37m\u001b[0m \u001b[1m0s\u001b[0m 2ms/step - accuracy: 0.9726 - loss: 0.0776 - val_accuracy: 0.9714 - val_loss: 0.0779\nEpoch 8/150\n\u001b[1m148/148\u001b[0m \u001b[32m━━━━━━━━━━━━━━━━━━━━\u001b[0m\u001b[37m\u001b[0m \u001b[1m0s\u001b[0m 2ms/step - accuracy: 0.9669 - loss: 0.0804 - val_accuracy: 0.9656 - val_loss: 0.0837\nEpoch 9/150\n\u001b[1m148/148\u001b[0m \u001b[32m━━━━━━━━━━━━━━━━━━━━\u001b[0m\u001b[37m\u001b[0m \u001b[1m0s\u001b[0m 2ms/step - accuracy: 0.9767 - loss: 0.0678 - val_accuracy: 0.9714 - val_loss: 0.0897\nEpoch 10/150\n\u001b[1m148/148\u001b[0m \u001b[32m━━━━━━━━━━━━━━━━━━━━\u001b[0m\u001b[37m\u001b[0m \u001b[1m0s\u001b[0m 2ms/step - accuracy: 0.9779 - loss: 0.0670 - val_accuracy: 0.9656 - val_loss: 0.1007\nEpoch 11/150\n\u001b[1m148/148\u001b[0m \u001b[32m━━━━━━━━━━━━━━━━━━━━\u001b[0m\u001b[37m\u001b[0m \u001b[1m0s\u001b[0m 2ms/step - accuracy: 0.9746 - loss: 0.0676 - val_accuracy: 0.9656 - val_loss: 0.0901\nEpoch 12/150\n\u001b[1m148/148\u001b[0m \u001b[32m━━━━━━━━━━━━━━━━━━━━\u001b[0m\u001b[37m\u001b[0m \u001b[1m0s\u001b[0m 2ms/step - accuracy: 0.9796 - loss: 0.0490 - val_accuracy: 0.9599 - val_loss: 0.0884\nEpoch 13/150\n\u001b[1m148/148\u001b[0m \u001b[32m━━━━━━━━━━━━━━━━━━━━\u001b[0m\u001b[37m\u001b[0m \u001b[1m0s\u001b[0m 2ms/step - accuracy: 0.9800 - loss: 0.0530 - val_accuracy: 0.9637 - val_loss: 0.0832\nEpoch 14/150\n\u001b[1m148/148\u001b[0m \u001b[32m━━━━━━━━━━━━━━━━━━━━\u001b[0m\u001b[37m\u001b[0m \u001b[1m0s\u001b[0m 2ms/step - accuracy: 0.9868 - loss: 0.0430 - val_accuracy: 0.9695 - val_loss: 0.1018\nEpoch 15/150\n\u001b[1m148/148\u001b[0m \u001b[32m━━━━━━━━━━━━━━━━━━━━\u001b[0m\u001b[37m\u001b[0m \u001b[1m0s\u001b[0m 2ms/step - accuracy: 0.9843 - loss: 0.0478 - val_accuracy: 0.9656 - val_loss: 0.0974\nEpoch 16/150\n\u001b[1m148/148\u001b[0m \u001b[32m━━━━━━━━━━━━━━━━━━━━\u001b[0m\u001b[37m\u001b[0m \u001b[1m0s\u001b[0m 2ms/step - accuracy: 0.9841 - loss: 0.0456 - val_accuracy: 0.9656 - val_loss: 0.0881\nEpoch 17/150\n\u001b[1m148/148\u001b[0m \u001b[32m━━━━━━━━━━━━━━━━━━━━\u001b[0m\u001b[37m\u001b[0m \u001b[1m0s\u001b[0m 2ms/step - accuracy: 0.9841 - loss: 0.0420 - val_accuracy: 0.9580 - val_loss: 0.0945\n",
          "output_type": "stream"
        }
      ],
      "execution_count": null
    },
    {
      "cell_type": "code",
      "source": [
        "from sklearn.metrics import classification_report\n",
        "loss, accuracy = model_9.evaluate(X_test_pn, y_test_pn)\n",
        "y_preds_pn = model_9.predict(X_test_pn)\n",
        "y_preds_pn = (y_preds_pn > .5).astype(int)\n",
        "print(f\"Model loss on test set: {loss}\")\n",
        "print(f\"Model accuracy on test set: {(accuracy*100):.2f}%\")\n",
        "print(\"-------------------------------------------------------\")\n",
        "print(classification_report(y_test_pn, y_preds_pn))"
      ],
      "metadata": {
        "trusted": true,
        "execution": {
          "iopub.status.busy": "2025-01-30T16:14:21.998957Z",
          "iopub.execute_input": "2025-01-30T16:14:21.999245Z",
          "iopub.status.idle": "2025-01-30T16:14:23.043181Z",
          "shell.execute_reply.started": "2025-01-30T16:14:21.999214Z",
          "shell.execute_reply": "2025-01-30T16:14:23.042482Z"
        },
        "id": "JdOnkSEaLqiq",
        "outputId": "4e95b632-6955-4dce-b7cb-ad831dc1d7e8"
      },
      "outputs": [
        {
          "name": "stdout",
          "text": "\u001b[1m20/20\u001b[0m \u001b[32m━━━━━━━━━━━━━━━━━━━━\u001b[0m\u001b[37m\u001b[0m \u001b[1m0s\u001b[0m 21ms/step - accuracy: 0.8430 - loss: 0.5678\n\u001b[1m20/20\u001b[0m \u001b[32m━━━━━━━━━━━━━━━━━━━━\u001b[0m\u001b[37m\u001b[0m \u001b[1m1s\u001b[0m 14ms/step\nModel loss on test set: 0.5174147486686707\nModel accuracy on test set: 84.46%\n-------------------------------------------------------\n              precision    recall  f1-score   support\n\n           0       0.96      0.61      0.75       234\n           1       0.81      0.98      0.89       390\n\n    accuracy                           0.84       624\n   macro avg       0.88      0.80      0.82       624\nweighted avg       0.87      0.84      0.83       624\n\n",
          "output_type": "stream"
        }
      ],
      "execution_count": null
    },
    {
      "cell_type": "code",
      "source": [
        "np.save('/kaggle/working/y_preds_pn.npy', y_preds_pn)"
      ],
      "metadata": {
        "trusted": true,
        "execution": {
          "iopub.status.busy": "2025-01-30T16:14:23.044059Z",
          "iopub.execute_input": "2025-01-30T16:14:23.044404Z",
          "iopub.status.idle": "2025-01-30T16:14:23.048626Z",
          "shell.execute_reply.started": "2025-01-30T16:14:23.04435Z",
          "shell.execute_reply": "2025-01-30T16:14:23.047797Z"
        },
        "id": "RmMcNOAALqir"
      },
      "outputs": [],
      "execution_count": null
    },
    {
      "cell_type": "markdown",
      "source": [
        "## Retina Data"
      ],
      "metadata": {
        "id": "zOvrAE04Lqir"
      }
    },
    {
      "cell_type": "code",
      "source": [
        "retina_data = np.load('/kaggle/input/tensor-reloaded-multi-task-med-mnist/data/retinamnist.npz')\n",
        "print(len(retina_data))\n",
        "retina_data.files"
      ],
      "metadata": {
        "trusted": true,
        "execution": {
          "iopub.status.busy": "2025-01-30T16:14:23.049299Z",
          "iopub.execute_input": "2025-01-30T16:14:23.049511Z",
          "iopub.status.idle": "2025-01-30T16:14:23.08274Z",
          "shell.execute_reply.started": "2025-01-30T16:14:23.049492Z",
          "shell.execute_reply": "2025-01-30T16:14:23.082105Z"
        },
        "id": "oaq8aolwLqir",
        "outputId": "143616f7-1a02-463c-8888-507da18be4a3"
      },
      "outputs": [
        {
          "name": "stdout",
          "text": "6\n",
          "output_type": "stream"
        },
        {
          "execution_count": 114,
          "output_type": "execute_result",
          "data": {
            "text/plain": "['train_images',\n 'val_images',\n 'test_images',\n 'train_labels',\n 'val_labels',\n 'test_labels']"
          },
          "metadata": {}
        }
      ],
      "execution_count": null
    },
    {
      "cell_type": "code",
      "source": [
        "unique_retina = np.unique(retina_data['train_labels'])\n",
        "print(unique_retina)"
      ],
      "metadata": {
        "trusted": true,
        "execution": {
          "iopub.status.busy": "2025-01-30T16:14:23.083528Z",
          "iopub.execute_input": "2025-01-30T16:14:23.083863Z",
          "iopub.status.idle": "2025-01-30T16:14:23.088951Z",
          "shell.execute_reply.started": "2025-01-30T16:14:23.083841Z",
          "shell.execute_reply": "2025-01-30T16:14:23.08799Z"
        },
        "id": "aspK94MdLqir",
        "outputId": "62cb8816-20b4-4ea0-eab0-a42caf5d4b41"
      },
      "outputs": [
        {
          "name": "stdout",
          "text": "[0 1 2 3 4]\n",
          "output_type": "stream"
        }
      ],
      "execution_count": null
    },
    {
      "cell_type": "code",
      "source": [
        "print(retina_data['train_images'].shape)\n",
        "print(retina_data['val_images'].shape)\n",
        "print(retina_data['test_images'].shape)\n",
        "print(retina_data['train_labels'].shape)\n",
        "print(retina_data['val_labels'].shape)\n",
        "print(retina_data['test_labels'].shape)"
      ],
      "metadata": {
        "trusted": true,
        "execution": {
          "iopub.status.busy": "2025-01-30T16:14:23.089999Z",
          "iopub.execute_input": "2025-01-30T16:14:23.09036Z",
          "iopub.status.idle": "2025-01-30T16:14:23.168567Z",
          "shell.execute_reply.started": "2025-01-30T16:14:23.090328Z",
          "shell.execute_reply": "2025-01-30T16:14:23.167925Z"
        },
        "id": "u_IhCmg7Lqir",
        "outputId": "979865c2-e8af-4f96-875a-b9507b7e784d"
      },
      "outputs": [
        {
          "name": "stdout",
          "text": "(1080, 28, 28, 3)\n(120, 28, 28, 3)\n(400, 28, 28, 3)\n(1080, 1)\n(120, 1)\n(400, 1)\n",
          "output_type": "stream"
        }
      ],
      "execution_count": null
    },
    {
      "cell_type": "code",
      "source": [
        "X_train_retina = retina_data['train_images']\n",
        "X_val_retina = retina_data['val_images']\n",
        "X_test_retina = retina_data['test_images']\n",
        "y_train_retina = retina_data['train_labels']\n",
        "y_val_retina = retina_data['val_labels']\n",
        "y_test_retina = retina_data['test_labels']\n",
        "X_train_retina.shape, y_train_retina.shape"
      ],
      "metadata": {
        "trusted": true,
        "execution": {
          "iopub.status.busy": "2025-01-30T16:14:23.169283Z",
          "iopub.execute_input": "2025-01-30T16:14:23.16953Z",
          "iopub.status.idle": "2025-01-30T16:14:23.203067Z",
          "shell.execute_reply.started": "2025-01-30T16:14:23.169509Z",
          "shell.execute_reply": "2025-01-30T16:14:23.202446Z"
        },
        "id": "BwsnHhE4Lqir",
        "outputId": "687532f9-c0ed-4f28-dad4-8615af87301a"
      },
      "outputs": [
        {
          "execution_count": 117,
          "output_type": "execute_result",
          "data": {
            "text/plain": "((1080, 28, 28, 3), (1080, 1))"
          },
          "metadata": {}
        }
      ],
      "execution_count": null
    },
    {
      "cell_type": "code",
      "source": [
        "import matplotlib.pyplot as plt\n",
        "sample_index = 1\n",
        "plt.imshow(X_train_retina[sample_index]);\n",
        "print(f\"Label: {y_train_retina[sample_index]}\")"
      ],
      "metadata": {
        "trusted": true,
        "execution": {
          "iopub.status.busy": "2025-01-30T16:14:23.203659Z",
          "iopub.execute_input": "2025-01-30T16:14:23.203842Z",
          "iopub.status.idle": "2025-01-30T16:14:23.350231Z",
          "shell.execute_reply.started": "2025-01-30T16:14:23.203825Z",
          "shell.execute_reply": "2025-01-30T16:14:23.34954Z"
        },
        "id": "WDziVKqfLqis",
        "outputId": "145c895d-aa3c-4f84-8e45-e84556be0dbd"
      },
      "outputs": [
        {
          "name": "stdout",
          "text": "Label: [0]\n",
          "output_type": "stream"
        },
        {
          "output_type": "display_data",
          "data": {
            "text/plain": "<Figure size 640x480 with 1 Axes>",
            "image/png": "[encoded data removed]"
          },
          "metadata": {}
        }
      ],
      "execution_count": null
    },
    {
      "cell_type": "code",
      "source": [
        "import random\n",
        "plt.figure(figsize=(7, 7))\n",
        "for i in range(4):\n",
        "  ax = plt.subplot(2, 2, i + 1)\n",
        "  rand_index = random.choice(range(len(X_train_retina)))\n",
        "  plt.imshow(X_train_retina[rand_index])\n",
        "  plt.title(y_train_retina[rand_index])\n",
        "  plt.axis(False)"
      ],
      "metadata": {
        "trusted": true,
        "execution": {
          "iopub.status.busy": "2025-01-30T16:14:23.351004Z",
          "iopub.execute_input": "2025-01-30T16:14:23.351249Z",
          "iopub.status.idle": "2025-01-30T16:14:23.609036Z",
          "shell.execute_reply.started": "2025-01-30T16:14:23.35123Z",
          "shell.execute_reply": "2025-01-30T16:14:23.608334Z"
        },
        "id": "2Q9loT-9Lqis",
        "outputId": "d4548684-c66a-497f-c137-e796d646a74e"
      },
      "outputs": [
        {
          "output_type": "display_data",
          "data": {
            "text/plain": "<Figure size 700x700 with 4 Axes>",
            "image/png": "[encoded data removed]"
          },
          "metadata": {}
        }
      ],
      "execution_count": null
    },
    {
      "cell_type": "code",
      "source": [
        "y_train_retina = np.array(y_train_retina).ravel()\n",
        "y_val_retina = np.array(y_val_retina).ravel()\n",
        "y_test_retina = np.array(y_test_retina).ravel()\n",
        "y_train_retina.shape, y_val_retina.shape, y_test_retina.shape"
      ],
      "metadata": {
        "trusted": true,
        "execution": {
          "iopub.status.busy": "2025-01-30T16:14:23.609762Z",
          "iopub.execute_input": "2025-01-30T16:14:23.60997Z",
          "iopub.status.idle": "2025-01-30T16:14:23.615306Z",
          "shell.execute_reply.started": "2025-01-30T16:14:23.609952Z",
          "shell.execute_reply": "2025-01-30T16:14:23.614591Z"
        },
        "id": "u2-qqFCrLqis",
        "outputId": "d9d7aeda-50a6-4b45-f6cb-de554f8c4f62"
      },
      "outputs": [
        {
          "execution_count": 120,
          "output_type": "execute_result",
          "data": {
            "text/plain": "((1080,), (120,), (400,))"
          },
          "metadata": {}
        }
      ],
      "execution_count": null
    },
    {
      "cell_type": "code",
      "source": [
        "X_train_retina = X_train_retina / 255\n",
        "X_val_retina = X_val_retina / 255\n",
        "X_test_retina = X_test_retina / 255\n",
        "X_train_retina.min() , X_train_retina.max()"
      ],
      "metadata": {
        "trusted": true,
        "execution": {
          "iopub.status.busy": "2025-01-30T16:15:16.067824Z",
          "iopub.execute_input": "2025-01-30T16:15:16.068157Z",
          "iopub.status.idle": "2025-01-30T16:15:16.092458Z",
          "shell.execute_reply.started": "2025-01-30T16:15:16.068128Z",
          "shell.execute_reply": "2025-01-30T16:15:16.091735Z"
        },
        "id": "2tnwHndNLqis",
        "outputId": "f84613dc-7852-4c18-e1c1-2f63550c168b"
      },
      "outputs": [
        {
          "execution_count": 121,
          "output_type": "execute_result",
          "data": {
            "text/plain": "(0.0, 1.0)"
          },
          "metadata": {}
        }
      ],
      "execution_count": null
    },
    {
      "cell_type": "code",
      "source": [
        "# Define Model for Hyperparameter Tuning\n",
        "def create_model(hp):\n",
        "\n",
        "    model = Sequential()\n",
        "\n",
        "    model.add(Conv2D(\n",
        "        filters=hp.Int('neurons1', min_value=8, max_value=64, step=8),\n",
        "        kernel_size=(3, 3),\n",
        "        activation='leaky_relu',\n",
        "        input_shape=(28, 28, 3)))\n",
        "    model.add(MaxPooling2D(pool_size=(2, 2)))\n",
        "\n",
        "    model.add(Conv2D(\n",
        "        filters=hp.Int('neurons2', min_value=8, max_value=64, step=8),\n",
        "        kernel_size=(3, 3),\n",
        "        activation='leaky_relu'))\n",
        "    model.add(MaxPooling2D(pool_size=(2, 2)))\n",
        "\n",
        "    model.add(Flatten(input_shape=(28, 28, 3)))\n",
        "    model.add(Dense(units=hp.Int('neurons3', min_value=8, max_value=128, step=16), activation='leaky_relu'))\n",
        "    model.add(Dropout(0.25))\n",
        "    model.add(Dense(units=hp.Int('neurons4', min_value=8, max_value=128, step=16), activation='leaky_relu'))\n",
        "    model.add(Dense(units=hp.Int('neurons5', min_value=8, max_value=128, step=16), activation='leaky_relu'))\n",
        "    model.add(Dense(units=hp.Int('neurons6', min_value=8, max_value=128, step=16), activation='leaky_relu'))\n",
        "    model.add(Dense(8, activation='softmax'))\n",
        "\n",
        "    optimizer = hp.Choice('optimizer', values=['adam', 'sgd', 'rmsprop'])\n",
        "\n",
        "    model.compile(optimizer=optimizer, loss='sparse_categorical_crossentropy', metrics=['accuracy'])\n",
        "    return model\n",
        "\n",
        "# Set up KerasTuner\n",
        "tuner = kt.Hyperband(\n",
        "    create_model,\n",
        "    objective='val_accuracy',\n",
        "    max_epochs=5,\n",
        "    hyperband_iterations=3,\n",
        "    directory='/kaggle/working/tuning_results8',\n",
        "    project_name='tuning_example8'\n",
        ")\n",
        "\n",
        "# Perform the search\n",
        "tuner.search(X_train_retina, y_train_retina, epochs=5, validation_data=(X_val_retina, y_val_retina))\n",
        "\n",
        "# Get the best model and hyperparameters\n",
        "best_model = tuner.get_best_models(num_models=1)[0]\n",
        "best_hyperparameters = tuner.get_best_hyperparameters(num_trials=1)[0]\n",
        "\n",
        "print(f\"Best Model: {best_model}\")\n",
        "print(f\"Best Hyperparameters: {best_hyperparameters.values}\")\n",
        "\n",
        "# Best val_accuracy So Far: 0.550000011920929\n",
        "# Total elapsed time: 00h 03m 41s\n",
        "# Best Model: <Sequential name=sequential, built=True>\n",
        "# Best Hyperparameters: {'neurons1': 64, 'neurons2': 64,\n",
        "#                        'neurons3': 40, 'neurons4': 104,\n",
        "#                        'neurons5': 120, 'neurons6': 24,\n",
        "#                        'optimizer': 'adam', 'tuner/epochs': 5,\n",
        "#                        'tuner/initial_epoch': 2, 'tuner/bracket': 1,\n",
        "#                        'tuner/round': 1, 'tuner/trial_id': '0009'}"
      ],
      "metadata": {
        "trusted": true,
        "execution": {
          "iopub.status.busy": "2025-01-30T16:15:52.066214Z",
          "iopub.execute_input": "2025-01-30T16:15:52.066523Z",
          "iopub.status.idle": "2025-01-30T16:19:01.486335Z",
          "shell.execute_reply.started": "2025-01-30T16:15:52.066496Z",
          "shell.execute_reply": "2025-01-30T16:19:01.485627Z"
        },
        "id": "rVOXny_eLqis",
        "outputId": "70d214a3-ad8a-4c61-c895-3f79e4fef323"
      },
      "outputs": [
        {
          "name": "stdout",
          "text": "Trial 29 Complete [00h 00m 06s]\nval_accuracy: 0.4583333432674408\n\nBest val_accuracy So Far: 0.550000011920929\nTotal elapsed time: 00h 03m 41s\nBest Model: <Sequential name=sequential, built=True>\nBest Hyperparameters: {'neurons1': 64, 'neurons2': 64, 'neurons3': 40, 'neurons4': 104, 'neurons5': 120, 'neurons6': 24, 'optimizer': 'adam', 'tuner/epochs': 5, 'tuner/initial_epoch': 2, 'tuner/bracket': 1, 'tuner/round': 1, 'tuner/trial_id': '0009'}\n",
          "output_type": "stream"
        }
      ],
      "execution_count": null
    },
    {
      "cell_type": "code",
      "source": [
        "from tensorflow.keras.models import Sequential\n",
        "from tensorflow.keras.layers import Conv2D, MaxPooling2D, Flatten, Dense, Dropout\n",
        "from tensorflow.keras.optimizers import Adam\n",
        "\n",
        "model_10 = Sequential()\n",
        "\n",
        "model_10.add(Conv2D(64, (3, 3), activation='leaky_relu', input_shape=(28, 28, 3)))\n",
        "model_10.add(MaxPooling2D(pool_size=(2, 2)))\n",
        "\n",
        "model_10.add(Conv2D(64, (3, 3), activation='leaky_relu'))\n",
        "model_10.add(MaxPooling2D(pool_size=(2, 2)))\n",
        "\n",
        "# Flatten the output from the convolutional layers\n",
        "model_10.add(Flatten())\n",
        "\n",
        "# Fully connected layers\n",
        "model_10.add(Dense(40, activation='leaky_relu'))\n",
        "model_10.add(Dropout(0.25))\n",
        "model_10.add(Dense(104, activation='leaky_relu'))\n",
        "model_10.add(Dense(120, activation='leaky_relu'))\n",
        "model_10.add(Dense(24, activation='leaky_relu'))\n",
        "model_10.add(Dense(5, activation='softmax'))  # Output layer for multi-class classification\n",
        "\n",
        "# Compile the model\n",
        "model_10.compile(optimizer='adam', loss='sparse_categorical_crossentropy', metrics=['accuracy'])\n",
        "\n",
        "# Model summary\n",
        "model_10.summary()\n",
        "\n",
        "early_stopping = EarlyStopping(\n",
        "    monitor='val_loss',\n",
        "    patience=10,\n",
        "    restore_best_weights=True\n",
        ")\n",
        "\n",
        "history_10 = model_10.fit(X_train_retina,\n",
        "                        y_train_retina,\n",
        "                        epochs=150,\n",
        "                        verbose=True,\n",
        "                        validation_data=(X_val_retina, y_val_retina),\n",
        "                        callbacks=[early_stopping])"
      ],
      "metadata": {
        "trusted": true,
        "execution": {
          "iopub.status.busy": "2025-01-30T16:23:51.671795Z",
          "iopub.execute_input": "2025-01-30T16:23:51.672116Z",
          "iopub.status.idle": "2025-01-30T16:24:07.178426Z",
          "shell.execute_reply.started": "2025-01-30T16:23:51.672091Z",
          "shell.execute_reply": "2025-01-30T16:24:07.177761Z"
        },
        "id": "_LgdwvWjLqis",
        "outputId": "6ac14dc6-8290-4561-9426-30ec47e711cc"
      },
      "outputs": [
        {
          "output_type": "display_data",
          "data": {
            "text/plain": "\u001b[1mModel: \"sequential_1\"\u001b[0m\n",
            "text/html": "<pre style=\"white-space:pre;overflow-x:auto;line-height:normal;font-family:Menlo,'DejaVu Sans Mono',consolas,'Courier New',monospace\"><span style=\"font-weight: bold\">Model: \"sequential_1\"</span>\n</pre>\n"
          },
          "metadata": {}
        },
        {
          "output_type": "display_data",
          "data": {
            "text/plain": "┏━━━━━━━━━━━━━━━━━━━━━━━━━━━━━━━━━━━━━━┳━━━━━━━━━━━━━━━━━━━━━━━━━━━━━┳━━━━━━━━━━━━━━━━━┓\n┃\u001b[1m \u001b[0m\u001b[1mLayer (type)                        \u001b[0m\u001b[1m \u001b[0m┃\u001b[1m \u001b[0m\u001b[1mOutput Shape               \u001b[0m\u001b[1m \u001b[0m┃\u001b[1m \u001b[0m\u001b[1m        Param #\u001b[0m\u001b[1m \u001b[0m┃\n┡━━━━━━━━━━━━━━━━━━━━━━━━━━━━━━━━━━━━━━╇━━━━━━━━━━━━━━━━━━━━━━━━━━━━━╇━━━━━━━━━━━━━━━━━┩\n│ conv2d_2 (\u001b[38;5;33mConv2D\u001b[0m)                    │ (\u001b[38;5;45mNone\u001b[0m, \u001b[38;5;34m26\u001b[0m, \u001b[38;5;34m26\u001b[0m, \u001b[38;5;34m64\u001b[0m)          │           \u001b[38;5;34m1,792\u001b[0m │\n├──────────────────────────────────────┼─────────────────────────────┼─────────────────┤\n│ max_pooling2d_2 (\u001b[38;5;33mMaxPooling2D\u001b[0m)       │ (\u001b[38;5;45mNone\u001b[0m, \u001b[38;5;34m13\u001b[0m, \u001b[38;5;34m13\u001b[0m, \u001b[38;5;34m64\u001b[0m)          │               \u001b[38;5;34m0\u001b[0m │\n├──────────────────────────────────────┼─────────────────────────────┼─────────────────┤\n│ conv2d_3 (\u001b[38;5;33mConv2D\u001b[0m)                    │ (\u001b[38;5;45mNone\u001b[0m, \u001b[38;5;34m11\u001b[0m, \u001b[38;5;34m11\u001b[0m, \u001b[38;5;34m64\u001b[0m)          │          \u001b[38;5;34m36,928\u001b[0m │\n├──────────────────────────────────────┼─────────────────────────────┼─────────────────┤\n│ max_pooling2d_3 (\u001b[38;5;33mMaxPooling2D\u001b[0m)       │ (\u001b[38;5;45mNone\u001b[0m, \u001b[38;5;34m5\u001b[0m, \u001b[38;5;34m5\u001b[0m, \u001b[38;5;34m64\u001b[0m)            │               \u001b[38;5;34m0\u001b[0m │\n├──────────────────────────────────────┼─────────────────────────────┼─────────────────┤\n│ flatten_1 (\u001b[38;5;33mFlatten\u001b[0m)                  │ (\u001b[38;5;45mNone\u001b[0m, \u001b[38;5;34m1600\u001b[0m)                │               \u001b[38;5;34m0\u001b[0m │\n├──────────────────────────────────────┼─────────────────────────────┼─────────────────┤\n│ dense_5 (\u001b[38;5;33mDense\u001b[0m)                      │ (\u001b[38;5;45mNone\u001b[0m, \u001b[38;5;34m40\u001b[0m)                  │          \u001b[38;5;34m64,040\u001b[0m │\n├──────────────────────────────────────┼─────────────────────────────┼─────────────────┤\n│ dropout_1 (\u001b[38;5;33mDropout\u001b[0m)                  │ (\u001b[38;5;45mNone\u001b[0m, \u001b[38;5;34m40\u001b[0m)                  │               \u001b[38;5;34m0\u001b[0m │\n├──────────────────────────────────────┼─────────────────────────────┼─────────────────┤\n│ dense_6 (\u001b[38;5;33mDense\u001b[0m)                      │ (\u001b[38;5;45mNone\u001b[0m, \u001b[38;5;34m104\u001b[0m)                 │           \u001b[38;5;34m4,264\u001b[0m │\n├──────────────────────────────────────┼─────────────────────────────┼─────────────────┤\n│ dense_7 (\u001b[38;5;33mDense\u001b[0m)                      │ (\u001b[38;5;45mNone\u001b[0m, \u001b[38;5;34m120\u001b[0m)                 │          \u001b[38;5;34m12,600\u001b[0m │\n├──────────────────────────────────────┼─────────────────────────────┼─────────────────┤\n│ dense_8 (\u001b[38;5;33mDense\u001b[0m)                      │ (\u001b[38;5;45mNone\u001b[0m, \u001b[38;5;34m24\u001b[0m)                  │           \u001b[38;5;34m2,904\u001b[0m │\n├──────────────────────────────────────┼─────────────────────────────┼─────────────────┤\n│ dense_9 (\u001b[38;5;33mDense\u001b[0m)                      │ (\u001b[38;5;45mNone\u001b[0m, \u001b[38;5;34m5\u001b[0m)                   │             \u001b[38;5;34m125\u001b[0m │\n└──────────────────────────────────────┴─────────────────────────────┴─────────────────┘\n",
            "text/html": "<pre style=\"white-space:pre;overflow-x:auto;line-height:normal;font-family:Menlo,'DejaVu Sans Mono',consolas,'Courier New',monospace\">┏━━━━━━━━━━━━━━━━━━━━━━━━━━━━━━━━━━━━━━┳━━━━━━━━━━━━━━━━━━━━━━━━━━━━━┳━━━━━━━━━━━━━━━━━┓\n┃<span style=\"font-weight: bold\"> Layer (type)                         </span>┃<span style=\"font-weight: bold\"> Output Shape                </span>┃<span style=\"font-weight: bold\">         Param # </span>┃\n┡━━━━━━━━━━━━━━━━━━━━━━━━━━━━━━━━━━━━━━╇━━━━━━━━━━━━━━━━━━━━━━━━━━━━━╇━━━━━━━━━━━━━━━━━┩\n│ conv2d_2 (<span style=\"color: #0087ff; text-decoration-color: #0087ff\">Conv2D</span>)                    │ (<span style=\"color: #00d7ff; text-decoration-color: #00d7ff\">None</span>, <span style=\"color: #00af00; text-decoration-color: #00af00\">26</span>, <span style=\"color: #00af00; text-decoration-color: #00af00\">26</span>, <span style=\"color: #00af00; text-decoration-color: #00af00\">64</span>)          │           <span style=\"color: #00af00; text-decoration-color: #00af00\">1,792</span> │\n├──────────────────────────────────────┼─────────────────────────────┼─────────────────┤\n│ max_pooling2d_2 (<span style=\"color: #0087ff; text-decoration-color: #0087ff\">MaxPooling2D</span>)       │ (<span style=\"color: #00d7ff; text-decoration-color: #00d7ff\">None</span>, <span style=\"color: #00af00; text-decoration-color: #00af00\">13</span>, <span style=\"color: #00af00; text-decoration-color: #00af00\">13</span>, <span style=\"color: #00af00; text-decoration-color: #00af00\">64</span>)          │               <span style=\"color: #00af00; text-decoration-color: #00af00\">0</span> │\n├──────────────────────────────────────┼─────────────────────────────┼─────────────────┤\n│ conv2d_3 (<span style=\"color: #0087ff; text-decoration-color: #0087ff\">Conv2D</span>)                    │ (<span style=\"color: #00d7ff; text-decoration-color: #00d7ff\">None</span>, <span style=\"color: #00af00; text-decoration-color: #00af00\">11</span>, <span style=\"color: #00af00; text-decoration-color: #00af00\">11</span>, <span style=\"color: #00af00; text-decoration-color: #00af00\">64</span>)          │          <span style=\"color: #00af00; text-decoration-color: #00af00\">36,928</span> │\n├──────────────────────────────────────┼─────────────────────────────┼─────────────────┤\n│ max_pooling2d_3 (<span style=\"color: #0087ff; text-decoration-color: #0087ff\">MaxPooling2D</span>)       │ (<span style=\"color: #00d7ff; text-decoration-color: #00d7ff\">None</span>, <span style=\"color: #00af00; text-decoration-color: #00af00\">5</span>, <span style=\"color: #00af00; text-decoration-color: #00af00\">5</span>, <span style=\"color: #00af00; text-decoration-color: #00af00\">64</span>)            │               <span style=\"color: #00af00; text-decoration-color: #00af00\">0</span> │\n├──────────────────────────────────────┼─────────────────────────────┼─────────────────┤\n│ flatten_1 (<span style=\"color: #0087ff; text-decoration-color: #0087ff\">Flatten</span>)                  │ (<span style=\"color: #00d7ff; text-decoration-color: #00d7ff\">None</span>, <span style=\"color: #00af00; text-decoration-color: #00af00\">1600</span>)                │               <span style=\"color: #00af00; text-decoration-color: #00af00\">0</span> │\n├──────────────────────────────────────┼─────────────────────────────┼─────────────────┤\n│ dense_5 (<span style=\"color: #0087ff; text-decoration-color: #0087ff\">Dense</span>)                      │ (<span style=\"color: #00d7ff; text-decoration-color: #00d7ff\">None</span>, <span style=\"color: #00af00; text-decoration-color: #00af00\">40</span>)                  │          <span style=\"color: #00af00; text-decoration-color: #00af00\">64,040</span> │\n├──────────────────────────────────────┼─────────────────────────────┼─────────────────┤\n│ dropout_1 (<span style=\"color: #0087ff; text-decoration-color: #0087ff\">Dropout</span>)                  │ (<span style=\"color: #00d7ff; text-decoration-color: #00d7ff\">None</span>, <span style=\"color: #00af00; text-decoration-color: #00af00\">40</span>)                  │               <span style=\"color: #00af00; text-decoration-color: #00af00\">0</span> │\n├──────────────────────────────────────┼─────────────────────────────┼─────────────────┤\n│ dense_6 (<span style=\"color: #0087ff; text-decoration-color: #0087ff\">Dense</span>)                      │ (<span style=\"color: #00d7ff; text-decoration-color: #00d7ff\">None</span>, <span style=\"color: #00af00; text-decoration-color: #00af00\">104</span>)                 │           <span style=\"color: #00af00; text-decoration-color: #00af00\">4,264</span> │\n├──────────────────────────────────────┼─────────────────────────────┼─────────────────┤\n│ dense_7 (<span style=\"color: #0087ff; text-decoration-color: #0087ff\">Dense</span>)                      │ (<span style=\"color: #00d7ff; text-decoration-color: #00d7ff\">None</span>, <span style=\"color: #00af00; text-decoration-color: #00af00\">120</span>)                 │          <span style=\"color: #00af00; text-decoration-color: #00af00\">12,600</span> │\n├──────────────────────────────────────┼─────────────────────────────┼─────────────────┤\n│ dense_8 (<span style=\"color: #0087ff; text-decoration-color: #0087ff\">Dense</span>)                      │ (<span style=\"color: #00d7ff; text-decoration-color: #00d7ff\">None</span>, <span style=\"color: #00af00; text-decoration-color: #00af00\">24</span>)                  │           <span style=\"color: #00af00; text-decoration-color: #00af00\">2,904</span> │\n├──────────────────────────────────────┼─────────────────────────────┼─────────────────┤\n│ dense_9 (<span style=\"color: #0087ff; text-decoration-color: #0087ff\">Dense</span>)                      │ (<span style=\"color: #00d7ff; text-decoration-color: #00d7ff\">None</span>, <span style=\"color: #00af00; text-decoration-color: #00af00\">5</span>)                   │             <span style=\"color: #00af00; text-decoration-color: #00af00\">125</span> │\n└──────────────────────────────────────┴─────────────────────────────┴─────────────────┘\n</pre>\n"
          },
          "metadata": {}
        },
        {
          "output_type": "display_data",
          "data": {
            "text/plain": "\u001b[1m Total params: \u001b[0m\u001b[38;5;34m122,653\u001b[0m (479.11 KB)\n",
            "text/html": "<pre style=\"white-space:pre;overflow-x:auto;line-height:normal;font-family:Menlo,'DejaVu Sans Mono',consolas,'Courier New',monospace\"><span style=\"font-weight: bold\"> Total params: </span><span style=\"color: #00af00; text-decoration-color: #00af00\">122,653</span> (479.11 KB)\n</pre>\n"
          },
          "metadata": {}
        },
        {
          "output_type": "display_data",
          "data": {
            "text/plain": "\u001b[1m Trainable params: \u001b[0m\u001b[38;5;34m122,653\u001b[0m (479.11 KB)\n",
            "text/html": "<pre style=\"white-space:pre;overflow-x:auto;line-height:normal;font-family:Menlo,'DejaVu Sans Mono',consolas,'Courier New',monospace\"><span style=\"font-weight: bold\"> Trainable params: </span><span style=\"color: #00af00; text-decoration-color: #00af00\">122,653</span> (479.11 KB)\n</pre>\n"
          },
          "metadata": {}
        },
        {
          "output_type": "display_data",
          "data": {
            "text/plain": "\u001b[1m Non-trainable params: \u001b[0m\u001b[38;5;34m0\u001b[0m (0.00 B)\n",
            "text/html": "<pre style=\"white-space:pre;overflow-x:auto;line-height:normal;font-family:Menlo,'DejaVu Sans Mono',consolas,'Courier New',monospace\"><span style=\"font-weight: bold\"> Non-trainable params: </span><span style=\"color: #00af00; text-decoration-color: #00af00\">0</span> (0.00 B)\n</pre>\n"
          },
          "metadata": {}
        },
        {
          "name": "stdout",
          "text": "Epoch 1/150\n\u001b[1m34/34\u001b[0m \u001b[32m━━━━━━━━━━━━━━━━━━━━\u001b[0m\u001b[37m\u001b[0m \u001b[1m12s\u001b[0m 250ms/step - accuracy: 0.3749 - loss: 1.4923 - val_accuracy: 0.4500 - val_loss: 1.3167\nEpoch 2/150\n\u001b[1m34/34\u001b[0m \u001b[32m━━━━━━━━━━━━━━━━━━━━\u001b[0m\u001b[37m\u001b[0m \u001b[1m0s\u001b[0m 3ms/step - accuracy: 0.4422 - loss: 1.3267 - val_accuracy: 0.4333 - val_loss: 1.2070\nEpoch 3/150\n\u001b[1m34/34\u001b[0m \u001b[32m━━━━━━━━━━━━━━━━━━━━\u001b[0m\u001b[37m\u001b[0m \u001b[1m0s\u001b[0m 3ms/step - accuracy: 0.4970 - loss: 1.2016 - val_accuracy: 0.5583 - val_loss: 1.1610\nEpoch 4/150\n\u001b[1m34/34\u001b[0m \u001b[32m━━━━━━━━━━━━━━━━━━━━\u001b[0m\u001b[37m\u001b[0m \u001b[1m0s\u001b[0m 3ms/step - accuracy: 0.5100 - loss: 1.2335 - val_accuracy: 0.4667 - val_loss: 1.1855\nEpoch 5/150\n\u001b[1m34/34\u001b[0m \u001b[32m━━━━━━━━━━━━━━━━━━━━\u001b[0m\u001b[37m\u001b[0m \u001b[1m0s\u001b[0m 3ms/step - accuracy: 0.4961 - loss: 1.2067 - val_accuracy: 0.4833 - val_loss: 1.1586\nEpoch 6/150\n\u001b[1m34/34\u001b[0m \u001b[32m━━━━━━━━━━━━━━━━━━━━\u001b[0m\u001b[37m\u001b[0m \u001b[1m0s\u001b[0m 3ms/step - accuracy: 0.5160 - loss: 1.1909 - val_accuracy: 0.5167 - val_loss: 1.1016\nEpoch 7/150\n\u001b[1m34/34\u001b[0m \u001b[32m━━━━━━━━━━━━━━━━━━━━\u001b[0m\u001b[37m\u001b[0m \u001b[1m0s\u001b[0m 3ms/step - accuracy: 0.4974 - loss: 1.1812 - val_accuracy: 0.4500 - val_loss: 1.1395\nEpoch 8/150\n\u001b[1m34/34\u001b[0m \u001b[32m━━━━━━━━━━━━━━━━━━━━\u001b[0m\u001b[37m\u001b[0m \u001b[1m0s\u001b[0m 3ms/step - accuracy: 0.5038 - loss: 1.1963 - val_accuracy: 0.5250 - val_loss: 1.1139\nEpoch 9/150\n\u001b[1m34/34\u001b[0m \u001b[32m━━━━━━━━━━━━━━━━━━━━\u001b[0m\u001b[37m\u001b[0m \u001b[1m0s\u001b[0m 3ms/step - accuracy: 0.5127 - loss: 1.1727 - val_accuracy: 0.5333 - val_loss: 1.1386\nEpoch 10/150\n\u001b[1m34/34\u001b[0m \u001b[32m━━━━━━━━━━━━━━━━━━━━\u001b[0m\u001b[37m\u001b[0m \u001b[1m0s\u001b[0m 3ms/step - accuracy: 0.5214 - loss: 1.1614 - val_accuracy: 0.5750 - val_loss: 1.0819\nEpoch 11/150\n\u001b[1m34/34\u001b[0m \u001b[32m━━━━━━━━━━━━━━━━━━━━\u001b[0m\u001b[37m\u001b[0m \u001b[1m0s\u001b[0m 3ms/step - accuracy: 0.5306 - loss: 1.1602 - val_accuracy: 0.5667 - val_loss: 1.0402\nEpoch 12/150\n\u001b[1m34/34\u001b[0m \u001b[32m━━━━━━━━━━━━━━━━━━━━\u001b[0m\u001b[37m\u001b[0m \u001b[1m0s\u001b[0m 3ms/step - accuracy: 0.5200 - loss: 1.1467 - val_accuracy: 0.5583 - val_loss: 1.0464\nEpoch 13/150\n\u001b[1m34/34\u001b[0m \u001b[32m━━━━━━━━━━━━━━━━━━━━\u001b[0m\u001b[37m\u001b[0m \u001b[1m0s\u001b[0m 3ms/step - accuracy: 0.5380 - loss: 1.1207 - val_accuracy: 0.5083 - val_loss: 1.0570\nEpoch 14/150\n\u001b[1m34/34\u001b[0m \u001b[32m━━━━━━━━━━━━━━━━━━━━\u001b[0m\u001b[37m\u001b[0m \u001b[1m0s\u001b[0m 3ms/step - accuracy: 0.5428 - loss: 1.1316 - val_accuracy: 0.5750 - val_loss: 1.0679\nEpoch 15/150\n\u001b[1m34/34\u001b[0m \u001b[32m━━━━━━━━━━━━━━━━━━━━\u001b[0m\u001b[37m\u001b[0m \u001b[1m0s\u001b[0m 3ms/step - accuracy: 0.5408 - loss: 1.1054 - val_accuracy: 0.4833 - val_loss: 1.0663\nEpoch 16/150\n\u001b[1m34/34\u001b[0m \u001b[32m━━━━━━━━━━━━━━━━━━━━\u001b[0m\u001b[37m\u001b[0m \u001b[1m0s\u001b[0m 3ms/step - accuracy: 0.5081 - loss: 1.1179 - val_accuracy: 0.5583 - val_loss: 1.0492\nEpoch 17/150\n\u001b[1m34/34\u001b[0m \u001b[32m━━━━━━━━━━━━━━━━━━━━\u001b[0m\u001b[37m\u001b[0m \u001b[1m0s\u001b[0m 3ms/step - accuracy: 0.5449 - loss: 1.0579 - val_accuracy: 0.5750 - val_loss: 1.0391\nEpoch 18/150\n\u001b[1m34/34\u001b[0m \u001b[32m━━━━━━━━━━━━━━━━━━━━\u001b[0m\u001b[37m\u001b[0m \u001b[1m0s\u001b[0m 3ms/step - accuracy: 0.5656 - loss: 1.0489 - val_accuracy: 0.5583 - val_loss: 1.0941\nEpoch 19/150\n\u001b[1m34/34\u001b[0m \u001b[32m━━━━━━━━━━━━━━━━━━━━\u001b[0m\u001b[37m\u001b[0m \u001b[1m0s\u001b[0m 3ms/step - accuracy: 0.5376 - loss: 1.0919 - val_accuracy: 0.5917 - val_loss: 1.0360\nEpoch 20/150\n\u001b[1m34/34\u001b[0m \u001b[32m━━━━━━━━━━━━━━━━━━━━\u001b[0m\u001b[37m\u001b[0m \u001b[1m0s\u001b[0m 3ms/step - accuracy: 0.5652 - loss: 1.0511 - val_accuracy: 0.5083 - val_loss: 1.0909\nEpoch 21/150\n\u001b[1m34/34\u001b[0m \u001b[32m━━━━━━━━━━━━━━━━━━━━\u001b[0m\u001b[37m\u001b[0m \u001b[1m0s\u001b[0m 3ms/step - accuracy: 0.5618 - loss: 1.0240 - val_accuracy: 0.5417 - val_loss: 1.0409\nEpoch 22/150\n\u001b[1m34/34\u001b[0m \u001b[32m━━━━━━━━━━━━━━━━━━━━\u001b[0m\u001b[37m\u001b[0m \u001b[1m0s\u001b[0m 3ms/step - accuracy: 0.5737 - loss: 1.0708 - val_accuracy: 0.5000 - val_loss: 1.0680\nEpoch 23/150\n\u001b[1m34/34\u001b[0m \u001b[32m━━━━━━━━━━━━━━━━━━━━\u001b[0m\u001b[37m\u001b[0m \u001b[1m0s\u001b[0m 3ms/step - accuracy: 0.5673 - loss: 1.0311 - val_accuracy: 0.5417 - val_loss: 1.0794\nEpoch 24/150\n\u001b[1m34/34\u001b[0m \u001b[32m━━━━━━━━━━━━━━━━━━━━\u001b[0m\u001b[37m\u001b[0m \u001b[1m0s\u001b[0m 3ms/step - accuracy: 0.5711 - loss: 1.0540 - val_accuracy: 0.5583 - val_loss: 1.0588\nEpoch 25/150\n\u001b[1m34/34\u001b[0m \u001b[32m━━━━━━━━━━━━━━━━━━━━\u001b[0m\u001b[37m\u001b[0m \u001b[1m0s\u001b[0m 3ms/step - accuracy: 0.5976 - loss: 1.0005 - val_accuracy: 0.5250 - val_loss: 1.0643\nEpoch 26/150\n\u001b[1m34/34\u001b[0m \u001b[32m━━━━━━━━━━━━━━━━━━━━\u001b[0m\u001b[37m\u001b[0m \u001b[1m0s\u001b[0m 3ms/step - accuracy: 0.5914 - loss: 1.0028 - val_accuracy: 0.4750 - val_loss: 1.1304\nEpoch 27/150\n\u001b[1m34/34\u001b[0m \u001b[32m━━━━━━━━━━━━━━━━━━━━\u001b[0m\u001b[37m\u001b[0m \u001b[1m0s\u001b[0m 3ms/step - accuracy: 0.6039 - loss: 0.9873 - val_accuracy: 0.5583 - val_loss: 1.0984\nEpoch 28/150\n\u001b[1m34/34\u001b[0m \u001b[32m━━━━━━━━━━━━━━━━━━━━\u001b[0m\u001b[37m\u001b[0m \u001b[1m0s\u001b[0m 3ms/step - accuracy: 0.5999 - loss: 0.9879 - val_accuracy: 0.5167 - val_loss: 1.0840\nEpoch 29/150\n\u001b[1m34/34\u001b[0m \u001b[32m━━━━━━━━━━━━━━━━━━━━\u001b[0m\u001b[37m\u001b[0m \u001b[1m0s\u001b[0m 3ms/step - accuracy: 0.6045 - loss: 0.9586 - val_accuracy: 0.5333 - val_loss: 1.0837\n",
          "output_type": "stream"
        }
      ],
      "execution_count": null
    },
    {
      "cell_type": "code",
      "source": [
        "from sklearn.metrics import classification_report\n",
        "loss, accuracy = model_10.evaluate(X_test_retina, y_test_retina)\n",
        "y_preds_retina = model_10.predict(X_test_retina)\n",
        "y_preds_retina = y_preds_retina.argmax(axis=1)\n",
        "print(f\"Model loss on test set: {loss}\")\n",
        "print(f\"Model accuracy on test set: {(accuracy*100):.2f}%\")\n",
        "print(\"-------------------------------------------------------\")\n",
        "print(classification_report(y_test_retina, y_preds_retina))"
      ],
      "metadata": {
        "trusted": true,
        "execution": {
          "iopub.status.busy": "2025-01-30T16:24:07.179699Z",
          "iopub.execute_input": "2025-01-30T16:24:07.179952Z",
          "iopub.status.idle": "2025-01-30T16:24:08.263334Z",
          "shell.execute_reply.started": "2025-01-30T16:24:07.17993Z",
          "shell.execute_reply": "2025-01-30T16:24:08.262644Z"
        },
        "id": "rXVqttL3Lqit",
        "outputId": "fd416b88-eca4-4444-bbf6-0934f27ecc17"
      },
      "outputs": [
        {
          "name": "stdout",
          "text": "\u001b[1m13/13\u001b[0m \u001b[32m━━━━━━━━━━━━━━━━━━━━\u001b[0m\u001b[37m\u001b[0m \u001b[1m0s\u001b[0m 39ms/step - accuracy: 0.5655 - loss: 1.1199\n\u001b[1m13/13\u001b[0m \u001b[32m━━━━━━━━━━━━━━━━━━━━\u001b[0m\u001b[37m\u001b[0m \u001b[1m0s\u001b[0m 21ms/step\nModel loss on test set: 1.1933163404464722\nModel accuracy on test set: 53.75%\n-------------------------------------------------------\n              precision    recall  f1-score   support\n\n           0       0.79      0.75      0.77       174\n           1       0.23      0.15      0.18        46\n           2       0.35      0.34      0.34        92\n           3       0.40      0.65      0.49        68\n           4       0.43      0.15      0.22        20\n\n    accuracy                           0.54       400\n   macro avg       0.44      0.41      0.40       400\nweighted avg       0.54      0.54      0.53       400\n\n",
          "output_type": "stream"
        }
      ],
      "execution_count": null
    },
    {
      "cell_type": "code",
      "source": [
        "np.save('/kaggle/working/y_preds_retina.npy', y_preds_retina)"
      ],
      "metadata": {
        "trusted": true,
        "execution": {
          "iopub.status.busy": "2025-01-30T16:26:26.954809Z",
          "iopub.execute_input": "2025-01-30T16:26:26.955137Z",
          "iopub.status.idle": "2025-01-30T16:26:26.959584Z",
          "shell.execute_reply.started": "2025-01-30T16:26:26.955113Z",
          "shell.execute_reply": "2025-01-30T16:26:26.958683Z"
        },
        "id": "EJ8E9JjBLqit"
      },
      "outputs": [],
      "execution_count": null
    },
    {
      "cell_type": "markdown",
      "source": [
        "## Tissue Data"
      ],
      "metadata": {
        "id": "EHiQGZODLqit"
      }
    },
    {
      "cell_type": "code",
      "source": [
        "tissue_data = np.load('/kaggle/input/tensor-reloaded-multi-task-med-mnist/data/tissuemnist.npz')\n",
        "print(len(tissue_data))\n",
        "tissue_data.files"
      ],
      "metadata": {
        "trusted": true,
        "execution": {
          "iopub.status.busy": "2025-01-30T16:26:29.782317Z",
          "iopub.execute_input": "2025-01-30T16:26:29.782685Z",
          "iopub.status.idle": "2025-01-30T16:26:29.838147Z",
          "shell.execute_reply.started": "2025-01-30T16:26:29.782655Z",
          "shell.execute_reply": "2025-01-30T16:26:29.837455Z"
        },
        "id": "Sh3iOSwPLqit",
        "outputId": "484c9585-45bf-40bd-c4ed-372dd361710d"
      },
      "outputs": [
        {
          "name": "stdout",
          "text": "6\n",
          "output_type": "stream"
        },
        {
          "execution_count": 127,
          "output_type": "execute_result",
          "data": {
            "text/plain": "['train_images',\n 'train_labels',\n 'val_images',\n 'val_labels',\n 'test_images',\n 'test_labels']"
          },
          "metadata": {}
        }
      ],
      "execution_count": null
    },
    {
      "cell_type": "code",
      "source": [
        "print(tissue_data['train_images'].shape)\n",
        "print(tissue_data['val_images'].shape)\n",
        "print(tissue_data['test_images'].shape)\n",
        "print(tissue_data['train_labels'].shape)\n",
        "print(tissue_data['val_labels'].shape)\n",
        "print(tissue_data['test_labels'].shape)"
      ],
      "metadata": {
        "trusted": true,
        "execution": {
          "iopub.status.busy": "2025-01-30T16:26:30.161584Z",
          "iopub.execute_input": "2025-01-30T16:26:30.161818Z",
          "iopub.status.idle": "2025-01-30T16:26:33.175022Z",
          "shell.execute_reply.started": "2025-01-30T16:26:30.161798Z",
          "shell.execute_reply": "2025-01-30T16:26:33.17422Z"
        },
        "id": "VeOvNX_aLqit",
        "outputId": "4a556715-6fd4-4448-b08a-ac01e3176b8c"
      },
      "outputs": [
        {
          "name": "stdout",
          "text": "(165466, 28, 28)\n(23640, 28, 28)\n(47280, 28, 28)\n(165466, 1)\n(23640, 1)\n(47280, 1)\n",
          "output_type": "stream"
        }
      ],
      "execution_count": null
    },
    {
      "cell_type": "code",
      "source": [
        "unique_tissue = np.unique(tissue_data['train_labels'])\n",
        "print(unique_tissue)"
      ],
      "metadata": {
        "trusted": true,
        "execution": {
          "iopub.status.busy": "2025-01-30T16:26:33.176083Z",
          "iopub.execute_input": "2025-01-30T16:26:33.176428Z",
          "iopub.status.idle": "2025-01-30T16:26:33.186401Z",
          "shell.execute_reply.started": "2025-01-30T16:26:33.176393Z",
          "shell.execute_reply": "2025-01-30T16:26:33.185582Z"
        },
        "id": "1N5dwSSpLqit",
        "outputId": "c70f66c0-3bf6-4d0a-fd58-dbc5f810187c"
      },
      "outputs": [
        {
          "name": "stdout",
          "text": "[0 1 2 3 4 5 6 7]\n",
          "output_type": "stream"
        }
      ],
      "execution_count": null
    },
    {
      "cell_type": "code",
      "source": [
        "X_train_tissue = tissue_data['train_images']\n",
        "X_val_tissue = tissue_data['val_images']\n",
        "X_test_tissue = tissue_data['test_images']\n",
        "y_train_tissue = tissue_data['train_labels']\n",
        "y_val_tissue = tissue_data['val_labels']\n",
        "y_test_tissue = tissue_data['test_labels']\n",
        "X_train_tissue.shape, y_train_tissue.shape"
      ],
      "metadata": {
        "trusted": true,
        "execution": {
          "iopub.status.busy": "2025-01-30T16:26:33.187567Z",
          "iopub.execute_input": "2025-01-30T16:26:33.187793Z",
          "iopub.status.idle": "2025-01-30T16:26:34.560475Z",
          "shell.execute_reply.started": "2025-01-30T16:26:33.187773Z",
          "shell.execute_reply": "2025-01-30T16:26:34.559661Z"
        },
        "id": "3apL8n-JLqix",
        "outputId": "7202f95f-15fa-4375-aced-03ba259863ee"
      },
      "outputs": [
        {
          "execution_count": 130,
          "output_type": "execute_result",
          "data": {
            "text/plain": "((165466, 28, 28), (165466, 1))"
          },
          "metadata": {}
        }
      ],
      "execution_count": null
    },
    {
      "cell_type": "code",
      "source": [
        "import matplotlib.pyplot as plt\n",
        "sample_index = 1\n",
        "plt.imshow(X_train_tissue[sample_index]);\n",
        "print(f\"Label: {y_train_tissue[sample_index]}\")"
      ],
      "metadata": {
        "trusted": true,
        "execution": {
          "iopub.status.busy": "2025-01-30T16:26:35.59935Z",
          "iopub.execute_input": "2025-01-30T16:26:35.599698Z",
          "iopub.status.idle": "2025-01-30T16:26:35.752877Z",
          "shell.execute_reply.started": "2025-01-30T16:26:35.599673Z",
          "shell.execute_reply": "2025-01-30T16:26:35.752072Z"
        },
        "id": "XgJXSkZWLqiy",
        "outputId": "61f649d9-dc3c-424b-bb0d-5e5610cb3390"
      },
      "outputs": [
        {
          "name": "stdout",
          "text": "Label: [0]\n",
          "output_type": "stream"
        },
        {
          "output_type": "display_data",
          "data": {
            "text/plain": "<Figure size 640x480 with 1 Axes>",
            "image/png": "[encoded data removed]"
          },
          "metadata": {}
        }
      ],
      "execution_count": null
    },
    {
      "cell_type": "code",
      "source": [
        "import random\n",
        "plt.figure(figsize=(7, 7))\n",
        "for i in range(4):\n",
        "  ax = plt.subplot(2, 2, i + 1)\n",
        "  rand_index = random.choice(range(len(X_train_tissue)))\n",
        "  plt.imshow(X_train_tissue[rand_index])\n",
        "  plt.title(y_train_tissue[rand_index])\n",
        "  plt.axis(False)"
      ],
      "metadata": {
        "trusted": true,
        "execution": {
          "iopub.status.busy": "2025-01-30T16:26:35.996616Z",
          "iopub.execute_input": "2025-01-30T16:26:35.996883Z",
          "iopub.status.idle": "2025-01-30T16:26:36.261724Z",
          "shell.execute_reply.started": "2025-01-30T16:26:35.996861Z",
          "shell.execute_reply": "2025-01-30T16:26:36.261011Z"
        },
        "id": "bH-2XkDvLqiz",
        "outputId": "f22f6d42-b38a-4604-fb27-ef5d7e7c8ff0"
      },
      "outputs": [
        {
          "output_type": "display_data",
          "data": {
            "text/plain": "<Figure size 700x700 with 4 Axes>",
            "image/png": "[encoded data removed]"
          },
          "metadata": {}
        }
      ],
      "execution_count": null
    },
    {
      "cell_type": "code",
      "source": [
        "y_train_tissue = np.array(y_train_tissue).ravel()\n",
        "y_val_tissue = np.array(y_val_tissue).ravel()\n",
        "y_test_tissue = np.array(y_test_tissue).ravel()\n",
        "y_train_tissue.shape, y_val_tissue.shape, y_test_tissue.shape"
      ],
      "metadata": {
        "trusted": true,
        "execution": {
          "iopub.status.busy": "2025-01-30T16:26:36.414757Z",
          "iopub.execute_input": "2025-01-30T16:26:36.414997Z",
          "iopub.status.idle": "2025-01-30T16:26:36.420607Z",
          "shell.execute_reply.started": "2025-01-30T16:26:36.414977Z",
          "shell.execute_reply": "2025-01-30T16:26:36.419847Z"
        },
        "id": "KF2np4A9Lqiz",
        "outputId": "28b0bd69-4f80-4cb8-f4bd-0bd6b7b89e39"
      },
      "outputs": [
        {
          "execution_count": 133,
          "output_type": "execute_result",
          "data": {
            "text/plain": "((165466,), (23640,), (47280,))"
          },
          "metadata": {}
        }
      ],
      "execution_count": null
    },
    {
      "cell_type": "code",
      "source": [
        "X_train_tissue = X_train_tissue / 255\n",
        "X_val_tissue = X_val_tissue / 255\n",
        "X_test_tissue = X_test_tissue / 255\n",
        "X_train_tissue.min() , X_train_tissue.max()"
      ],
      "metadata": {
        "trusted": true,
        "execution": {
          "iopub.status.busy": "2025-01-30T16:26:39.832155Z",
          "iopub.execute_input": "2025-01-30T16:26:39.832462Z",
          "iopub.status.idle": "2025-01-30T16:26:40.522815Z",
          "shell.execute_reply.started": "2025-01-30T16:26:39.832438Z",
          "shell.execute_reply": "2025-01-30T16:26:40.522004Z"
        },
        "id": "YeS92B4gLqi0",
        "outputId": "daa2a294-a173-467a-a6ef-b3bf05ff9508"
      },
      "outputs": [
        {
          "execution_count": 134,
          "output_type": "execute_result",
          "data": {
            "text/plain": "(0.0, 1.0)"
          },
          "metadata": {}
        }
      ],
      "execution_count": null
    },
    {
      "cell_type": "code",
      "source": [
        "import tensorflow as tf\n",
        "X_train_tissue = tf.expand_dims(X_train_tissue, axis=-1)\n",
        "X_val_tissue = tf.expand_dims(X_val_tissue, axis=-1)\n",
        "X_test_tissue = tf.expand_dims(X_test_tissue, axis=-1)\n",
        "X_train_tissue.shape, X_val_tissue.shape, X_test_tissue.shape"
      ],
      "metadata": {
        "trusted": true,
        "execution": {
          "iopub.status.busy": "2025-01-30T16:26:40.523744Z",
          "iopub.execute_input": "2025-01-30T16:26:40.524032Z",
          "iopub.status.idle": "2025-01-30T16:26:42.285257Z",
          "shell.execute_reply.started": "2025-01-30T16:26:40.524008Z",
          "shell.execute_reply": "2025-01-30T16:26:42.284335Z"
        },
        "id": "4NNRLpaCLqi0",
        "outputId": "df0a8122-650b-4ac1-ef18-df5ab7217567"
      },
      "outputs": [
        {
          "execution_count": 135,
          "output_type": "execute_result",
          "data": {
            "text/plain": "(TensorShape([165466, 28, 28, 1]),\n TensorShape([23640, 28, 28, 1]),\n TensorShape([47280, 28, 28, 1]))"
          },
          "metadata": {}
        }
      ],
      "execution_count": null
    },
    {
      "cell_type": "code",
      "source": [
        "# Define Model for Hyperparamter Tuning\n",
        "def create_model(hp):\n",
        "\n",
        "    model = Sequential()\n",
        "\n",
        "    model.add(Conv2D(\n",
        "        filters=hp.Int('neurons1', min_value=8, max_value=64, step=8),\n",
        "        kernel_size=(3, 3),\n",
        "        activation='leaky_relu',\n",
        "        input_shape=(28, 28, 1)))\n",
        "    model.add(MaxPooling2D(pool_size=(2, 2)))\n",
        "\n",
        "    model.add(Conv2D(\n",
        "        filters=hp.Int('neurons2', min_value=8, max_value=64, step=8),\n",
        "        kernel_size=(3, 3),\n",
        "        activation='leaky_relu'))\n",
        "    model.add(MaxPooling2D(pool_size=(2, 2)))\n",
        "\n",
        "    model.add(Flatten(input_shape=(28, 28, 3)))\n",
        "    model.add(Dense(units=hp.Int('neurons3', min_value=8, max_value=128, step=16), activation='leaky_relu'))\n",
        "    model.add(Dropout(0.25))\n",
        "    model.add(Dense(units=hp.Int('neurons4', min_value=8, max_value=128, step=16), activation='leaky_relu'))\n",
        "    model.add(Dense(units=hp.Int('neurons5', min_value=8, max_value=128, step=16), activation='leaky_relu'))\n",
        "    model.add(Dense(8, activation='softmax'))\n",
        "\n",
        "    optimizer = hp.Choice('optimizer', values=['adam', 'sgd', 'rmsprop'])\n",
        "\n",
        "    model.compile(optimizer=optimizer, loss='sparse_categorical_crossentropy', metrics=['accuracy'])\n",
        "    return model\n",
        "\n",
        "# Set up KerasTuner\n",
        "tuner = kt.Hyperband(\n",
        "    create_model,\n",
        "    objective='val_accuracy',\n",
        "    max_epochs=5,\n",
        "    hyperband_iterations=3,\n",
        "    directory='/kaggle/working/tuning_results9',\n",
        "    project_name='tuning_example9'\n",
        ")\n",
        "\n",
        "# Perform the search\n",
        "tuner.search(X_train_tissue, y_train_tissue, epochs=5, validation_data=(X_val_tissue, y_val_tissue))\n",
        "\n",
        "# Get the best model and hyperparameters\n",
        "best_model = tuner.get_best_models(num_models=1)[0]\n",
        "best_hyperparameters = tuner.get_best_hyperparameters(num_trials=1)[0]\n",
        "\n",
        "print(f\"Best Model: {best_model}\")\n",
        "print(f\"Best Hyperparameters: {best_hyperparameters.values}\")\n",
        "\n",
        "# Best val_accuracy So Far: 0.59978848695755\n",
        "# Total elapsed time: 00h 18m 06s\n",
        "# Best Model: <Sequential name=sequential, built=True>\n",
        "# Best Hyperparameters: {'neurons1': 40, 'neurons2': 56,\n",
        "#                        'neurons3': 72, 'neurons4': 120,\n",
        "#                        'neurons5': 56, 'optimizer': 'adam',\n",
        "#                        'tuner/epochs': 5, 'tuner/initial_epoch': 0,\n",
        "#                        'tuner/bracket': 0, 'tuner/round': 0}"
      ],
      "metadata": {
        "trusted": true,
        "execution": {
          "iopub.status.busy": "2025-01-30T16:28:11.596651Z",
          "iopub.execute_input": "2025-01-30T16:28:11.596957Z",
          "iopub.status.idle": "2025-01-30T16:44:57.19694Z",
          "shell.execute_reply.started": "2025-01-30T16:28:11.596933Z",
          "shell.execute_reply": "2025-01-30T16:44:57.196089Z"
        },
        "id": "E9wtuUsXLqi1",
        "outputId": "d5d52b87-d818-4ae4-c0a4-641df7c3df5d"
      },
      "outputs": [
        {
          "name": "stdout",
          "text": "Trial 28 Complete [00h 01m 05s]\nval_accuracy: 0.5885787010192871\n\nBest val_accuracy So Far: 0.59978848695755\nTotal elapsed time: 00h 18m 06s\nBest Model: <Sequential name=sequential, built=True>\nBest Hyperparameters: {'neurons1': 40, 'neurons2': 56, 'neurons3': 72, 'neurons4': 120, 'neurons5': 56, 'optimizer': 'adam', 'tuner/epochs': 5, 'tuner/initial_epoch': 0, 'tuner/bracket': 0, 'tuner/round': 0}\n",
          "output_type": "stream"
        },
        {
          "name": "stderr",
          "text": "/usr/local/lib/python3.10/dist-packages/keras/src/saving/saving_lib.py:713: UserWarning: Skipping variable loading for optimizer 'adam', because it has 2 variables whereas the saved optimizer has 26 variables. \n  saveable.load_own_variables(weights_store.get(inner_path))\n",
          "output_type": "stream"
        }
      ],
      "execution_count": null
    },
    {
      "cell_type": "code",
      "source": [
        "from tensorflow.keras.models import Sequential\n",
        "from tensorflow.keras.layers import Conv2D, MaxPooling2D, Flatten, Dense, Dropout\n",
        "from tensorflow.keras.optimizers import Adam\n",
        "\n",
        "model_11 = Sequential()\n",
        "\n",
        "model_11.add(Conv2D(40, (3, 3), activation='leaky_relu', input_shape=(28, 28, 1)))\n",
        "model_11.add(MaxPooling2D(pool_size=(2, 2)))\n",
        "\n",
        "model_11.add(Conv2D(56, (3, 3), activation='leaky_relu'))\n",
        "model_11.add(MaxPooling2D(pool_size=(2, 2)))\n",
        "\n",
        "# Flatten the output from the convolutional layers\n",
        "model_11.add(Flatten())\n",
        "\n",
        "# Fully connected layers\n",
        "model_11.add(Dense(72, activation='leaky_relu'))\n",
        "model_11.add(Dropout(0.25))\n",
        "model_11.add(Dense(120, activation='leaky_relu'))\n",
        "model_11.add(Dense(56, activation='leaky_relu'))\n",
        "model_11.add(Dense(8, activation='softmax'))  # Output layer for multi-class classification\n",
        "\n",
        "# Compile the model\n",
        "model_11.compile(optimizer='adam', loss='sparse_categorical_crossentropy', metrics=['accuracy'])\n",
        "\n",
        "# Model summary\n",
        "model_11.summary()\n",
        "\n",
        "early_stopping = EarlyStopping(\n",
        "    monitor='val_loss',\n",
        "    patience=10,\n",
        "    restore_best_weights=True\n",
        ")\n",
        "\n",
        "history_11 = model_11.fit(X_train_tissue,\n",
        "                        y_train_tissue,\n",
        "                        epochs=150,\n",
        "                        verbose=True,\n",
        "                        validation_data=(X_val_tissue, y_val_tissue),\n",
        "                        callbacks=[early_stopping])"
      ],
      "metadata": {
        "trusted": true,
        "execution": {
          "iopub.status.busy": "2025-01-30T16:47:26.718314Z",
          "iopub.execute_input": "2025-01-30T16:47:26.718659Z",
          "iopub.status.idle": "2025-01-30T16:53:13.729489Z",
          "shell.execute_reply.started": "2025-01-30T16:47:26.718632Z",
          "shell.execute_reply": "2025-01-30T16:53:13.728735Z"
        },
        "id": "bcRJDCwiLqi2",
        "outputId": "8db4351f-5acb-439b-e036-399990a59f70"
      },
      "outputs": [
        {
          "output_type": "display_data",
          "data": {
            "text/plain": "\u001b[1mModel: \"sequential_1\"\u001b[0m\n",
            "text/html": "<pre style=\"white-space:pre;overflow-x:auto;line-height:normal;font-family:Menlo,'DejaVu Sans Mono',consolas,'Courier New',monospace\"><span style=\"font-weight: bold\">Model: \"sequential_1\"</span>\n</pre>\n"
          },
          "metadata": {}
        },
        {
          "output_type": "display_data",
          "data": {
            "text/plain": "┏━━━━━━━━━━━━━━━━━━━━━━━━━━━━━━━━━━━━━━┳━━━━━━━━━━━━━━━━━━━━━━━━━━━━━┳━━━━━━━━━━━━━━━━━┓\n┃\u001b[1m \u001b[0m\u001b[1mLayer (type)                        \u001b[0m\u001b[1m \u001b[0m┃\u001b[1m \u001b[0m\u001b[1mOutput Shape               \u001b[0m\u001b[1m \u001b[0m┃\u001b[1m \u001b[0m\u001b[1m        Param #\u001b[0m\u001b[1m \u001b[0m┃\n┡━━━━━━━━━━━━━━━━━━━━━━━━━━━━━━━━━━━━━━╇━━━━━━━━━━━━━━━━━━━━━━━━━━━━━╇━━━━━━━━━━━━━━━━━┩\n│ conv2d_2 (\u001b[38;5;33mConv2D\u001b[0m)                    │ (\u001b[38;5;45mNone\u001b[0m, \u001b[38;5;34m26\u001b[0m, \u001b[38;5;34m26\u001b[0m, \u001b[38;5;34m40\u001b[0m)          │             \u001b[38;5;34m400\u001b[0m │\n├──────────────────────────────────────┼─────────────────────────────┼─────────────────┤\n│ max_pooling2d_2 (\u001b[38;5;33mMaxPooling2D\u001b[0m)       │ (\u001b[38;5;45mNone\u001b[0m, \u001b[38;5;34m13\u001b[0m, \u001b[38;5;34m13\u001b[0m, \u001b[38;5;34m40\u001b[0m)          │               \u001b[38;5;34m0\u001b[0m │\n├──────────────────────────────────────┼─────────────────────────────┼─────────────────┤\n│ conv2d_3 (\u001b[38;5;33mConv2D\u001b[0m)                    │ (\u001b[38;5;45mNone\u001b[0m, \u001b[38;5;34m11\u001b[0m, \u001b[38;5;34m11\u001b[0m, \u001b[38;5;34m56\u001b[0m)          │          \u001b[38;5;34m20,216\u001b[0m │\n├──────────────────────────────────────┼─────────────────────────────┼─────────────────┤\n│ max_pooling2d_3 (\u001b[38;5;33mMaxPooling2D\u001b[0m)       │ (\u001b[38;5;45mNone\u001b[0m, \u001b[38;5;34m5\u001b[0m, \u001b[38;5;34m5\u001b[0m, \u001b[38;5;34m56\u001b[0m)            │               \u001b[38;5;34m0\u001b[0m │\n├──────────────────────────────────────┼─────────────────────────────┼─────────────────┤\n│ flatten_1 (\u001b[38;5;33mFlatten\u001b[0m)                  │ (\u001b[38;5;45mNone\u001b[0m, \u001b[38;5;34m1400\u001b[0m)                │               \u001b[38;5;34m0\u001b[0m │\n├──────────────────────────────────────┼─────────────────────────────┼─────────────────┤\n│ dense_4 (\u001b[38;5;33mDense\u001b[0m)                      │ (\u001b[38;5;45mNone\u001b[0m, \u001b[38;5;34m72\u001b[0m)                  │         \u001b[38;5;34m100,872\u001b[0m │\n├──────────────────────────────────────┼─────────────────────────────┼─────────────────┤\n│ dropout_1 (\u001b[38;5;33mDropout\u001b[0m)                  │ (\u001b[38;5;45mNone\u001b[0m, \u001b[38;5;34m72\u001b[0m)                  │               \u001b[38;5;34m0\u001b[0m │\n├──────────────────────────────────────┼─────────────────────────────┼─────────────────┤\n│ dense_5 (\u001b[38;5;33mDense\u001b[0m)                      │ (\u001b[38;5;45mNone\u001b[0m, \u001b[38;5;34m120\u001b[0m)                 │           \u001b[38;5;34m8,760\u001b[0m │\n├──────────────────────────────────────┼─────────────────────────────┼─────────────────┤\n│ dense_6 (\u001b[38;5;33mDense\u001b[0m)                      │ (\u001b[38;5;45mNone\u001b[0m, \u001b[38;5;34m56\u001b[0m)                  │           \u001b[38;5;34m6,776\u001b[0m │\n├──────────────────────────────────────┼─────────────────────────────┼─────────────────┤\n│ dense_7 (\u001b[38;5;33mDense\u001b[0m)                      │ (\u001b[38;5;45mNone\u001b[0m, \u001b[38;5;34m8\u001b[0m)                   │             \u001b[38;5;34m456\u001b[0m │\n└──────────────────────────────────────┴─────────────────────────────┴─────────────────┘\n",
            "text/html": "<pre style=\"white-space:pre;overflow-x:auto;line-height:normal;font-family:Menlo,'DejaVu Sans Mono',consolas,'Courier New',monospace\">┏━━━━━━━━━━━━━━━━━━━━━━━━━━━━━━━━━━━━━━┳━━━━━━━━━━━━━━━━━━━━━━━━━━━━━┳━━━━━━━━━━━━━━━━━┓\n┃<span style=\"font-weight: bold\"> Layer (type)                         </span>┃<span style=\"font-weight: bold\"> Output Shape                </span>┃<span style=\"font-weight: bold\">         Param # </span>┃\n┡━━━━━━━━━━━━━━━━━━━━━━━━━━━━━━━━━━━━━━╇━━━━━━━━━━━━━━━━━━━━━━━━━━━━━╇━━━━━━━━━━━━━━━━━┩\n│ conv2d_2 (<span style=\"color: #0087ff; text-decoration-color: #0087ff\">Conv2D</span>)                    │ (<span style=\"color: #00d7ff; text-decoration-color: #00d7ff\">None</span>, <span style=\"color: #00af00; text-decoration-color: #00af00\">26</span>, <span style=\"color: #00af00; text-decoration-color: #00af00\">26</span>, <span style=\"color: #00af00; text-decoration-color: #00af00\">40</span>)          │             <span style=\"color: #00af00; text-decoration-color: #00af00\">400</span> │\n├──────────────────────────────────────┼─────────────────────────────┼─────────────────┤\n│ max_pooling2d_2 (<span style=\"color: #0087ff; text-decoration-color: #0087ff\">MaxPooling2D</span>)       │ (<span style=\"color: #00d7ff; text-decoration-color: #00d7ff\">None</span>, <span style=\"color: #00af00; text-decoration-color: #00af00\">13</span>, <span style=\"color: #00af00; text-decoration-color: #00af00\">13</span>, <span style=\"color: #00af00; text-decoration-color: #00af00\">40</span>)          │               <span style=\"color: #00af00; text-decoration-color: #00af00\">0</span> │\n├──────────────────────────────────────┼─────────────────────────────┼─────────────────┤\n│ conv2d_3 (<span style=\"color: #0087ff; text-decoration-color: #0087ff\">Conv2D</span>)                    │ (<span style=\"color: #00d7ff; text-decoration-color: #00d7ff\">None</span>, <span style=\"color: #00af00; text-decoration-color: #00af00\">11</span>, <span style=\"color: #00af00; text-decoration-color: #00af00\">11</span>, <span style=\"color: #00af00; text-decoration-color: #00af00\">56</span>)          │          <span style=\"color: #00af00; text-decoration-color: #00af00\">20,216</span> │\n├──────────────────────────────────────┼─────────────────────────────┼─────────────────┤\n│ max_pooling2d_3 (<span style=\"color: #0087ff; text-decoration-color: #0087ff\">MaxPooling2D</span>)       │ (<span style=\"color: #00d7ff; text-decoration-color: #00d7ff\">None</span>, <span style=\"color: #00af00; text-decoration-color: #00af00\">5</span>, <span style=\"color: #00af00; text-decoration-color: #00af00\">5</span>, <span style=\"color: #00af00; text-decoration-color: #00af00\">56</span>)            │               <span style=\"color: #00af00; text-decoration-color: #00af00\">0</span> │\n├──────────────────────────────────────┼─────────────────────────────┼─────────────────┤\n│ flatten_1 (<span style=\"color: #0087ff; text-decoration-color: #0087ff\">Flatten</span>)                  │ (<span style=\"color: #00d7ff; text-decoration-color: #00d7ff\">None</span>, <span style=\"color: #00af00; text-decoration-color: #00af00\">1400</span>)                │               <span style=\"color: #00af00; text-decoration-color: #00af00\">0</span> │\n├──────────────────────────────────────┼─────────────────────────────┼─────────────────┤\n│ dense_4 (<span style=\"color: #0087ff; text-decoration-color: #0087ff\">Dense</span>)                      │ (<span style=\"color: #00d7ff; text-decoration-color: #00d7ff\">None</span>, <span style=\"color: #00af00; text-decoration-color: #00af00\">72</span>)                  │         <span style=\"color: #00af00; text-decoration-color: #00af00\">100,872</span> │\n├──────────────────────────────────────┼─────────────────────────────┼─────────────────┤\n│ dropout_1 (<span style=\"color: #0087ff; text-decoration-color: #0087ff\">Dropout</span>)                  │ (<span style=\"color: #00d7ff; text-decoration-color: #00d7ff\">None</span>, <span style=\"color: #00af00; text-decoration-color: #00af00\">72</span>)                  │               <span style=\"color: #00af00; text-decoration-color: #00af00\">0</span> │\n├──────────────────────────────────────┼─────────────────────────────┼─────────────────┤\n│ dense_5 (<span style=\"color: #0087ff; text-decoration-color: #0087ff\">Dense</span>)                      │ (<span style=\"color: #00d7ff; text-decoration-color: #00d7ff\">None</span>, <span style=\"color: #00af00; text-decoration-color: #00af00\">120</span>)                 │           <span style=\"color: #00af00; text-decoration-color: #00af00\">8,760</span> │\n├──────────────────────────────────────┼─────────────────────────────┼─────────────────┤\n│ dense_6 (<span style=\"color: #0087ff; text-decoration-color: #0087ff\">Dense</span>)                      │ (<span style=\"color: #00d7ff; text-decoration-color: #00d7ff\">None</span>, <span style=\"color: #00af00; text-decoration-color: #00af00\">56</span>)                  │           <span style=\"color: #00af00; text-decoration-color: #00af00\">6,776</span> │\n├──────────────────────────────────────┼─────────────────────────────┼─────────────────┤\n│ dense_7 (<span style=\"color: #0087ff; text-decoration-color: #0087ff\">Dense</span>)                      │ (<span style=\"color: #00d7ff; text-decoration-color: #00d7ff\">None</span>, <span style=\"color: #00af00; text-decoration-color: #00af00\">8</span>)                   │             <span style=\"color: #00af00; text-decoration-color: #00af00\">456</span> │\n└──────────────────────────────────────┴─────────────────────────────┴─────────────────┘\n</pre>\n"
          },
          "metadata": {}
        },
        {
          "output_type": "display_data",
          "data": {
            "text/plain": "\u001b[1m Total params: \u001b[0m\u001b[38;5;34m137,480\u001b[0m (537.03 KB)\n",
            "text/html": "<pre style=\"white-space:pre;overflow-x:auto;line-height:normal;font-family:Menlo,'DejaVu Sans Mono',consolas,'Courier New',monospace\"><span style=\"font-weight: bold\"> Total params: </span><span style=\"color: #00af00; text-decoration-color: #00af00\">137,480</span> (537.03 KB)\n</pre>\n"
          },
          "metadata": {}
        },
        {
          "output_type": "display_data",
          "data": {
            "text/plain": "\u001b[1m Trainable params: \u001b[0m\u001b[38;5;34m137,480\u001b[0m (537.03 KB)\n",
            "text/html": "<pre style=\"white-space:pre;overflow-x:auto;line-height:normal;font-family:Menlo,'DejaVu Sans Mono',consolas,'Courier New',monospace\"><span style=\"font-weight: bold\"> Trainable params: </span><span style=\"color: #00af00; text-decoration-color: #00af00\">137,480</span> (537.03 KB)\n</pre>\n"
          },
          "metadata": {}
        },
        {
          "output_type": "display_data",
          "data": {
            "text/plain": "\u001b[1m Non-trainable params: \u001b[0m\u001b[38;5;34m0\u001b[0m (0.00 B)\n",
            "text/html": "<pre style=\"white-space:pre;overflow-x:auto;line-height:normal;font-family:Menlo,'DejaVu Sans Mono',consolas,'Courier New',monospace\"><span style=\"font-weight: bold\"> Non-trainable params: </span><span style=\"color: #00af00; text-decoration-color: #00af00\">0</span> (0.00 B)\n</pre>\n"
          },
          "metadata": {}
        },
        {
          "name": "stdout",
          "text": "Epoch 1/150\n\u001b[1m5171/5171\u001b[0m \u001b[32m━━━━━━━━━━━━━━━━━━━━\u001b[0m\u001b[37m\u001b[0m \u001b[1m20s\u001b[0m 3ms/step - accuracy: 0.4810 - loss: 1.3900 - val_accuracy: 0.5482 - val_loss: 1.1991\nEpoch 2/150\n\u001b[1m5171/5171\u001b[0m \u001b[32m━━━━━━━━━━━━━━━━━━━━\u001b[0m\u001b[37m\u001b[0m \u001b[1m11s\u001b[0m 2ms/step - accuracy: 0.5588 - loss: 1.1786 - val_accuracy: 0.5753 - val_loss: 1.1423\nEpoch 3/150\n\u001b[1m5171/5171\u001b[0m \u001b[32m━━━━━━━━━━━━━━━━━━━━\u001b[0m\u001b[37m\u001b[0m \u001b[1m11s\u001b[0m 2ms/step - accuracy: 0.5782 - loss: 1.1319 - val_accuracy: 0.5912 - val_loss: 1.1058\nEpoch 4/150\n\u001b[1m5171/5171\u001b[0m \u001b[32m━━━━━━━━━━━━━━━━━━━━\u001b[0m\u001b[37m\u001b[0m \u001b[1m11s\u001b[0m 2ms/step - accuracy: 0.5902 - loss: 1.0990 - val_accuracy: 0.5929 - val_loss: 1.0967\nEpoch 5/150\n\u001b[1m5171/5171\u001b[0m \u001b[32m━━━━━━━━━━━━━━━━━━━━\u001b[0m\u001b[37m\u001b[0m \u001b[1m11s\u001b[0m 2ms/step - accuracy: 0.5988 - loss: 1.0786 - val_accuracy: 0.6022 - val_loss: 1.0705\nEpoch 6/150\n\u001b[1m5171/5171\u001b[0m \u001b[32m━━━━━━━━━━━━━━━━━━━━\u001b[0m\u001b[37m\u001b[0m \u001b[1m11s\u001b[0m 2ms/step - accuracy: 0.6083 - loss: 1.0584 - val_accuracy: 0.5995 - val_loss: 1.0905\nEpoch 7/150\n\u001b[1m5171/5171\u001b[0m \u001b[32m━━━━━━━━━━━━━━━━━━━━\u001b[0m\u001b[37m\u001b[0m \u001b[1m11s\u001b[0m 2ms/step - accuracy: 0.6133 - loss: 1.0424 - val_accuracy: 0.6143 - val_loss: 1.0548\nEpoch 8/150\n\u001b[1m5171/5171\u001b[0m \u001b[32m━━━━━━━━━━━━━━━━━━━━\u001b[0m\u001b[37m\u001b[0m \u001b[1m12s\u001b[0m 2ms/step - accuracy: 0.6171 - loss: 1.0314 - val_accuracy: 0.6122 - val_loss: 1.0565\nEpoch 9/150\n\u001b[1m5171/5171\u001b[0m \u001b[32m━━━━━━━━━━━━━━━━━━━━\u001b[0m\u001b[37m\u001b[0m \u001b[1m11s\u001b[0m 2ms/step - accuracy: 0.6202 - loss: 1.0237 - val_accuracy: 0.6139 - val_loss: 1.0535\nEpoch 10/150\n\u001b[1m5171/5171\u001b[0m \u001b[32m━━━━━━━━━━━━━━━━━━━━\u001b[0m\u001b[37m\u001b[0m \u001b[1m11s\u001b[0m 2ms/step - accuracy: 0.6262 - loss: 1.0100 - val_accuracy: 0.6082 - val_loss: 1.0723\nEpoch 11/150\n\u001b[1m5171/5171\u001b[0m \u001b[32m━━━━━━━━━━━━━━━━━━━━\u001b[0m\u001b[37m\u001b[0m \u001b[1m11s\u001b[0m 2ms/step - accuracy: 0.6289 - loss: 1.0019 - val_accuracy: 0.6148 - val_loss: 1.0572\nEpoch 12/150\n\u001b[1m5171/5171\u001b[0m \u001b[32m━━━━━━━━━━━━━━━━━━━━\u001b[0m\u001b[37m\u001b[0m \u001b[1m11s\u001b[0m 2ms/step - accuracy: 0.6333 - loss: 0.9957 - val_accuracy: 0.6129 - val_loss: 1.0513\nEpoch 13/150\n\u001b[1m5171/5171\u001b[0m \u001b[32m━━━━━━━━━━━━━━━━━━━━\u001b[0m\u001b[37m\u001b[0m \u001b[1m11s\u001b[0m 2ms/step - accuracy: 0.6332 - loss: 0.9895 - val_accuracy: 0.6159 - val_loss: 1.0431\nEpoch 14/150\n\u001b[1m5171/5171\u001b[0m \u001b[32m━━━━━━━━━━━━━━━━━━━━\u001b[0m\u001b[37m\u001b[0m \u001b[1m11s\u001b[0m 2ms/step - accuracy: 0.6377 - loss: 0.9792 - val_accuracy: 0.6208 - val_loss: 1.0328\nEpoch 15/150\n\u001b[1m5171/5171\u001b[0m \u001b[32m━━━━━━━━━━━━━━━━━━━━\u001b[0m\u001b[37m\u001b[0m \u001b[1m11s\u001b[0m 2ms/step - accuracy: 0.6407 - loss: 0.9677 - val_accuracy: 0.6165 - val_loss: 1.0487\nEpoch 16/150\n\u001b[1m5171/5171\u001b[0m \u001b[32m━━━━━━━━━━━━━━━━━━━━\u001b[0m\u001b[37m\u001b[0m \u001b[1m11s\u001b[0m 2ms/step - accuracy: 0.6430 - loss: 0.9631 - val_accuracy: 0.6193 - val_loss: 1.0408\nEpoch 17/150\n\u001b[1m5171/5171\u001b[0m \u001b[32m━━━━━━━━━━━━━━━━━━━━\u001b[0m\u001b[37m\u001b[0m \u001b[1m11s\u001b[0m 2ms/step - accuracy: 0.6439 - loss: 0.9612 - val_accuracy: 0.6194 - val_loss: 1.0558\nEpoch 18/150\n\u001b[1m5171/5171\u001b[0m \u001b[32m━━━━━━━━━━━━━━━━━━━━\u001b[0m\u001b[37m\u001b[0m \u001b[1m11s\u001b[0m 2ms/step - accuracy: 0.6467 - loss: 0.9532 - val_accuracy: 0.6128 - val_loss: 1.0532\nEpoch 19/150\n\u001b[1m5171/5171\u001b[0m \u001b[32m━━━━━━━━━━━━━━━━━━━━\u001b[0m\u001b[37m\u001b[0m \u001b[1m11s\u001b[0m 2ms/step - accuracy: 0.6489 - loss: 0.9500 - val_accuracy: 0.6194 - val_loss: 1.0376\nEpoch 20/150\n\u001b[1m5171/5171\u001b[0m \u001b[32m━━━━━━━━━━━━━━━━━━━━\u001b[0m\u001b[37m\u001b[0m \u001b[1m11s\u001b[0m 2ms/step - accuracy: 0.6529 - loss: 0.9399 - val_accuracy: 0.6241 - val_loss: 1.0326\nEpoch 21/150\n\u001b[1m5171/5171\u001b[0m \u001b[32m━━━━━━━━━━━━━━━━━━━━\u001b[0m\u001b[37m\u001b[0m \u001b[1m11s\u001b[0m 2ms/step - accuracy: 0.6558 - loss: 0.9315 - val_accuracy: 0.6242 - val_loss: 1.0358\nEpoch 22/150\n\u001b[1m5171/5171\u001b[0m \u001b[32m━━━━━━━━━━━━━━━━━━━━\u001b[0m\u001b[37m\u001b[0m \u001b[1m11s\u001b[0m 2ms/step - accuracy: 0.6558 - loss: 0.9334 - val_accuracy: 0.6214 - val_loss: 1.0468\nEpoch 23/150\n\u001b[1m5171/5171\u001b[0m \u001b[32m━━━━━━━━━━━━━━━━━━━━\u001b[0m\u001b[37m\u001b[0m \u001b[1m11s\u001b[0m 2ms/step - accuracy: 0.6587 - loss: 0.9230 - val_accuracy: 0.6147 - val_loss: 1.0529\nEpoch 24/150\n\u001b[1m5171/5171\u001b[0m \u001b[32m━━━━━━━━━━━━━━━━━━━━\u001b[0m\u001b[37m\u001b[0m \u001b[1m11s\u001b[0m 2ms/step - accuracy: 0.6590 - loss: 0.9197 - val_accuracy: 0.6201 - val_loss: 1.0602\nEpoch 25/150\n\u001b[1m5171/5171\u001b[0m \u001b[32m━━━━━━━━━━━━━━━━━━━━\u001b[0m\u001b[37m\u001b[0m \u001b[1m11s\u001b[0m 2ms/step - accuracy: 0.6584 - loss: 0.9229 - val_accuracy: 0.6209 - val_loss: 1.0501\nEpoch 26/150\n\u001b[1m5171/5171\u001b[0m \u001b[32m━━━━━━━━━━━━━━━━━━━━\u001b[0m\u001b[37m\u001b[0m \u001b[1m11s\u001b[0m 2ms/step - accuracy: 0.6626 - loss: 0.9159 - val_accuracy: 0.6187 - val_loss: 1.0508\nEpoch 27/150\n\u001b[1m5171/5171\u001b[0m \u001b[32m━━━━━━━━━━━━━━━━━━━━\u001b[0m\u001b[37m\u001b[0m \u001b[1m11s\u001b[0m 2ms/step - accuracy: 0.6616 - loss: 0.9144 - val_accuracy: 0.6248 - val_loss: 1.0480\nEpoch 28/150\n\u001b[1m5171/5171\u001b[0m \u001b[32m━━━━━━━━━━━━━━━━━━━━\u001b[0m\u001b[37m\u001b[0m \u001b[1m11s\u001b[0m 2ms/step - accuracy: 0.6679 - loss: 0.9007 - val_accuracy: 0.6215 - val_loss: 1.0442\nEpoch 29/150\n\u001b[1m5171/5171\u001b[0m \u001b[32m━━━━━━━━━━━━━━━━━━━━\u001b[0m\u001b[37m\u001b[0m \u001b[1m11s\u001b[0m 2ms/step - accuracy: 0.6644 - loss: 0.9059 - val_accuracy: 0.6217 - val_loss: 1.0515\nEpoch 30/150\n\u001b[1m5171/5171\u001b[0m \u001b[32m━━━━━━━━━━━━━━━━━━━━\u001b[0m\u001b[37m\u001b[0m \u001b[1m11s\u001b[0m 2ms/step - accuracy: 0.6699 - loss: 0.8908 - val_accuracy: 0.6225 - val_loss: 1.0478\n",
          "output_type": "stream"
        }
      ],
      "execution_count": null
    },
    {
      "cell_type": "code",
      "source": [
        "from sklearn.metrics import classification_report\n",
        "loss, accuracy = model_11.evaluate(X_test_tissue, y_test_tissue)\n",
        "y_preds_tissue = model_11.predict(X_test_tissue)\n",
        "y_preds_tissue = y_preds_tissue.argmax(axis=1)\n",
        "print(f\"Model loss on test set: {loss}\")\n",
        "print(f\"Model accuracy on test set: {(accuracy*100):.2f}%\")\n",
        "print(\"-------------------------------------------------------\")\n",
        "print(classification_report(y_test_tissue, y_preds_tissue))"
      ],
      "metadata": {
        "trusted": true,
        "execution": {
          "iopub.status.busy": "2025-01-30T16:53:13.730966Z",
          "iopub.execute_input": "2025-01-30T16:53:13.73128Z",
          "iopub.status.idle": "2025-01-30T16:53:19.564425Z",
          "shell.execute_reply.started": "2025-01-30T16:53:13.731249Z",
          "shell.execute_reply": "2025-01-30T16:53:19.563468Z"
        },
        "id": "rQ_PnzNmLqi2",
        "outputId": "7781ca8f-3c4f-45be-b148-469b6365e19e"
      },
      "outputs": [
        {
          "name": "stdout",
          "text": "\u001b[1m1478/1478\u001b[0m \u001b[32m━━━━━━━━━━━━━━━━━━━━\u001b[0m\u001b[37m\u001b[0m \u001b[1m2s\u001b[0m 2ms/step - accuracy: 0.6279 - loss: 1.0290\n\u001b[1m1478/1478\u001b[0m \u001b[32m━━━━━━━━━━━━━━━━━━━━\u001b[0m\u001b[37m\u001b[0m \u001b[1m2s\u001b[0m 1ms/step\nModel loss on test set: 1.0351297855377197\nModel accuracy on test set: 62.48%\n-------------------------------------------------------\n              precision    recall  f1-score   support\n\n           0       0.70      0.78      0.74     15165\n           1       0.44      0.13      0.21      2233\n           2       0.44      0.43      0.44      1677\n           3       0.61      0.55      0.58      4402\n           4       0.46      0.54      0.49      3369\n           5       0.43      0.36      0.39      2202\n           6       0.68      0.69      0.69     11201\n           7       0.56      0.57      0.57      7031\n\n    accuracy                           0.62     47280\n   macro avg       0.54      0.51      0.51     47280\nweighted avg       0.62      0.62      0.62     47280\n\n",
          "output_type": "stream"
        }
      ],
      "execution_count": null
    },
    {
      "cell_type": "code",
      "source": [
        "np.save('/kaggle/working/y_preds_tissue.npy', y_preds_tissue)"
      ],
      "metadata": {
        "trusted": true,
        "execution": {
          "iopub.status.busy": "2025-01-30T16:56:06.406593Z",
          "iopub.execute_input": "2025-01-30T16:56:06.406908Z",
          "iopub.status.idle": "2025-01-30T16:56:06.411843Z",
          "shell.execute_reply.started": "2025-01-30T16:56:06.406882Z",
          "shell.execute_reply": "2025-01-30T16:56:06.411077Z"
        },
        "id": "2RqbdnLqLqi2"
      },
      "outputs": [],
      "execution_count": null
    },
    {
      "cell_type": "markdown",
      "source": [
        "## Submission"
      ],
      "metadata": {
        "id": "iyqioU0rLqi2"
      }
    },
    {
      "cell_type": "code",
      "source": [
        "# Submission\n",
        "predictions_dict = {\n",
        "    'bloodmnist': (X_test_blood, y_preds_blood),\n",
        "    'breastmnist': (X_test_breast, y_preds_breast),\n",
        "    'dermamnist': (X_test_derma, y_preds_derma),\n",
        "    'octmnist': (X_test_oct, y_preds_oct),\n",
        "    'organamnist': (X_test_organa, y_preds_organa),\n",
        "    'organcmnist': (X_test_organc, y_preds_organc),\n",
        "    'organsmnist': (X_test_organs, y_preds_organs),\n",
        "    'pathmnist': (X_test_path, y_preds_path),\n",
        "    'pneumoniamnist': (X_test_pn, y_preds_pn),\n",
        "    'retinamnist': (X_test_retina, y_preds_retina),\n",
        "    'tissuemnist': (X_test_tissue, y_preds_tissue)\n",
        "}\n",
        "\n",
        "submission_data = []\n",
        "\n",
        "for task_name, (X_test, y_pred) in predictions_dict.items():\n",
        "    for i, (image, label) in enumerate(zip(X_test, y_pred)):\n",
        "\n",
        "        submission_data.append({\n",
        "            'id': i,\n",
        "            'id_image_in_task': i,\n",
        "            'task_name': task_name,\n",
        "            'label': label\n",
        "        })\n",
        "\n",
        "submission_df = pd.DataFrame(submission_data)\n",
        "\n",
        "submission_df.to_csv('submission.csv', index=False)\n",
        "\n",
        "print(submission_df.head())\n"
      ],
      "metadata": {
        "trusted": true,
        "execution": {
          "iopub.status.busy": "2025-01-30T16:56:10.332993Z",
          "iopub.execute_input": "2025-01-30T16:56:10.333268Z",
          "iopub.status.idle": "2025-01-30T16:56:31.523957Z",
          "shell.execute_reply.started": "2025-01-30T16:56:10.333245Z",
          "shell.execute_reply": "2025-01-30T16:56:31.523183Z"
        },
        "id": "Ip6upzvsLqi2",
        "outputId": "063df05e-cbbe-447c-ab01-f9d892a4ddba"
      },
      "outputs": [
        {
          "name": "stdout",
          "text": "   id  id_image_in_task   task_name label\n0   0                 0  bloodmnist     3\n1   1                 1  bloodmnist     0\n2   2                 2  bloodmnist     1\n3   3                 3  bloodmnist     3\n4   4                 4  bloodmnist     5\n",
          "output_type": "stream"
        }
      ],
      "execution_count": null
    },
    {
      "cell_type": "code",
      "source": [
        "submission_df.to_csv('/kaggle/working/submission.csv', index=False)"
      ],
      "metadata": {
        "trusted": true,
        "execution": {
          "iopub.status.busy": "2025-01-30T17:03:08.574951Z",
          "iopub.execute_input": "2025-01-30T17:03:08.57527Z",
          "iopub.status.idle": "2025-01-30T17:03:08.714476Z",
          "shell.execute_reply.started": "2025-01-30T17:03:08.575244Z",
          "shell.execute_reply": "2025-01-30T17:03:08.713729Z"
        },
        "id": "gla74ngELqi3"
      },
      "outputs": [],
      "execution_count": null
    },
    {
      "cell_type": "code",
      "source": [],
      "metadata": {
        "trusted": true,
        "id": "mnGA9hqdLqi3"
      },
      "outputs": [],
      "execution_count": null
    }
  ]
}